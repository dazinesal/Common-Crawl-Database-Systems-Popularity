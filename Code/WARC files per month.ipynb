{
 "cells": [
  {
   "cell_type": "code",
   "execution_count": 0,
   "metadata": {
    "application/vnd.databricks.v1+cell": {
     "inputWidgets": {},
     "nuid": "88af6f8b-9533-438a-bed3-fd48f80fa160",
     "showTitle": false,
     "title": ""
    }
   },
   "outputs": [
    {
     "data": {
      "application/vnd.databricks.v1+bamboolib_hint": "{\"pd.DataFrames\": [], \"version\": \"0.0.1\"}",
      "text/plain": []
     },
     "metadata": {
      "application/vnd.databricks.v1+output": {
       "addedWidgets": {},
       "arguments": {},
       "data": {
        "application/vnd.databricks.v1+bamboolib_hint": "{\"pd.DataFrames\": [], \"version\": \"0.0.1\"}",
        "text/plain": ""
       },
       "datasetInfos": [],
       "metadata": {
        "kernelSessionId": "b34300d4-bea1934b5b0ac66ef9f8cf5f"
       },
       "removedWidgets": [],
       "type": "mimeBundle"
      }
     },
     "output_type": "display_data"
    }
   ],
   "source": [
    "import gzip\n",
    "import warcio\n",
    "from pyspark.sql import functions as F\n",
    "import warcio\n",
    "import glob\n",
    "import pandas as pd\n",
    "import numpy as np\n",
    "from glob import glob\n",
    "from warcio.archiveiterator import ArchiveIterator"
   ]
  },
  {
   "cell_type": "markdown",
   "metadata": {},
   "source": [
    "For each year we run the same queries changining only the path that we load in the dataframe.\n",
    "\n",
    "The path is in the form: /mnt/lsde/datasets/commoncrawl/cc-index/table/cc-main/warc/crawl=CC-MAIN-YYYY*/subset=warc\n",
    "Where YYYY should be the Year that we want to investigate. The results of the queries were used for the web site"
   ]
  },
  {
   "cell_type": "code",
   "execution_count": 0,
   "metadata": {
    "application/vnd.databricks.v1+cell": {
     "inputWidgets": {},
     "nuid": "2387287b-128e-4f2b-bd3f-744bd3f95d3f",
     "showTitle": false,
     "title": ""
    }
   },
   "outputs": [],
   "source": [
    "# We load the data for the selected year in the Spark dataframe df, for exaple in the given query for 2015. We do the same for each year\n",
    "path = '/mnt/lsde/datasets/commoncrawl/cc-index/table/cc-main/warc/crawl=CC-MAIN-2015*/subset=warc'\n",
    "df = spark.read.parquet(path)"
   ]
  },
  {
   "cell_type": "code",
   "execution_count": 0,
   "metadata": {
    "application/vnd.databricks.v1+cell": {
     "inputWidgets": {},
     "nuid": "51e6ec56-6e43-48ab-901c-10a3f2a68dde",
     "showTitle": false,
     "title": ""
    }
   },
   "outputs": [
    {
     "data": {
      "text/plain": [
       "+-----+\n",
       "|month|\n",
       "+-----+\n",
       "|6    |\n",
       "|5    |\n",
       "|4    |\n",
       "|8    |\n",
       "|7    |\n",
       "|9    |\n",
       "|1    |\n",
       "|3    |\n",
       "|2    |\n",
       "|12   |\n",
       "|10   |\n",
       "|11   |\n",
       "+-----+\n",
       "\n"
      ]
     },
     "metadata": {
      "application/vnd.databricks.v1+output": {
       "addedWidgets": {},
       "arguments": {},
       "data": "+-----+\n|month|\n+-----+\n|6    |\n|5    |\n|4    |\n|8    |\n|7    |\n|9    |\n|1    |\n|3    |\n|2    |\n|12   |\n|10   |\n|11   |\n+-----+\n\n",
       "datasetInfos": [],
       "metadata": {},
       "removedWidgets": [],
       "type": "ansi"
      }
     },
     "output_type": "display_data"
    }
   ],
   "source": [
    "# We investigate for which months(of the year) we have data\n",
    "df.createOrReplaceTempView(\"url_surtkey\")\n",
    "url_surtkey_view = spark.sql(\"SELECT distinct month(fetch_time) as month FROM url_surtkey\").show(truncate= False)"
   ]
  },
  {
   "cell_type": "code",
   "execution_count": 0,
   "metadata": {
    "application/vnd.databricks.v1+cell": {
     "inputWidgets": {},
     "nuid": "e67f60f1-04db-4131-b577-5603d17355ce",
     "showTitle": false,
     "title": ""
    }
   },
   "outputs": [
    {
     "data": {
      "text/plain": [
       "+----------+-------------+\n",
       "|count(1)  |URIs_permonth|\n",
       "+----------+-------------+\n",
       "|1534484949|1            |\n",
       "|707104000 |2            |\n",
       "|2698918629|3            |\n",
       "|2011651491|4            |\n",
       "|2362324981|5            |\n",
       "|299491378 |6            |\n",
       "|2332453005|7            |\n",
       "|1834281518|8            |\n",
       "|999621264 |9            |\n",
       "|1321987379|10           |\n",
       "|1495330598|11           |\n",
       "|328839929 |12           |\n",
       "+----------+-------------+\n",
       "\n"
      ]
     },
     "metadata": {
      "application/vnd.databricks.v1+output": {
       "addedWidgets": {},
       "arguments": {},
       "data": "+----------+-------------+\n|count(1)  |URIs_permonth|\n+----------+-------------+\n|1534484949|1            |\n|707104000 |2            |\n|2698918629|3            |\n|2011651491|4            |\n|2362324981|5            |\n|299491378 |6            |\n|2332453005|7            |\n|1834281518|8            |\n|999621264 |9            |\n|1321987379|10           |\n|1495330598|11           |\n|328839929 |12           |\n+----------+-------------+\n\n",
       "datasetInfos": [],
       "metadata": {},
       "removedWidgets": [],
       "type": "ansi"
      }
     },
     "output_type": "display_data"
    }
   ],
   "source": [
    "# Overall amount of pages for each month\n",
    "url_surtkey_view = spark.sql(\"SELECT  COUNT(*), MONTH(fetch_time) AS URIs_permonth FROM url_surtkey GROUP BY  MONTH(fetch_time) ORDER BY MONTH(fetch_time) ASC\").show(truncate= False)"
   ]
  },
  {
   "cell_type": "code",
   "execution_count": 0,
   "metadata": {
    "application/vnd.databricks.v1+cell": {
     "inputWidgets": {},
     "nuid": "3d76aba6-a2f4-407b-8791-3deef3ef62f2",
     "showTitle": false,
     "title": ""
    }
   },
   "outputs": [
    {
     "data": {
      "text/plain": [
       "+--------+-----------------+\n",
       "|count(1)|month(fetch_time)|\n",
       "+--------+-----------------+\n",
       "|46535   |9                |\n",
       "|83798   |8                |\n",
       "|58198   |10               |\n",
       "|121613  |3                |\n",
       "|100558  |5                |\n",
       "|90255   |4                |\n",
       "|31064   |2                |\n",
       "|105204  |7                |\n",
       "|9536    |6                |\n",
       "|15454   |12               |\n",
       "|64214   |1                |\n",
       "|69676   |11               |\n",
       "+--------+-----------------+\n",
       "\n"
      ]
     },
     "metadata": {
      "application/vnd.databricks.v1+output": {
       "addedWidgets": {},
       "arguments": {},
       "data": "+--------+-----------------+\n|count(1)|month(fetch_time)|\n+--------+-----------------+\n|46535   |9                |\n|83798   |8                |\n|58198   |10               |\n|121613  |3                |\n|100558  |5                |\n|90255   |4                |\n|31064   |2                |\n|105204  |7                |\n|9536    |6                |\n|15454   |12               |\n|64214   |1                |\n|69676   |11               |\n+--------+-----------------+\n\n",
       "datasetInfos": [],
       "metadata": {},
       "removedWidgets": [],
       "type": "ansi"
      }
     },
     "output_type": "display_data"
    }
   ],
   "source": [
    "# Amount of webpages with mentions of Microsoft SQL server and database per month\n",
    "url_surtkey_view = spark.sql(\"SELECT COUNT(*), MONTH(fetch_time)  FROM url_surtkey WHERE url_surtkey like '%oracle%' and url_surtkey like '%database%' GROUP BY  MONTH(fetch_time)\").show(truncate= False)"
   ]
  },
  {
   "cell_type": "code",
   "execution_count": 0,
   "metadata": {
    "application/vnd.databricks.v1+cell": {
     "inputWidgets": {},
     "nuid": "ebf58d81-2b9d-4700-b146-7474e9f408f9",
     "showTitle": false,
     "title": ""
    }
   },
   "outputs": [
    {
     "data": {
      "text/plain": [
       "+--------+-----------------+\n",
       "|count(1)|month(fetch_time)|\n",
       "+--------+-----------------+\n",
       "|1862    |1                |\n",
       "|1669    |2                |\n",
       "|8380    |3                |\n",
       "|6810    |4                |\n",
       "|8650    |5                |\n",
       "|1434    |6                |\n",
       "|8044    |7                |\n",
       "|6028    |8                |\n",
       "|3612    |9                |\n",
       "|4056    |10               |\n",
       "|4216    |11               |\n",
       "|1085    |12               |\n",
       "+--------+-----------------+\n",
       "\n"
      ]
     },
     "metadata": {
      "application/vnd.databricks.v1+output": {
       "addedWidgets": {},
       "arguments": {},
       "data": "+--------+-----------------+\n|count(1)|month(fetch_time)|\n+--------+-----------------+\n|1862    |1                |\n|1669    |2                |\n|8380    |3                |\n|6810    |4                |\n|8650    |5                |\n|1434    |6                |\n|8044    |7                |\n|6028    |8                |\n|3612    |9                |\n|4056    |10               |\n|4216    |11               |\n|1085    |12               |\n+--------+-----------------+\n\n",
       "datasetInfos": [],
       "metadata": {},
       "removedWidgets": [],
       "type": "ansi"
      }
     },
     "output_type": "display_data"
    }
   ],
   "source": [
    "# Amount of webpages with mentions of Microsoft SQL server and database per month\n",
    "url_surtkey_view = spark.sql(\"SELECT COUNT(*), MONTH(fetch_time)  FROM url_surtkey WHERE url_surtkey like '%microsoft%' and url_surtkey like '%sql%' and url_surtkey like '%server%' and url_surtkey like '%database%' GROUP BY  MONTH(fetch_time) ORDER BY MONTH(fetch_time) ASC\").show(truncate= False)"
   ]
  },
  {
   "cell_type": "code",
   "execution_count": 0,
   "metadata": {
    "application/vnd.databricks.v1+cell": {
     "inputWidgets": {},
     "nuid": "729d43a1-deca-4ae1-b423-05f33ad1deb3",
     "showTitle": false,
     "title": ""
    }
   },
   "outputs": [
    {
     "data": {
      "text/plain": [
       "+--------+-----------------+\n",
       "|count(1)|month(fetch_time)|\n",
       "+--------+-----------------+\n",
       "|4327    |1                |\n",
       "|2095    |2                |\n",
       "|8220    |3                |\n",
       "|6220    |4                |\n",
       "|7262    |5                |\n",
       "|823     |6                |\n",
       "|7377    |7                |\n",
       "|5944    |8                |\n",
       "|3314    |9                |\n",
       "|4510    |10               |\n",
       "|4963    |11               |\n",
       "|1094    |12               |\n",
       "+--------+-----------------+\n",
       "\n"
      ]
     },
     "metadata": {
      "application/vnd.databricks.v1+output": {
       "addedWidgets": {},
       "arguments": {},
       "data": "+--------+-----------------+\n|count(1)|month(fetch_time)|\n+--------+-----------------+\n|4327    |1                |\n|2095    |2                |\n|8220    |3                |\n|6220    |4                |\n|7262    |5                |\n|823     |6                |\n|7377    |7                |\n|5944    |8                |\n|3314    |9                |\n|4510    |10               |\n|4963    |11               |\n|1094    |12               |\n+--------+-----------------+\n\n",
       "datasetInfos": [],
       "metadata": {},
       "removedWidgets": [],
       "type": "ansi"
      }
     },
     "output_type": "display_data"
    }
   ],
   "source": [
    "# Amount of webpages with mentions of PostgreSQL and database per month\n",
    "url_surtkey_view = spark.sql(\"SELECT COUNT(*), MONTH(fetch_time)  FROM url_surtkey WHERE url_surtkey like '%postgresql%' and url_surtkey like '%database%' GROUP BY  MONTH(fetch_time) ORDER BY MONTH(fetch_time) ASC\").show(truncate= False)"
   ]
  },
  {
   "cell_type": "code",
   "execution_count": 0,
   "metadata": {
    "application/vnd.databricks.v1+cell": {
     "inputWidgets": {},
     "nuid": "1e3c7a85-4e8d-41b6-b3d6-63f913623b1a",
     "showTitle": false,
     "title": ""
    }
   },
   "outputs": [
    {
     "data": {
      "text/plain": [
       "+--------+-----------------+\n",
       "|count(1)|month(fetch_time)|\n",
       "+--------+-----------------+\n",
       "+--------+-----------------+\n",
       "\n"
      ]
     },
     "metadata": {
      "application/vnd.databricks.v1+output": {
       "addedWidgets": {},
       "arguments": {},
       "data": "+--------+-----------------+\n|count(1)|month(fetch_time)|\n+--------+-----------------+\n+--------+-----------------+\n\n",
       "datasetInfos": [],
       "metadata": {},
       "removedWidgets": [],
       "type": "ansi"
      }
     },
     "output_type": "display_data"
    }
   ],
   "source": [
    "# Amount of webpages with mentions of ClickHouse and database per month\n",
    "url_surtkey_view = spark.sql(\"SELECT COUNT(*), MONTH(fetch_time)  FROM url_surtkey WHERE url_surtkey like '%clickhouse%' and url_surtkey like '%database%' GROUP BY  MONTH(fetch_time) ORDER BY MONTH(fetch_time) ASC\").show(truncate= False)"
   ]
  },
  {
   "cell_type": "code",
   "execution_count": 0,
   "metadata": {
    "application/vnd.databricks.v1+cell": {
     "inputWidgets": {},
     "nuid": "871b7e0d-9f5e-4319-b93f-cc624947c6a0",
     "showTitle": false,
     "title": ""
    }
   },
   "outputs": [
    {
     "data": {
      "text/plain": [
       "+--------+-----------------+\n",
       "|count(1)|month(fetch_time)|\n",
       "+--------+-----------------+\n",
       "|203     |1                |\n",
       "|78      |2                |\n",
       "|359     |3                |\n",
       "|272     |4                |\n",
       "|325     |5                |\n",
       "|35      |6                |\n",
       "|324     |7                |\n",
       "|255     |8                |\n",
       "|125     |9                |\n",
       "|189     |10               |\n",
       "|202     |11               |\n",
       "|44      |12               |\n",
       "+--------+-----------------+\n",
       "\n"
      ]
     },
     "metadata": {
      "application/vnd.databricks.v1+output": {
       "addedWidgets": {},
       "arguments": {},
       "data": "+--------+-----------------+\n|count(1)|month(fetch_time)|\n+--------+-----------------+\n|203     |1                |\n|78      |2                |\n|359     |3                |\n|272     |4                |\n|325     |5                |\n|35      |6                |\n|324     |7                |\n|255     |8                |\n|125     |9                |\n|189     |10               |\n|202     |11               |\n|44      |12               |\n+--------+-----------------+\n\n",
       "datasetInfos": [],
       "metadata": {},
       "removedWidgets": [],
       "type": "ansi"
      }
     },
     "output_type": "display_data"
    }
   ],
   "source": [
    "# Amount of webpages with mentions of Spark and database per month\n",
    "url_surtkey_view = spark.sql(\"SELECT COUNT(*), MONTH(fetch_time)  FROM url_surtkey WHERE url_surtkey like '%spark%' and url_surtkey like '%database%' GROUP BY  MONTH(fetch_time) ORDER BY MONTH(fetch_time) ASC\").show(truncate= False)"
   ]
  },
  {
   "cell_type": "code",
   "execution_count": 0,
   "metadata": {
    "application/vnd.databricks.v1+cell": {
     "inputWidgets": {},
     "nuid": "c246e4af-9d8c-4ace-963f-f91569a77d5c",
     "showTitle": false,
     "title": ""
    }
   },
   "outputs": [
    {
     "data": {
      "text/plain": [
       "+--------+-----------------+\n",
       "|count(1)|month(fetch_time)|\n",
       "+--------+-----------------+\n",
       "|2289    |1                |\n",
       "|1090    |2                |\n",
       "|4262    |3                |\n",
       "|3267    |4                |\n",
       "|4258    |5                |\n",
       "|693     |6                |\n",
       "|3842    |7                |\n",
       "|3154    |8                |\n",
       "|1701    |9                |\n",
       "|2247    |10               |\n",
       "|2573    |11               |\n",
       "|558     |12               |\n",
       "+--------+-----------------+\n",
       "\n"
      ]
     },
     "metadata": {
      "application/vnd.databricks.v1+output": {
       "addedWidgets": {},
       "arguments": {},
       "data": "+--------+-----------------+\n|count(1)|month(fetch_time)|\n+--------+-----------------+\n|2289    |1                |\n|1090    |2                |\n|4262    |3                |\n|3267    |4                |\n|4258    |5                |\n|693     |6                |\n|3842    |7                |\n|3154    |8                |\n|1701    |9                |\n|2247    |10               |\n|2573    |11               |\n|558     |12               |\n+--------+-----------------+\n\n",
       "datasetInfos": [],
       "metadata": {},
       "removedWidgets": [],
       "type": "ansi"
      }
     },
     "output_type": "display_data"
    }
   ],
   "source": [
    "# Amount of webpages with mentions of MongoDB and database per month\n",
    "url_surtkey_view = spark.sql(\"SELECT COUNT(*), MONTH(fetch_time)  FROM url_surtkey WHERE url_surtkey like '%mongodb%' and url_surtkey like '%database%' GROUP BY  MONTH(fetch_time) ORDER BY MONTH(fetch_time) ASC\").show(truncate= False)"
   ]
  },
  {
   "cell_type": "code",
   "execution_count": 0,
   "metadata": {
    "application/vnd.databricks.v1+cell": {
     "inputWidgets": {},
     "nuid": "adddecb1-228b-49e8-8931-764e2d6bb598",
     "showTitle": false,
     "title": ""
    }
   },
   "outputs": [
    {
     "data": {
      "text/plain": [
       "+--------+-----------------+\n",
       "|count(1)|month(fetch_time)|\n",
       "+--------+-----------------+\n",
       "+--------+-----------------+\n",
       "\n"
      ]
     },
     "metadata": {
      "application/vnd.databricks.v1+output": {
       "addedWidgets": {},
       "arguments": {},
       "data": "+--------+-----------------+\n|count(1)|month(fetch_time)|\n+--------+-----------------+\n+--------+-----------------+\n\n",
       "datasetInfos": [],
       "metadata": {},
       "removedWidgets": [],
       "type": "ansi"
      }
     },
     "output_type": "display_data"
    }
   ],
   "source": [
    "# Amount of webpages with mentions of DuckDB and database per month\n",
    "url_surtkey_view = spark.sql(\"SELECT COUNT(*), MONTH(fetch_time)  FROM url_surtkey WHERE url_surtkey like '%duckdb%' and url_surtkey like '%database%' GROUP BY  MONTH(fetch_time) ORDER BY MONTH(fetch_time) ASC\").show(truncate= False)"
   ]
  },
  {
   "cell_type": "code",
   "execution_count": 0,
   "metadata": {
    "application/vnd.databricks.v1+cell": {
     "inputWidgets": {},
     "nuid": "1d937ebc-630d-40d3-830c-1fb6af5ff954",
     "showTitle": false,
     "title": ""
    }
   },
   "outputs": [
    {
     "data": {
      "text/plain": [
       "+--------+-----------------+\n",
       "|count(1)|month(fetch_time)|\n",
       "+--------+-----------------+\n",
       "|17228   |1                |\n",
       "|9817    |2                |\n",
       "|42972   |3                |\n",
       "|33137   |4                |\n",
       "|44029   |5                |\n",
       "|6458    |6                |\n",
       "|42650   |7                |\n",
       "|34536   |8                |\n",
       "|18989   |9                |\n",
       "|23277   |10               |\n",
       "|28112   |11               |\n",
       "|6169    |12               |\n",
       "+--------+-----------------+\n",
       "\n"
      ]
     },
     "metadata": {
      "application/vnd.databricks.v1+output": {
       "addedWidgets": {},
       "arguments": {},
       "data": "+--------+-----------------+\n|count(1)|month(fetch_time)|\n+--------+-----------------+\n|17228   |1                |\n|9817    |2                |\n|42972   |3                |\n|33137   |4                |\n|44029   |5                |\n|6458    |6                |\n|42650   |7                |\n|34536   |8                |\n|18989   |9                |\n|23277   |10               |\n|28112   |11               |\n|6169    |12               |\n+--------+-----------------+\n\n",
       "datasetInfos": [],
       "metadata": {},
       "removedWidgets": [],
       "type": "ansi"
      }
     },
     "output_type": "display_data"
    }
   ],
   "source": [
    "# Amount of webpages with mentions of mySQL and database per month\n",
    "url_surtkey_view = spark.sql(\"SELECT COUNT(*), MONTH(fetch_time)  FROM url_surtkey WHERE url_surtkey like '%mysql%' and url_surtkey like '%database%' GROUP BY  MONTH(fetch_time) ORDER BY MONTH(fetch_time) ASC\").show(truncate= False)"
   ]
  },
  {
   "cell_type": "code",
   "execution_count": 0,
   "metadata": {
    "application/vnd.databricks.v1+cell": {
     "inputWidgets": {},
     "nuid": "9ee20ea6-d485-4113-a418-ed3f902809bb",
     "showTitle": false,
     "title": ""
    }
   },
   "outputs": [
    {
     "data": {
      "text/plain": [
       "+--------+-----------------+\n",
       "|count(1)|month(fetch_time)|\n",
       "+--------+-----------------+\n",
       "|123     |1                |\n",
       "|59      |2                |\n",
       "|276     |3                |\n",
       "|219     |4                |\n",
       "|237     |5                |\n",
       "|24      |6                |\n",
       "|267     |7                |\n",
       "|195     |8                |\n",
       "|100     |9                |\n",
       "|136     |10               |\n",
       "|150     |11               |\n",
       "|45      |12               |\n",
       "+--------+-----------------+\n",
       "\n"
      ]
     },
     "metadata": {
      "application/vnd.databricks.v1+output": {
       "addedWidgets": {},
       "arguments": {},
       "data": "+--------+-----------------+\n|count(1)|month(fetch_time)|\n+--------+-----------------+\n|123     |1                |\n|59      |2                |\n|276     |3                |\n|219     |4                |\n|237     |5                |\n|24      |6                |\n|267     |7                |\n|195     |8                |\n|100     |9                |\n|136     |10               |\n|150     |11               |\n|45      |12               |\n+--------+-----------------+\n\n",
       "datasetInfos": [],
       "metadata": {},
       "removedWidgets": [],
       "type": "ansi"
      }
     },
     "output_type": "display_data"
    }
   ],
   "source": [
    "# Amount of webpages with mentions of MariaDB and database per month\n",
    "url_surtkey_view = spark.sql(\"SELECT COUNT(*), MONTH(fetch_time)  FROM url_surtkey WHERE url_surtkey like '%mariadb%' and url_surtkey like '%database%' GROUP BY  MONTH(fetch_time) ORDER BY MONTH(fetch_time) ASC\").show(truncate= False)"
   ]
  },
  {
   "cell_type": "code",
   "execution_count": 0,
   "metadata": {
    "application/vnd.databricks.v1+cell": {
     "inputWidgets": {},
     "nuid": "d26ee088-994e-4008-8348-5eec8e26e6e6",
     "showTitle": false,
     "title": ""
    }
   },
   "outputs": [],
   "source": [
    "# We follow the same procedure for each year.\n",
    "path = '/mnt/lsde/datasets/commoncrawl/cc-index/table/cc-main/warc/crawl=CC-MAIN-2014*/subset=warc'\n",
    "df = spark.read.parquet(path)\n",
    "df.createOrReplaceTempView(\"url_surtkey\")"
   ]
  },
  {
   "cell_type": "code",
   "execution_count": 0,
   "metadata": {
    "application/vnd.databricks.v1+cell": {
     "inputWidgets": {},
     "nuid": "b3c3dc67-ce08-4fe6-b152-031873083998",
     "showTitle": false,
     "title": ""
    }
   },
   "outputs": [
    {
     "data": {
      "text/plain": [
       "+-------------------------------+\n",
       "|url_surtkey                    |\n",
       "+-------------------------------+\n",
       "|net,interment)/us/ny/oswego.htm|\n",
       "|net,megaloteria)/lotofacil/952 |\n",
       "|net,interment)/us/ny/oswego.htm|\n",
       "|net,megaloteria)/lotofacil/952 |\n",
       "|net,interment)/us/ny/oswego.htm|\n",
       "|net,megaloteria)/lotofacil/952 |\n",
       "|net,interment)/us/ny/oswego.htm|\n",
       "|net,megaloteria)/lotofacil/952 |\n",
       "|net,interment)/us/ny/oswego.htm|\n",
       "|net,megaloteria)/lotofacil/953 |\n",
       "|net,interment)/us/ny/oswego.htm|\n",
       "|net,megaloteria)/lotofacil/953 |\n",
       "|net,interment)/us/ny/oswego.htm|\n",
       "|net,megaloteria)/lotofacil/953 |\n",
       "|net,interment)/us/ny/oswego.htm|\n",
       "|net,megaloteria)/lotofacil/953 |\n",
       "|net,interment)/us/ny/oswego.htm|\n",
       "|net,megaloteria)/lotofacil/954 |\n",
       "|net,interment)/us/ny/otsego.htm|\n",
       "|net,megaloteria)/lotofacil/954 |\n",
       "+-------------------------------+\n",
       "only showing top 20 rows\n",
       "\n"
      ]
     },
     "metadata": {
      "application/vnd.databricks.v1+output": {
       "addedWidgets": {},
       "arguments": {},
       "data": "+-------------------------------+\n|url_surtkey                    |\n+-------------------------------+\n|net,interment)/us/ny/oswego.htm|\n|net,megaloteria)/lotofacil/952 |\n|net,interment)/us/ny/oswego.htm|\n|net,megaloteria)/lotofacil/952 |\n|net,interment)/us/ny/oswego.htm|\n|net,megaloteria)/lotofacil/952 |\n|net,interment)/us/ny/oswego.htm|\n|net,megaloteria)/lotofacil/952 |\n|net,interment)/us/ny/oswego.htm|\n|net,megaloteria)/lotofacil/953 |\n|net,interment)/us/ny/oswego.htm|\n|net,megaloteria)/lotofacil/953 |\n|net,interment)/us/ny/oswego.htm|\n|net,megaloteria)/lotofacil/953 |\n|net,interment)/us/ny/oswego.htm|\n|net,megaloteria)/lotofacil/953 |\n|net,interment)/us/ny/oswego.htm|\n|net,megaloteria)/lotofacil/954 |\n|net,interment)/us/ny/otsego.htm|\n|net,megaloteria)/lotofacil/954 |\n+-------------------------------+\nonly showing top 20 rows\n\n",
       "datasetInfos": [],
       "metadata": {},
       "removedWidgets": [],
       "type": "ansi"
      }
     },
     "output_type": "display_data"
    }
   ],
   "source": [
    "url_surtkey_view = spark.sql(\"SELECT url_surtkey FROM url_surtkey\").show(truncate= False)"
   ]
  },
  {
   "cell_type": "code",
   "execution_count": 0,
   "metadata": {
    "application/vnd.databricks.v1+cell": {
     "inputWidgets": {},
     "nuid": "58afdc9c-50cb-46de-a00a-d064faee8565",
     "showTitle": false,
     "title": ""
    }
   },
   "outputs": [
    {
     "data": {
      "text/plain": [
       "+----------+-------------+\n",
       "|count(1)  |URIs_permonth|\n",
       "+----------+-------------+\n",
       "|2301223474|3            |\n",
       "|2641371316|4            |\n",
       "|3170676890|7            |\n",
       "|2325292036|8            |\n",
       "|3316009384|9            |\n",
       "|4129586589|10           |\n",
       "|2188234054|11           |\n",
       "|2085977207|12           |\n",
       "+----------+-------------+\n",
       "\n"
      ]
     },
     "metadata": {
      "application/vnd.databricks.v1+output": {
       "addedWidgets": {},
       "arguments": {},
       "data": "+----------+-------------+\n|count(1)  |URIs_permonth|\n+----------+-------------+\n|2301223474|3            |\n|2641371316|4            |\n|3170676890|7            |\n|2325292036|8            |\n|3316009384|9            |\n|4129586589|10           |\n|2188234054|11           |\n|2085977207|12           |\n+----------+-------------+\n\n",
       "datasetInfos": [],
       "metadata": {},
       "removedWidgets": [],
       "type": "ansi"
      }
     },
     "output_type": "display_data"
    }
   ],
   "source": [
    "url_surtkey_view = spark.sql(\"SELECT  COUNT(*), MONTH(fetch_time) AS URIs_permonth FROM url_surtkey GROUP BY  MONTH(fetch_time) ORDER BY MONTH(fetch_time) ASC\").show(truncate= False)"
   ]
  },
  {
   "cell_type": "code",
   "execution_count": 0,
   "metadata": {
    "application/vnd.databricks.v1+cell": {
     "inputWidgets": {},
     "nuid": "27d20dff-f239-4d9c-a869-00682e54b505",
     "showTitle": false,
     "title": ""
    }
   },
   "outputs": [
    {
     "data": {
      "text/plain": [
       "+--------+-----------------+\n",
       "|count(1)|month(fetch_time)|\n",
       "+--------+-----------------+\n",
       "|90040   |3                |\n",
       "|106576  |4                |\n",
       "|111917  |7                |\n",
       "|93283   |8                |\n",
       "|128189  |9                |\n",
       "|142999  |10               |\n",
       "|72897   |11               |\n",
       "|82804   |12               |\n",
       "+--------+-----------------+\n",
       "\n"
      ]
     },
     "metadata": {
      "application/vnd.databricks.v1+output": {
       "addedWidgets": {},
       "arguments": {},
       "data": "+--------+-----------------+\n|count(1)|month(fetch_time)|\n+--------+-----------------+\n|90040   |3                |\n|106576  |4                |\n|111917  |7                |\n|93283   |8                |\n|128189  |9                |\n|142999  |10               |\n|72897   |11               |\n|82804   |12               |\n+--------+-----------------+\n\n",
       "datasetInfos": [],
       "metadata": {},
       "removedWidgets": [],
       "type": "ansi"
      }
     },
     "output_type": "display_data"
    }
   ],
   "source": [
    "url_surtkey_view = spark.sql(\"SELECT COUNT(*), MONTH(fetch_time)  FROM url_surtkey WHERE url_surtkey like '%oracle%' and url_surtkey like '%database%' GROUP BY MONTH(fetch_time) ORDER BY MONTH(fetch_time) ASC\").show(truncate= False)"
   ]
  },
  {
   "cell_type": "code",
   "execution_count": 0,
   "metadata": {
    "application/vnd.databricks.v1+cell": {
     "inputWidgets": {},
     "nuid": "4c671f59-d571-4703-adcd-f3c551890214",
     "showTitle": false,
     "title": ""
    }
   },
   "outputs": [
    {
     "data": {
      "text/plain": [
       "+--------+-----------------+\n",
       "|count(1)|month(fetch_time)|\n",
       "+--------+-----------------+\n",
       "|8325    |3                |\n",
       "|8552    |4                |\n",
       "|11005   |7                |\n",
       "|8485    |8                |\n",
       "|11532   |9                |\n",
       "|9830    |10               |\n",
       "|4983    |11               |\n",
       "|6119    |12               |\n",
       "+--------+-----------------+\n",
       "\n"
      ]
     },
     "metadata": {
      "application/vnd.databricks.v1+output": {
       "addedWidgets": {},
       "arguments": {},
       "data": "+--------+-----------------+\n|count(1)|month(fetch_time)|\n+--------+-----------------+\n|8325    |3                |\n|8552    |4                |\n|11005   |7                |\n|8485    |8                |\n|11532   |9                |\n|9830    |10               |\n|4983    |11               |\n|6119    |12               |\n+--------+-----------------+\n\n",
       "datasetInfos": [],
       "metadata": {},
       "removedWidgets": [],
       "type": "ansi"
      }
     },
     "output_type": "display_data"
    }
   ],
   "source": [
    "url_surtkey_view = spark.sql(\"SELECT COUNT(*), MONTH(fetch_time)  FROM url_surtkey WHERE url_surtkey like '%microsoft%' and url_surtkey like '%sql%' and url_surtkey like '%server%' and url_surtkey like '%database%' GROUP BY  MONTH(fetch_time) ORDER BY MONTH(fetch_time) ASC\").show(truncate= False)"
   ]
  },
  {
   "cell_type": "code",
   "execution_count": 0,
   "metadata": {
    "application/vnd.databricks.v1+cell": {
     "inputWidgets": {},
     "nuid": "19b86a8b-b1c1-42fd-9cec-844d68991aea",
     "showTitle": false,
     "title": ""
    }
   },
   "outputs": [
    {
     "data": {
      "text/plain": [
       "+--------+-----------------+\n",
       "|count(1)|month(fetch_time)|\n",
       "+--------+-----------------+\n",
       "|7300    |3                |\n",
       "|8246    |4                |\n",
       "|9095    |7                |\n",
       "|7456    |8                |\n",
       "|10129   |9                |\n",
       "|11574   |10               |\n",
       "|6096    |11               |\n",
       "|5723    |12               |\n",
       "+--------+-----------------+\n",
       "\n"
      ]
     },
     "metadata": {
      "application/vnd.databricks.v1+output": {
       "addedWidgets": {},
       "arguments": {},
       "data": "+--------+-----------------+\n|count(1)|month(fetch_time)|\n+--------+-----------------+\n|7300    |3                |\n|8246    |4                |\n|9095    |7                |\n|7456    |8                |\n|10129   |9                |\n|11574   |10               |\n|6096    |11               |\n|5723    |12               |\n+--------+-----------------+\n\n",
       "datasetInfos": [],
       "metadata": {},
       "removedWidgets": [],
       "type": "ansi"
      }
     },
     "output_type": "display_data"
    }
   ],
   "source": [
    "url_surtkey_view = spark.sql(\"SELECT COUNT(*), MONTH(fetch_time)  FROM url_surtkey WHERE url_surtkey like '%postgresql%' and url_surtkey like '%database%' GROUP BY  MONTH(fetch_time) ORDER BY MONTH(fetch_time) ASC\").show(truncate= False)"
   ]
  },
  {
   "cell_type": "code",
   "execution_count": 0,
   "metadata": {
    "application/vnd.databricks.v1+cell": {
     "inputWidgets": {},
     "nuid": "88984c01-f17a-4ff2-8825-760c0821f5a9",
     "showTitle": false,
     "title": ""
    }
   },
   "outputs": [
    {
     "data": {
      "text/plain": [
       "+--------+-----------------+\n",
       "|count(1)|month(fetch_time)|\n",
       "+--------+-----------------+\n",
       "+--------+-----------------+\n",
       "\n"
      ]
     },
     "metadata": {
      "application/vnd.databricks.v1+output": {
       "addedWidgets": {},
       "arguments": {},
       "data": "+--------+-----------------+\n|count(1)|month(fetch_time)|\n+--------+-----------------+\n+--------+-----------------+\n\n",
       "datasetInfos": [],
       "metadata": {},
       "removedWidgets": [],
       "type": "ansi"
      }
     },
     "output_type": "display_data"
    }
   ],
   "source": [
    "url_surtkey_view = spark.sql(\"SELECT COUNT(*), MONTH(fetch_time)  FROM url_surtkey WHERE url_surtkey like '%clickhouse%' and url_surtkey like '%database%' GROUP BY  MONTH(fetch_time) ORDER BY MONTH(fetch_time) ASC\").show(truncate= False)"
   ]
  },
  {
   "cell_type": "code",
   "execution_count": 0,
   "metadata": {
    "application/vnd.databricks.v1+cell": {
     "inputWidgets": {},
     "nuid": "4b02637c-696f-43b1-9a9f-b712041efdbf",
     "showTitle": false,
     "title": ""
    }
   },
   "outputs": [
    {
     "data": {
      "text/plain": [
       "+--------+-----------------+\n",
       "|count(1)|month(fetch_time)|\n",
       "+--------+-----------------+\n",
       "|302     |3                |\n",
       "|408     |4                |\n",
       "|409     |7                |\n",
       "|285     |8                |\n",
       "|455     |9                |\n",
       "|590     |10               |\n",
       "|352     |11               |\n",
       "|266     |12               |\n",
       "+--------+-----------------+\n",
       "\n"
      ]
     },
     "metadata": {
      "application/vnd.databricks.v1+output": {
       "addedWidgets": {},
       "arguments": {},
       "data": "+--------+-----------------+\n|count(1)|month(fetch_time)|\n+--------+-----------------+\n|302     |3                |\n|408     |4                |\n|409     |7                |\n|285     |8                |\n|455     |9                |\n|590     |10               |\n|352     |11               |\n|266     |12               |\n+--------+-----------------+\n\n",
       "datasetInfos": [],
       "metadata": {},
       "removedWidgets": [],
       "type": "ansi"
      }
     },
     "output_type": "display_data"
    }
   ],
   "source": [
    "url_surtkey_view = spark.sql(\"SELECT COUNT(*), MONTH(fetch_time)  FROM url_surtkey WHERE url_surtkey like '%spark%' and url_surtkey like '%database%' GROUP BY  MONTH(fetch_time) ORDER BY MONTH(fetch_time) ASC\").show(truncate= False)"
   ]
  },
  {
   "cell_type": "code",
   "execution_count": 0,
   "metadata": {
    "application/vnd.databricks.v1+cell": {
     "inputWidgets": {},
     "nuid": "2621dbdc-3185-4968-bcc4-a8c4f9dff112",
     "showTitle": false,
     "title": ""
    }
   },
   "outputs": [
    {
     "data": {
      "text/plain": [
       "+--------+-----------------+\n",
       "|count(1)|month(fetch_time)|\n",
       "+--------+-----------------+\n",
       "|2473    |3                |\n",
       "|2870    |4                |\n",
       "|4672    |7                |\n",
       "|3562    |8                |\n",
       "|4894    |9                |\n",
       "|4821    |10               |\n",
       "|2590    |11               |\n",
       "|3087    |12               |\n",
       "+--------+-----------------+\n",
       "\n"
      ]
     },
     "metadata": {
      "application/vnd.databricks.v1+output": {
       "addedWidgets": {},
       "arguments": {},
       "data": "+--------+-----------------+\n|count(1)|month(fetch_time)|\n+--------+-----------------+\n|2473    |3                |\n|2870    |4                |\n|4672    |7                |\n|3562    |8                |\n|4894    |9                |\n|4821    |10               |\n|2590    |11               |\n|3087    |12               |\n+--------+-----------------+\n\n",
       "datasetInfos": [],
       "metadata": {},
       "removedWidgets": [],
       "type": "ansi"
      }
     },
     "output_type": "display_data"
    }
   ],
   "source": [
    "url_surtkey_view = spark.sql(\"SELECT COUNT(*), MONTH(fetch_time)  FROM url_surtkey WHERE url_surtkey like '%mongodb%' and url_surtkey like '%database%' GROUP BY  MONTH(fetch_time) ORDER BY MONTH(fetch_time) ASC\").show(truncate= False)"
   ]
  },
  {
   "cell_type": "code",
   "execution_count": 0,
   "metadata": {
    "application/vnd.databricks.v1+cell": {
     "inputWidgets": {},
     "nuid": "5bb96693-7cd2-4648-b557-43c2a6aeddfe",
     "showTitle": false,
     "title": ""
    }
   },
   "outputs": [
    {
     "data": {
      "text/plain": [
       "+--------+-----------------+\n",
       "|count(1)|month(fetch_time)|\n",
       "+--------+-----------------+\n",
       "+--------+-----------------+\n",
       "\n"
      ]
     },
     "metadata": {
      "application/vnd.databricks.v1+output": {
       "addedWidgets": {},
       "arguments": {},
       "data": "+--------+-----------------+\n|count(1)|month(fetch_time)|\n+--------+-----------------+\n+--------+-----------------+\n\n",
       "datasetInfos": [],
       "metadata": {},
       "removedWidgets": [],
       "type": "ansi"
      }
     },
     "output_type": "display_data"
    }
   ],
   "source": [
    "url_surtkey_view = spark.sql(\"SELECT COUNT(*), MONTH(fetch_time)  FROM url_surtkey WHERE url_surtkey like '%duckdb%' and url_surtkey like '%database%' GROUP BY  MONTH(fetch_time) ORDER BY MONTH(fetch_time) ASC\").show(truncate= False)"
   ]
  },
  {
   "cell_type": "code",
   "execution_count": 0,
   "metadata": {
    "application/vnd.databricks.v1+cell": {
     "inputWidgets": {},
     "nuid": "ec2f060f-008f-4da7-b8f6-c10d2868f74a",
     "showTitle": false,
     "title": ""
    }
   },
   "outputs": [
    {
     "data": {
      "text/plain": [
       "+--------+-----------------+\n",
       "|count(1)|month(fetch_time)|\n",
       "+--------+-----------------+\n",
       "|36734   |3                |\n",
       "|40022   |4                |\n",
       "|56476   |7                |\n",
       "|39474   |8                |\n",
       "|49723   |9                |\n",
       "|56458   |10               |\n",
       "|30535   |11               |\n",
       "|24153   |12               |\n",
       "+--------+-----------------+\n",
       "\n"
      ]
     },
     "metadata": {
      "application/vnd.databricks.v1+output": {
       "addedWidgets": {},
       "arguments": {},
       "data": "+--------+-----------------+\n|count(1)|month(fetch_time)|\n+--------+-----------------+\n|36734   |3                |\n|40022   |4                |\n|56476   |7                |\n|39474   |8                |\n|49723   |9                |\n|56458   |10               |\n|30535   |11               |\n|24153   |12               |\n+--------+-----------------+\n\n",
       "datasetInfos": [],
       "metadata": {},
       "removedWidgets": [],
       "type": "ansi"
      }
     },
     "output_type": "display_data"
    }
   ],
   "source": [
    "url_surtkey_view = spark.sql(\"SELECT COUNT(*), MONTH(fetch_time)  FROM url_surtkey WHERE url_surtkey like '%mysql%' and url_surtkey like '%database%' GROUP BY  MONTH(fetch_time) ORDER BY MONTH(fetch_time) ASC\").show(truncate= False)"
   ]
  },
  {
   "cell_type": "code",
   "execution_count": 0,
   "metadata": {
    "application/vnd.databricks.v1+cell": {
     "inputWidgets": {},
     "nuid": "1b78eb39-b411-4b55-b706-be621aebea8c",
     "showTitle": false,
     "title": ""
    }
   },
   "outputs": [
    {
     "data": {
      "text/plain": [
       "+--------+-----------------+\n",
       "|count(1)|month(fetch_time)|\n",
       "+--------+-----------------+\n",
       "|232     |3                |\n",
       "|306     |4                |\n",
       "|269     |7                |\n",
       "|216     |8                |\n",
       "|296     |9                |\n",
       "|379     |10               |\n",
       "|212     |11               |\n",
       "|166     |12               |\n",
       "+--------+-----------------+\n",
       "\n"
      ]
     },
     "metadata": {
      "application/vnd.databricks.v1+output": {
       "addedWidgets": {},
       "arguments": {},
       "data": "+--------+-----------------+\n|count(1)|month(fetch_time)|\n+--------+-----------------+\n|232     |3                |\n|306     |4                |\n|269     |7                |\n|216     |8                |\n|296     |9                |\n|379     |10               |\n|212     |11               |\n|166     |12               |\n+--------+-----------------+\n\n",
       "datasetInfos": [],
       "metadata": {},
       "removedWidgets": [],
       "type": "ansi"
      }
     },
     "output_type": "display_data"
    }
   ],
   "source": [
    "url_surtkey_view = spark.sql(\"SELECT COUNT(*), MONTH(fetch_time)  FROM url_surtkey WHERE url_surtkey like '%mariadb%' and url_surtkey like '%database%' GROUP BY  MONTH(fetch_time) ORDER BY MONTH(fetch_time) ASC\").show(truncate= False)"
   ]
  },
  {
   "cell_type": "code",
   "execution_count": 0,
   "metadata": {
    "application/vnd.databricks.v1+cell": {
     "inputWidgets": {},
     "nuid": "9b8a0a50-fd15-4733-9a1c-98d38c7fad79",
     "showTitle": false,
     "title": ""
    }
   },
   "outputs": [
    {
     "data": {
      "text/plain": [
       "+-----------------------------------------------------------------------------------------+\n",
       "|url_surtkey                                                                              |\n",
       "+-----------------------------------------------------------------------------------------+\n",
       "|com,wsj,online)/news/articles/sb10001424127887324660404578198083882058800                |\n",
       "|com,wwbw)/kepur,straps---strap-locks-guitar---bass-parts---accessories.wwbw              |\n",
       "|com,wsj,online)/news/articles/sb10001424127887324660404578198083882058800                |\n",
       "|com,wwbw)/kepur,trombone--baritone---euphonium-mouthpieces-brass-mouthpieces1.wwbw       |\n",
       "|com,wsj,online)/news/articles/sb10001424127887324660404578198133815561080                |\n",
       "|com,wwbw)/kepur,tuba---sousaphone-mouthpieces-brass-mouthpieces1.wwbw                    |\n",
       "|com,wsj,online)/news/articles/sb10001424127887324660404578198151710005568                |\n",
       "|com,wwbw)/kepur.wwbw                                                                     |\n",
       "|com,wsj,online)/news/articles/sb10001424127887324660404578198151710005568                |\n",
       "|com,wwbw)/kepur.wwbw?pv=1                                                                |\n",
       "|com,wsj,online)/news/articles/sb10001424127887324660404578198151710005568                |\n",
       "|com,wwbw)/kepur.wwbw?pv=3                                                                |\n",
       "|com,wsj,online)/news/articles/sb10001424127887324660404578198151710005568                |\n",
       "|com,wwbw)/kerly,-009-gauge-electric-guitar-strings-6-string-sets-for-electric-guitar.wwbw|\n",
       "|com,wsj,online)/news/articles/sb10001424127887324660404578198160499785442                |\n",
       "|com,wwbw)/kerly,-010-gauge-acoustic-guitar-strings-6-string-sets-for-acoustic-guitar.wwbw|\n",
       "|com,wsj,online)/news/articles/sb10001424127887324660404578198160499785442                |\n",
       "|com,wwbw)/kerly,-010-gauge-electric-guitar-strings-6-string-sets-for-electric-guitar.wwbw|\n",
       "|com,wsj,online)/news/articles/sb10001424127887324660404578198160499785442                |\n",
       "|com,wwbw)/kerly,-011-gauge-acoustic-guitar-strings-6-string-sets-for-acoustic-guitar.wwbw|\n",
       "+-----------------------------------------------------------------------------------------+\n",
       "only showing top 20 rows\n",
       "\n"
      ]
     },
     "metadata": {
      "application/vnd.databricks.v1+output": {
       "addedWidgets": {},
       "arguments": {},
       "data": "+-----------------------------------------------------------------------------------------+\n|url_surtkey                                                                              |\n+-----------------------------------------------------------------------------------------+\n|com,wsj,online)/news/articles/sb10001424127887324660404578198083882058800                |\n|com,wwbw)/kepur,straps---strap-locks-guitar---bass-parts---accessories.wwbw              |\n|com,wsj,online)/news/articles/sb10001424127887324660404578198083882058800                |\n|com,wwbw)/kepur,trombone--baritone---euphonium-mouthpieces-brass-mouthpieces1.wwbw       |\n|com,wsj,online)/news/articles/sb10001424127887324660404578198133815561080                |\n|com,wwbw)/kepur,tuba---sousaphone-mouthpieces-brass-mouthpieces1.wwbw                    |\n|com,wsj,online)/news/articles/sb10001424127887324660404578198151710005568                |\n|com,wwbw)/kepur.wwbw                                                                     |\n|com,wsj,online)/news/articles/sb10001424127887324660404578198151710005568                |\n|com,wwbw)/kepur.wwbw?pv=1                                                                |\n|com,wsj,online)/news/articles/sb10001424127887324660404578198151710005568                |\n|com,wwbw)/kepur.wwbw?pv=3                                                                |\n|com,wsj,online)/news/articles/sb10001424127887324660404578198151710005568                |\n|com,wwbw)/kerly,-009-gauge-electric-guitar-strings-6-string-sets-for-electric-guitar.wwbw|\n|com,wsj,online)/news/articles/sb10001424127887324660404578198160499785442                |\n|com,wwbw)/kerly,-010-gauge-acoustic-guitar-strings-6-string-sets-for-acoustic-guitar.wwbw|\n|com,wsj,online)/news/articles/sb10001424127887324660404578198160499785442                |\n|com,wwbw)/kerly,-010-gauge-electric-guitar-strings-6-string-sets-for-electric-guitar.wwbw|\n|com,wsj,online)/news/articles/sb10001424127887324660404578198160499785442                |\n|com,wwbw)/kerly,-011-gauge-acoustic-guitar-strings-6-string-sets-for-acoustic-guitar.wwbw|\n+-----------------------------------------------------------------------------------------+\nonly showing top 20 rows\n\n",
       "datasetInfos": [],
       "metadata": {},
       "removedWidgets": [],
       "type": "ansi"
      }
     },
     "output_type": "display_data"
    }
   ],
   "source": [
    "# 2013\n",
    "\n",
    "path = '/mnt/lsde/datasets/commoncrawl/cc-index/table/cc-main/warc/crawl=CC-MAIN-2013*/subset=warc'\n",
    "df = spark.read.parquet(path)\n",
    "df.createOrReplaceTempView(\"url_surtkey\")\n",
    "url_surtkey_view = spark.sql(\"SELECT url_surtkey FROM url_surtkey\").show(truncate= False)"
   ]
  },
  {
   "cell_type": "code",
   "execution_count": 0,
   "metadata": {
    "application/vnd.databricks.v1+cell": {
     "inputWidgets": {},
     "nuid": "7da0c140-2a6f-4ef2-a628-61919b0ff054",
     "showTitle": false,
     "title": ""
    }
   },
   "outputs": [
    {
     "data": {
      "text/plain": [
       "+----------+-------------+\n",
       "|count(1)  |URIs_permonth|\n",
       "+----------+-------------+\n",
       "|1438930881|5            |\n",
       "|357167762 |6            |\n",
       "|2245773667|12           |\n",
       "+----------+-------------+\n",
       "\n"
      ]
     },
     "metadata": {
      "application/vnd.databricks.v1+output": {
       "addedWidgets": {},
       "arguments": {},
       "data": "+----------+-------------+\n|count(1)  |URIs_permonth|\n+----------+-------------+\n|1438930881|5            |\n|357167762 |6            |\n|2245773667|12           |\n+----------+-------------+\n\n",
       "datasetInfos": [],
       "metadata": {},
       "removedWidgets": [],
       "type": "ansi"
      }
     },
     "output_type": "display_data"
    }
   ],
   "source": [
    "url_surtkey_view = spark.sql(\"SELECT  COUNT(*), MONTH(fetch_time) AS URIs_permonth FROM url_surtkey GROUP BY  MONTH(fetch_time) ORDER BY MONTH(fetch_time) ASC\").show(truncate= False)"
   ]
  },
  {
   "cell_type": "code",
   "execution_count": 0,
   "metadata": {
    "application/vnd.databricks.v1+cell": {
     "inputWidgets": {},
     "nuid": "4c5c3817-b759-461e-b902-152978f98499",
     "showTitle": false,
     "title": ""
    }
   },
   "outputs": [
    {
     "data": {
      "text/plain": [
       "+--------+-----------------+\n",
       "|count(1)|month(fetch_time)|\n",
       "+--------+-----------------+\n",
       "|51971   |5                |\n",
       "|13119   |6                |\n",
       "|80587   |12               |\n",
       "+--------+-----------------+\n",
       "\n"
      ]
     },
     "metadata": {
      "application/vnd.databricks.v1+output": {
       "addedWidgets": {},
       "arguments": {},
       "data": "+--------+-----------------+\n|count(1)|month(fetch_time)|\n+--------+-----------------+\n|51971   |5                |\n|13119   |6                |\n|80587   |12               |\n+--------+-----------------+\n\n",
       "datasetInfos": [],
       "metadata": {},
       "removedWidgets": [],
       "type": "ansi"
      }
     },
     "output_type": "display_data"
    }
   ],
   "source": [
    "url_surtkey_view = spark.sql(\"SELECT COUNT(*), MONTH(fetch_time)  FROM url_surtkey WHERE url_surtkey like '%oracle%' and url_surtkey like '%database%' GROUP BY MONTH(fetch_time) ORDER BY MONTH(fetch_time) ASC\").show(truncate= False)"
   ]
  },
  {
   "cell_type": "code",
   "execution_count": 0,
   "metadata": {
    "application/vnd.databricks.v1+cell": {
     "inputWidgets": {},
     "nuid": "28190ee5-7481-4f58-910f-c494b6738529",
     "showTitle": false,
     "title": ""
    }
   },
   "outputs": [
    {
     "data": {
      "text/plain": [
       "+--------+-----------------+\n",
       "|count(1)|month(fetch_time)|\n",
       "+--------+-----------------+\n",
       "|4380    |5                |\n",
       "|1123    |6                |\n",
       "|9726    |12               |\n",
       "+--------+-----------------+\n",
       "\n"
      ]
     },
     "metadata": {
      "application/vnd.databricks.v1+output": {
       "addedWidgets": {},
       "arguments": {},
       "data": "+--------+-----------------+\n|count(1)|month(fetch_time)|\n+--------+-----------------+\n|4380    |5                |\n|1123    |6                |\n|9726    |12               |\n+--------+-----------------+\n\n",
       "datasetInfos": [],
       "metadata": {},
       "removedWidgets": [],
       "type": "ansi"
      }
     },
     "output_type": "display_data"
    }
   ],
   "source": [
    "url_surtkey_view = spark.sql(\"SELECT COUNT(*), MONTH(fetch_time)  FROM url_surtkey WHERE url_surtkey like '%microsoft%' and url_surtkey like '%sql%' and url_surtkey like '%server%' and url_surtkey like '%database%' GROUP BY  MONTH(fetch_time) ORDER BY MONTH(fetch_time) ASC\").show(truncate= False)"
   ]
  },
  {
   "cell_type": "code",
   "execution_count": 0,
   "metadata": {
    "application/vnd.databricks.v1+cell": {
     "inputWidgets": {},
     "nuid": "7c28c79c-2c09-4b15-ad3c-1bb0ece9dda5",
     "showTitle": false,
     "title": ""
    }
   },
   "outputs": [
    {
     "data": {
      "text/plain": [
       "+--------+-----------------+\n",
       "|count(1)|month(fetch_time)|\n",
       "+--------+-----------------+\n",
       "|3720    |5                |\n",
       "|932     |6                |\n",
       "|5355    |12               |\n",
       "+--------+-----------------+\n",
       "\n"
      ]
     },
     "metadata": {
      "application/vnd.databricks.v1+output": {
       "addedWidgets": {},
       "arguments": {},
       "data": "+--------+-----------------+\n|count(1)|month(fetch_time)|\n+--------+-----------------+\n|3720    |5                |\n|932     |6                |\n|5355    |12               |\n+--------+-----------------+\n\n",
       "datasetInfos": [],
       "metadata": {},
       "removedWidgets": [],
       "type": "ansi"
      }
     },
     "output_type": "display_data"
    }
   ],
   "source": [
    "url_surtkey_view = spark.sql(\"SELECT COUNT(*), MONTH(fetch_time)  FROM url_surtkey WHERE url_surtkey like '%postgresql%' and url_surtkey like '%database%' GROUP BY  MONTH(fetch_time) ORDER BY MONTH(fetch_time) ASC\").show(truncate= False)"
   ]
  },
  {
   "cell_type": "code",
   "execution_count": 0,
   "metadata": {
    "application/vnd.databricks.v1+cell": {
     "inputWidgets": {},
     "nuid": "bd80a0fc-dc24-403a-9ef6-7a44919393ff",
     "showTitle": false,
     "title": ""
    }
   },
   "outputs": [
    {
     "data": {
      "text/plain": [
       "+--------+-----------------+\n",
       "|count(1)|month(fetch_time)|\n",
       "+--------+-----------------+\n",
       "+--------+-----------------+\n",
       "\n"
      ]
     },
     "metadata": {
      "application/vnd.databricks.v1+output": {
       "addedWidgets": {},
       "arguments": {},
       "data": "+--------+-----------------+\n|count(1)|month(fetch_time)|\n+--------+-----------------+\n+--------+-----------------+\n\n",
       "datasetInfos": [],
       "metadata": {},
       "removedWidgets": [],
       "type": "ansi"
      }
     },
     "output_type": "display_data"
    }
   ],
   "source": [
    "url_surtkey_view = spark.sql(\"SELECT COUNT(*), MONTH(fetch_time)  FROM url_surtkey WHERE url_surtkey like '%clickhouse%' and url_surtkey like '%database%' GROUP BY  MONTH(fetch_time) ORDER BY MONTH(fetch_time) ASC\").show(truncate= False)"
   ]
  },
  {
   "cell_type": "code",
   "execution_count": 0,
   "metadata": {
    "application/vnd.databricks.v1+cell": {
     "inputWidgets": {},
     "nuid": "42e41aef-e0e9-49c7-89e0-3b4d90ff011e",
     "showTitle": false,
     "title": ""
    }
   },
   "outputs": [
    {
     "data": {
      "text/plain": [
       "+--------+-----------------+\n",
       "|count(1)|month(fetch_time)|\n",
       "+--------+-----------------+\n",
       "|146     |5                |\n",
       "|39      |6                |\n",
       "|281     |12               |\n",
       "+--------+-----------------+\n",
       "\n"
      ]
     },
     "metadata": {
      "application/vnd.databricks.v1+output": {
       "addedWidgets": {},
       "arguments": {},
       "data": "+--------+-----------------+\n|count(1)|month(fetch_time)|\n+--------+-----------------+\n|146     |5                |\n|39      |6                |\n|281     |12               |\n+--------+-----------------+\n\n",
       "datasetInfos": [],
       "metadata": {},
       "removedWidgets": [],
       "type": "ansi"
      }
     },
     "output_type": "display_data"
    }
   ],
   "source": [
    "url_surtkey_view = spark.sql(\"SELECT COUNT(*), MONTH(fetch_time)  FROM url_surtkey WHERE url_surtkey like '%spark%' and url_surtkey like '%database%' GROUP BY  MONTH(fetch_time) ORDER BY MONTH(fetch_time) ASC\").show(truncate= False)"
   ]
  },
  {
   "cell_type": "code",
   "execution_count": 0,
   "metadata": {
    "application/vnd.databricks.v1+cell": {
     "inputWidgets": {},
     "nuid": "cab57907-455d-4e24-bf81-e4b225e4a4e3",
     "showTitle": false,
     "title": ""
    }
   },
   "outputs": [
    {
     "data": {
      "text/plain": [
       "+--------+-----------------+\n",
       "|count(1)|month(fetch_time)|\n",
       "+--------+-----------------+\n",
       "|805     |5                |\n",
       "|187     |6                |\n",
       "|2856    |12               |\n",
       "+--------+-----------------+\n",
       "\n"
      ]
     },
     "metadata": {
      "application/vnd.databricks.v1+output": {
       "addedWidgets": {},
       "arguments": {},
       "data": "+--------+-----------------+\n|count(1)|month(fetch_time)|\n+--------+-----------------+\n|805     |5                |\n|187     |6                |\n|2856    |12               |\n+--------+-----------------+\n\n",
       "datasetInfos": [],
       "metadata": {},
       "removedWidgets": [],
       "type": "ansi"
      }
     },
     "output_type": "display_data"
    }
   ],
   "source": [
    "url_surtkey_view = spark.sql(\"SELECT COUNT(*), MONTH(fetch_time)  FROM url_surtkey WHERE url_surtkey like '%mongodb%' and url_surtkey like '%database%' GROUP BY  MONTH(fetch_time) ORDER BY MONTH(fetch_time) ASC\").show(truncate= False)"
   ]
  },
  {
   "cell_type": "code",
   "execution_count": 0,
   "metadata": {
    "application/vnd.databricks.v1+cell": {
     "inputWidgets": {},
     "nuid": "d47e3500-a564-4e4e-b339-fa058c03f66e",
     "showTitle": false,
     "title": ""
    }
   },
   "outputs": [
    {
     "data": {
      "text/plain": [
       "+--------+-----------------+\n",
       "|count(1)|month(fetch_time)|\n",
       "+--------+-----------------+\n",
       "+--------+-----------------+\n",
       "\n"
      ]
     },
     "metadata": {
      "application/vnd.databricks.v1+output": {
       "addedWidgets": {},
       "arguments": {},
       "data": "+--------+-----------------+\n|count(1)|month(fetch_time)|\n+--------+-----------------+\n+--------+-----------------+\n\n",
       "datasetInfos": [],
       "metadata": {},
       "removedWidgets": [],
       "type": "ansi"
      }
     },
     "output_type": "display_data"
    }
   ],
   "source": [
    "url_surtkey_view = spark.sql(\"SELECT COUNT(*), MONTH(fetch_time)  FROM url_surtkey WHERE url_surtkey like '%duckdb%' and url_surtkey like '%database%' GROUP BY  MONTH(fetch_time) ORDER BY MONTH(fetch_time) ASC\").show(truncate= False)"
   ]
  },
  {
   "cell_type": "code",
   "execution_count": 0,
   "metadata": {
    "application/vnd.databricks.v1+cell": {
     "inputWidgets": {},
     "nuid": "2c04ab0d-2b74-41ba-b3e9-1893536c7d59",
     "showTitle": false,
     "title": ""
    }
   },
   "outputs": [
    {
     "data": {
      "text/plain": [
       "+--------+-----------------+\n",
       "|count(1)|month(fetch_time)|\n",
       "+--------+-----------------+\n",
       "|23218   |5                |\n",
       "|5875    |6                |\n",
       "|38574   |12               |\n",
       "+--------+-----------------+\n",
       "\n"
      ]
     },
     "metadata": {
      "application/vnd.databricks.v1+output": {
       "addedWidgets": {},
       "arguments": {},
       "data": "+--------+-----------------+\n|count(1)|month(fetch_time)|\n+--------+-----------------+\n|23218   |5                |\n|5875    |6                |\n|38574   |12               |\n+--------+-----------------+\n\n",
       "datasetInfos": [],
       "metadata": {},
       "removedWidgets": [],
       "type": "ansi"
      }
     },
     "output_type": "display_data"
    }
   ],
   "source": [
    "url_surtkey_view = spark.sql(\"SELECT COUNT(*), MONTH(fetch_time)  FROM url_surtkey WHERE url_surtkey like '%mysql%' and url_surtkey like '%database%' GROUP BY  MONTH(fetch_time) ORDER BY MONTH(fetch_time) ASC\").show(truncate= False)"
   ]
  },
  {
   "cell_type": "code",
   "execution_count": 0,
   "metadata": {
    "application/vnd.databricks.v1+cell": {
     "inputWidgets": {},
     "nuid": "74e1881b-7f97-4015-aeb9-4cc3453a9e5c",
     "showTitle": false,
     "title": ""
    }
   },
   "outputs": [
    {
     "data": {
      "text/plain": [
       "+--------+-----------------+\n",
       "|count(1)|month(fetch_time)|\n",
       "+--------+-----------------+\n",
       "|87      |5                |\n",
       "|23      |6                |\n",
       "|140     |12               |\n",
       "+--------+-----------------+\n",
       "\n"
      ]
     },
     "metadata": {
      "application/vnd.databricks.v1+output": {
       "addedWidgets": {},
       "arguments": {},
       "data": "+--------+-----------------+\n|count(1)|month(fetch_time)|\n+--------+-----------------+\n|87      |5                |\n|23      |6                |\n|140     |12               |\n+--------+-----------------+\n\n",
       "datasetInfos": [],
       "metadata": {},
       "removedWidgets": [],
       "type": "ansi"
      }
     },
     "output_type": "display_data"
    }
   ],
   "source": [
    "url_surtkey_view = spark.sql(\"SELECT COUNT(*), MONTH(fetch_time)  FROM url_surtkey WHERE url_surtkey like '%mariadb%' and url_surtkey like '%database%' GROUP BY  MONTH(fetch_time) ORDER BY MONTH(fetch_time) ASC\").show(truncate= False)"
   ]
  },
  {
   "cell_type": "code",
   "execution_count": 0,
   "metadata": {
    "application/vnd.databricks.v1+cell": {
     "inputWidgets": {},
     "nuid": "c8fa4e6d-72d7-40c4-882c-af4b08219ded",
     "showTitle": false,
     "title": ""
    }
   },
   "outputs": [
    {
     "data": {
      "text/plain": [
       "+---------------------------------------------------------------------------+\n",
       "|url_surtkey                                                                |\n",
       "+---------------------------------------------------------------------------+\n",
       "|com,blogspot,pbokelly)/2010/08/facebook-gains-key-former-google.html       |\n",
       "|com,blogspot,sharonhr)/feeds/913351649167604882/comments/default           |\n",
       "|com,blogspot,pbokelly)/2010/08/facebook-google-square-off-on-wsjcom.html   |\n",
       "|com,blogspot,sharonhr)/feeds/9143121208705141622/comments/default          |\n",
       "|com,blogspot,pbokelly)/2010/08/facebook-places-location-based-service.html |\n",
       "|com,blogspot,sharonhr)/feeds/9153456235776292210/comments/default          |\n",
       "|com,blogspot,pbokelly)/2010/08/facebook-places-will-make-it-harder-to.html |\n",
       "|com,blogspot,sharonhr)/feeds/916878374215170611/comments/default           |\n",
       "|com,blogspot,pbokelly)/2010/08/facebook-posts-palin-doesn-want-you-to.html |\n",
       "|com,blogspot,sharonhr)/feeds/9177293230892454651/comments/default          |\n",
       "|com,blogspot,pbokelly)/2010/08/facebook-unveils-service-to-announce.html   |\n",
       "|com,blogspot,sharonhr)/feeds/9188634188695483954/comments/default          |\n",
       "|com,blogspot,pbokelly)/2010/08/facebook-who-what-when-and-nowwhere.html    |\n",
       "|com,blogspot,sharonhr)/feeds/9192448370724703810/comments/default          |\n",
       "|com,blogspot,pbokelly)/2010/08/fcc-chief-opposes-fees-for-internet.html    |\n",
       "|com,blogspot,sharonhr)/feeds/940080462513581566/comments/default           |\n",
       "|com,blogspot,pbokelly)/2010/08/for-fee-digital-dirt-can-be-buried.html     |\n",
       "|com,blogspot,sharonhr)/feeds/949871935077883689/comments/default           |\n",
       "|com,blogspot,pbokelly)/2010/08/for-scholars-web-changes-sacred-rite-of.html|\n",
       "|com,blogspot,sharonhr)/feeds/987251227377491081/comments/default           |\n",
       "+---------------------------------------------------------------------------+\n",
       "only showing top 20 rows\n",
       "\n"
      ]
     },
     "metadata": {
      "application/vnd.databricks.v1+output": {
       "addedWidgets": {},
       "arguments": {},
       "data": "+---------------------------------------------------------------------------+\n|url_surtkey                                                                |\n+---------------------------------------------------------------------------+\n|com,blogspot,pbokelly)/2010/08/facebook-gains-key-former-google.html       |\n|com,blogspot,sharonhr)/feeds/913351649167604882/comments/default           |\n|com,blogspot,pbokelly)/2010/08/facebook-google-square-off-on-wsjcom.html   |\n|com,blogspot,sharonhr)/feeds/9143121208705141622/comments/default          |\n|com,blogspot,pbokelly)/2010/08/facebook-places-location-based-service.html |\n|com,blogspot,sharonhr)/feeds/9153456235776292210/comments/default          |\n|com,blogspot,pbokelly)/2010/08/facebook-places-will-make-it-harder-to.html |\n|com,blogspot,sharonhr)/feeds/916878374215170611/comments/default           |\n|com,blogspot,pbokelly)/2010/08/facebook-posts-palin-doesn-want-you-to.html |\n|com,blogspot,sharonhr)/feeds/9177293230892454651/comments/default          |\n|com,blogspot,pbokelly)/2010/08/facebook-unveils-service-to-announce.html   |\n|com,blogspot,sharonhr)/feeds/9188634188695483954/comments/default          |\n|com,blogspot,pbokelly)/2010/08/facebook-who-what-when-and-nowwhere.html    |\n|com,blogspot,sharonhr)/feeds/9192448370724703810/comments/default          |\n|com,blogspot,pbokelly)/2010/08/fcc-chief-opposes-fees-for-internet.html    |\n|com,blogspot,sharonhr)/feeds/940080462513581566/comments/default           |\n|com,blogspot,pbokelly)/2010/08/for-fee-digital-dirt-can-be-buried.html     |\n|com,blogspot,sharonhr)/feeds/949871935077883689/comments/default           |\n|com,blogspot,pbokelly)/2010/08/for-scholars-web-changes-sacred-rite-of.html|\n|com,blogspot,sharonhr)/feeds/987251227377491081/comments/default           |\n+---------------------------------------------------------------------------+\nonly showing top 20 rows\n\n",
       "datasetInfos": [],
       "metadata": {},
       "removedWidgets": [],
       "type": "ansi"
      }
     },
     "output_type": "display_data"
    }
   ],
   "source": [
    "# 2016\n",
    "\n",
    "path = '/mnt/lsde/datasets/commoncrawl/cc-index/table/cc-main/warc/crawl=CC-MAIN-2016*/subset=warc'\n",
    "df = spark.read.parquet(path)\n",
    "df.createOrReplaceTempView(\"url_surtkey\")\n",
    "url_surtkey_view = spark.sql(\"SELECT url_surtkey FROM url_surtkey\").show(truncate= False)"
   ]
  },
  {
   "cell_type": "code",
   "execution_count": 0,
   "metadata": {
    "application/vnd.databricks.v1+cell": {
     "inputWidgets": {},
     "nuid": "30588b6a-a6c3-48c6-b10e-8e24364f9c08",
     "showTitle": false,
     "title": ""
    }
   },
   "outputs": [
    {
     "data": {
      "text/plain": [
       "+----------+-------------+\n",
       "|count(1)  |URIs_permonth|\n",
       "+----------+-------------+\n",
       "|1733285122|2            |\n",
       "|336674910 |4            |\n",
       "|2399912491|5            |\n",
       "|1063139381|6            |\n",
       "|1975678903|7            |\n",
       "|1559066199|8            |\n",
       "|1544280195|9            |\n",
       "|3485899820|10           |\n",
       "|2874631660|12           |\n",
       "+----------+-------------+\n",
       "\n"
      ]
     },
     "metadata": {
      "application/vnd.databricks.v1+output": {
       "addedWidgets": {},
       "arguments": {},
       "data": "+----------+-------------+\n|count(1)  |URIs_permonth|\n+----------+-------------+\n|1733285122|2            |\n|336674910 |4            |\n|2399912491|5            |\n|1063139381|6            |\n|1975678903|7            |\n|1559066199|8            |\n|1544280195|9            |\n|3485899820|10           |\n|2874631660|12           |\n+----------+-------------+\n\n",
       "datasetInfos": [],
       "metadata": {},
       "removedWidgets": [],
       "type": "ansi"
      }
     },
     "output_type": "display_data"
    }
   ],
   "source": [
    "url_surtkey_view = spark.sql(\"SELECT  COUNT(*), MONTH(fetch_time) AS URIs_permonth FROM url_surtkey GROUP BY  MONTH(fetch_time) ORDER BY MONTH(fetch_time) ASC\").show(truncate= False)"
   ]
  },
  {
   "cell_type": "code",
   "execution_count": 0,
   "metadata": {
    "application/vnd.databricks.v1+cell": {
     "inputWidgets": {},
     "nuid": "39d624f3-a031-45d9-9b60-454a0fc9239d",
     "showTitle": false,
     "title": ""
    }
   },
   "outputs": [
    {
     "data": {
      "text/plain": [
       "+--------+-----------------+\n",
       "|count(1)|month(fetch_time)|\n",
       "+--------+-----------------+\n",
       "|77698   |2                |\n",
       "|18722   |4                |\n",
       "|120616  |5                |\n",
       "|58246   |6                |\n",
       "|87455   |7                |\n",
       "|66564   |8                |\n",
       "|63313   |9                |\n",
       "|126556  |10               |\n",
       "|81818   |12               |\n",
       "+--------+-----------------+\n",
       "\n"
      ]
     },
     "metadata": {
      "application/vnd.databricks.v1+output": {
       "addedWidgets": {},
       "arguments": {},
       "data": "+--------+-----------------+\n|count(1)|month(fetch_time)|\n+--------+-----------------+\n|77698   |2                |\n|18722   |4                |\n|120616  |5                |\n|58246   |6                |\n|87455   |7                |\n|66564   |8                |\n|63313   |9                |\n|126556  |10               |\n|81818   |12               |\n+--------+-----------------+\n\n",
       "datasetInfos": [],
       "metadata": {},
       "removedWidgets": [],
       "type": "ansi"
      }
     },
     "output_type": "display_data"
    }
   ],
   "source": [
    "url_surtkey_view = spark.sql(\"SELECT COUNT(*), MONTH(fetch_time)  FROM url_surtkey WHERE url_surtkey like '%oracle%' and url_surtkey like '%database%' GROUP BY MONTH(fetch_time) ORDER BY MONTH(fetch_time) ASC\").show(truncate= False)"
   ]
  },
  {
   "cell_type": "code",
   "execution_count": 0,
   "metadata": {
    "application/vnd.databricks.v1+cell": {
     "inputWidgets": {},
     "nuid": "da32cdf2-0f64-4120-8a46-40d79fee519c",
     "showTitle": false,
     "title": ""
    }
   },
   "outputs": [
    {
     "data": {
      "text/plain": [
       "+--------+-----------------+\n",
       "|count(1)|month(fetch_time)|\n",
       "+--------+-----------------+\n",
       "|5430    |2                |\n",
       "|956     |4                |\n",
       "|5720    |5                |\n",
       "|1014    |6                |\n",
       "|5302    |7                |\n",
       "|4111    |8                |\n",
       "|4278    |9                |\n",
       "|7648    |10               |\n",
       "|5350    |12               |\n",
       "+--------+-----------------+\n",
       "\n"
      ]
     },
     "metadata": {
      "application/vnd.databricks.v1+output": {
       "addedWidgets": {},
       "arguments": {},
       "data": "+--------+-----------------+\n|count(1)|month(fetch_time)|\n+--------+-----------------+\n|5430    |2                |\n|956     |4                |\n|5720    |5                |\n|1014    |6                |\n|5302    |7                |\n|4111    |8                |\n|4278    |9                |\n|7648    |10               |\n|5350    |12               |\n+--------+-----------------+\n\n",
       "datasetInfos": [],
       "metadata": {},
       "removedWidgets": [],
       "type": "ansi"
      }
     },
     "output_type": "display_data"
    }
   ],
   "source": [
    "url_surtkey_view = spark.sql(\"SELECT COUNT(*), MONTH(fetch_time)  FROM url_surtkey WHERE url_surtkey like '%microsoft%' and url_surtkey like '%sql%' and url_surtkey like '%server%' and url_surtkey like '%database%' GROUP BY  MONTH(fetch_time) ORDER BY MONTH(fetch_time) ASC\").show(truncate= False)"
   ]
  },
  {
   "cell_type": "code",
   "execution_count": 0,
   "metadata": {
    "application/vnd.databricks.v1+cell": {
     "inputWidgets": {},
     "nuid": "46f86965-4858-4662-8a60-ac6d418a3fa3",
     "showTitle": false,
     "title": ""
    }
   },
   "outputs": [
    {
     "data": {
      "text/plain": [
       "+--------+-----------------+\n",
       "|count(1)|month(fetch_time)|\n",
       "+--------+-----------------+\n",
       "|5964    |2                |\n",
       "|1206    |4                |\n",
       "|6656    |5                |\n",
       "|2691    |6                |\n",
       "|4759    |7                |\n",
       "|3618    |8                |\n",
       "|3376    |9                |\n",
       "|5370    |10               |\n",
       "|4377    |12               |\n",
       "+--------+-----------------+\n",
       "\n"
      ]
     },
     "metadata": {
      "application/vnd.databricks.v1+output": {
       "addedWidgets": {},
       "arguments": {},
       "data": "+--------+-----------------+\n|count(1)|month(fetch_time)|\n+--------+-----------------+\n|5964    |2                |\n|1206    |4                |\n|6656    |5                |\n|2691    |6                |\n|4759    |7                |\n|3618    |8                |\n|3376    |9                |\n|5370    |10               |\n|4377    |12               |\n+--------+-----------------+\n\n",
       "datasetInfos": [],
       "metadata": {},
       "removedWidgets": [],
       "type": "ansi"
      }
     },
     "output_type": "display_data"
    }
   ],
   "source": [
    "url_surtkey_view = spark.sql(\"SELECT COUNT(*), MONTH(fetch_time)  FROM url_surtkey WHERE url_surtkey like '%postgresql%' and url_surtkey like '%database%' GROUP BY  MONTH(fetch_time) ORDER BY MONTH(fetch_time) ASC\").show(truncate= False)"
   ]
  },
  {
   "cell_type": "code",
   "execution_count": 0,
   "metadata": {
    "application/vnd.databricks.v1+cell": {
     "inputWidgets": {},
     "nuid": "8e10484e-b60d-4c36-8cc1-556a22c842c6",
     "showTitle": false,
     "title": ""
    }
   },
   "outputs": [
    {
     "data": {
      "text/plain": [
       "+--------+-----------------+\n",
       "|count(1)|month(fetch_time)|\n",
       "+--------+-----------------+\n",
       "|1       |12               |\n",
       "+--------+-----------------+\n",
       "\n"
      ]
     },
     "metadata": {
      "application/vnd.databricks.v1+output": {
       "addedWidgets": {},
       "arguments": {},
       "data": "+--------+-----------------+\n|count(1)|month(fetch_time)|\n+--------+-----------------+\n|1       |12               |\n+--------+-----------------+\n\n",
       "datasetInfos": [],
       "metadata": {},
       "removedWidgets": [],
       "type": "ansi"
      }
     },
     "output_type": "display_data"
    }
   ],
   "source": [
    "url_surtkey_view = spark.sql(\"SELECT COUNT(*), MONTH(fetch_time)  FROM url_surtkey WHERE url_surtkey like '%clickhouse%' and url_surtkey like '%database%' GROUP BY  MONTH(fetch_time) ORDER BY MONTH(fetch_time) ASC\").show(truncate= False)"
   ]
  },
  {
   "cell_type": "code",
   "execution_count": 0,
   "metadata": {
    "application/vnd.databricks.v1+cell": {
     "inputWidgets": {},
     "nuid": "80a04447-fbe4-4419-9181-2b79d7de2251",
     "showTitle": false,
     "title": ""
    }
   },
   "outputs": [
    {
     "data": {
      "text/plain": [
       "+--------+-----------------+\n",
       "|count(1)|month(fetch_time)|\n",
       "+--------+-----------------+\n",
       "|224     |2                |\n",
       "|56      |4                |\n",
       "|319     |5                |\n",
       "|120     |6                |\n",
       "|249     |7                |\n",
       "|200     |8                |\n",
       "|233     |9                |\n",
       "|2040    |10               |\n",
       "|710     |12               |\n",
       "+--------+-----------------+\n",
       "\n"
      ]
     },
     "metadata": {
      "application/vnd.databricks.v1+output": {
       "addedWidgets": {},
       "arguments": {},
       "data": "+--------+-----------------+\n|count(1)|month(fetch_time)|\n+--------+-----------------+\n|224     |2                |\n|56      |4                |\n|319     |5                |\n|120     |6                |\n|249     |7                |\n|200     |8                |\n|233     |9                |\n|2040    |10               |\n|710     |12               |\n+--------+-----------------+\n\n",
       "datasetInfos": [],
       "metadata": {},
       "removedWidgets": [],
       "type": "ansi"
      }
     },
     "output_type": "display_data"
    }
   ],
   "source": [
    "url_surtkey_view = spark.sql(\"SELECT COUNT(*), MONTH(fetch_time)  FROM url_surtkey WHERE url_surtkey like '%spark%' and url_surtkey like '%database%' GROUP BY  MONTH(fetch_time) ORDER BY MONTH(fetch_time) ASC\").show(truncate= False)"
   ]
  },
  {
   "cell_type": "code",
   "execution_count": 0,
   "metadata": {
    "application/vnd.databricks.v1+cell": {
     "inputWidgets": {},
     "nuid": "4e3298de-d5cd-4df1-aa35-d8a44cc284f1",
     "showTitle": false,
     "title": ""
    }
   },
   "outputs": [
    {
     "data": {
      "text/plain": [
       "+--------+-----------------+\n",
       "|count(1)|month(fetch_time)|\n",
       "+--------+-----------------+\n",
       "|2971    |2                |\n",
       "|411     |4                |\n",
       "|3501    |5                |\n",
       "|1511    |6                |\n",
       "|3066    |7                |\n",
       "|2075    |8                |\n",
       "|1815    |9                |\n",
       "|2562    |10               |\n",
       "|2213    |12               |\n",
       "+--------+-----------------+\n",
       "\n"
      ]
     },
     "metadata": {
      "application/vnd.databricks.v1+output": {
       "addedWidgets": {},
       "arguments": {},
       "data": "+--------+-----------------+\n|count(1)|month(fetch_time)|\n+--------+-----------------+\n|2971    |2                |\n|411     |4                |\n|3501    |5                |\n|1511    |6                |\n|3066    |7                |\n|2075    |8                |\n|1815    |9                |\n|2562    |10               |\n|2213    |12               |\n+--------+-----------------+\n\n",
       "datasetInfos": [],
       "metadata": {},
       "removedWidgets": [],
       "type": "ansi"
      }
     },
     "output_type": "display_data"
    }
   ],
   "source": [
    "url_surtkey_view = spark.sql(\"SELECT COUNT(*), MONTH(fetch_time)  FROM url_surtkey WHERE url_surtkey like '%mongodb%' and url_surtkey like '%database%' GROUP BY  MONTH(fetch_time) ORDER BY MONTH(fetch_time) ASC\").show(truncate= False)"
   ]
  },
  {
   "cell_type": "code",
   "execution_count": 0,
   "metadata": {
    "application/vnd.databricks.v1+cell": {
     "inputWidgets": {},
     "nuid": "b1588c7c-3f10-43cb-a054-258261800722",
     "showTitle": false,
     "title": ""
    }
   },
   "outputs": [
    {
     "data": {
      "text/html": [
       "<style scoped>\n",
       "  .ansiout {\n",
       "    display: block;\n",
       "    unicode-bidi: embed;\n",
       "    white-space: pre-wrap;\n",
       "    word-wrap: break-word;\n",
       "    word-break: break-all;\n",
       "    font-family: \"Source Code Pro\", \"Menlo\", monospace;;\n",
       "    font-size: 13px;\n",
       "    color: #555;\n",
       "    margin-left: 4px;\n",
       "    line-height: 19px;\n",
       "  }\n",
       "</style>"
      ]
     },
     "metadata": {
      "application/vnd.databricks.v1+output": {
       "arguments": {},
       "data": "",
       "errorSummary": "Cancelled",
       "errorTraceType": "html",
       "metadata": {},
       "type": "ipynbError"
      }
     },
     "output_type": "display_data"
    }
   ],
   "source": [
    "url_surtkey_view = spark.sql(\"SELECT COUNT(*), MONTH(fetch_time)  FROM url_surtkey WHERE url_surtkey like '%duckdb%' and url_surtkey like '%database%' GROUP BY  MONTH(fetch_time) ORDER BY MONTH(fetch_time) ASC\").show(truncate= False)"
   ]
  },
  {
   "cell_type": "code",
   "execution_count": 0,
   "metadata": {
    "application/vnd.databricks.v1+cell": {
     "inputWidgets": {},
     "nuid": "957bdc98-2bfd-4b4a-84cf-ba4a3b7558e0",
     "showTitle": false,
     "title": ""
    }
   },
   "outputs": [
    {
     "data": {
      "text/plain": [
       "+--------+-----------------+\n",
       "|count(1)|month(fetch_time)|\n",
       "+--------+-----------------+\n",
       "|31769   |2                |\n",
       "|5599    |4                |\n",
       "|29708   |5                |\n",
       "|11135   |6                |\n",
       "|21630   |7                |\n",
       "|15969   |8                |\n",
       "|15395   |9                |\n",
       "|29044   |10               |\n",
       "|24714   |12               |\n",
       "+--------+-----------------+\n",
       "\n"
      ]
     },
     "metadata": {
      "application/vnd.databricks.v1+output": {
       "addedWidgets": {},
       "arguments": {},
       "data": "+--------+-----------------+\n|count(1)|month(fetch_time)|\n+--------+-----------------+\n|31769   |2                |\n|5599    |4                |\n|29708   |5                |\n|11135   |6                |\n|21630   |7                |\n|15969   |8                |\n|15395   |9                |\n|29044   |10               |\n|24714   |12               |\n+--------+-----------------+\n\n",
       "datasetInfos": [],
       "metadata": {},
       "removedWidgets": [],
       "type": "ansi"
      }
     },
     "output_type": "display_data"
    }
   ],
   "source": [
    "url_surtkey_view = spark.sql(\"SELECT COUNT(*), MONTH(fetch_time)  FROM url_surtkey WHERE url_surtkey like '%mysql%' and url_surtkey like '%database%' GROUP BY  MONTH(fetch_time) ORDER BY MONTH(fetch_time) ASC\").show(truncate= False)"
   ]
  },
  {
   "cell_type": "code",
   "execution_count": 0,
   "metadata": {
    "application/vnd.databricks.v1+cell": {
     "inputWidgets": {},
     "nuid": "00c11d2e-3700-4406-abf5-b6ff14d84efb",
     "showTitle": false,
     "title": ""
    }
   },
   "outputs": [
    {
     "data": {
      "text/plain": [
       "+--------+-----------------+\n",
       "|count(1)|month(fetch_time)|\n",
       "+--------+-----------------+\n",
       "|184     |2                |\n",
       "|38      |4                |\n",
       "|270     |5                |\n",
       "|94      |6                |\n",
       "|209     |7                |\n",
       "|169     |8                |\n",
       "|189     |9                |\n",
       "|299     |10               |\n",
       "|274     |12               |\n",
       "+--------+-----------------+\n",
       "\n"
      ]
     },
     "metadata": {
      "application/vnd.databricks.v1+output": {
       "addedWidgets": {},
       "arguments": {},
       "data": "+--------+-----------------+\n|count(1)|month(fetch_time)|\n+--------+-----------------+\n|184     |2                |\n|38      |4                |\n|270     |5                |\n|94      |6                |\n|209     |7                |\n|169     |8                |\n|189     |9                |\n|299     |10               |\n|274     |12               |\n+--------+-----------------+\n\n",
       "datasetInfos": [],
       "metadata": {},
       "removedWidgets": [],
       "type": "ansi"
      }
     },
     "output_type": "display_data"
    }
   ],
   "source": [
    "url_surtkey_view = spark.sql(\"SELECT COUNT(*), MONTH(fetch_time)  FROM url_surtkey WHERE url_surtkey like '%mariadb%' and url_surtkey like '%database%' GROUP BY  MONTH(fetch_time) ORDER BY MONTH(fetch_time) ASC\").show(truncate= False)"
   ]
  },
  {
   "cell_type": "code",
   "execution_count": 0,
   "metadata": {
    "application/vnd.databricks.v1+cell": {
     "inputWidgets": {},
     "nuid": "1107ea4b-785d-4039-b233-9763424ca743",
     "showTitle": false,
     "title": ""
    }
   },
   "outputs": [
    {
     "data": {
      "text/plain": [
       "+--------------------------------------------------------------------------------------------------------------------------------------+\n",
       "|url_surtkey                                                                                                                           |\n",
       "+--------------------------------------------------------------------------------------------------------------------------------------+\n",
       "|com,koinecommerce)/es/igp-pimiento-asado-del-bierzo/104-mermelada-pimientos-asados.html                                               |\n",
       "|com,kvedomosti)/1162175-na-rabote-pisal-kartiny-izvestnyy-dissident-obyasnil-razocharovanie-ukraincev-v-yuschenko.html                |\n",
       "|com,koinecommerce)/es/info/3-condiciones-generales                                                                                    |\n",
       "|com,kvedomosti)/1162177-stalo-izvestno-v-chem-boeviki-dnr-obvinyayut-doneckogo-blogera-vasina.html                                    |\n",
       "|com,koinecommerce)/es/jaen/335-alba-urgavo-premium.html                                                                               |\n",
       "|com,kvedomosti)/1162178-bandera-zdes-ne-zhil-zachem-bylo-draznit-gluzman-obyasnil-pochemu-vlasti-ukrainy-ustroili-dekommunizaciyu.html|\n",
       "|com,koinecommerce)/es/jamones-y-paletas/80-paleta-iberica-cebo-de-campo.html                                                          |\n",
       "|com,kvedomosti)/1162179-v-avstralii-sdelali-vazhnoe-zayavlenie-po-sudu-nad-vinovnymi-v-katastrofe-mh17.html                           |\n",
       "|com,koinecommerce)/es/licores-de-el-bierzo/106-cerezas-en-aguardiente.html                                                            |\n",
       "|com,kvedomosti)/1162180-budet-strashno-poyavilsya-svezhiy-prognoz-po-tretemu-maydanu-v-ukraine.html                                   |\n",
       "|com,koinecommerce)/es/licores-de-el-bierzo/112-orujo-del-bierzo.html                                                                  |\n",
       "|com,kvedomosti)/1162182-viking-nachala-prodazhi-ssd-nakopiteley-obemom-50-tb.html                                                     |\n",
       "|com,koinecommerce)/es/licores-de-el-bierzo/113-crema-de-orujo.html                                                                    |\n",
       "|com,kvedomosti)/1162183-zhurnalist-rasskazala-pochemu-reshila-pereyti-na-iphone-posle-10-let-na-android.html                          |\n",
       "|com,koinecommerce)/es/licores-de-el-bierzo/115-licor-de-miel.html                                                                     |\n",
       "|com,kvedomosti)/1162188-uchenye-dva-banana-v-den-pomogut-izbezhat-razvitiya-strashnyh-zabolevaniy.html                                |\n",
       "|com,koinecommerce)/es/licores-de-el-bierzo/117-licor-de-madronos.html                                                                 |\n",
       "|com,kvedomosti)/1162192-stalkery-prodemonstrirovali-mesto-zahoroneniya-kosmicheskih-korabley.html                                     |\n",
       "|com,koinecommerce)/es/licores-de-el-bierzo/118-licor-de-arandanos.html                                                                |\n",
       "|com,kvedomosti)/1162196-uchenye-nashli-novyy-metod-lecheniya-alkogolizma.html                                                         |\n",
       "+--------------------------------------------------------------------------------------------------------------------------------------+\n",
       "only showing top 20 rows\n",
       "\n"
      ]
     },
     "metadata": {
      "application/vnd.databricks.v1+output": {
       "addedWidgets": {},
       "arguments": {},
       "data": "+--------------------------------------------------------------------------------------------------------------------------------------+\n|url_surtkey                                                                                                                           |\n+--------------------------------------------------------------------------------------------------------------------------------------+\n|com,koinecommerce)/es/igp-pimiento-asado-del-bierzo/104-mermelada-pimientos-asados.html                                               |\n|com,kvedomosti)/1162175-na-rabote-pisal-kartiny-izvestnyy-dissident-obyasnil-razocharovanie-ukraincev-v-yuschenko.html                |\n|com,koinecommerce)/es/info/3-condiciones-generales                                                                                    |\n|com,kvedomosti)/1162177-stalo-izvestno-v-chem-boeviki-dnr-obvinyayut-doneckogo-blogera-vasina.html                                    |\n|com,koinecommerce)/es/jaen/335-alba-urgavo-premium.html                                                                               |\n|com,kvedomosti)/1162178-bandera-zdes-ne-zhil-zachem-bylo-draznit-gluzman-obyasnil-pochemu-vlasti-ukrainy-ustroili-dekommunizaciyu.html|\n|com,koinecommerce)/es/jamones-y-paletas/80-paleta-iberica-cebo-de-campo.html                                                          |\n|com,kvedomosti)/1162179-v-avstralii-sdelali-vazhnoe-zayavlenie-po-sudu-nad-vinovnymi-v-katastrofe-mh17.html                           |\n|com,koinecommerce)/es/licores-de-el-bierzo/106-cerezas-en-aguardiente.html                                                            |\n|com,kvedomosti)/1162180-budet-strashno-poyavilsya-svezhiy-prognoz-po-tretemu-maydanu-v-ukraine.html                                   |\n|com,koinecommerce)/es/licores-de-el-bierzo/112-orujo-del-bierzo.html                                                                  |\n|com,kvedomosti)/1162182-viking-nachala-prodazhi-ssd-nakopiteley-obemom-50-tb.html                                                     |\n|com,koinecommerce)/es/licores-de-el-bierzo/113-crema-de-orujo.html                                                                    |\n|com,kvedomosti)/1162183-zhurnalist-rasskazala-pochemu-reshila-pereyti-na-iphone-posle-10-let-na-android.html                          |\n|com,koinecommerce)/es/licores-de-el-bierzo/115-licor-de-miel.html                                                                     |\n|com,kvedomosti)/1162188-uchenye-dva-banana-v-den-pomogut-izbezhat-razvitiya-strashnyh-zabolevaniy.html                                |\n|com,koinecommerce)/es/licores-de-el-bierzo/117-licor-de-madronos.html                                                                 |\n|com,kvedomosti)/1162192-stalkery-prodemonstrirovali-mesto-zahoroneniya-kosmicheskih-korabley.html                                     |\n|com,koinecommerce)/es/licores-de-el-bierzo/118-licor-de-arandanos.html                                                                |\n|com,kvedomosti)/1162196-uchenye-nashli-novyy-metod-lecheniya-alkogolizma.html                                                         |\n+--------------------------------------------------------------------------------------------------------------------------------------+\nonly showing top 20 rows\n\n",
       "datasetInfos": [],
       "metadata": {},
       "removedWidgets": [],
       "type": "ansi"
      }
     },
     "output_type": "display_data"
    }
   ],
   "source": [
    "# 2017\n",
    "\n",
    "path = '/mnt/lsde/datasets/commoncrawl/cc-index/table/cc-main/warc/crawl=CC-MAIN-2017*/subset=warc'\n",
    "df = spark.read.parquet(path)\n",
    "df.createOrReplaceTempView(\"url_surtkey\")\n",
    "url_surtkey_view = spark.sql(\"SELECT url_surtkey FROM url_surtkey\").show(truncate= False)"
   ]
  },
  {
   "cell_type": "code",
   "execution_count": 0,
   "metadata": {
    "application/vnd.databricks.v1+cell": {
     "inputWidgets": {},
     "nuid": "0cd4cc70-3cc3-431b-b689-7dd17ef5db58",
     "showTitle": false,
     "title": ""
    }
   },
   "outputs": [
    {
     "data": {
      "text/plain": [
       "+----------+-------------+\n",
       "|count(1)  |URIs_permonth|\n",
       "+----------+-------------+\n",
       "|3146467312|1            |\n",
       "|3022917519|2            |\n",
       "|3131911410|3            |\n",
       "|2825107957|4            |\n",
       "|3084946153|5            |\n",
       "|3165214086|6            |\n",
       "|2892213652|7            |\n",
       "|3280080910|8            |\n",
       "|3017180563|9            |\n",
       "|3650430218|10           |\n",
       "|3204943573|11           |\n",
       "|2914004423|12           |\n",
       "+----------+-------------+\n",
       "\n"
      ]
     },
     "metadata": {
      "application/vnd.databricks.v1+output": {
       "addedWidgets": {},
       "arguments": {},
       "data": "+----------+-------------+\n|count(1)  |URIs_permonth|\n+----------+-------------+\n|3146467312|1            |\n|3022917519|2            |\n|3131911410|3            |\n|2825107957|4            |\n|3084946153|5            |\n|3165214086|6            |\n|2892213652|7            |\n|3280080910|8            |\n|3017180563|9            |\n|3650430218|10           |\n|3204943573|11           |\n|2914004423|12           |\n+----------+-------------+\n\n",
       "datasetInfos": [],
       "metadata": {},
       "removedWidgets": [],
       "type": "ansi"
      }
     },
     "output_type": "display_data"
    }
   ],
   "source": [
    "url_surtkey_view = spark.sql(\"SELECT  COUNT(*), MONTH(fetch_time) AS URIs_permonth FROM url_surtkey GROUP BY  MONTH(fetch_time) ORDER BY MONTH(fetch_time) ASC\").show(truncate= False)"
   ]
  },
  {
   "cell_type": "code",
   "execution_count": 0,
   "metadata": {
    "application/vnd.databricks.v1+cell": {
     "inputWidgets": {},
     "nuid": "50ec8493-c3fa-4fa7-84d7-d733d7145f02",
     "showTitle": false,
     "title": ""
    }
   },
   "outputs": [
    {
     "data": {
      "text/plain": [
       "+--------+-----------------+\n",
       "|count(1)|month(fetch_time)|\n",
       "+--------+-----------------+\n",
       "|82238   |1                |\n",
       "|39505   |2                |\n",
       "|37602   |3                |\n",
       "|72992   |4                |\n",
       "|35077   |5                |\n",
       "|34849   |6                |\n",
       "|73592   |7                |\n",
       "|60134   |8                |\n",
       "|39843   |9                |\n",
       "|43389   |10               |\n",
       "|36844   |11               |\n",
       "|63213   |12               |\n",
       "+--------+-----------------+\n",
       "\n"
      ]
     },
     "metadata": {
      "application/vnd.databricks.v1+output": {
       "addedWidgets": {},
       "arguments": {},
       "data": "+--------+-----------------+\n|count(1)|month(fetch_time)|\n+--------+-----------------+\n|82238   |1                |\n|39505   |2                |\n|37602   |3                |\n|72992   |4                |\n|35077   |5                |\n|34849   |6                |\n|73592   |7                |\n|60134   |8                |\n|39843   |9                |\n|43389   |10               |\n|36844   |11               |\n|63213   |12               |\n+--------+-----------------+\n\n",
       "datasetInfos": [],
       "metadata": {},
       "removedWidgets": [],
       "type": "ansi"
      }
     },
     "output_type": "display_data"
    }
   ],
   "source": [
    "url_surtkey_view = spark.sql(\"SELECT COUNT(*), MONTH(fetch_time)  FROM url_surtkey WHERE url_surtkey like '%oracle%' and url_surtkey like '%database%' GROUP BY MONTH(fetch_time) ORDER BY MONTH(fetch_time) ASC\").show(truncate= False)"
   ]
  },
  {
   "cell_type": "code",
   "execution_count": 0,
   "metadata": {
    "application/vnd.databricks.v1+cell": {
     "inputWidgets": {},
     "nuid": "cea0d58f-8016-4967-8d36-abc580919083",
     "showTitle": false,
     "title": ""
    }
   },
   "outputs": [
    {
     "data": {
      "text/plain": [
       "+--------+-----------------+\n",
       "|count(1)|month(fetch_time)|\n",
       "+--------+-----------------+\n",
       "|5679    |1                |\n",
       "|6935    |2                |\n",
       "|7674    |3                |\n",
       "|6434    |4                |\n",
       "|9270    |5                |\n",
       "|7408    |6                |\n",
       "|7197    |7                |\n",
       "|8204    |8                |\n",
       "|6960    |9                |\n",
       "|8739    |10               |\n",
       "|5991    |11               |\n",
       "|6777    |12               |\n",
       "+--------+-----------------+\n",
       "\n"
      ]
     },
     "metadata": {
      "application/vnd.databricks.v1+output": {
       "addedWidgets": {},
       "arguments": {},
       "data": "+--------+-----------------+\n|count(1)|month(fetch_time)|\n+--------+-----------------+\n|5679    |1                |\n|6935    |2                |\n|7674    |3                |\n|6434    |4                |\n|9270    |5                |\n|7408    |6                |\n|7197    |7                |\n|8204    |8                |\n|6960    |9                |\n|8739    |10               |\n|5991    |11               |\n|6777    |12               |\n+--------+-----------------+\n\n",
       "datasetInfos": [],
       "metadata": {},
       "removedWidgets": [],
       "type": "ansi"
      }
     },
     "output_type": "display_data"
    }
   ],
   "source": [
    "url_surtkey_view = spark.sql(\"SELECT COUNT(*), MONTH(fetch_time)  FROM url_surtkey WHERE url_surtkey like '%microsoft%' and url_surtkey like '%sql%' and url_surtkey like '%server%' and url_surtkey like '%database%' GROUP BY  MONTH(fetch_time) ORDER BY MONTH(fetch_time) ASC\").show(truncate= False)"
   ]
  },
  {
   "cell_type": "code",
   "execution_count": 0,
   "metadata": {
    "application/vnd.databricks.v1+cell": {
     "inputWidgets": {},
     "nuid": "5e18de80-0337-4225-8fc8-9f6a1d94cbcc",
     "showTitle": false,
     "title": ""
    }
   },
   "outputs": [
    {
     "data": {
      "text/plain": [
       "+--------+-----------------+\n",
       "|count(1)|month(fetch_time)|\n",
       "+--------+-----------------+\n",
       "|4532    |1                |\n",
       "|3753    |2                |\n",
       "|3816    |3                |\n",
       "|4020    |4                |\n",
       "|3582    |5                |\n",
       "|3235    |6                |\n",
       "|4194    |7                |\n",
       "|3053    |8                |\n",
       "|3074    |9                |\n",
       "|3671    |10               |\n",
       "|3235    |11               |\n",
       "|2657    |12               |\n",
       "+--------+-----------------+\n",
       "\n"
      ]
     },
     "metadata": {
      "application/vnd.databricks.v1+output": {
       "addedWidgets": {},
       "arguments": {},
       "data": "+--------+-----------------+\n|count(1)|month(fetch_time)|\n+--------+-----------------+\n|4532    |1                |\n|3753    |2                |\n|3816    |3                |\n|4020    |4                |\n|3582    |5                |\n|3235    |6                |\n|4194    |7                |\n|3053    |8                |\n|3074    |9                |\n|3671    |10               |\n|3235    |11               |\n|2657    |12               |\n+--------+-----------------+\n\n",
       "datasetInfos": [],
       "metadata": {},
       "removedWidgets": [],
       "type": "ansi"
      }
     },
     "output_type": "display_data"
    }
   ],
   "source": [
    "url_surtkey_view = spark.sql(\"SELECT COUNT(*), MONTH(fetch_time)  FROM url_surtkey WHERE url_surtkey like '%postgresql%' and url_surtkey like '%database%' GROUP BY  MONTH(fetch_time) ORDER BY MONTH(fetch_time) ASC\").show(truncate= False)"
   ]
  },
  {
   "cell_type": "code",
   "execution_count": 0,
   "metadata": {
    "application/vnd.databricks.v1+cell": {
     "inputWidgets": {},
     "nuid": "a3d682a4-a277-45b4-836c-34a6060eb22b",
     "showTitle": false,
     "title": ""
    }
   },
   "outputs": [
    {
     "data": {
      "text/plain": [
       "+--------+-----------------+\n",
       "|count(1)|month(fetch_time)|\n",
       "+--------+-----------------+\n",
       "|1       |1                |\n",
       "|3       |2                |\n",
       "|7       |3                |\n",
       "|5       |4                |\n",
       "|6       |5                |\n",
       "|5       |6                |\n",
       "|3       |7                |\n",
       "|13      |8                |\n",
       "|3       |9                |\n",
       "|12      |10               |\n",
       "|7       |11               |\n",
       "|14      |12               |\n",
       "+--------+-----------------+\n",
       "\n"
      ]
     },
     "metadata": {
      "application/vnd.databricks.v1+output": {
       "addedWidgets": {},
       "arguments": {},
       "data": "+--------+-----------------+\n|count(1)|month(fetch_time)|\n+--------+-----------------+\n|1       |1                |\n|3       |2                |\n|7       |3                |\n|5       |4                |\n|6       |5                |\n|5       |6                |\n|3       |7                |\n|13      |8                |\n|3       |9                |\n|12      |10               |\n|7       |11               |\n|14      |12               |\n+--------+-----------------+\n\n",
       "datasetInfos": [],
       "metadata": {},
       "removedWidgets": [],
       "type": "ansi"
      }
     },
     "output_type": "display_data"
    }
   ],
   "source": [
    "url_surtkey_view = spark.sql(\"SELECT COUNT(*), MONTH(fetch_time)  FROM url_surtkey WHERE url_surtkey like '%clickhouse%' and url_surtkey like '%database%' GROUP BY  MONTH(fetch_time) ORDER BY MONTH(fetch_time) ASC\").show(truncate= False)\n"
   ]
  },
  {
   "cell_type": "code",
   "execution_count": 0,
   "metadata": {
    "application/vnd.databricks.v1+cell": {
     "inputWidgets": {},
     "nuid": "e0e6add6-daed-4c5c-92be-804fcb227077",
     "showTitle": false,
     "title": ""
    }
   },
   "outputs": [
    {
     "data": {
      "text/plain": [
       "+--------+-----------------+\n",
       "|count(1)|month(fetch_time)|\n",
       "+--------+-----------------+\n",
       "|1971    |1                |\n",
       "|701     |2                |\n",
       "|1931    |3                |\n",
       "|564     |4                |\n",
       "|1868    |5                |\n",
       "|605     |6                |\n",
       "|1789    |7                |\n",
       "|580     |8                |\n",
       "|970     |9                |\n",
       "|1381    |10               |\n",
       "|579     |11               |\n",
       "|868     |12               |\n",
       "+--------+-----------------+\n",
       "\n"
      ]
     },
     "metadata": {
      "application/vnd.databricks.v1+output": {
       "addedWidgets": {},
       "arguments": {},
       "data": "+--------+-----------------+\n|count(1)|month(fetch_time)|\n+--------+-----------------+\n|1971    |1                |\n|701     |2                |\n|1931    |3                |\n|564     |4                |\n|1868    |5                |\n|605     |6                |\n|1789    |7                |\n|580     |8                |\n|970     |9                |\n|1381    |10               |\n|579     |11               |\n|868     |12               |\n+--------+-----------------+\n\n",
       "datasetInfos": [],
       "metadata": {},
       "removedWidgets": [],
       "type": "ansi"
      }
     },
     "output_type": "display_data"
    }
   ],
   "source": [
    "url_surtkey_view = spark.sql(\"SELECT COUNT(*), MONTH(fetch_time)  FROM url_surtkey WHERE url_surtkey like '%spark%' and url_surtkey like '%database%' GROUP BY  MONTH(fetch_time) ORDER BY MONTH(fetch_time) ASC\").show(truncate= False)"
   ]
  },
  {
   "cell_type": "code",
   "execution_count": 0,
   "metadata": {
    "application/vnd.databricks.v1+cell": {
     "inputWidgets": {},
     "nuid": "f1dd7aa7-00b8-4462-bb16-95048272d974",
     "showTitle": false,
     "title": ""
    }
   },
   "outputs": [
    {
     "data": {
      "text/plain": [
       "+--------+-----------------+\n",
       "|count(1)|month(fetch_time)|\n",
       "+--------+-----------------+\n",
       "|1643    |1                |\n",
       "|2256    |2                |\n",
       "|1928    |3                |\n",
       "|1803    |4                |\n",
       "|1678    |5                |\n",
       "|1663    |6                |\n",
       "|1914    |7                |\n",
       "|1474    |8                |\n",
       "|1471    |9                |\n",
       "|1570    |10               |\n",
       "|1501    |11               |\n",
       "|1448    |12               |\n",
       "+--------+-----------------+\n",
       "\n"
      ]
     },
     "metadata": {
      "application/vnd.databricks.v1+output": {
       "addedWidgets": {},
       "arguments": {},
       "data": "+--------+-----------------+\n|count(1)|month(fetch_time)|\n+--------+-----------------+\n|1643    |1                |\n|2256    |2                |\n|1928    |3                |\n|1803    |4                |\n|1678    |5                |\n|1663    |6                |\n|1914    |7                |\n|1474    |8                |\n|1471    |9                |\n|1570    |10               |\n|1501    |11               |\n|1448    |12               |\n+--------+-----------------+\n\n",
       "datasetInfos": [],
       "metadata": {},
       "removedWidgets": [],
       "type": "ansi"
      }
     },
     "output_type": "display_data"
    }
   ],
   "source": [
    "url_surtkey_view = spark.sql(\"SELECT COUNT(*), MONTH(fetch_time)  FROM url_surtkey WHERE url_surtkey like '%mongodb%' and url_surtkey like '%database%' GROUP BY  MONTH(fetch_time) ORDER BY MONTH(fetch_time) ASC\").show(truncate= False)"
   ]
  },
  {
   "cell_type": "code",
   "execution_count": 0,
   "metadata": {
    "application/vnd.databricks.v1+cell": {
     "inputWidgets": {},
     "nuid": "6d82b150-2026-4685-aff9-784a6dd425c7",
     "showTitle": false,
     "title": ""
    }
   },
   "outputs": [
    {
     "data": {
      "text/plain": [
       "+--------+-----------------+\n",
       "|count(1)|month(fetch_time)|\n",
       "+--------+-----------------+\n",
       "|25651   |1                |\n",
       "|27177   |2                |\n",
       "|25433   |3                |\n",
       "|20818   |4                |\n",
       "|23853   |5                |\n",
       "|22814   |6                |\n",
       "|19632   |7                |\n",
       "|23943   |8                |\n",
       "|21359   |9                |\n",
       "|24813   |10               |\n",
       "|22642   |11               |\n",
       "|20817   |12               |\n",
       "+--------+-----------------+\n",
       "\n"
      ]
     },
     "metadata": {
      "application/vnd.databricks.v1+output": {
       "addedWidgets": {},
       "arguments": {},
       "data": "+--------+-----------------+\n|count(1)|month(fetch_time)|\n+--------+-----------------+\n|25651   |1                |\n|27177   |2                |\n|25433   |3                |\n|20818   |4                |\n|23853   |5                |\n|22814   |6                |\n|19632   |7                |\n|23943   |8                |\n|21359   |9                |\n|24813   |10               |\n|22642   |11               |\n|20817   |12               |\n+--------+-----------------+\n\n",
       "datasetInfos": [],
       "metadata": {},
       "removedWidgets": [],
       "type": "ansi"
      }
     },
     "output_type": "display_data"
    }
   ],
   "source": [
    "url_surtkey_view = spark.sql(\"SELECT COUNT(*), MONTH(fetch_time)  FROM url_surtkey WHERE url_surtkey like '%mysql%' and url_surtkey like '%database%' GROUP BY  MONTH(fetch_time) ORDER BY MONTH(fetch_time) ASC\").show(truncate= False)"
   ]
  },
  {
   "cell_type": "code",
   "execution_count": 0,
   "metadata": {
    "application/vnd.databricks.v1+cell": {
     "inputWidgets": {},
     "nuid": "bb1bb296-9288-4443-9711-ccdedc5d5b1e",
     "showTitle": false,
     "title": ""
    }
   },
   "outputs": [
    {
     "data": {
      "text/plain": [
       "+--------+-----------------+\n",
       "|count(1)|month(fetch_time)|\n",
       "+--------+-----------------+\n",
       "|316     |1                |\n",
       "|344     |2                |\n",
       "|358     |3                |\n",
       "|336     |4                |\n",
       "|377     |5                |\n",
       "|354     |6                |\n",
       "|359     |7                |\n",
       "|364     |8                |\n",
       "|382     |9                |\n",
       "|385     |10               |\n",
       "|485     |11               |\n",
       "|340     |12               |\n",
       "+--------+-----------------+\n",
       "\n"
      ]
     },
     "metadata": {
      "application/vnd.databricks.v1+output": {
       "addedWidgets": {},
       "arguments": {},
       "data": "+--------+-----------------+\n|count(1)|month(fetch_time)|\n+--------+-----------------+\n|316     |1                |\n|344     |2                |\n|358     |3                |\n|336     |4                |\n|377     |5                |\n|354     |6                |\n|359     |7                |\n|364     |8                |\n|382     |9                |\n|385     |10               |\n|485     |11               |\n|340     |12               |\n+--------+-----------------+\n\n",
       "datasetInfos": [],
       "metadata": {},
       "removedWidgets": [],
       "type": "ansi"
      }
     },
     "output_type": "display_data"
    }
   ],
   "source": [
    "url_surtkey_view = spark.sql(\"SELECT COUNT(*), MONTH(fetch_time)  FROM url_surtkey WHERE url_surtkey like '%mariadb%' and url_surtkey like '%database%' GROUP BY  MONTH(fetch_time) ORDER BY MONTH(fetch_time) ASC\").show(truncate= False)"
   ]
  },
  {
   "cell_type": "code",
   "execution_count": 0,
   "metadata": {
    "application/vnd.databricks.v1+cell": {
     "inputWidgets": {},
     "nuid": "43bbb7eb-fd9f-4f68-88d3-100694fcc5f7",
     "showTitle": false,
     "title": ""
    }
   },
   "outputs": [
    {
     "data": {
      "text/plain": [
       "+------------------------------------------------------------------------------------------+\n",
       "|url_surtkey                                                                               |\n",
       "+------------------------------------------------------------------------------------------+\n",
       "|com,blogspot,desbordanteysinrigor)/2013/02/normal-0-21-false-false-false-es-x-none_20.html|\n",
       "|com,blogspot,djspotblog)/2010/11/lil-yappy-ft-dj-spot-prod-by-el-gado.html                |\n",
       "|com,blogspot,desbordanteysinrigor)/2013/03/hablemos-de-desarrollo-local-y-de.html         |\n",
       "|com,blogspot,djspotblog)/2010/12/dj-spot-crisis-nation-of-gods-intro.html                 |\n",
       "|com,blogspot,desbordanteysinrigor)/2013/03/pago-justo-y-las-nuevas-costureras.html        |\n",
       "|com,blogspot,djspotblog)/2010/12/ft-dj-spot-c-prod-by-battery-fly.html                    |\n",
       "|com,blogspot,desbordanteysinrigor)/2013/04/charlas-con-mis-vecinos-sobre-otras.html       |\n",
       "|com,blogspot,djspotblog)/2010/12/va-vol1-2010.html                                        |\n",
       "|com,blogspot,desbordanteysinrigor)/2013/04/shahrazad-y-otros-cuentos-de-heroinas_7120.html|\n",
       "|com,blogspot,djspotblog)/2011/01/i-like-it-raw-05022011.html                              |\n",
       "|com,blogspot,desbordanteysinrigor)/2013/11/experimentos-conen-el-hogar.html               |\n",
       "|com,blogspot,djspotblog)/2011/05/angy-dj-spot-prod-by-klim-beats.html                     |\n",
       "|com,blogspot,desbordanteysinrigor)/2013/11/vinculos-e-historias-que-se-pierden-con.html   |\n",
       "|com,blogspot,djspotblog)/2011/08/angy-dj-spot-prod-by-klim-beats.html                     |\n",
       "|com,blogspot,desbordanteysinrigor)/2014/02/ejercicios-de-miniaturizacion-y.html           |\n",
       "|com,blogspot,djspotblog)/2011/09/lil-yappy-ft-dj-spot-prod-by-el-gado.html                |\n",
       "|com,blogspot,desbordanteysinrigor)/2014/02/modos-de-hacer-procesos-de-produccion.html     |\n",
       "|com,blogspot,djspotblog)/2011/10/metalic-vinyl.html                                       |\n",
       "|com,blogspot,desbordanteysinrigor)/2014/03/sobre-la-experiencia-de-colaboracion-en.html   |\n",
       "|com,blogspot,djspotblog)/2011/11/wwwjane26ru.html                                         |\n",
       "+------------------------------------------------------------------------------------------+\n",
       "only showing top 20 rows\n",
       "\n"
      ]
     },
     "metadata": {
      "application/vnd.databricks.v1+output": {
       "addedWidgets": {},
       "arguments": {},
       "data": "+------------------------------------------------------------------------------------------+\n|url_surtkey                                                                               |\n+------------------------------------------------------------------------------------------+\n|com,blogspot,desbordanteysinrigor)/2013/02/normal-0-21-false-false-false-es-x-none_20.html|\n|com,blogspot,djspotblog)/2010/11/lil-yappy-ft-dj-spot-prod-by-el-gado.html                |\n|com,blogspot,desbordanteysinrigor)/2013/03/hablemos-de-desarrollo-local-y-de.html         |\n|com,blogspot,djspotblog)/2010/12/dj-spot-crisis-nation-of-gods-intro.html                 |\n|com,blogspot,desbordanteysinrigor)/2013/03/pago-justo-y-las-nuevas-costureras.html        |\n|com,blogspot,djspotblog)/2010/12/ft-dj-spot-c-prod-by-battery-fly.html                    |\n|com,blogspot,desbordanteysinrigor)/2013/04/charlas-con-mis-vecinos-sobre-otras.html       |\n|com,blogspot,djspotblog)/2010/12/va-vol1-2010.html                                        |\n|com,blogspot,desbordanteysinrigor)/2013/04/shahrazad-y-otros-cuentos-de-heroinas_7120.html|\n|com,blogspot,djspotblog)/2011/01/i-like-it-raw-05022011.html                              |\n|com,blogspot,desbordanteysinrigor)/2013/11/experimentos-conen-el-hogar.html               |\n|com,blogspot,djspotblog)/2011/05/angy-dj-spot-prod-by-klim-beats.html                     |\n|com,blogspot,desbordanteysinrigor)/2013/11/vinculos-e-historias-que-se-pierden-con.html   |\n|com,blogspot,djspotblog)/2011/08/angy-dj-spot-prod-by-klim-beats.html                     |\n|com,blogspot,desbordanteysinrigor)/2014/02/ejercicios-de-miniaturizacion-y.html           |\n|com,blogspot,djspotblog)/2011/09/lil-yappy-ft-dj-spot-prod-by-el-gado.html                |\n|com,blogspot,desbordanteysinrigor)/2014/02/modos-de-hacer-procesos-de-produccion.html     |\n|com,blogspot,djspotblog)/2011/10/metalic-vinyl.html                                       |\n|com,blogspot,desbordanteysinrigor)/2014/03/sobre-la-experiencia-de-colaboracion-en.html   |\n|com,blogspot,djspotblog)/2011/11/wwwjane26ru.html                                         |\n+------------------------------------------------------------------------------------------+\nonly showing top 20 rows\n\n",
       "datasetInfos": [],
       "metadata": {},
       "removedWidgets": [],
       "type": "ansi"
      }
     },
     "output_type": "display_data"
    }
   ],
   "source": [
    "# /* 2018  */\n",
    "\n",
    "path = '/mnt/lsde/datasets/commoncrawl/cc-index/table/cc-main/warc/crawl=CC-MAIN-2018*/subset=warc'\n",
    "df = spark.read.parquet(path)\n",
    "df.createOrReplaceTempView(\"url_surtkey\")\n",
    "url_surtkey_view = spark.sql(\"SELECT url_surtkey FROM url_surtkey\").show(truncate= False)"
   ]
  },
  {
   "cell_type": "code",
   "execution_count": 0,
   "metadata": {
    "application/vnd.databricks.v1+cell": {
     "inputWidgets": {},
     "nuid": "8ec8f8dc-f4fb-481d-9085-12c7a9ebda94",
     "showTitle": false,
     "title": ""
    }
   },
   "outputs": [
    {
     "data": {
      "text/plain": [
       "+----------+-------------+\n",
       "|count(1)  |URIs_permonth|\n",
       "+----------+-------------+\n",
       "|3464537205|1            |\n",
       "|3488463319|2            |\n",
       "|3232738018|3            |\n",
       "|3101353989|4            |\n",
       "|2788388007|5            |\n",
       "|3069414247|6            |\n",
       "|3263958200|7            |\n",
       "|2686323358|8            |\n",
       "|2841194829|9            |\n",
       "|3041784523|10           |\n",
       "|2646568544|11           |\n",
       "|3164247635|12           |\n",
       "+----------+-------------+\n",
       "\n"
      ]
     },
     "metadata": {
      "application/vnd.databricks.v1+output": {
       "addedWidgets": {},
       "arguments": {},
       "data": "+----------+-------------+\n|count(1)  |URIs_permonth|\n+----------+-------------+\n|3464537205|1            |\n|3488463319|2            |\n|3232738018|3            |\n|3101353989|4            |\n|2788388007|5            |\n|3069414247|6            |\n|3263958200|7            |\n|2686323358|8            |\n|2841194829|9            |\n|3041784523|10           |\n|2646568544|11           |\n|3164247635|12           |\n+----------+-------------+\n\n",
       "datasetInfos": [],
       "metadata": {},
       "removedWidgets": [],
       "type": "ansi"
      }
     },
     "output_type": "display_data"
    }
   ],
   "source": [
    "url_surtkey_view = spark.sql(\"SELECT  COUNT(*), MONTH(fetch_time) AS URIs_permonth FROM url_surtkey GROUP BY  MONTH(fetch_time) ORDER BY MONTH(fetch_time) ASC\").show(truncate= False)"
   ]
  },
  {
   "cell_type": "code",
   "execution_count": 0,
   "metadata": {
    "application/vnd.databricks.v1+cell": {
     "inputWidgets": {},
     "nuid": "7043e799-dd27-44bc-87a0-704ca8b1bfc4",
     "showTitle": false,
     "title": ""
    }
   },
   "outputs": [
    {
     "data": {
      "text/plain": [
       "+--------+-----------------+\n",
       "|count(1)|month(fetch_time)|\n",
       "+--------+-----------------+\n",
       "|54302   |1                |\n",
       "|61797   |2                |\n",
       "|42058   |3                |\n",
       "|33151   |4                |\n",
       "|30654   |5                |\n",
       "|55076   |6                |\n",
       "|34148   |7                |\n",
       "|26941   |8                |\n",
       "|32600   |9                |\n",
       "|32143   |10               |\n",
       "|30260   |11               |\n",
       "|34817   |12               |\n",
       "+--------+-----------------+\n",
       "\n"
      ]
     },
     "metadata": {
      "application/vnd.databricks.v1+output": {
       "addedWidgets": {},
       "arguments": {},
       "data": "+--------+-----------------+\n|count(1)|month(fetch_time)|\n+--------+-----------------+\n|54302   |1                |\n|61797   |2                |\n|42058   |3                |\n|33151   |4                |\n|30654   |5                |\n|55076   |6                |\n|34148   |7                |\n|26941   |8                |\n|32600   |9                |\n|32143   |10               |\n|30260   |11               |\n|34817   |12               |\n+--------+-----------------+\n\n",
       "datasetInfos": [],
       "metadata": {},
       "removedWidgets": [],
       "type": "ansi"
      }
     },
     "output_type": "display_data"
    }
   ],
   "source": [
    "url_surtkey_view = spark.sql(\"SELECT COUNT(*), MONTH(fetch_time)  FROM url_surtkey WHERE url_surtkey like '%oracle%' and url_surtkey like '%database%' GROUP BY MONTH(fetch_time) ORDER BY MONTH(fetch_time) ASC\").show(truncate= False)"
   ]
  },
  {
   "cell_type": "code",
   "execution_count": 0,
   "metadata": {
    "application/vnd.databricks.v1+cell": {
     "inputWidgets": {},
     "nuid": "1c4846ac-0364-4c7a-ab1d-4823ac373fd3",
     "showTitle": false,
     "title": ""
    }
   },
   "outputs": [
    {
     "data": {
      "text/plain": [
       "+--------+-----------------+\n",
       "|count(1)|month(fetch_time)|\n",
       "+--------+-----------------+\n",
       "|5725    |1                |\n",
       "|5213    |2                |\n",
       "|5132    |3                |\n",
       "|5571    |4                |\n",
       "|6022    |5                |\n",
       "|5065    |6                |\n",
       "|8596    |7                |\n",
       "|3138    |8                |\n",
       "|2740    |9                |\n",
       "|2886    |10               |\n",
       "|2404    |11               |\n",
       "|3348    |12               |\n",
       "+--------+-----------------+\n",
       "\n"
      ]
     },
     "metadata": {
      "application/vnd.databricks.v1+output": {
       "addedWidgets": {},
       "arguments": {},
       "data": "+--------+-----------------+\n|count(1)|month(fetch_time)|\n+--------+-----------------+\n|5725    |1                |\n|5213    |2                |\n|5132    |3                |\n|5571    |4                |\n|6022    |5                |\n|5065    |6                |\n|8596    |7                |\n|3138    |8                |\n|2740    |9                |\n|2886    |10               |\n|2404    |11               |\n|3348    |12               |\n+--------+-----------------+\n\n",
       "datasetInfos": [],
       "metadata": {},
       "removedWidgets": [],
       "type": "ansi"
      }
     },
     "output_type": "display_data"
    }
   ],
   "source": [
    "url_surtkey_view = spark.sql(\"SELECT COUNT(*), MONTH(fetch_time)  FROM url_surtkey WHERE url_surtkey like '%microsoft%' and url_surtkey like '%sql%' and url_surtkey like '%server%' and url_surtkey like '%database%' GROUP BY  MONTH(fetch_time) ORDER BY MONTH(fetch_time) ASC\").show(truncate= False)"
   ]
  },
  {
   "cell_type": "code",
   "execution_count": 0,
   "metadata": {
    "application/vnd.databricks.v1+cell": {
     "inputWidgets": {},
     "nuid": "dcaf14ee-fd08-4e60-ad69-bd8e06885b51",
     "showTitle": false,
     "title": ""
    }
   },
   "outputs": [
    {
     "data": {
      "text/plain": [
       "+--------+-----------------+\n",
       "|count(1)|month(fetch_time)|\n",
       "+--------+-----------------+\n",
       "|3998    |1                |\n",
       "|3578    |2                |\n",
       "|3002    |3                |\n",
       "|3090    |4                |\n",
       "|2344    |5                |\n",
       "|3422    |6                |\n",
       "|2729    |7                |\n",
       "|2559    |8                |\n",
       "|3154    |9                |\n",
       "|2971    |10               |\n",
       "|2612    |11               |\n",
       "|3422    |12               |\n",
       "+--------+-----------------+\n",
       "\n"
      ]
     },
     "metadata": {
      "application/vnd.databricks.v1+output": {
       "addedWidgets": {},
       "arguments": {},
       "data": "+--------+-----------------+\n|count(1)|month(fetch_time)|\n+--------+-----------------+\n|3998    |1                |\n|3578    |2                |\n|3002    |3                |\n|3090    |4                |\n|2344    |5                |\n|3422    |6                |\n|2729    |7                |\n|2559    |8                |\n|3154    |9                |\n|2971    |10               |\n|2612    |11               |\n|3422    |12               |\n+--------+-----------------+\n\n",
       "datasetInfos": [],
       "metadata": {},
       "removedWidgets": [],
       "type": "ansi"
      }
     },
     "output_type": "display_data"
    }
   ],
   "source": [
    "url_surtkey_view = spark.sql(\"SELECT COUNT(*), MONTH(fetch_time)  FROM url_surtkey WHERE url_surtkey like '%postgresql%' and url_surtkey like '%database%' GROUP BY  MONTH(fetch_time) ORDER BY MONTH(fetch_time) ASC\").show(truncate= False)"
   ]
  },
  {
   "cell_type": "code",
   "execution_count": 0,
   "metadata": {
    "application/vnd.databricks.v1+cell": {
     "inputWidgets": {},
     "nuid": "3ea12cc9-b305-4c7a-8415-17f4f4956b6c",
     "showTitle": false,
     "title": ""
    }
   },
   "outputs": [
    {
     "data": {
      "text/plain": [
       "+--------+-----------------+\n",
       "|count(1)|month(fetch_time)|\n",
       "+--------+-----------------+\n",
       "|4       |1                |\n",
       "|10      |2                |\n",
       "|10      |3                |\n",
       "|1       |4                |\n",
       "|9       |5                |\n",
       "|7       |6                |\n",
       "|9       |7                |\n",
       "|4       |8                |\n",
       "|9       |9                |\n",
       "|3       |10               |\n",
       "|8       |11               |\n",
       "|7       |12               |\n",
       "+--------+-----------------+\n",
       "\n"
      ]
     },
     "metadata": {
      "application/vnd.databricks.v1+output": {
       "addedWidgets": {},
       "arguments": {},
       "data": "+--------+-----------------+\n|count(1)|month(fetch_time)|\n+--------+-----------------+\n|4       |1                |\n|10      |2                |\n|10      |3                |\n|1       |4                |\n|9       |5                |\n|7       |6                |\n|9       |7                |\n|4       |8                |\n|9       |9                |\n|3       |10               |\n|8       |11               |\n|7       |12               |\n+--------+-----------------+\n\n",
       "datasetInfos": [],
       "metadata": {},
       "removedWidgets": [],
       "type": "ansi"
      }
     },
     "output_type": "display_data"
    }
   ],
   "source": [
    "url_surtkey_view = spark.sql(\"SELECT COUNT(*), MONTH(fetch_time)  FROM url_surtkey WHERE url_surtkey like '%clickhouse%' and url_surtkey like '%database%' GROUP BY  MONTH(fetch_time) ORDER BY MONTH(fetch_time) ASC\").show(truncate= False)"
   ]
  },
  {
   "cell_type": "code",
   "execution_count": 0,
   "metadata": {
    "application/vnd.databricks.v1+cell": {
     "inputWidgets": {},
     "nuid": "54f5fbdd-9838-4a60-a9fd-2b8abe76e5d8",
     "showTitle": false,
     "title": ""
    }
   },
   "outputs": [
    {
     "data": {
      "text/plain": [
       "+--------+-----------------+\n",
       "|count(1)|month(fetch_time)|\n",
       "+--------+-----------------+\n",
       "|1412    |1                |\n",
       "|532     |2                |\n",
       "|1011    |3                |\n",
       "|1068    |4                |\n",
       "|489     |5                |\n",
       "|973     |6                |\n",
       "|706     |7                |\n",
       "|587     |8                |\n",
       "|853     |9                |\n",
       "|840     |10               |\n",
       "|609     |11               |\n",
       "|815     |12               |\n",
       "+--------+-----------------+\n",
       "\n"
      ]
     },
     "metadata": {
      "application/vnd.databricks.v1+output": {
       "addedWidgets": {},
       "arguments": {},
       "data": "+--------+-----------------+\n|count(1)|month(fetch_time)|\n+--------+-----------------+\n|1412    |1                |\n|532     |2                |\n|1011    |3                |\n|1068    |4                |\n|489     |5                |\n|973     |6                |\n|706     |7                |\n|587     |8                |\n|853     |9                |\n|840     |10               |\n|609     |11               |\n|815     |12               |\n+--------+-----------------+\n\n",
       "datasetInfos": [],
       "metadata": {},
       "removedWidgets": [],
       "type": "ansi"
      }
     },
     "output_type": "display_data"
    }
   ],
   "source": [
    "url_surtkey_view = spark.sql(\"SELECT COUNT(*), MONTH(fetch_time)  FROM url_surtkey WHERE url_surtkey like '%spark%' and url_surtkey like '%database%' GROUP BY  MONTH(fetch_time) ORDER BY MONTH(fetch_time) ASC\").show(truncate= False)"
   ]
  },
  {
   "cell_type": "code",
   "execution_count": 0,
   "metadata": {
    "application/vnd.databricks.v1+cell": {
     "inputWidgets": {},
     "nuid": "7345411a-1290-44f7-9cb4-dbf77f76f1dd",
     "showTitle": false,
     "title": ""
    }
   },
   "outputs": [
    {
     "data": {
      "text/plain": [
       "+--------+-----------------+\n",
       "|count(1)|month(fetch_time)|\n",
       "+--------+-----------------+\n",
       "|1605    |1                |\n",
       "|1572    |2                |\n",
       "|1457    |3                |\n",
       "|1412    |4                |\n",
       "|1433    |5                |\n",
       "|1466    |6                |\n",
       "|1054    |7                |\n",
       "|977     |8                |\n",
       "|1052    |9                |\n",
       "|1150    |10               |\n",
       "|1013    |11               |\n",
       "|1292    |12               |\n",
       "+--------+-----------------+\n",
       "\n"
      ]
     },
     "metadata": {
      "application/vnd.databricks.v1+output": {
       "addedWidgets": {},
       "arguments": {},
       "data": "+--------+-----------------+\n|count(1)|month(fetch_time)|\n+--------+-----------------+\n|1605    |1                |\n|1572    |2                |\n|1457    |3                |\n|1412    |4                |\n|1433    |5                |\n|1466    |6                |\n|1054    |7                |\n|977     |8                |\n|1052    |9                |\n|1150    |10               |\n|1013    |11               |\n|1292    |12               |\n+--------+-----------------+\n\n",
       "datasetInfos": [],
       "metadata": {},
       "removedWidgets": [],
       "type": "ansi"
      }
     },
     "output_type": "display_data"
    }
   ],
   "source": [
    "url_surtkey_view = spark.sql(\"SELECT COUNT(*), MONTH(fetch_time)  FROM url_surtkey WHERE url_surtkey like '%mongodb%' and url_surtkey like '%database%' GROUP BY  MONTH(fetch_time) ORDER BY MONTH(fetch_time) ASC\").show(truncate= False)"
   ]
  },
  {
   "cell_type": "code",
   "execution_count": 0,
   "metadata": {
    "application/vnd.databricks.v1+cell": {
     "inputWidgets": {},
     "nuid": "ef78f853-b601-4745-8426-ef7801255590",
     "showTitle": false,
     "title": ""
    }
   },
   "outputs": [
    {
     "data": {
      "text/html": [
       "<style scoped>\n",
       "  .ansiout {\n",
       "    display: block;\n",
       "    unicode-bidi: embed;\n",
       "    white-space: pre-wrap;\n",
       "    word-wrap: break-word;\n",
       "    word-break: break-all;\n",
       "    font-family: \"Source Code Pro\", \"Menlo\", monospace;;\n",
       "    font-size: 13px;\n",
       "    color: #555;\n",
       "    margin-left: 4px;\n",
       "    line-height: 19px;\n",
       "  }\n",
       "</style>"
      ]
     },
     "metadata": {
      "application/vnd.databricks.v1+output": {
       "arguments": {},
       "data": "",
       "errorSummary": "Cancelled",
       "errorTraceType": "html",
       "metadata": {},
       "type": "ipynbError"
      }
     },
     "output_type": "display_data"
    }
   ],
   "source": [
    "url_surtkey_view = spark.sql(\"SELECT COUNT(*), MONTH(fetch_time)  FROM url_surtkey WHERE url_surtkey like '%duckdb%' and url_surtkey like '%database%' GROUP BY  MONTH(fetch_time) ORDER BY MONTH(fetch_time) ASC\").show(truncate= False)"
   ]
  },
  {
   "cell_type": "code",
   "execution_count": 0,
   "metadata": {
    "application/vnd.databricks.v1+cell": {
     "inputWidgets": {},
     "nuid": "ca2e62ae-7ea7-4fc0-b39f-52c62cf81d43",
     "showTitle": false,
     "title": ""
    }
   },
   "outputs": [
    {
     "data": {
      "text/plain": [
       "+--------+-----------------+\n",
       "|count(1)|month(fetch_time)|\n",
       "+--------+-----------------+\n",
       "|21505   |1                |\n",
       "|21869   |2                |\n",
       "|20173   |3                |\n",
       "|21725   |4                |\n",
       "|17199   |5                |\n",
       "|19610   |6                |\n",
       "|18044   |7                |\n",
       "|15358   |8                |\n",
       "|15988   |9                |\n",
       "|16574   |10               |\n",
       "|14823   |11               |\n",
       "|17571   |12               |\n",
       "+--------+-----------------+\n",
       "\n"
      ]
     },
     "metadata": {
      "application/vnd.databricks.v1+output": {
       "addedWidgets": {},
       "arguments": {},
       "data": "+--------+-----------------+\n|count(1)|month(fetch_time)|\n+--------+-----------------+\n|21505   |1                |\n|21869   |2                |\n|20173   |3                |\n|21725   |4                |\n|17199   |5                |\n|19610   |6                |\n|18044   |7                |\n|15358   |8                |\n|15988   |9                |\n|16574   |10               |\n|14823   |11               |\n|17571   |12               |\n+--------+-----------------+\n\n",
       "datasetInfos": [],
       "metadata": {},
       "removedWidgets": [],
       "type": "ansi"
      }
     },
     "output_type": "display_data"
    }
   ],
   "source": [
    "url_surtkey_view = spark.sql(\"SELECT COUNT(*), MONTH(fetch_time)  FROM url_surtkey WHERE url_surtkey like '%mysql%' and url_surtkey like '%database%' GROUP BY  MONTH(fetch_time) ORDER BY MONTH(fetch_time) ASC\").show(truncate= False)"
   ]
  },
  {
   "cell_type": "code",
   "execution_count": 0,
   "metadata": {
    "application/vnd.databricks.v1+cell": {
     "inputWidgets": {},
     "nuid": "71df9d2b-7c45-465a-810f-b73c314f58a3",
     "showTitle": false,
     "title": ""
    }
   },
   "outputs": [
    {
     "data": {
      "text/plain": [
       "+--------+-----------------+\n",
       "|count(1)|month(fetch_time)|\n",
       "+--------+-----------------+\n",
       "|390     |1                |\n",
       "|476     |2                |\n",
       "|385     |3                |\n",
       "|408     |4                |\n",
       "|390     |5                |\n",
       "|385     |6                |\n",
       "|456     |7                |\n",
       "|383     |8                |\n",
       "|460     |9                |\n",
       "|411     |10               |\n",
       "|509     |11               |\n",
       "|557     |12               |\n",
       "+--------+-----------------+\n",
       "\n"
      ]
     },
     "metadata": {
      "application/vnd.databricks.v1+output": {
       "addedWidgets": {},
       "arguments": {},
       "data": "+--------+-----------------+\n|count(1)|month(fetch_time)|\n+--------+-----------------+\n|390     |1                |\n|476     |2                |\n|385     |3                |\n|408     |4                |\n|390     |5                |\n|385     |6                |\n|456     |7                |\n|383     |8                |\n|460     |9                |\n|411     |10               |\n|509     |11               |\n|557     |12               |\n+--------+-----------------+\n\n",
       "datasetInfos": [],
       "metadata": {},
       "removedWidgets": [],
       "type": "ansi"
      }
     },
     "output_type": "display_data"
    }
   ],
   "source": [
    "url_surtkey_view = spark.sql(\"SELECT COUNT(*), MONTH(fetch_time)  FROM url_surtkey WHERE url_surtkey like '%mariadb%' and url_surtkey like '%database%' GROUP BY  MONTH(fetch_time) ORDER BY MONTH(fetch_time) ASC\").show(truncate= False)"
   ]
  },
  {
   "cell_type": "code",
   "execution_count": 0,
   "metadata": {
    "application/vnd.databricks.v1+cell": {
     "inputWidgets": {},
     "nuid": "5705091b-0d63-4f18-874b-66d57ddaa8b4",
     "showTitle": false,
     "title": ""
    }
   },
   "outputs": [
    {
     "data": {
      "text/plain": [
       "+-------------------------------------------------------------------------------------------------+\n",
       "|url_surtkey                                                                                      |\n",
       "+-------------------------------------------------------------------------------------------------+\n",
       "|com,sanziro)/2016/03/wish-list-for-wwdc-2016.html                                                |\n",
       "|com,schoolforstartupsradio)/tag/get-your-head-out                                                |\n",
       "|com,sanziro)/2016/04/apple-likely-to-keep-the-same-design-for-iphone-7.html                      |\n",
       "|com,schoolforstartupsradio)/tag/getting-into-sephora                                             |\n",
       "|com,sanziro)/2016/04/siri-wwdc-2016-will-be-held-june-13-through-june-17.html                    |\n",
       "|com,schoolforstartupsradio)/tag/getting-there                                                    |\n",
       "|com,sanziro)/2016/04/uninstall-quicktime-on-your-windows-system-now.html                         |\n",
       "|com,schoolforstartupsradio)/tag/gillian-zoe-segal                                                |\n",
       "|com,sanziro)/2016/04/wish-list-for-wwdc-2016-part-2.html                                         |\n",
       "|com,schoolforstartupsradio)/tag/glenn-geller                                                     |\n",
       "|com,sanziro)/2016/06/apple-can-do-better-1-podcasts-for-ios-annoying-playback-bug.html           |\n",
       "|com,schoolforstartupsradio)/tag/go-giver                                                         |\n",
       "|com,sanziro)/2016/06/apple-policy-changes-for-developer.html                                     |\n",
       "|com,schoolforstartupsradio)/tag/going-viral                                                      |\n",
       "|com,sanziro)/2016/06/free-technology-ebooks-from-packt-publishing.html                           |\n",
       "|com,schoolforstartupsradio)/tag/great-parenting                                                  |\n",
       "|com,sanziro)/2016/06/google-launches-my-activity-site-to-let-you-see-how-much-they-track-you.html|\n",
       "|com,schoolforstartupsradio)/tag/groundfloor                                                      |\n",
       "|com,sanziro)/2016/06/list-of-devices-compatible-with-ios-10-and-macos-sierra.html                |\n",
       "|com,schoolforstartupsradio)/tag/hap-klopp                                                        |\n",
       "+-------------------------------------------------------------------------------------------------+\n",
       "only showing top 20 rows\n",
       "\n"
      ]
     },
     "metadata": {
      "application/vnd.databricks.v1+output": {
       "addedWidgets": {},
       "arguments": {},
       "data": "+-------------------------------------------------------------------------------------------------+\n|url_surtkey                                                                                      |\n+-------------------------------------------------------------------------------------------------+\n|com,sanziro)/2016/03/wish-list-for-wwdc-2016.html                                                |\n|com,schoolforstartupsradio)/tag/get-your-head-out                                                |\n|com,sanziro)/2016/04/apple-likely-to-keep-the-same-design-for-iphone-7.html                      |\n|com,schoolforstartupsradio)/tag/getting-into-sephora                                             |\n|com,sanziro)/2016/04/siri-wwdc-2016-will-be-held-june-13-through-june-17.html                    |\n|com,schoolforstartupsradio)/tag/getting-there                                                    |\n|com,sanziro)/2016/04/uninstall-quicktime-on-your-windows-system-now.html                         |\n|com,schoolforstartupsradio)/tag/gillian-zoe-segal                                                |\n|com,sanziro)/2016/04/wish-list-for-wwdc-2016-part-2.html                                         |\n|com,schoolforstartupsradio)/tag/glenn-geller                                                     |\n|com,sanziro)/2016/06/apple-can-do-better-1-podcasts-for-ios-annoying-playback-bug.html           |\n|com,schoolforstartupsradio)/tag/go-giver                                                         |\n|com,sanziro)/2016/06/apple-policy-changes-for-developer.html                                     |\n|com,schoolforstartupsradio)/tag/going-viral                                                      |\n|com,sanziro)/2016/06/free-technology-ebooks-from-packt-publishing.html                           |\n|com,schoolforstartupsradio)/tag/great-parenting                                                  |\n|com,sanziro)/2016/06/google-launches-my-activity-site-to-let-you-see-how-much-they-track-you.html|\n|com,schoolforstartupsradio)/tag/groundfloor                                                      |\n|com,sanziro)/2016/06/list-of-devices-compatible-with-ios-10-and-macos-sierra.html                |\n|com,schoolforstartupsradio)/tag/hap-klopp                                                        |\n+-------------------------------------------------------------------------------------------------+\nonly showing top 20 rows\n\n",
       "datasetInfos": [],
       "metadata": {},
       "removedWidgets": [],
       "type": "ansi"
      }
     },
     "output_type": "display_data"
    }
   ],
   "source": [
    "# /* 2019  */\n",
    "\n",
    "path = '/mnt/lsde/datasets/commoncrawl/cc-index/table/cc-main/warc/crawl=CC-MAIN-2019*/subset=warc'\n",
    "df = spark.read.parquet(path)\n",
    "df.createOrReplaceTempView(\"url_surtkey\")\n",
    "url_surtkey_view = spark.sql(\"SELECT url_surtkey FROM url_surtkey\").show(truncate= False)\n"
   ]
  },
  {
   "cell_type": "code",
   "execution_count": 0,
   "metadata": {
    "application/vnd.databricks.v1+cell": {
     "inputWidgets": {},
     "nuid": "6ad3cf54-a219-48f3-a68c-b3991b6f59bc",
     "showTitle": false,
     "title": ""
    }
   },
   "outputs": [
    {
     "data": {
      "text/plain": [
       "+----------+-------------+\n",
       "|count(1)  |URIs_permonth|\n",
       "+----------+-------------+\n",
       "|2889726642|1            |\n",
       "|2913733422|2            |\n",
       "|2569681845|3            |\n",
       "|2497818607|4            |\n",
       "|2679746250|5            |\n",
       "|2594261117|6            |\n",
       "|2594798375|7            |\n",
       "|2954836065|8            |\n",
       "|2561062912|9            |\n",
       "|3019036529|10           |\n",
       "|2590595173|11           |\n",
       "|2471904965|12           |\n",
       "+----------+-------------+\n",
       "\n"
      ]
     },
     "metadata": {
      "application/vnd.databricks.v1+output": {
       "addedWidgets": {},
       "arguments": {},
       "data": "+----------+-------------+\n|count(1)  |URIs_permonth|\n+----------+-------------+\n|2889726642|1            |\n|2913733422|2            |\n|2569681845|3            |\n|2497818607|4            |\n|2679746250|5            |\n|2594261117|6            |\n|2594798375|7            |\n|2954836065|8            |\n|2561062912|9            |\n|3019036529|10           |\n|2590595173|11           |\n|2471904965|12           |\n+----------+-------------+\n\n",
       "datasetInfos": [],
       "metadata": {},
       "removedWidgets": [],
       "type": "ansi"
      }
     },
     "output_type": "display_data"
    }
   ],
   "source": [
    "url_surtkey_view = spark.sql(\"SELECT  COUNT(*), MONTH(fetch_time) AS URIs_permonth FROM url_surtkey GROUP BY  MONTH(fetch_time) ORDER BY MONTH(fetch_time) ASC\").show(truncate= False)"
   ]
  },
  {
   "cell_type": "code",
   "execution_count": 0,
   "metadata": {
    "application/vnd.databricks.v1+cell": {
     "inputWidgets": {},
     "nuid": "dc7a5379-c078-4b86-b3c0-49d23b32318a",
     "showTitle": false,
     "title": ""
    }
   },
   "outputs": [
    {
     "data": {
      "text/plain": [
       "+--------+-----------------+\n",
       "|count(1)|month(fetch_time)|\n",
       "+--------+-----------------+\n",
       "|27240   |1                |\n",
       "|28335   |2                |\n",
       "|29699   |3                |\n",
       "|30150   |4                |\n",
       "|28309   |5                |\n",
       "|26216   |6                |\n",
       "|24205   |7                |\n",
       "|29650   |8                |\n",
       "|26866   |9                |\n",
       "|27923   |10               |\n",
       "|25195   |11               |\n",
       "|24613   |12               |\n",
       "+--------+-----------------+\n",
       "\n"
      ]
     },
     "metadata": {
      "application/vnd.databricks.v1+output": {
       "addedWidgets": {},
       "arguments": {},
       "data": "+--------+-----------------+\n|count(1)|month(fetch_time)|\n+--------+-----------------+\n|27240   |1                |\n|28335   |2                |\n|29699   |3                |\n|30150   |4                |\n|28309   |5                |\n|26216   |6                |\n|24205   |7                |\n|29650   |8                |\n|26866   |9                |\n|27923   |10               |\n|25195   |11               |\n|24613   |12               |\n+--------+-----------------+\n\n",
       "datasetInfos": [],
       "metadata": {},
       "removedWidgets": [],
       "type": "ansi"
      }
     },
     "output_type": "display_data"
    }
   ],
   "source": [
    "url_surtkey_view = spark.sql(\"SELECT COUNT(*), MONTH(fetch_time)  FROM url_surtkey WHERE url_surtkey like '%oracle%' and url_surtkey like '%database%' GROUP BY MONTH(fetch_time) ORDER BY MONTH(fetch_time) ASC\").show(truncate= False)"
   ]
  },
  {
   "cell_type": "code",
   "execution_count": 0,
   "metadata": {
    "application/vnd.databricks.v1+cell": {
     "inputWidgets": {},
     "nuid": "b824dd4f-fe9f-4291-8404-d8e51bf3a2a1",
     "showTitle": false,
     "title": ""
    }
   },
   "outputs": [
    {
     "data": {
      "text/plain": [
       "+--------+-----------------+\n",
       "|count(1)|month(fetch_time)|\n",
       "+--------+-----------------+\n",
       "|3051    |1                |\n",
       "|3149    |2                |\n",
       "|2480    |3                |\n",
       "|3462    |4                |\n",
       "|3640    |5                |\n",
       "|3943    |6                |\n",
       "|4078    |7                |\n",
       "|4408    |8                |\n",
       "|5940    |9                |\n",
       "|7763    |10               |\n",
       "|8404    |11               |\n",
       "|9229    |12               |\n",
       "+--------+-----------------+\n",
       "\n"
      ]
     },
     "metadata": {
      "application/vnd.databricks.v1+output": {
       "addedWidgets": {},
       "arguments": {},
       "data": "+--------+-----------------+\n|count(1)|month(fetch_time)|\n+--------+-----------------+\n|3051    |1                |\n|3149    |2                |\n|2480    |3                |\n|3462    |4                |\n|3640    |5                |\n|3943    |6                |\n|4078    |7                |\n|4408    |8                |\n|5940    |9                |\n|7763    |10               |\n|8404    |11               |\n|9229    |12               |\n+--------+-----------------+\n\n",
       "datasetInfos": [],
       "metadata": {},
       "removedWidgets": [],
       "type": "ansi"
      }
     },
     "output_type": "display_data"
    }
   ],
   "source": [
    "url_surtkey_view = spark.sql(\"SELECT COUNT(*), MONTH(fetch_time)  FROM url_surtkey WHERE url_surtkey like '%microsoft%' and url_surtkey like '%sql%' and url_surtkey like '%server%' and url_surtkey like '%database%' GROUP BY  MONTH(fetch_time) ORDER BY MONTH(fetch_time) ASC\").show(truncate= False)"
   ]
  },
  {
   "cell_type": "code",
   "execution_count": 0,
   "metadata": {
    "application/vnd.databricks.v1+cell": {
     "inputWidgets": {},
     "nuid": "5b9e98df-3f34-4280-8831-ef2767860aa9",
     "showTitle": false,
     "title": ""
    }
   },
   "outputs": [
    {
     "data": {
      "text/plain": [
       "+--------+-----------------+\n",
       "|count(1)|month(fetch_time)|\n",
       "+--------+-----------------+\n",
       "|2803    |1                |\n",
       "|3509    |2                |\n",
       "|3627    |3                |\n",
       "|3413    |4                |\n",
       "|3714    |5                |\n",
       "|3378    |6                |\n",
       "|3192    |7                |\n",
       "|4168    |8                |\n",
       "|3470    |9                |\n",
       "|4498    |10               |\n",
       "|3673    |11               |\n",
       "|3573    |12               |\n",
       "+--------+-----------------+\n",
       "\n"
      ]
     },
     "metadata": {
      "application/vnd.databricks.v1+output": {
       "addedWidgets": {},
       "arguments": {},
       "data": "+--------+-----------------+\n|count(1)|month(fetch_time)|\n+--------+-----------------+\n|2803    |1                |\n|3509    |2                |\n|3627    |3                |\n|3413    |4                |\n|3714    |5                |\n|3378    |6                |\n|3192    |7                |\n|4168    |8                |\n|3470    |9                |\n|4498    |10               |\n|3673    |11               |\n|3573    |12               |\n+--------+-----------------+\n\n",
       "datasetInfos": [],
       "metadata": {},
       "removedWidgets": [],
       "type": "ansi"
      }
     },
     "output_type": "display_data"
    }
   ],
   "source": [
    "url_surtkey_view = spark.sql(\"SELECT COUNT(*), MONTH(fetch_time)  FROM url_surtkey WHERE url_surtkey like '%postgresql%' and url_surtkey like '%database%' GROUP BY  MONTH(fetch_time) ORDER BY MONTH(fetch_time) ASC\").show(truncate= False)"
   ]
  },
  {
   "cell_type": "code",
   "execution_count": 0,
   "metadata": {
    "application/vnd.databricks.v1+cell": {
     "inputWidgets": {},
     "nuid": "61070dbb-1569-4a7d-9036-07a74817f876",
     "showTitle": false,
     "title": ""
    }
   },
   "outputs": [
    {
     "data": {
      "text/plain": [
       "+--------+-----------------+\n",
       "|count(1)|month(fetch_time)|\n",
       "+--------+-----------------+\n",
       "|14      |1                |\n",
       "|10      |2                |\n",
       "|11      |3                |\n",
       "|9       |4                |\n",
       "|14      |5                |\n",
       "|17      |6                |\n",
       "|19      |7                |\n",
       "|25      |8                |\n",
       "|17      |9                |\n",
       "|39      |10               |\n",
       "|40      |11               |\n",
       "|38      |12               |\n",
       "+--------+-----------------+\n",
       "\n"
      ]
     },
     "metadata": {
      "application/vnd.databricks.v1+output": {
       "addedWidgets": {},
       "arguments": {},
       "data": "+--------+-----------------+\n|count(1)|month(fetch_time)|\n+--------+-----------------+\n|14      |1                |\n|10      |2                |\n|11      |3                |\n|9       |4                |\n|14      |5                |\n|17      |6                |\n|19      |7                |\n|25      |8                |\n|17      |9                |\n|39      |10               |\n|40      |11               |\n|38      |12               |\n+--------+-----------------+\n\n",
       "datasetInfos": [],
       "metadata": {},
       "removedWidgets": [],
       "type": "ansi"
      }
     },
     "output_type": "display_data"
    }
   ],
   "source": [
    "url_surtkey_view = spark.sql(\"SELECT COUNT(*), MONTH(fetch_time)  FROM url_surtkey WHERE url_surtkey like '%clickhouse%' and url_surtkey like '%database%' GROUP BY  MONTH(fetch_time) ORDER BY MONTH(fetch_time) ASC\").show(truncate= False)"
   ]
  },
  {
   "cell_type": "code",
   "execution_count": 0,
   "metadata": {
    "application/vnd.databricks.v1+cell": {
     "inputWidgets": {},
     "nuid": "99ebd29a-d24f-40a1-a24c-f33459c0df8e",
     "showTitle": false,
     "title": ""
    }
   },
   "outputs": [
    {
     "data": {
      "text/plain": [
       "+--------+-----------------+\n",
       "|count(1)|month(fetch_time)|\n",
       "+--------+-----------------+\n",
       "|618     |1                |\n",
       "|433     |2                |\n",
       "|378     |3                |\n",
       "|351     |4                |\n",
       "|302     |5                |\n",
       "|340     |6                |\n",
       "|336     |7                |\n",
       "|429     |8                |\n",
       "|420     |9                |\n",
       "|599     |10               |\n",
       "|431     |11               |\n",
       "|736     |12               |\n",
       "+--------+-----------------+\n",
       "\n"
      ]
     },
     "metadata": {
      "application/vnd.databricks.v1+output": {
       "addedWidgets": {},
       "arguments": {},
       "data": "+--------+-----------------+\n|count(1)|month(fetch_time)|\n+--------+-----------------+\n|618     |1                |\n|433     |2                |\n|378     |3                |\n|351     |4                |\n|302     |5                |\n|340     |6                |\n|336     |7                |\n|429     |8                |\n|420     |9                |\n|599     |10               |\n|431     |11               |\n|736     |12               |\n+--------+-----------------+\n\n",
       "datasetInfos": [],
       "metadata": {},
       "removedWidgets": [],
       "type": "ansi"
      }
     },
     "output_type": "display_data"
    }
   ],
   "source": [
    "url_surtkey_view = spark.sql(\"SELECT COUNT(*), MONTH(fetch_time)  FROM url_surtkey WHERE url_surtkey like '%spark%' and url_surtkey like '%database%' GROUP BY  MONTH(fetch_time) ORDER BY MONTH(fetch_time) ASC\").show(truncate= False)"
   ]
  },
  {
   "cell_type": "code",
   "execution_count": 0,
   "metadata": {
    "application/vnd.databricks.v1+cell": {
     "inputWidgets": {},
     "nuid": "93559c81-fd22-4b7b-8be6-a074bd962494",
     "showTitle": false,
     "title": ""
    }
   },
   "outputs": [
    {
     "data": {
      "text/plain": [
       "+--------+-----------------+\n",
       "|count(1)|month(fetch_time)|\n",
       "+--------+-----------------+\n",
       "|1109    |1                |\n",
       "|1301    |2                |\n",
       "|1130    |3                |\n",
       "|1134    |4                |\n",
       "|1261    |5                |\n",
       "|1225    |6                |\n",
       "|1249    |7                |\n",
       "|1516    |8                |\n",
       "|1268    |9                |\n",
       "|1365    |10               |\n",
       "|1249    |11               |\n",
       "|1109    |12               |\n",
       "+--------+-----------------+\n",
       "\n"
      ]
     },
     "metadata": {
      "application/vnd.databricks.v1+output": {
       "addedWidgets": {},
       "arguments": {},
       "data": "+--------+-----------------+\n|count(1)|month(fetch_time)|\n+--------+-----------------+\n|1109    |1                |\n|1301    |2                |\n|1130    |3                |\n|1134    |4                |\n|1261    |5                |\n|1225    |6                |\n|1249    |7                |\n|1516    |8                |\n|1268    |9                |\n|1365    |10               |\n|1249    |11               |\n|1109    |12               |\n+--------+-----------------+\n\n",
       "datasetInfos": [],
       "metadata": {},
       "removedWidgets": [],
       "type": "ansi"
      }
     },
     "output_type": "display_data"
    }
   ],
   "source": [
    "url_surtkey_view = spark.sql(\"SELECT COUNT(*), MONTH(fetch_time)  FROM url_surtkey WHERE url_surtkey like '%mongodb%' and url_surtkey like '%database%' GROUP BY  MONTH(fetch_time) ORDER BY MONTH(fetch_time) ASC\").show(truncate= False)"
   ]
  },
  {
   "cell_type": "code",
   "execution_count": 0,
   "metadata": {
    "application/vnd.databricks.v1+cell": {
     "inputWidgets": {},
     "nuid": "13a4fdd9-d35a-4e09-a08e-f73fb37d5574",
     "showTitle": false,
     "title": ""
    }
   },
   "outputs": [
    {
     "data": {
      "text/plain": [
       "+--------+-----------------+\n",
       "|count(1)|month(fetch_time)|\n",
       "+--------+-----------------+\n",
       "|15320   |1                |\n",
       "|16174   |2                |\n",
       "|15068   |3                |\n",
       "|14700   |4                |\n",
       "|15965   |5                |\n",
       "|14722   |6                |\n",
       "|15087   |7                |\n",
       "|16738   |8                |\n",
       "|14642   |9                |\n",
       "|16822   |10               |\n",
       "|14460   |11               |\n",
       "|13482   |12               |\n",
       "+--------+-----------------+\n",
       "\n"
      ]
     },
     "metadata": {
      "application/vnd.databricks.v1+output": {
       "addedWidgets": {},
       "arguments": {},
       "data": "+--------+-----------------+\n|count(1)|month(fetch_time)|\n+--------+-----------------+\n|15320   |1                |\n|16174   |2                |\n|15068   |3                |\n|14700   |4                |\n|15965   |5                |\n|14722   |6                |\n|15087   |7                |\n|16738   |8                |\n|14642   |9                |\n|16822   |10               |\n|14460   |11               |\n|13482   |12               |\n+--------+-----------------+\n\n",
       "datasetInfos": [],
       "metadata": {},
       "removedWidgets": [],
       "type": "ansi"
      }
     },
     "output_type": "display_data"
    }
   ],
   "source": [
    "url_surtkey_view = spark.sql(\"SELECT COUNT(*), MONTH(fetch_time)  FROM url_surtkey WHERE url_surtkey like '%mysql%' and url_surtkey like '%database%' GROUP BY  MONTH(fetch_time) ORDER BY MONTH(fetch_time) ASC\").show(truncate= False)"
   ]
  },
  {
   "cell_type": "code",
   "execution_count": 0,
   "metadata": {
    "application/vnd.databricks.v1+cell": {
     "inputWidgets": {},
     "nuid": "ab0bbfbd-2f1f-416c-9dbe-a026da2d2548",
     "showTitle": false,
     "title": ""
    }
   },
   "outputs": [
    {
     "data": {
      "text/plain": [
       "+--------+-----------------+\n",
       "|count(1)|month(fetch_time)|\n",
       "+--------+-----------------+\n",
       "|550     |1                |\n",
       "|648     |2                |\n",
       "|718     |3                |\n",
       "|550     |4                |\n",
       "|777     |5                |\n",
       "|612     |6                |\n",
       "|677     |7                |\n",
       "|778     |8                |\n",
       "|736     |9                |\n",
       "|749     |10               |\n",
       "|747     |11               |\n",
       "|643     |12               |\n",
       "+--------+-----------------+\n",
       "\n"
      ]
     },
     "metadata": {
      "application/vnd.databricks.v1+output": {
       "addedWidgets": {},
       "arguments": {},
       "data": "+--------+-----------------+\n|count(1)|month(fetch_time)|\n+--------+-----------------+\n|550     |1                |\n|648     |2                |\n|718     |3                |\n|550     |4                |\n|777     |5                |\n|612     |6                |\n|677     |7                |\n|778     |8                |\n|736     |9                |\n|749     |10               |\n|747     |11               |\n|643     |12               |\n+--------+-----------------+\n\n",
       "datasetInfos": [],
       "metadata": {},
       "removedWidgets": [],
       "type": "ansi"
      }
     },
     "output_type": "display_data"
    }
   ],
   "source": [
    "url_surtkey_view = spark.sql(\"SELECT COUNT(*), MONTH(fetch_time)  FROM url_surtkey WHERE url_surtkey like '%mariadb%' and url_surtkey like '%database%' GROUP BY  MONTH(fetch_time) ORDER BY MONTH(fetch_time) ASC\").show(truncate= False)"
   ]
  },
  {
   "cell_type": "code",
   "execution_count": 0,
   "metadata": {
    "application/vnd.databricks.v1+cell": {
     "inputWidgets": {},
     "nuid": "471f5b8b-6aba-4cb9-a1d9-5bcbc375edc3",
     "showTitle": false,
     "title": ""
    }
   },
   "outputs": [
    {
     "data": {
      "text/plain": [
       "+-------------------------------------------------------------------------------------------------------------------------------------------------------------------------------+\n",
       "|url_surtkey                                                                                                                                                                    |\n",
       "+-------------------------------------------------------------------------------------------------------------------------------------------------------------------------------+\n",
       "|com,biyedi)/bakim.aspx                                                                                                                                                         |\n",
       "|com,blogspot,maricmasi)/2017_04_30_archive.html?action=toggle&dir=open&toggle=daily-1578956400000&toggleopen=daily-1493503200000&widgetid=blogarchive1&widgettype=blogarchive  |\n",
       "|com,biyedi)/bakim.aspx                                                                                                                                                         |\n",
       "|com,blogspot,maricmasi)/2017_04_30_archive.html?action=toggle&dir=open&toggle=daily-1585605600000&toggleopen=daily-1493503200000&widgetid=blogarchive1&widgettype=blogarchive  |\n",
       "|com,biyedi)/bakim.aspx                                                                                                                                                         |\n",
       "|com,blogspot,maricmasi)/2017_04_30_archive.html?action=toggle&dir=open&toggle=daily-1586901600000&toggleopen=daily-1493503200000&widgetid=blogarchive1&widgettype=blogarchive  |\n",
       "|com,biyedi)/bakim.aspx                                                                                                                                                         |\n",
       "|com,blogspot,maricmasi)/2017_04_30_archive.html?action=toggle&dir=open&toggle=daily-1587333600000&toggleopen=daily-1493503200000&widgetid=blogarchive1&widgettype=blogarchive  |\n",
       "|com,biyedi)/bakim.aspx                                                                                                                                                         |\n",
       "|com,blogspot,maricmasi)/2017_04_30_archive.html?action=toggle&dir=open&toggle=monthly-1462053600000&toggleopen=daily-1493503200000&widgetid=blogarchive1&widgettype=blogarchive|\n",
       "|com,biyedi)/bakim.aspx                                                                                                                                                         |\n",
       "|com,blogspot,maricmasi)/2017_04_30_archive.html?action=toggle&dir=open&toggle=monthly-1498860000000&toggleopen=daily-1493503200000&widgetid=blogarchive1&widgettype=blogarchive|\n",
       "|com,biyedi)/bakim.aspx                                                                                                                                                         |\n",
       "|com,blogspot,maricmasi)/2017_05_04_archive.html?action=toggle&dir=open&toggle=daily-1339884000000&toggleopen=daily-1493848800000&widgetid=blogarchive1&widgettype=blogarchive  |\n",
       "|com,biyedi)/bakim.aspx                                                                                                                                                         |\n",
       "|com,blogspot,maricmasi)/2017_05_04_archive.html?action=toggle&dir=open&toggle=daily-1342821600000&toggleopen=daily-1493848800000&widgetid=blogarchive1&widgettype=blogarchive  |\n",
       "|com,biyedi)/bakim.aspx                                                                                                                                                         |\n",
       "|com,blogspot,maricmasi)/2017_05_04_archive.html?action=toggle&dir=open&toggle=daily-1361660400000&toggleopen=daily-1493848800000&widgetid=blogarchive1&widgettype=blogarchive  |\n",
       "|com,biyedi)/bakim.aspx                                                                                                                                                         |\n",
       "|com,blogspot,maricmasi)/2017_05_04_archive.html?action=toggle&dir=open&toggle=daily-1362610800000&toggleopen=daily-1493848800000&widgetid=blogarchive1&widgettype=blogarchive  |\n",
       "+-------------------------------------------------------------------------------------------------------------------------------------------------------------------------------+\n",
       "only showing top 20 rows\n",
       "\n"
      ]
     },
     "metadata": {
      "application/vnd.databricks.v1+output": {
       "addedWidgets": {},
       "arguments": {},
       "data": "+-------------------------------------------------------------------------------------------------------------------------------------------------------------------------------+\n|url_surtkey                                                                                                                                                                    |\n+-------------------------------------------------------------------------------------------------------------------------------------------------------------------------------+\n|com,biyedi)/bakim.aspx                                                                                                                                                         |\n|com,blogspot,maricmasi)/2017_04_30_archive.html?action=toggle&dir=open&toggle=daily-1578956400000&toggleopen=daily-1493503200000&widgetid=blogarchive1&widgettype=blogarchive  |\n|com,biyedi)/bakim.aspx                                                                                                                                                         |\n|com,blogspot,maricmasi)/2017_04_30_archive.html?action=toggle&dir=open&toggle=daily-1585605600000&toggleopen=daily-1493503200000&widgetid=blogarchive1&widgettype=blogarchive  |\n|com,biyedi)/bakim.aspx                                                                                                                                                         |\n|com,blogspot,maricmasi)/2017_04_30_archive.html?action=toggle&dir=open&toggle=daily-1586901600000&toggleopen=daily-1493503200000&widgetid=blogarchive1&widgettype=blogarchive  |\n|com,biyedi)/bakim.aspx                                                                                                                                                         |\n|com,blogspot,maricmasi)/2017_04_30_archive.html?action=toggle&dir=open&toggle=daily-1587333600000&toggleopen=daily-1493503200000&widgetid=blogarchive1&widgettype=blogarchive  |\n|com,biyedi)/bakim.aspx                                                                                                                                                         |\n|com,blogspot,maricmasi)/2017_04_30_archive.html?action=toggle&dir=open&toggle=monthly-1462053600000&toggleopen=daily-1493503200000&widgetid=blogarchive1&widgettype=blogarchive|\n|com,biyedi)/bakim.aspx                                                                                                                                                         |\n|com,blogspot,maricmasi)/2017_04_30_archive.html?action=toggle&dir=open&toggle=monthly-1498860000000&toggleopen=daily-1493503200000&widgetid=blogarchive1&widgettype=blogarchive|\n|com,biyedi)/bakim.aspx                                                                                                                                                         |\n|com,blogspot,maricmasi)/2017_05_04_archive.html?action=toggle&dir=open&toggle=daily-1339884000000&toggleopen=daily-1493848800000&widgetid=blogarchive1&widgettype=blogarchive  |\n|com,biyedi)/bakim.aspx                                                                                                                                                         |\n|com,blogspot,maricmasi)/2017_05_04_archive.html?action=toggle&dir=open&toggle=daily-1342821600000&toggleopen=daily-1493848800000&widgetid=blogarchive1&widgettype=blogarchive  |\n|com,biyedi)/bakim.aspx                                                                                                                                                         |\n|com,blogspot,maricmasi)/2017_05_04_archive.html?action=toggle&dir=open&toggle=daily-1361660400000&toggleopen=daily-1493848800000&widgetid=blogarchive1&widgettype=blogarchive  |\n|com,biyedi)/bakim.aspx                                                                                                                                                         |\n|com,blogspot,maricmasi)/2017_05_04_archive.html?action=toggle&dir=open&toggle=daily-1362610800000&toggleopen=daily-1493848800000&widgetid=blogarchive1&widgettype=blogarchive  |\n+-------------------------------------------------------------------------------------------------------------------------------------------------------------------------------+\nonly showing top 20 rows\n\n",
       "datasetInfos": [],
       "metadata": {},
       "removedWidgets": [],
       "type": "ansi"
      }
     },
     "output_type": "display_data"
    }
   ],
   "source": [
    "# /* 2020  */\n",
    "\n",
    "path = '/mnt/lsde/datasets/commoncrawl/cc-index/table/cc-main/warc/crawl=CC-MAIN-2020*/subset=warc'\n",
    "df = spark.read.parquet(path)\n",
    "df.createOrReplaceTempView(\"url_surtkey\")\n",
    "url_surtkey_view = spark.sql(\"SELECT url_surtkey FROM url_surtkey\").show(truncate= False)"
   ]
  },
  {
   "cell_type": "code",
   "execution_count": 0,
   "metadata": {
    "application/vnd.databricks.v1+cell": {
     "inputWidgets": {},
     "nuid": "490fbe6b-f444-4900-998e-9dc9a98f2fc9",
     "showTitle": false,
     "title": ""
    }
   },
   "outputs": [
    {
     "data": {
      "text/plain": [
       "+----------+-------------+\n",
       "|count(1)  |URIs_permonth|\n",
       "+----------+-------------+\n",
       "|3101097173|1            |\n",
       "|2629963462|2            |\n",
       "|812094649 |3            |\n",
       "|2074141588|4            |\n",
       "|1442837816|5            |\n",
       "|1320368946|6            |\n",
       "|3144733420|7            |\n",
       "|2449834239|8            |\n",
       "|3243242432|9            |\n",
       "|2934230578|10           |\n",
       "|1661251606|11           |\n",
       "|1008381334|12           |\n",
       "+----------+-------------+\n",
       "\n"
      ]
     },
     "metadata": {
      "application/vnd.databricks.v1+output": {
       "addedWidgets": {},
       "arguments": {},
       "data": "+----------+-------------+\n|count(1)  |URIs_permonth|\n+----------+-------------+\n|3101097173|1            |\n|2629963462|2            |\n|812094649 |3            |\n|2074141588|4            |\n|1442837816|5            |\n|1320368946|6            |\n|3144733420|7            |\n|2449834239|8            |\n|3243242432|9            |\n|2934230578|10           |\n|1661251606|11           |\n|1008381334|12           |\n+----------+-------------+\n\n",
       "datasetInfos": [],
       "metadata": {},
       "removedWidgets": [],
       "type": "ansi"
      }
     },
     "output_type": "display_data"
    }
   ],
   "source": [
    "url_surtkey_view = spark.sql(\"SELECT  COUNT(*), MONTH(fetch_time) AS URIs_permonth FROM url_surtkey GROUP BY  MONTH(fetch_time) ORDER BY MONTH(fetch_time) ASC\").show(truncate= False)"
   ]
  },
  {
   "cell_type": "code",
   "execution_count": 0,
   "metadata": {
    "application/vnd.databricks.v1+cell": {
     "inputWidgets": {},
     "nuid": "6f0074aa-e65d-4112-99eb-e96363edb563",
     "showTitle": false,
     "title": ""
    }
   },
   "outputs": [
    {
     "data": {
      "text/plain": [
       "+--------+-----------------+\n",
       "|count(1)|month(fetch_time)|\n",
       "+--------+-----------------+\n",
       "|32213   |1                |\n",
       "|23591   |2                |\n",
       "|7505    |3                |\n",
       "|18574   |4                |\n",
       "|13042   |5                |\n",
       "|12249   |6                |\n",
       "|28955   |7                |\n",
       "|26784   |8                |\n",
       "|34819   |9                |\n",
       "|31689   |10               |\n",
       "|19924   |11               |\n",
       "|12158   |12               |\n",
       "+--------+-----------------+\n",
       "\n"
      ]
     },
     "metadata": {
      "application/vnd.databricks.v1+output": {
       "addedWidgets": {},
       "arguments": {},
       "data": "+--------+-----------------+\n|count(1)|month(fetch_time)|\n+--------+-----------------+\n|32213   |1                |\n|23591   |2                |\n|7505    |3                |\n|18574   |4                |\n|13042   |5                |\n|12249   |6                |\n|28955   |7                |\n|26784   |8                |\n|34819   |9                |\n|31689   |10               |\n|19924   |11               |\n|12158   |12               |\n+--------+-----------------+\n\n",
       "datasetInfos": [],
       "metadata": {},
       "removedWidgets": [],
       "type": "ansi"
      }
     },
     "output_type": "display_data"
    }
   ],
   "source": [
    "url_surtkey_view = spark.sql(\"SELECT COUNT(*), MONTH(fetch_time)  FROM url_surtkey WHERE url_surtkey like '%oracle%' and url_surtkey like '%database%' GROUP BY MONTH(fetch_time) ORDER BY MONTH(fetch_time) ASC\").show(truncate= False)"
   ]
  },
  {
   "cell_type": "code",
   "execution_count": 0,
   "metadata": {
    "application/vnd.databricks.v1+cell": {
     "inputWidgets": {},
     "nuid": "61c9f791-b128-4373-bac6-6b7c5f88e7d4",
     "showTitle": false,
     "title": ""
    }
   },
   "outputs": [
    {
     "data": {
      "text/plain": [
       "+--------+-----------------+\n",
       "|count(1)|month(fetch_time)|\n",
       "+--------+-----------------+\n",
       "|11259   |1                |\n",
       "|7769    |2                |\n",
       "|1872    |3                |\n",
       "|4629    |4                |\n",
       "|3065    |5                |\n",
       "|2960    |6                |\n",
       "|6620    |7                |\n",
       "|9198    |8                |\n",
       "|6366    |9                |\n",
       "|10045   |10               |\n",
       "|6481    |11               |\n",
       "|4394    |12               |\n",
       "+--------+-----------------+\n",
       "\n"
      ]
     },
     "metadata": {
      "application/vnd.databricks.v1+output": {
       "addedWidgets": {},
       "arguments": {},
       "data": "+--------+-----------------+\n|count(1)|month(fetch_time)|\n+--------+-----------------+\n|11259   |1                |\n|7769    |2                |\n|1872    |3                |\n|4629    |4                |\n|3065    |5                |\n|2960    |6                |\n|6620    |7                |\n|9198    |8                |\n|6366    |9                |\n|10045   |10               |\n|6481    |11               |\n|4394    |12               |\n+--------+-----------------+\n\n",
       "datasetInfos": [],
       "metadata": {},
       "removedWidgets": [],
       "type": "ansi"
      }
     },
     "output_type": "display_data"
    }
   ],
   "source": [
    "url_surtkey_view = spark.sql(\"SELECT COUNT(*), MONTH(fetch_time)  FROM url_surtkey WHERE url_surtkey like '%microsoft%' and url_surtkey like '%sql%' and url_surtkey like '%server%' and url_surtkey like '%database%' GROUP BY  MONTH(fetch_time) ORDER BY MONTH(fetch_time) ASC\").show(truncate= False)"
   ]
  },
  {
   "cell_type": "code",
   "execution_count": 0,
   "metadata": {
    "application/vnd.databricks.v1+cell": {
     "inputWidgets": {},
     "nuid": "c3102237-910b-4488-aa4f-77b3a8829b67",
     "showTitle": false,
     "title": ""
    }
   },
   "outputs": [
    {
     "data": {
      "text/plain": [
       "+--------+-----------------+\n",
       "|count(1)|month(fetch_time)|\n",
       "+--------+-----------------+\n",
       "|4294    |1                |\n",
       "|4068    |2                |\n",
       "|1311    |3                |\n",
       "|3099    |4                |\n",
       "|1824    |5                |\n",
       "|1757    |6                |\n",
       "|4727    |7                |\n",
       "|3606    |8                |\n",
       "|5093    |9                |\n",
       "|3965    |10               |\n",
       "|2642    |11               |\n",
       "|1661    |12               |\n",
       "+--------+-----------------+\n",
       "\n"
      ]
     },
     "metadata": {
      "application/vnd.databricks.v1+output": {
       "addedWidgets": {},
       "arguments": {},
       "data": "+--------+-----------------+\n|count(1)|month(fetch_time)|\n+--------+-----------------+\n|4294    |1                |\n|4068    |2                |\n|1311    |3                |\n|3099    |4                |\n|1824    |5                |\n|1757    |6                |\n|4727    |7                |\n|3606    |8                |\n|5093    |9                |\n|3965    |10               |\n|2642    |11               |\n|1661    |12               |\n+--------+-----------------+\n\n",
       "datasetInfos": [],
       "metadata": {},
       "removedWidgets": [],
       "type": "ansi"
      }
     },
     "output_type": "display_data"
    }
   ],
   "source": [
    "url_surtkey_view = spark.sql(\"SELECT COUNT(*), MONTH(fetch_time)  FROM url_surtkey WHERE url_surtkey like '%postgresql%' and url_surtkey like '%database%' GROUP BY  MONTH(fetch_time) ORDER BY MONTH(fetch_time) ASC\").show(truncate= False)"
   ]
  },
  {
   "cell_type": "code",
   "execution_count": 0,
   "metadata": {
    "application/vnd.databricks.v1+cell": {
     "inputWidgets": {},
     "nuid": "c71b87fd-f06f-40f7-99c2-ee0260468e39",
     "showTitle": false,
     "title": ""
    }
   },
   "outputs": [
    {
     "data": {
      "text/plain": [
       "+--------+-----------------+\n",
       "|count(1)|month(fetch_time)|\n",
       "+--------+-----------------+\n",
       "|46      |1                |\n",
       "|38      |2                |\n",
       "|9       |3                |\n",
       "|21      |4                |\n",
       "|8       |5                |\n",
       "|17      |6                |\n",
       "|52      |7                |\n",
       "|51      |8                |\n",
       "|76      |9                |\n",
       "|48      |10               |\n",
       "|28      |11               |\n",
       "|14      |12               |\n",
       "+--------+-----------------+\n",
       "\n"
      ]
     },
     "metadata": {
      "application/vnd.databricks.v1+output": {
       "addedWidgets": {},
       "arguments": {},
       "data": "+--------+-----------------+\n|count(1)|month(fetch_time)|\n+--------+-----------------+\n|46      |1                |\n|38      |2                |\n|9       |3                |\n|21      |4                |\n|8       |5                |\n|17      |6                |\n|52      |7                |\n|51      |8                |\n|76      |9                |\n|48      |10               |\n|28      |11               |\n|14      |12               |\n+--------+-----------------+\n\n",
       "datasetInfos": [],
       "metadata": {},
       "removedWidgets": [],
       "type": "ansi"
      }
     },
     "output_type": "display_data"
    }
   ],
   "source": [
    "url_surtkey_view = spark.sql(\"SELECT COUNT(*), MONTH(fetch_time)  FROM url_surtkey WHERE url_surtkey like '%clickhouse%' and url_surtkey like '%database%' GROUP BY  MONTH(fetch_time) ORDER BY MONTH(fetch_time) ASC\").show(truncate= False)"
   ]
  },
  {
   "cell_type": "code",
   "execution_count": 0,
   "metadata": {
    "application/vnd.databricks.v1+cell": {
     "inputWidgets": {},
     "nuid": "e5075fac-c213-48b7-b9e6-90c40a1758f1",
     "showTitle": false,
     "title": ""
    }
   },
   "outputs": [
    {
     "data": {
      "text/plain": [
       "+--------+-----------------+\n",
       "|count(1)|month(fetch_time)|\n",
       "+--------+-----------------+\n",
       "|872     |1                |\n",
       "|670     |2                |\n",
       "|210     |3                |\n",
       "|424     |4                |\n",
       "|296     |5                |\n",
       "|267     |6                |\n",
       "|998     |7                |\n",
       "|853     |8                |\n",
       "|641     |9                |\n",
       "|755     |10               |\n",
       "|244     |11               |\n",
       "|136     |12               |\n",
       "+--------+-----------------+\n",
       "\n"
      ]
     },
     "metadata": {
      "application/vnd.databricks.v1+output": {
       "addedWidgets": {},
       "arguments": {},
       "data": "+--------+-----------------+\n|count(1)|month(fetch_time)|\n+--------+-----------------+\n|872     |1                |\n|670     |2                |\n|210     |3                |\n|424     |4                |\n|296     |5                |\n|267     |6                |\n|998     |7                |\n|853     |8                |\n|641     |9                |\n|755     |10               |\n|244     |11               |\n|136     |12               |\n+--------+-----------------+\n\n",
       "datasetInfos": [],
       "metadata": {},
       "removedWidgets": [],
       "type": "ansi"
      }
     },
     "output_type": "display_data"
    }
   ],
   "source": [
    "url_surtkey_view = spark.sql(\"SELECT COUNT(*), MONTH(fetch_time)  FROM url_surtkey WHERE url_surtkey like '%spark%' and url_surtkey like '%database%' GROUP BY  MONTH(fetch_time) ORDER BY MONTH(fetch_time) ASC\").show(truncate= False)"
   ]
  },
  {
   "cell_type": "code",
   "execution_count": 0,
   "metadata": {
    "application/vnd.databricks.v1+cell": {
     "inputWidgets": {},
     "nuid": "0a9a0dc5-1cbb-4b1e-8284-146776b839f6",
     "showTitle": false,
     "title": ""
    }
   },
   "outputs": [
    {
     "data": {
      "text/plain": [
       "+--------+-----------------+\n",
       "|count(1)|month(fetch_time)|\n",
       "+--------+-----------------+\n",
       "|1537    |1                |\n",
       "|1023    |2                |\n",
       "|445     |3                |\n",
       "|1030    |4                |\n",
       "|641     |5                |\n",
       "|612     |6                |\n",
       "|1577    |7                |\n",
       "|1469    |8                |\n",
       "|1705    |9                |\n",
       "|1423    |10               |\n",
       "|923     |11               |\n",
       "|491     |12               |\n",
       "+--------+-----------------+\n",
       "\n"
      ]
     },
     "metadata": {
      "application/vnd.databricks.v1+output": {
       "addedWidgets": {},
       "arguments": {},
       "data": "+--------+-----------------+\n|count(1)|month(fetch_time)|\n+--------+-----------------+\n|1537    |1                |\n|1023    |2                |\n|445     |3                |\n|1030    |4                |\n|641     |5                |\n|612     |6                |\n|1577    |7                |\n|1469    |8                |\n|1705    |9                |\n|1423    |10               |\n|923     |11               |\n|491     |12               |\n+--------+-----------------+\n\n",
       "datasetInfos": [],
       "metadata": {},
       "removedWidgets": [],
       "type": "ansi"
      }
     },
     "output_type": "display_data"
    }
   ],
   "source": [
    "url_surtkey_view = spark.sql(\"SELECT COUNT(*), MONTH(fetch_time)  FROM url_surtkey WHERE url_surtkey like '%mongodb%' and url_surtkey like '%database%' GROUP BY  MONTH(fetch_time) ORDER BY MONTH(fetch_time) ASC\").show(truncate= False)"
   ]
  },
  {
   "cell_type": "code",
   "execution_count": 0,
   "metadata": {
    "application/vnd.databricks.v1+cell": {
     "inputWidgets": {},
     "nuid": "6cc035f2-0da7-4782-8219-a8bf2587e09c",
     "showTitle": false,
     "title": ""
    }
   },
   "outputs": [
    {
     "data": {
      "text/plain": [
       "+--------+-----------------+\n",
       "|count(1)|month(fetch_time)|\n",
       "+--------+-----------------+\n",
       "|1       |5                |\n",
       "|1       |10               |\n",
       "|4       |11               |\n",
       "|1       |12               |\n",
       "+--------+-----------------+\n",
       "\n"
      ]
     },
     "metadata": {
      "application/vnd.databricks.v1+output": {
       "addedWidgets": {},
       "arguments": {},
       "data": "+--------+-----------------+\n|count(1)|month(fetch_time)|\n+--------+-----------------+\n|1       |5                |\n|1       |10               |\n|4       |11               |\n|1       |12               |\n+--------+-----------------+\n\n",
       "datasetInfos": [],
       "metadata": {},
       "removedWidgets": [],
       "type": "ansi"
      }
     },
     "output_type": "display_data"
    }
   ],
   "source": [
    "url_surtkey_view = spark.sql(\"SELECT COUNT(*), MONTH(fetch_time)  FROM url_surtkey WHERE url_surtkey like '%duckdb%' and url_surtkey like '%database%' GROUP BY  MONTH(fetch_time) ORDER BY MONTH(fetch_time) ASC\").show(truncate= False)"
   ]
  },
  {
   "cell_type": "code",
   "execution_count": 0,
   "metadata": {
    "application/vnd.databricks.v1+cell": {
     "inputWidgets": {},
     "nuid": "bbed8199-82d1-4be0-bf48-54d3dc936a32",
     "showTitle": false,
     "title": ""
    }
   },
   "outputs": [
    {
     "data": {
      "text/plain": [
       "+--------+-----------------+\n",
       "|count(1)|month(fetch_time)|\n",
       "+--------+-----------------+\n",
       "|17604   |1                |\n",
       "|13538   |2                |\n",
       "|4750    |3                |\n",
       "|11936   |4                |\n",
       "|7590    |5                |\n",
       "|7066    |6                |\n",
       "|18780   |7                |\n",
       "|13829   |8                |\n",
       "|18983   |9                |\n",
       "|14856   |10               |\n",
       "|8519    |11               |\n",
       "|5282    |12               |\n",
       "+--------+-----------------+\n",
       "\n"
      ]
     },
     "metadata": {
      "application/vnd.databricks.v1+output": {
       "addedWidgets": {},
       "arguments": {},
       "data": "+--------+-----------------+\n|count(1)|month(fetch_time)|\n+--------+-----------------+\n|17604   |1                |\n|13538   |2                |\n|4750    |3                |\n|11936   |4                |\n|7590    |5                |\n|7066    |6                |\n|18780   |7                |\n|13829   |8                |\n|18983   |9                |\n|14856   |10               |\n|8519    |11               |\n|5282    |12               |\n+--------+-----------------+\n\n",
       "datasetInfos": [],
       "metadata": {},
       "removedWidgets": [],
       "type": "ansi"
      }
     },
     "output_type": "display_data"
    }
   ],
   "source": [
    "url_surtkey_view = spark.sql(\"SELECT COUNT(*), MONTH(fetch_time)  FROM url_surtkey WHERE url_surtkey like '%mysql%' and url_surtkey like '%database%' GROUP BY  MONTH(fetch_time) ORDER BY MONTH(fetch_time) ASC\").show(truncate= False)"
   ]
  },
  {
   "cell_type": "code",
   "execution_count": 0,
   "metadata": {
    "application/vnd.databricks.v1+cell": {
     "inputWidgets": {},
     "nuid": "317ba7d4-cd4b-41a4-a671-870f12b4fc19",
     "showTitle": false,
     "title": ""
    }
   },
   "outputs": [
    {
     "data": {
      "text/plain": [
       "+--------+-----------------+\n",
       "|count(1)|month(fetch_time)|\n",
       "+--------+-----------------+\n",
       "|932     |1                |\n",
       "|637     |2                |\n",
       "|236     |3                |\n",
       "|611     |4                |\n",
       "|436     |5                |\n",
       "|310     |6                |\n",
       "|980     |7                |\n",
       "|695     |8                |\n",
       "|1077    |9                |\n",
       "|913     |10               |\n",
       "|504     |11               |\n",
       "|359     |12               |\n",
       "+--------+-----------------+\n",
       "\n"
      ]
     },
     "metadata": {
      "application/vnd.databricks.v1+output": {
       "addedWidgets": {},
       "arguments": {},
       "data": "+--------+-----------------+\n|count(1)|month(fetch_time)|\n+--------+-----------------+\n|932     |1                |\n|637     |2                |\n|236     |3                |\n|611     |4                |\n|436     |5                |\n|310     |6                |\n|980     |7                |\n|695     |8                |\n|1077    |9                |\n|913     |10               |\n|504     |11               |\n|359     |12               |\n+--------+-----------------+\n\n",
       "datasetInfos": [],
       "metadata": {},
       "removedWidgets": [],
       "type": "ansi"
      }
     },
     "output_type": "display_data"
    }
   ],
   "source": [
    "url_surtkey_view = spark.sql(\"SELECT COUNT(*), MONTH(fetch_time)  FROM url_surtkey WHERE url_surtkey like '%mariadb%' and url_surtkey like '%database%' GROUP BY  MONTH(fetch_time) ORDER BY MONTH(fetch_time) ASC\").show(truncate= False)"
   ]
  },
  {
   "cell_type": "code",
   "execution_count": 0,
   "metadata": {
    "application/vnd.databricks.v1+cell": {
     "inputWidgets": {},
     "nuid": "4b71c549-dbf0-4291-992c-3851117c8682",
     "showTitle": false,
     "title": ""
    }
   },
   "outputs": [
    {
     "data": {
      "text/plain": [
       "+-----------------------------------------------------------------------------------------------------------------------------------------------------------+\n",
       "|url_surtkey                                                                                                                                                |\n",
       "+-----------------------------------------------------------------------------------------------------------------------------------------------------------+\n",
       "|com,avg)/en-za/installation-files-prd-rad                                                                                                                  |\n",
       "|com,atticusown)/collections/black-creative                                                                                                                 |\n",
       "|com,avg)/en-za/legal-documentation                                                                                                                         |\n",
       "|com,atticusown)/collections/black-creative/products/i-hope-something-wonderful-happens-to-you-vintage-unisex-jersey-short-sleeve-tee?variant=40704981631150|\n",
       "|com,avg)/en-za/license-retrieval                                                                                                                           |\n",
       "|com,atticusown)/collections/black-creative/products/i-hope-something-wonderful-happens-to-you-vintage-unisex-jersey-short-sleeve-tee?variant=40704981729454|\n",
       "|com,avg)/en-za/lp-safe-emailing                                                                                                                            |\n",
       "|com,atticusown)/collections/black-creative/products/i-hope-something-wonderful-happens-to-you-vintage-unisex-jersey-short-sleeve-tee?variant=40704981893294|\n",
       "|com,avg)/en-za/management-console                                                                                                                          |\n",
       "|com,atticusown)/collections/black-creative/products/i-hope-something-wonderful-happens-to-you-vintage-unisex-jersey-short-sleeve-tee?variant=40704981991598|\n",
       "|com,avg)/en-za/norman-eula                                                                                                                                 |\n",
       "|com,atticusown)/collections/black-creative/products/if-peopple-had-hearts-like-dogs-vintage-unisex-jersey-short-sleeve-tee?variant=40704999620782          |\n",
       "|com,avg)/en-za/norman-installers                                                                                                                           |\n",
       "|com,atticusown)/collections/black-creative/products/im-out-protect-your-peace-vintage-unisex-jersey-short-sleeve-tee?variant=40633329287342                |\n",
       "|com,avg)/en-za/online-research-faq                                                                                                                         |\n",
       "|com,atticusown)/collections/black-creative/products/you-are-fucking-dope-vintage-unisex-jersey-short-sleeve-tee?variant=40705344110766                     |\n",
       "|com,avg)/en-za/online-research-main                                                                                                                        |\n",
       "|com,atticusown)/collections/black-creative/products/you-are-fucking-dope-vintage-unisex-jersey-short-sleeve-tee?variant=40705344241838                     |\n",
       "|com,avg)/en-za/patch-management                                                                                                                            |\n",
       "|com,atticusown)/collections/black-creative/products/you-are-fucking-dope-vintage-unisex-jersey-short-sleeve-tee?variant=40705344438446                     |\n",
       "+-----------------------------------------------------------------------------------------------------------------------------------------------------------+\n",
       "only showing top 20 rows\n",
       "\n"
      ]
     },
     "metadata": {
      "application/vnd.databricks.v1+output": {
       "addedWidgets": {},
       "arguments": {},
       "data": "+-----------------------------------------------------------------------------------------------------------------------------------------------------------+\n|url_surtkey                                                                                                                                                |\n+-----------------------------------------------------------------------------------------------------------------------------------------------------------+\n|com,avg)/en-za/installation-files-prd-rad                                                                                                                  |\n|com,atticusown)/collections/black-creative                                                                                                                 |\n|com,avg)/en-za/legal-documentation                                                                                                                         |\n|com,atticusown)/collections/black-creative/products/i-hope-something-wonderful-happens-to-you-vintage-unisex-jersey-short-sleeve-tee?variant=40704981631150|\n|com,avg)/en-za/license-retrieval                                                                                                                           |\n|com,atticusown)/collections/black-creative/products/i-hope-something-wonderful-happens-to-you-vintage-unisex-jersey-short-sleeve-tee?variant=40704981729454|\n|com,avg)/en-za/lp-safe-emailing                                                                                                                            |\n|com,atticusown)/collections/black-creative/products/i-hope-something-wonderful-happens-to-you-vintage-unisex-jersey-short-sleeve-tee?variant=40704981893294|\n|com,avg)/en-za/management-console                                                                                                                          |\n|com,atticusown)/collections/black-creative/products/i-hope-something-wonderful-happens-to-you-vintage-unisex-jersey-short-sleeve-tee?variant=40704981991598|\n|com,avg)/en-za/norman-eula                                                                                                                                 |\n|com,atticusown)/collections/black-creative/products/if-peopple-had-hearts-like-dogs-vintage-unisex-jersey-short-sleeve-tee?variant=40704999620782          |\n|com,avg)/en-za/norman-installers                                                                                                                           |\n|com,atticusown)/collections/black-creative/products/im-out-protect-your-peace-vintage-unisex-jersey-short-sleeve-tee?variant=40633329287342                |\n|com,avg)/en-za/online-research-faq                                                                                                                         |\n|com,atticusown)/collections/black-creative/products/you-are-fucking-dope-vintage-unisex-jersey-short-sleeve-tee?variant=40705344110766                     |\n|com,avg)/en-za/online-research-main                                                                                                                        |\n|com,atticusown)/collections/black-creative/products/you-are-fucking-dope-vintage-unisex-jersey-short-sleeve-tee?variant=40705344241838                     |\n|com,avg)/en-za/patch-management                                                                                                                            |\n|com,atticusown)/collections/black-creative/products/you-are-fucking-dope-vintage-unisex-jersey-short-sleeve-tee?variant=40705344438446                     |\n+-----------------------------------------------------------------------------------------------------------------------------------------------------------+\nonly showing top 20 rows\n\n",
       "datasetInfos": [],
       "metadata": {},
       "removedWidgets": [],
       "type": "ansi"
      }
     },
     "output_type": "display_data"
    }
   ],
   "source": [
    "# /* 2021  */\n",
    "\n",
    "path = '/mnt/lsde/datasets/commoncrawl/cc-index/table/cc-main/warc/crawl=CC-MAIN-2021*/subset=warc'\n",
    "df = spark.read.parquet(path)\n",
    "df.createOrReplaceTempView(\"url_surtkey\")\n",
    "url_surtkey_view = spark.sql(\"SELECT url_surtkey FROM url_surtkey\").show(truncate= False)"
   ]
  },
  {
   "cell_type": "code",
   "execution_count": 0,
   "metadata": {
    "application/vnd.databricks.v1+cell": {
     "inputWidgets": {},
     "nuid": "4da950dd-dce2-457a-a290-f06c9a73ea6f",
     "showTitle": false,
     "title": ""
    }
   },
   "outputs": [
    {
     "data": {
      "text/plain": [
       "+----------+-------------+\n",
       "|count(1)  |URIs_permonth|\n",
       "+----------+-------------+\n",
       "|3401286407|1            |\n",
       "|965715419 |2            |\n",
       "|1771034464|3            |\n",
       "|3134424806|4            |\n",
       "|2632142465|5            |\n",
       "|2457631756|6            |\n",
       "|1943889612|7            |\n",
       "|1221200243|8            |\n",
       "|2959903779|9            |\n",
       "|3349178015|10           |\n",
       "|823623677 |11           |\n",
       "|1703452122|12           |\n",
       "+----------+-------------+\n",
       "\n"
      ]
     },
     "metadata": {
      "application/vnd.databricks.v1+output": {
       "addedWidgets": {},
       "arguments": {},
       "data": "+----------+-------------+\n|count(1)  |URIs_permonth|\n+----------+-------------+\n|3401286407|1            |\n|965715419 |2            |\n|1771034464|3            |\n|3134424806|4            |\n|2632142465|5            |\n|2457631756|6            |\n|1943889612|7            |\n|1221200243|8            |\n|2959903779|9            |\n|3349178015|10           |\n|823623677 |11           |\n|1703452122|12           |\n+----------+-------------+\n\n",
       "datasetInfos": [],
       "metadata": {},
       "removedWidgets": [],
       "type": "ansi"
      }
     },
     "output_type": "display_data"
    }
   ],
   "source": [
    "url_surtkey_view = spark.sql(\"SELECT  COUNT(*), MONTH(fetch_time) AS URIs_permonth FROM url_surtkey GROUP BY  MONTH(fetch_time) ORDER BY MONTH(fetch_time) ASC\").show(truncate= False)"
   ]
  },
  {
   "cell_type": "code",
   "execution_count": 0,
   "metadata": {
    "application/vnd.databricks.v1+cell": {
     "inputWidgets": {},
     "nuid": "2e037b66-263b-4923-b471-be01d1582557",
     "showTitle": false,
     "title": ""
    }
   },
   "outputs": [
    {
     "data": {
      "text/plain": [
       "+--------+-----------------+\n",
       "|count(1)|month(fetch_time)|\n",
       "+--------+-----------------+\n",
       "|34438   |1                |\n",
       "|10920   |2                |\n",
       "|19191   |3                |\n",
       "|35284   |4                |\n",
       "|29515   |5                |\n",
       "|26590   |6                |\n",
       "|20214   |7                |\n",
       "|12638   |8                |\n",
       "|30363   |9                |\n",
       "|40013   |10               |\n",
       "|10512   |11               |\n",
       "|21825   |12               |\n",
       "+--------+-----------------+\n",
       "\n"
      ]
     },
     "metadata": {
      "application/vnd.databricks.v1+output": {
       "addedWidgets": {},
       "arguments": {},
       "data": "+--------+-----------------+\n|count(1)|month(fetch_time)|\n+--------+-----------------+\n|34438   |1                |\n|10920   |2                |\n|19191   |3                |\n|35284   |4                |\n|29515   |5                |\n|26590   |6                |\n|20214   |7                |\n|12638   |8                |\n|30363   |9                |\n|40013   |10               |\n|10512   |11               |\n|21825   |12               |\n+--------+-----------------+\n\n",
       "datasetInfos": [],
       "metadata": {},
       "removedWidgets": [],
       "type": "ansi"
      }
     },
     "output_type": "display_data"
    }
   ],
   "source": [
    "url_surtkey_view = spark.sql(\"SELECT COUNT(*), MONTH(fetch_time)  FROM url_surtkey WHERE url_surtkey like '%oracle%' and url_surtkey like '%database%' GROUP BY MONTH(fetch_time) ORDER BY MONTH(fetch_time) ASC\").show(truncate= False)"
   ]
  },
  {
   "cell_type": "code",
   "execution_count": 0,
   "metadata": {
    "application/vnd.databricks.v1+cell": {
     "inputWidgets": {},
     "nuid": "24b3da85-6f47-474b-bd1a-1051c179e18f",
     "showTitle": false,
     "title": ""
    }
   },
   "outputs": [
    {
     "data": {
      "text/plain": [
       "+--------+-----------------+\n",
       "|count(1)|month(fetch_time)|\n",
       "+--------+-----------------+\n",
       "|3274    |1                |\n",
       "|1269    |2                |\n",
       "|2258    |3                |\n",
       "|2511    |4                |\n",
       "|2733    |5                |\n",
       "|2517    |6                |\n",
       "|1803    |7                |\n",
       "|1096    |8                |\n",
       "|3444    |9                |\n",
       "|4558    |10               |\n",
       "|1353    |11               |\n",
       "|2868    |12               |\n",
       "+--------+-----------------+\n",
       "\n"
      ]
     },
     "metadata": {
      "application/vnd.databricks.v1+output": {
       "addedWidgets": {},
       "arguments": {},
       "data": "+--------+-----------------+\n|count(1)|month(fetch_time)|\n+--------+-----------------+\n|3274    |1                |\n|1269    |2                |\n|2258    |3                |\n|2511    |4                |\n|2733    |5                |\n|2517    |6                |\n|1803    |7                |\n|1096    |8                |\n|3444    |9                |\n|4558    |10               |\n|1353    |11               |\n|2868    |12               |\n+--------+-----------------+\n\n",
       "datasetInfos": [],
       "metadata": {},
       "removedWidgets": [],
       "type": "ansi"
      }
     },
     "output_type": "display_data"
    }
   ],
   "source": [
    "url_surtkey_view = spark.sql(\"SELECT COUNT(*), MONTH(fetch_time)  FROM url_surtkey WHERE url_surtkey like '%microsoft%' and url_surtkey like '%sql%' and url_surtkey like '%server%' and url_surtkey like '%database%' GROUP BY  MONTH(fetch_time) ORDER BY MONTH(fetch_time) ASC\").show(truncate= False)"
   ]
  },
  {
   "cell_type": "code",
   "execution_count": 0,
   "metadata": {
    "application/vnd.databricks.v1+cell": {
     "inputWidgets": {},
     "nuid": "5551c049-73b6-4cde-aa2c-3c6e23376dbe",
     "showTitle": false,
     "title": ""
    }
   },
   "outputs": [
    {
     "data": {
      "text/plain": [
       "+--------+-----------------+\n",
       "|count(1)|month(fetch_time)|\n",
       "+--------+-----------------+\n",
       "|5038    |1                |\n",
       "|1591    |2                |\n",
       "|2800    |3                |\n",
       "|4685    |4                |\n",
       "|4578    |5                |\n",
       "|4071    |6                |\n",
       "|3341    |7                |\n",
       "|2066    |8                |\n",
       "|4892    |9                |\n",
       "|6128    |10               |\n",
       "|1506    |11               |\n",
       "|3305    |12               |\n",
       "+--------+-----------------+\n",
       "\n"
      ]
     },
     "metadata": {
      "application/vnd.databricks.v1+output": {
       "addedWidgets": {},
       "arguments": {},
       "data": "+--------+-----------------+\n|count(1)|month(fetch_time)|\n+--------+-----------------+\n|5038    |1                |\n|1591    |2                |\n|2800    |3                |\n|4685    |4                |\n|4578    |5                |\n|4071    |6                |\n|3341    |7                |\n|2066    |8                |\n|4892    |9                |\n|6128    |10               |\n|1506    |11               |\n|3305    |12               |\n+--------+-----------------+\n\n",
       "datasetInfos": [],
       "metadata": {},
       "removedWidgets": [],
       "type": "ansi"
      }
     },
     "output_type": "display_data"
    }
   ],
   "source": [
    "url_surtkey_view = spark.sql(\"SELECT COUNT(*), MONTH(fetch_time)  FROM url_surtkey WHERE url_surtkey like '%postgresql%' and url_surtkey like '%database%' GROUP BY  MONTH(fetch_time) ORDER BY MONTH(fetch_time) ASC\").show(truncate= False)"
   ]
  },
  {
   "cell_type": "code",
   "execution_count": 0,
   "metadata": {
    "application/vnd.databricks.v1+cell": {
     "inputWidgets": {},
     "nuid": "be552749-0813-40a4-8a94-1150f3ae6920",
     "showTitle": false,
     "title": ""
    }
   },
   "outputs": [
    {
     "data": {
      "text/plain": [
       "+--------+-----------------+\n",
       "|count(1)|month(fetch_time)|\n",
       "+--------+-----------------+\n",
       "|82      |1                |\n",
       "|23      |2                |\n",
       "|62      |3                |\n",
       "|88      |4                |\n",
       "|46      |5                |\n",
       "|51      |6                |\n",
       "|63      |7                |\n",
       "|15      |8                |\n",
       "|71      |9                |\n",
       "|110     |10               |\n",
       "|17      |11               |\n",
       "|29      |12               |\n",
       "+--------+-----------------+\n",
       "\n"
      ]
     },
     "metadata": {
      "application/vnd.databricks.v1+output": {
       "addedWidgets": {},
       "arguments": {},
       "data": "+--------+-----------------+\n|count(1)|month(fetch_time)|\n+--------+-----------------+\n|82      |1                |\n|23      |2                |\n|62      |3                |\n|88      |4                |\n|46      |5                |\n|51      |6                |\n|63      |7                |\n|15      |8                |\n|71      |9                |\n|110     |10               |\n|17      |11               |\n|29      |12               |\n+--------+-----------------+\n\n",
       "datasetInfos": [],
       "metadata": {},
       "removedWidgets": [],
       "type": "ansi"
      }
     },
     "output_type": "display_data"
    }
   ],
   "source": [
    "url_surtkey_view = spark.sql(\"SELECT COUNT(*), MONTH(fetch_time)  FROM url_surtkey WHERE url_surtkey like '%clickhouse%' and url_surtkey like '%database%' GROUP BY  MONTH(fetch_time) ORDER BY MONTH(fetch_time) ASC\").show(truncate= False)"
   ]
  },
  {
   "cell_type": "code",
   "execution_count": 0,
   "metadata": {
    "application/vnd.databricks.v1+cell": {
     "inputWidgets": {},
     "nuid": "766b66c6-fef0-472a-98c3-5ac565fbff9d",
     "showTitle": false,
     "title": ""
    }
   },
   "outputs": [
    {
     "data": {
      "text/plain": [
       "+--------+-----------------+\n",
       "|count(1)|month(fetch_time)|\n",
       "+--------+-----------------+\n",
       "|498     |1                |\n",
       "|138     |2                |\n",
       "|244     |3                |\n",
       "|573     |4                |\n",
       "|358     |5                |\n",
       "|442     |6                |\n",
       "|294     |7                |\n",
       "|264     |8                |\n",
       "|587     |9                |\n",
       "|902     |10               |\n",
       "|355     |11               |\n",
       "|502     |12               |\n",
       "+--------+-----------------+\n",
       "\n"
      ]
     },
     "metadata": {
      "application/vnd.databricks.v1+output": {
       "addedWidgets": {},
       "arguments": {},
       "data": "+--------+-----------------+\n|count(1)|month(fetch_time)|\n+--------+-----------------+\n|498     |1                |\n|138     |2                |\n|244     |3                |\n|573     |4                |\n|358     |5                |\n|442     |6                |\n|294     |7                |\n|264     |8                |\n|587     |9                |\n|902     |10               |\n|355     |11               |\n|502     |12               |\n+--------+-----------------+\n\n",
       "datasetInfos": [],
       "metadata": {},
       "removedWidgets": [],
       "type": "ansi"
      }
     },
     "output_type": "display_data"
    }
   ],
   "source": [
    "url_surtkey_view = spark.sql(\"SELECT COUNT(*), MONTH(fetch_time)  FROM url_surtkey WHERE url_surtkey like '%spark%' and url_surtkey like '%database%' GROUP BY  MONTH(fetch_time) ORDER BY MONTH(fetch_time) ASC\").show(truncate= False)"
   ]
  },
  {
   "cell_type": "code",
   "execution_count": 0,
   "metadata": {
    "application/vnd.databricks.v1+cell": {
     "inputWidgets": {},
     "nuid": "5f3133bd-c8fb-4247-83fd-9ab49e7df981",
     "showTitle": false,
     "title": ""
    }
   },
   "outputs": [
    {
     "data": {
      "text/plain": [
       "+--------+-----------------+\n",
       "|count(1)|month(fetch_time)|\n",
       "+--------+-----------------+\n",
       "|1691    |1                |\n",
       "|589     |2                |\n",
       "|991     |3                |\n",
       "|2189    |4                |\n",
       "|1500    |5                |\n",
       "|1365    |6                |\n",
       "|1486    |7                |\n",
       "|955     |8                |\n",
       "|1842    |9                |\n",
       "|2580    |10               |\n",
       "|520     |11               |\n",
       "|1173    |12               |\n",
       "+--------+-----------------+\n",
       "\n"
      ]
     },
     "metadata": {
      "application/vnd.databricks.v1+output": {
       "addedWidgets": {},
       "arguments": {},
       "data": "+--------+-----------------+\n|count(1)|month(fetch_time)|\n+--------+-----------------+\n|1691    |1                |\n|589     |2                |\n|991     |3                |\n|2189    |4                |\n|1500    |5                |\n|1365    |6                |\n|1486    |7                |\n|955     |8                |\n|1842    |9                |\n|2580    |10               |\n|520     |11               |\n|1173    |12               |\n+--------+-----------------+\n\n",
       "datasetInfos": [],
       "metadata": {},
       "removedWidgets": [],
       "type": "ansi"
      }
     },
     "output_type": "display_data"
    }
   ],
   "source": [
    "url_surtkey_view = spark.sql(\"SELECT COUNT(*), MONTH(fetch_time)  FROM url_surtkey WHERE url_surtkey like '%mongodb%' and url_surtkey like '%database%' GROUP BY  MONTH(fetch_time) ORDER BY MONTH(fetch_time) ASC\").show(truncate= False)"
   ]
  },
  {
   "cell_type": "code",
   "execution_count": 0,
   "metadata": {
    "application/vnd.databricks.v1+cell": {
     "inputWidgets": {},
     "nuid": "210dba3f-8e00-419e-8c15-325dbb2f39f7",
     "showTitle": false,
     "title": ""
    }
   },
   "outputs": [
    {
     "data": {
      "text/plain": [
       "+--------+-----------------+\n",
       "|count(1)|month(fetch_time)|\n",
       "+--------+-----------------+\n",
       "|2       |1                |\n",
       "|1       |3                |\n",
       "|2       |4                |\n",
       "|1       |5                |\n",
       "|6       |6                |\n",
       "|6       |7                |\n",
       "|6       |8                |\n",
       "|13      |9                |\n",
       "|14      |10               |\n",
       "|1       |11               |\n",
       "|5       |12               |\n",
       "+--------+-----------------+\n",
       "\n"
      ]
     },
     "metadata": {
      "application/vnd.databricks.v1+output": {
       "addedWidgets": {},
       "arguments": {},
       "data": "+--------+-----------------+\n|count(1)|month(fetch_time)|\n+--------+-----------------+\n|2       |1                |\n|1       |3                |\n|2       |4                |\n|1       |5                |\n|6       |6                |\n|6       |7                |\n|6       |8                |\n|13      |9                |\n|14      |10               |\n|1       |11               |\n|5       |12               |\n+--------+-----------------+\n\n",
       "datasetInfos": [],
       "metadata": {},
       "removedWidgets": [],
       "type": "ansi"
      }
     },
     "output_type": "display_data"
    }
   ],
   "source": [
    "url_surtkey_view = spark.sql(\"SELECT COUNT(*), MONTH(fetch_time)  FROM url_surtkey WHERE url_surtkey like '%duckdb%' and url_surtkey like '%database%' GROUP BY  MONTH(fetch_time) ORDER BY MONTH(fetch_time) ASC\").show(truncate= False)"
   ]
  },
  {
   "cell_type": "code",
   "execution_count": 0,
   "metadata": {
    "application/vnd.databricks.v1+cell": {
     "inputWidgets": {},
     "nuid": "449f5068-50ea-4888-be16-54b4e22f3deb",
     "showTitle": false,
     "title": ""
    }
   },
   "outputs": [
    {
     "data": {
      "text/plain": [
       "+--------+-----------------+\n",
       "|count(1)|month(fetch_time)|\n",
       "+--------+-----------------+\n",
       "|17713   |1                |\n",
       "|5845    |2                |\n",
       "|10020   |3                |\n",
       "|16639   |4                |\n",
       "|14874   |5                |\n",
       "|13349   |6                |\n",
       "|10977   |7                |\n",
       "|6988    |8                |\n",
       "|17011   |9                |\n",
       "|21317   |10               |\n",
       "|4708    |11               |\n",
       "|9752    |12               |\n",
       "+--------+-----------------+\n",
       "\n"
      ]
     },
     "metadata": {
      "application/vnd.databricks.v1+output": {
       "addedWidgets": {},
       "arguments": {},
       "data": "+--------+-----------------+\n|count(1)|month(fetch_time)|\n+--------+-----------------+\n|17713   |1                |\n|5845    |2                |\n|10020   |3                |\n|16639   |4                |\n|14874   |5                |\n|13349   |6                |\n|10977   |7                |\n|6988    |8                |\n|17011   |9                |\n|21317   |10               |\n|4708    |11               |\n|9752    |12               |\n+--------+-----------------+\n\n",
       "datasetInfos": [],
       "metadata": {},
       "removedWidgets": [],
       "type": "ansi"
      }
     },
     "output_type": "display_data"
    }
   ],
   "source": [
    "url_surtkey_view = spark.sql(\"SELECT COUNT(*), MONTH(fetch_time)  FROM url_surtkey WHERE url_surtkey like '%mysql%' and url_surtkey like '%database%' GROUP BY  MONTH(fetch_time) ORDER BY MONTH(fetch_time) ASC\").show(truncate= False)"
   ]
  },
  {
   "cell_type": "code",
   "execution_count": 0,
   "metadata": {
    "application/vnd.databricks.v1+cell": {
     "inputWidgets": {},
     "nuid": "ab736157-b8d4-4113-975c-348eaede4e9a",
     "showTitle": false,
     "title": ""
    }
   },
   "outputs": [
    {
     "data": {
      "text/plain": [
       "+--------+-----------------+\n",
       "|count(1)|month(fetch_time)|\n",
       "+--------+-----------------+\n",
       "|1208    |1                |\n",
       "|355     |2                |\n",
       "|605     |3                |\n",
       "|1063    |4                |\n",
       "|938     |5                |\n",
       "|1040    |6                |\n",
       "|907     |7                |\n",
       "|510     |8                |\n",
       "|1867    |9                |\n",
       "|1946    |10               |\n",
       "|392     |11               |\n",
       "|969     |12               |\n",
       "+--------+-----------------+\n",
       "\n"
      ]
     },
     "metadata": {
      "application/vnd.databricks.v1+output": {
       "addedWidgets": {},
       "arguments": {},
       "data": "+--------+-----------------+\n|count(1)|month(fetch_time)|\n+--------+-----------------+\n|1208    |1                |\n|355     |2                |\n|605     |3                |\n|1063    |4                |\n|938     |5                |\n|1040    |6                |\n|907     |7                |\n|510     |8                |\n|1867    |9                |\n|1946    |10               |\n|392     |11               |\n|969     |12               |\n+--------+-----------------+\n\n",
       "datasetInfos": [],
       "metadata": {},
       "removedWidgets": [],
       "type": "ansi"
      }
     },
     "output_type": "display_data"
    }
   ],
   "source": [
    "url_surtkey_view = spark.sql(\"SELECT COUNT(*), MONTH(fetch_time)  FROM url_surtkey WHERE url_surtkey like '%mariadb%' and url_surtkey like '%database%' GROUP BY  MONTH(fetch_time) ORDER BY MONTH(fetch_time) ASC\").show(truncate= False)"
   ]
  },
  {
   "cell_type": "code",
   "execution_count": 0,
   "metadata": {
    "application/vnd.databricks.v1+cell": {
     "inputWidgets": {},
     "nuid": "d285e947-48dd-4bd3-92ac-b05c2bbc9574",
     "showTitle": false,
     "title": ""
    }
   },
   "outputs": [
    {
     "data": {
      "text/plain": [
       "+-------------------------------------------------------------------------------------------------------------------------------------------------------------------------+\n",
       "|url_surtkey                                                                                                                                                              |\n",
       "+-------------------------------------------------------------------------------------------------------------------------------------------------------------------------+\n",
       "|de,osi-consult)/kontakt                                                                                                                                                  |\n",
       "|de,osi-consult)/sitemap                                                                                                                                                  |\n",
       "|de,osi-design)/                                                                                                                                                          |\n",
       "|de,osi-ig)/cms                                                                                                                                                           |\n",
       "|de,osi-ig)/cms/index.php                                                                                                                                                 |\n",
       "|de,osi-ig)/cms/index.php                                                                                                                                                 |\n",
       "|de,osi-ig)/cms/index.php?catid=41:inhaltfaq&id=52:wie-werde-ich-mitglied-der-osi-ig&itemid=62&layout=default&option=com_content&page=&print=1&tmpl=component&view=article|\n",
       "|de,osi-ig)/cms/index.php?id=47&itemid=53&option=com_content&view=article                                                                                                 |\n",
       "|de,osi-ig)/cms/index.php?id=51&itemid=60&option=com_content&view=article                                                                                                 |\n",
       "|de,osi-ig)/cms/index.php?id=570&itemid=56&option=com_agora&p=4&task=topic                                                                                                |\n",
       "|de,osi-ig)/cms/index.php?id=653&itemid=56&option=com_agora&p=1&task=topic                                                                                                |\n",
       "|de,osi-ig)/cms/index.php?id=79&itemid=64&option=com_content&view=article                                                                                                 |\n",
       "|de,osi-ig)/cms/index.php?itemid=41&option=com_phocagallery&view=categories                                                                                               |\n",
       "|de,osi-ig)/cms/index.php?option=com_user&view=register                                                                                                                   |\n",
       "|de,osi-ig)/cms/index.php?option=com_user&view=remind                                                                                                                     |\n",
       "|de,osi-ig)/cms/index.php?option=com_user&view=reset                                                                                                                      |\n",
       "|de,osi-ol)/                                                                                                                                                              |\n",
       "|de,osi-ol)/datenschutz                                                                                                                                                   |\n",
       "|de,osi-ol)/fachanwaltslehrgaenge                                                                                                                                         |\n",
       "|de,osi-ol)/files/broschueren/osi_broschuerefw_2022_web_1121.pdf                                                                                                          |\n",
       "+-------------------------------------------------------------------------------------------------------------------------------------------------------------------------+\n",
       "only showing top 20 rows\n",
       "\n"
      ]
     },
     "metadata": {
      "application/vnd.databricks.v1+output": {
       "addedWidgets": {},
       "arguments": {},
       "data": "+-------------------------------------------------------------------------------------------------------------------------------------------------------------------------+\n|url_surtkey                                                                                                                                                              |\n+-------------------------------------------------------------------------------------------------------------------------------------------------------------------------+\n|de,osi-consult)/kontakt                                                                                                                                                  |\n|de,osi-consult)/sitemap                                                                                                                                                  |\n|de,osi-design)/                                                                                                                                                          |\n|de,osi-ig)/cms                                                                                                                                                           |\n|de,osi-ig)/cms/index.php                                                                                                                                                 |\n|de,osi-ig)/cms/index.php                                                                                                                                                 |\n|de,osi-ig)/cms/index.php?catid=41:inhaltfaq&id=52:wie-werde-ich-mitglied-der-osi-ig&itemid=62&layout=default&option=com_content&page=&print=1&tmpl=component&view=article|\n|de,osi-ig)/cms/index.php?id=47&itemid=53&option=com_content&view=article                                                                                                 |\n|de,osi-ig)/cms/index.php?id=51&itemid=60&option=com_content&view=article                                                                                                 |\n|de,osi-ig)/cms/index.php?id=570&itemid=56&option=com_agora&p=4&task=topic                                                                                                |\n|de,osi-ig)/cms/index.php?id=653&itemid=56&option=com_agora&p=1&task=topic                                                                                                |\n|de,osi-ig)/cms/index.php?id=79&itemid=64&option=com_content&view=article                                                                                                 |\n|de,osi-ig)/cms/index.php?itemid=41&option=com_phocagallery&view=categories                                                                                               |\n|de,osi-ig)/cms/index.php?option=com_user&view=register                                                                                                                   |\n|de,osi-ig)/cms/index.php?option=com_user&view=remind                                                                                                                     |\n|de,osi-ig)/cms/index.php?option=com_user&view=reset                                                                                                                      |\n|de,osi-ol)/                                                                                                                                                              |\n|de,osi-ol)/datenschutz                                                                                                                                                   |\n|de,osi-ol)/fachanwaltslehrgaenge                                                                                                                                         |\n|de,osi-ol)/files/broschueren/osi_broschuerefw_2022_web_1121.pdf                                                                                                          |\n+-------------------------------------------------------------------------------------------------------------------------------------------------------------------------+\nonly showing top 20 rows\n\n",
       "datasetInfos": [],
       "metadata": {},
       "removedWidgets": [],
       "type": "ansi"
      }
     },
     "output_type": "display_data"
    }
   ],
   "source": [
    "# /* 2022  */\n",
    "\n",
    "path = '/mnt/lsde/datasets/commoncrawl/cc-index/table/cc-main/warc/crawl=CC-MAIN-2022*/subset=warc'\n",
    "df = spark.read.parquet(path)\n",
    "df.createOrReplaceTempView(\"url_surtkey\")\n",
    "url_surtkey_view = spark.sql(\"SELECT url_surtkey FROM url_surtkey\").show(truncate= False)"
   ]
  },
  {
   "cell_type": "code",
   "execution_count": 0,
   "metadata": {
    "application/vnd.databricks.v1+cell": {
     "inputWidgets": {},
     "nuid": "3d5ca730-58de-41cb-bf7e-f24c1dc33f41",
     "showTitle": false,
     "title": ""
    }
   },
   "outputs": [
    {
     "data": {
      "text/plain": [
       "+----------+-------------+\n",
       "|count(1)  |URIs_permonth|\n",
       "+----------+-------------+\n",
       "|2986392030|1            |\n",
       "|3449824215|5            |\n",
       "|1501383132|6            |\n",
       "|1608226540|7            |\n",
       "|2588690250|8            |\n",
       "|1531960756|9            |\n",
       "|1644802292|10           |\n",
       "+----------+-------------+\n",
       "\n"
      ]
     },
     "metadata": {
      "application/vnd.databricks.v1+output": {
       "addedWidgets": {},
       "arguments": {},
       "data": "+----------+-------------+\n|count(1)  |URIs_permonth|\n+----------+-------------+\n|2986392030|1            |\n|3449824215|5            |\n|1501383132|6            |\n|1608226540|7            |\n|2588690250|8            |\n|1531960756|9            |\n|1644802292|10           |\n+----------+-------------+\n\n",
       "datasetInfos": [],
       "metadata": {},
       "removedWidgets": [],
       "type": "ansi"
      }
     },
     "output_type": "display_data"
    }
   ],
   "source": [
    "url_surtkey_view = spark.sql(\"SELECT  COUNT(*), MONTH(fetch_time) AS URIs_permonth FROM url_surtkey GROUP BY  MONTH(fetch_time) ORDER BY MONTH(fetch_time) ASC\").show(truncate= False)"
   ]
  },
  {
   "cell_type": "code",
   "execution_count": 0,
   "metadata": {
    "application/vnd.databricks.v1+cell": {
     "inputWidgets": {},
     "nuid": "cb276a1b-d880-4a4c-aac3-eecba6295ec7",
     "showTitle": false,
     "title": ""
    }
   },
   "outputs": [
    {
     "data": {
      "text/plain": [
       "+--------+-----------------+\n",
       "|count(1)|month(fetch_time)|\n",
       "+--------+-----------------+\n",
       "|32976   |1                |\n",
       "|36646   |5                |\n",
       "|17971   |6                |\n",
       "|17962   |7                |\n",
       "|33953   |8                |\n",
       "|17457   |9                |\n",
       "|19658   |10               |\n",
       "+--------+-----------------+\n",
       "\n"
      ]
     },
     "metadata": {
      "application/vnd.databricks.v1+output": {
       "addedWidgets": {},
       "arguments": {},
       "data": "+--------+-----------------+\n|count(1)|month(fetch_time)|\n+--------+-----------------+\n|32976   |1                |\n|36646   |5                |\n|17971   |6                |\n|17962   |7                |\n|33953   |8                |\n|17457   |9                |\n|19658   |10               |\n+--------+-----------------+\n\n",
       "datasetInfos": [],
       "metadata": {},
       "removedWidgets": [],
       "type": "ansi"
      }
     },
     "output_type": "display_data"
    }
   ],
   "source": [
    "url_surtkey_view = spark.sql(\"SELECT COUNT(*), MONTH(fetch_time)  FROM url_surtkey WHERE url_surtkey like '%oracle%' and url_surtkey like '%database%' GROUP BY MONTH(fetch_time) ORDER BY MONTH(fetch_time) ASC\").show(truncate= False)"
   ]
  },
  {
   "cell_type": "code",
   "execution_count": 0,
   "metadata": {
    "application/vnd.databricks.v1+cell": {
     "inputWidgets": {},
     "nuid": "68339598-e1ca-40c2-af7c-bb066b843c80",
     "showTitle": false,
     "title": ""
    }
   },
   "outputs": [
    {
     "data": {
      "text/plain": [
       "+--------+-----------------+\n",
       "|count(1)|month(fetch_time)|\n",
       "+--------+-----------------+\n",
       "|3853    |1                |\n",
       "|3913    |5                |\n",
       "|2074    |6                |\n",
       "|2075    |7                |\n",
       "|4197    |8                |\n",
       "|2472    |9                |\n",
       "|2718    |10               |\n",
       "+--------+-----------------+\n",
       "\n"
      ]
     },
     "metadata": {
      "application/vnd.databricks.v1+output": {
       "addedWidgets": {},
       "arguments": {},
       "data": "+--------+-----------------+\n|count(1)|month(fetch_time)|\n+--------+-----------------+\n|3853    |1                |\n|3913    |5                |\n|2074    |6                |\n|2075    |7                |\n|4197    |8                |\n|2472    |9                |\n|2718    |10               |\n+--------+-----------------+\n\n",
       "datasetInfos": [],
       "metadata": {},
       "removedWidgets": [],
       "type": "ansi"
      }
     },
     "output_type": "display_data"
    }
   ],
   "source": [
    "url_surtkey_view = spark.sql(\"SELECT COUNT(*), MONTH(fetch_time)  FROM url_surtkey WHERE url_surtkey like '%microsoft%' and url_surtkey like '%sql%' and url_surtkey like '%server%' and url_surtkey like '%database%' GROUP BY  MONTH(fetch_time) ORDER BY MONTH(fetch_time) ASC\").show(truncate= False)"
   ]
  },
  {
   "cell_type": "code",
   "execution_count": 0,
   "metadata": {
    "application/vnd.databricks.v1+cell": {
     "inputWidgets": {},
     "nuid": "89a5483d-eb4c-4d84-a5aa-ba7234ef3fa9",
     "showTitle": false,
     "title": ""
    }
   },
   "outputs": [
    {
     "data": {
      "text/plain": [
       "+--------+-----------------+\n",
       "|count(1)|month(fetch_time)|\n",
       "+--------+-----------------+\n",
       "|6009    |1                |\n",
       "|6839    |5                |\n",
       "|2729    |6                |\n",
       "|3069    |7                |\n",
       "|4871    |8                |\n",
       "|2991    |9                |\n",
       "|2990    |10               |\n",
       "+--------+-----------------+\n",
       "\n"
      ]
     },
     "metadata": {
      "application/vnd.databricks.v1+output": {
       "addedWidgets": {},
       "arguments": {},
       "data": "+--------+-----------------+\n|count(1)|month(fetch_time)|\n+--------+-----------------+\n|6009    |1                |\n|6839    |5                |\n|2729    |6                |\n|3069    |7                |\n|4871    |8                |\n|2991    |9                |\n|2990    |10               |\n+--------+-----------------+\n\n",
       "datasetInfos": [],
       "metadata": {},
       "removedWidgets": [],
       "type": "ansi"
      }
     },
     "output_type": "display_data"
    }
   ],
   "source": [
    "url_surtkey_view = spark.sql(\"SELECT COUNT(*), MONTH(fetch_time)  FROM url_surtkey WHERE url_surtkey like '%postgresql%' and url_surtkey like '%database%' GROUP BY  MONTH(fetch_time) ORDER BY MONTH(fetch_time) ASC\").show(truncate= False)"
   ]
  },
  {
   "cell_type": "code",
   "execution_count": 0,
   "metadata": {
    "application/vnd.databricks.v1+cell": {
     "inputWidgets": {},
     "nuid": "66dc1318-7156-455a-92b3-ad8f5c7618dc",
     "showTitle": false,
     "title": ""
    }
   },
   "outputs": [
    {
     "data": {
      "text/plain": [
       "+--------+-----------------+\n",
       "|count(1)|month(fetch_time)|\n",
       "+--------+-----------------+\n",
       "|86      |1                |\n",
       "|141     |5                |\n",
       "|40      |6                |\n",
       "|54      |7                |\n",
       "|91      |8                |\n",
       "|47      |9                |\n",
       "|48      |10               |\n",
       "+--------+-----------------+\n",
       "\n"
      ]
     },
     "metadata": {
      "application/vnd.databricks.v1+output": {
       "addedWidgets": {},
       "arguments": {},
       "data": "+--------+-----------------+\n|count(1)|month(fetch_time)|\n+--------+-----------------+\n|86      |1                |\n|141     |5                |\n|40      |6                |\n|54      |7                |\n|91      |8                |\n|47      |9                |\n|48      |10               |\n+--------+-----------------+\n\n",
       "datasetInfos": [],
       "metadata": {},
       "removedWidgets": [],
       "type": "ansi"
      }
     },
     "output_type": "display_data"
    }
   ],
   "source": [
    "url_surtkey_view = spark.sql(\"SELECT COUNT(*), MONTH(fetch_time)  FROM url_surtkey WHERE url_surtkey like '%clickhouse%' and url_surtkey like '%database%' GROUP BY  MONTH(fetch_time) ORDER BY MONTH(fetch_time) ASC\").show(truncate= False)"
   ]
  },
  {
   "cell_type": "code",
   "execution_count": 0,
   "metadata": {
    "application/vnd.databricks.v1+cell": {
     "inputWidgets": {},
     "nuid": "5351bca4-56b8-4c68-b413-30cf3f299ddd",
     "showTitle": false,
     "title": ""
    }
   },
   "outputs": [
    {
     "data": {
      "text/plain": [
       "+--------+-----------------+\n",
       "|count(1)|month(fetch_time)|\n",
       "+--------+-----------------+\n",
       "|1032    |1                |\n",
       "|1021    |5                |\n",
       "|454     |6                |\n",
       "|643     |7                |\n",
       "|733     |8                |\n",
       "|176     |9                |\n",
       "|217     |10               |\n",
       "+--------+-----------------+\n",
       "\n"
      ]
     },
     "metadata": {
      "application/vnd.databricks.v1+output": {
       "addedWidgets": {},
       "arguments": {},
       "data": "+--------+-----------------+\n|count(1)|month(fetch_time)|\n+--------+-----------------+\n|1032    |1                |\n|1021    |5                |\n|454     |6                |\n|643     |7                |\n|733     |8                |\n|176     |9                |\n|217     |10               |\n+--------+-----------------+\n\n",
       "datasetInfos": [],
       "metadata": {},
       "removedWidgets": [],
       "type": "ansi"
      }
     },
     "output_type": "display_data"
    }
   ],
   "source": [
    "url_surtkey_view = spark.sql(\"SELECT COUNT(*), MONTH(fetch_time)  FROM url_surtkey WHERE url_surtkey like '%spark%' and url_surtkey like '%database%' GROUP BY  MONTH(fetch_time) ORDER BY MONTH(fetch_time) ASC\").show(truncate= False)"
   ]
  },
  {
   "cell_type": "code",
   "execution_count": 0,
   "metadata": {
    "application/vnd.databricks.v1+cell": {
     "inputWidgets": {},
     "nuid": "5e04fc3e-4b9f-40a9-92ab-a3f9f092de7e",
     "showTitle": false,
     "title": ""
    }
   },
   "outputs": [
    {
     "data": {
      "text/plain": [
       "+--------+-----------------+\n",
       "|count(1)|month(fetch_time)|\n",
       "+--------+-----------------+\n",
       "|2028    |1                |\n",
       "|2998    |5                |\n",
       "|1525    |6                |\n",
       "|1469    |7                |\n",
       "|2317    |8                |\n",
       "|1340    |9                |\n",
       "|1352    |10               |\n",
       "+--------+-----------------+\n",
       "\n"
      ]
     },
     "metadata": {
      "application/vnd.databricks.v1+output": {
       "addedWidgets": {},
       "arguments": {},
       "data": "+--------+-----------------+\n|count(1)|month(fetch_time)|\n+--------+-----------------+\n|2028    |1                |\n|2998    |5                |\n|1525    |6                |\n|1469    |7                |\n|2317    |8                |\n|1340    |9                |\n|1352    |10               |\n+--------+-----------------+\n\n",
       "datasetInfos": [],
       "metadata": {},
       "removedWidgets": [],
       "type": "ansi"
      }
     },
     "output_type": "display_data"
    }
   ],
   "source": [
    "url_surtkey_view = spark.sql(\"SELECT COUNT(*), MONTH(fetch_time)  FROM url_surtkey WHERE url_surtkey like '%mongodb%' and url_surtkey like '%database%' GROUP BY  MONTH(fetch_time) ORDER BY MONTH(fetch_time) ASC\").show(truncate= False)"
   ]
  },
  {
   "cell_type": "code",
   "execution_count": 0,
   "metadata": {
    "application/vnd.databricks.v1+cell": {
     "inputWidgets": {},
     "nuid": "7de74474-710e-4b8b-b563-418d6aa8092a",
     "showTitle": false,
     "title": ""
    }
   },
   "outputs": [
    {
     "data": {
      "text/plain": [
       "+--------+-----------------+\n",
       "|count(1)|month(fetch_time)|\n",
       "+--------+-----------------+\n",
       "|9       |1                |\n",
       "|16      |5                |\n",
       "|5       |6                |\n",
       "|6       |7                |\n",
       "|5       |8                |\n",
       "|3       |9                |\n",
       "|5       |10               |\n",
       "+--------+-----------------+\n",
       "\n"
      ]
     },
     "metadata": {
      "application/vnd.databricks.v1+output": {
       "addedWidgets": {},
       "arguments": {},
       "data": "+--------+-----------------+\n|count(1)|month(fetch_time)|\n+--------+-----------------+\n|9       |1                |\n|16      |5                |\n|5       |6                |\n|6       |7                |\n|5       |8                |\n|3       |9                |\n|5       |10               |\n+--------+-----------------+\n\n",
       "datasetInfos": [],
       "metadata": {},
       "removedWidgets": [],
       "type": "ansi"
      }
     },
     "output_type": "display_data"
    }
   ],
   "source": [
    "url_surtkey_view = spark.sql(\"SELECT COUNT(*), MONTH(fetch_time)  FROM url_surtkey WHERE url_surtkey like '%duckdb%' and url_surtkey like '%database%' GROUP BY  MONTH(fetch_time) ORDER BY MONTH(fetch_time) ASC\").show(truncate= False)"
   ]
  },
  {
   "cell_type": "code",
   "execution_count": 0,
   "metadata": {
    "application/vnd.databricks.v1+cell": {
     "inputWidgets": {},
     "nuid": "64d107ee-b53d-43c4-af91-163a3c25ceba",
     "showTitle": false,
     "title": ""
    }
   },
   "outputs": [
    {
     "data": {
      "text/plain": [
       "+--------+-----------------+\n",
       "|count(1)|month(fetch_time)|\n",
       "+--------+-----------------+\n",
       "|17875   |1                |\n",
       "|21482   |5                |\n",
       "|8900    |6                |\n",
       "|9129    |7                |\n",
       "|15522   |8                |\n",
       "|10473   |9                |\n",
       "|10584   |10               |\n",
       "+--------+-----------------+\n",
       "\n"
      ]
     },
     "metadata": {
      "application/vnd.databricks.v1+output": {
       "addedWidgets": {},
       "arguments": {},
       "data": "+--------+-----------------+\n|count(1)|month(fetch_time)|\n+--------+-----------------+\n|17875   |1                |\n|21482   |5                |\n|8900    |6                |\n|9129    |7                |\n|15522   |8                |\n|10473   |9                |\n|10584   |10               |\n+--------+-----------------+\n\n",
       "datasetInfos": [],
       "metadata": {},
       "removedWidgets": [],
       "type": "ansi"
      }
     },
     "output_type": "display_data"
    }
   ],
   "source": [
    "url_surtkey_view = spark.sql(\"SELECT COUNT(*), MONTH(fetch_time)  FROM url_surtkey WHERE url_surtkey like '%mysql%' and url_surtkey like '%database%' GROUP BY  MONTH(fetch_time) ORDER BY MONTH(fetch_time) ASC\").show(truncate= False)"
   ]
  },
  {
   "cell_type": "code",
   "execution_count": 0,
   "metadata": {
    "application/vnd.databricks.v1+cell": {
     "inputWidgets": {},
     "nuid": "570c3247-fa6e-4559-8782-ab0ff72bc060",
     "showTitle": false,
     "title": ""
    }
   },
   "outputs": [
    {
     "data": {
      "text/plain": [
       "+--------+-----------------+\n",
       "|count(1)|month(fetch_time)|\n",
       "+--------+-----------------+\n",
       "|1707    |1                |\n",
       "|1984    |5                |\n",
       "|899     |6                |\n",
       "|1035    |7                |\n",
       "|1796    |8                |\n",
       "|1534    |9                |\n",
       "|1438    |10               |\n",
       "+--------+-----------------+\n",
       "\n"
      ]
     },
     "metadata": {
      "application/vnd.databricks.v1+output": {
       "addedWidgets": {},
       "arguments": {},
       "data": "+--------+-----------------+\n|count(1)|month(fetch_time)|\n+--------+-----------------+\n|1707    |1                |\n|1984    |5                |\n|899     |6                |\n|1035    |7                |\n|1796    |8                |\n|1534    |9                |\n|1438    |10               |\n+--------+-----------------+\n\n",
       "datasetInfos": [],
       "metadata": {},
       "removedWidgets": [],
       "type": "ansi"
      }
     },
     "output_type": "display_data"
    }
   ],
   "source": [
    "url_surtkey_view = spark.sql(\"SELECT COUNT(*), MONTH(fetch_time)  FROM url_surtkey WHERE url_surtkey like '%mariadb%' and url_surtkey like '%database%' GROUP BY  MONTH(fetch_time) ORDER BY MONTH(fetch_time) ASC\").show(truncate= False)"
   ]
  },
  {
   "cell_type": "code",
   "execution_count": 0,
   "metadata": {
    "application/vnd.databricks.v1+cell": {
     "inputWidgets": {},
     "nuid": "b160a907-8509-4e6a-907c-f21a868593e1",
     "showTitle": false,
     "title": ""
    }
   },
   "outputs": [],
   "source": []
  }
 ],
 "metadata": {
  "application/vnd.databricks.v1+notebook": {
   "dashboards": [],
   "language": "python",
   "notebookMetadata": {
    "pythonIndentUnit": 4
   },
   "notebookName": "Per month_mention counting",
   "notebookOrigID": 3918888859997351,
   "widgets": {}
  },
  "kernelspec": {
   "display_name": "Python 3 (ipykernel)",
   "language": "python",
   "name": "python3"
  },
  "language_info": {
   "codemirror_mode": {
    "name": "ipython",
    "version": 3
   },
   "file_extension": ".py",
   "mimetype": "text/x-python",
   "name": "python",
   "nbconvert_exporter": "python",
   "pygments_lexer": "ipython3",
   "version": "3.8.12"
  }
 },
 "nbformat": 4,
 "nbformat_minor": 1
}
