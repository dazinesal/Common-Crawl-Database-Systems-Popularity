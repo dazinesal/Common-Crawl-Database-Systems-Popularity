{
 "cells": [
  {
   "cell_type": "code",
   "execution_count": 0,
   "metadata": {
    "application/vnd.databricks.v1+cell": {
     "inputWidgets": {},
     "nuid": "1207e448-c2f7-40c7-84c9-7f38ab8578e7",
     "showTitle": false,
     "title": ""
    }
   },
   "outputs": [
    {
     "data": {
      "text/html": [
       "<style scoped>\n",
       "  .ansiout {\n",
       "    display: block;\n",
       "    unicode-bidi: embed;\n",
       "    white-space: pre-wrap;\n",
       "    word-wrap: break-word;\n",
       "    word-break: break-all;\n",
       "    font-family: \"Source Code Pro\", \"Menlo\", monospace;;\n",
       "    font-size: 13px;\n",
       "    color: #555;\n",
       "    margin-left: 4px;\n",
       "    line-height: 19px;\n",
       "  }\n",
       "</style>\n",
       "<div class=\"ansiout\">Python interpreter will be restarted.\n",
       "Collecting glob2\n",
       "  Downloading glob2-0.7.tar.gz (10 kB)\n",
       "Building wheels for collected packages: glob2\n",
       "  Building wheel for glob2 (setup.py): started\n",
       "  Building wheel for glob2 (setup.py): finished with status &#39;done&#39;\n",
       "  Created wheel for glob2: filename=glob2-0.7-py2.py3-none-any.whl size=9307 sha256=2314a551b66f9a2e423a2695e7ef70fe708f64ee41302404d2e007ab3e5d599e\n",
       "  Stored in directory: /root/.cache/pip/wheels/95/59/ed/52469ecfae47a78c25f11bcb49db42ff84629df01861876883\n",
       "Successfully built glob2\n",
       "Installing collected packages: glob2\n",
       "Successfully installed glob2-0.7\n",
       "Python interpreter will be restarted.\n",
       "</div>"
      ]
     },
     "metadata": {
      "application/vnd.databricks.v1+output": {
       "addedWidgets": {},
       "arguments": {},
       "data": "<div class=\"ansiout\">Python interpreter will be restarted.\nCollecting glob2\n  Downloading glob2-0.7.tar.gz (10 kB)\nBuilding wheels for collected packages: glob2\n  Building wheel for glob2 (setup.py): started\n  Building wheel for glob2 (setup.py): finished with status &#39;done&#39;\n  Created wheel for glob2: filename=glob2-0.7-py2.py3-none-any.whl size=9307 sha256=2314a551b66f9a2e423a2695e7ef70fe708f64ee41302404d2e007ab3e5d599e\n  Stored in directory: /root/.cache/pip/wheels/95/59/ed/52469ecfae47a78c25f11bcb49db42ff84629df01861876883\nSuccessfully built glob2\nInstalling collected packages: glob2\nSuccessfully installed glob2-0.7\nPython interpreter will be restarted.\n</div>",
       "datasetInfos": [],
       "metadata": {},
       "removedWidgets": [],
       "type": "html"
      }
     },
     "output_type": "display_data"
    }
   ],
   "source": [
    "%pip install glob2"
   ]
  },
  {
   "cell_type": "code",
   "execution_count": 0,
   "metadata": {
    "application/vnd.databricks.v1+cell": {
     "inputWidgets": {},
     "nuid": "9f3be851-1b6a-4205-b97d-130dc9293636",
     "showTitle": false,
     "title": ""
    }
   },
   "outputs": [
    {
     "data": {
      "text/html": [
       "<style scoped>\n",
       "  .ansiout {\n",
       "    display: block;\n",
       "    unicode-bidi: embed;\n",
       "    white-space: pre-wrap;\n",
       "    word-wrap: break-word;\n",
       "    word-break: break-all;\n",
       "    font-family: \"Source Code Pro\", \"Menlo\", monospace;;\n",
       "    font-size: 13px;\n",
       "    color: #555;\n",
       "    margin-left: 4px;\n",
       "    line-height: 19px;\n",
       "  }\n",
       "</style>\n",
       "<div class=\"ansiout\"></div>"
      ]
     },
     "metadata": {
      "application/vnd.databricks.v1+output": {
       "addedWidgets": {},
       "arguments": {},
       "data": "<div class=\"ansiout\"></div>",
       "datasetInfos": [],
       "metadata": {},
       "removedWidgets": [],
       "type": "html"
      }
     },
     "output_type": "display_data"
    }
   ],
   "source": [
    "import gzip\n",
    "import warcio\n",
    "from pyspark.sql import functions as F\n",
    "import warcio\n",
    "import glob\n",
    "import pandas as pd\n",
    "import numpy as np\n",
    "from glob import glob\n",
    "from warcio.archiveiterator import ArchiveIterator"
   ]
  },
  {
   "cell_type": "markdown",
   "metadata": {},
   "source": [
    "In this notebook we explore the database system mentions per year.\n",
    "We follow the same procedure for each year and the results are loaded to our website"
   ]
  },
  {
   "cell_type": "code",
   "execution_count": 0,
   "metadata": {
    "application/vnd.databricks.v1+cell": {
     "inputWidgets": {},
     "nuid": "7743ca1b-9130-4f59-8d8e-73fadfe13dd3",
     "showTitle": false,
     "title": ""
    }
   },
   "outputs": [
    {
     "data": {
      "text/html": [
       "<style scoped>\n",
       "  .ansiout {\n",
       "    display: block;\n",
       "    unicode-bidi: embed;\n",
       "    white-space: pre-wrap;\n",
       "    word-wrap: break-word;\n",
       "    word-break: break-all;\n",
       "    font-family: \"Source Code Pro\", \"Menlo\", monospace;;\n",
       "    font-size: 13px;\n",
       "    color: #555;\n",
       "    margin-left: 4px;\n",
       "    line-height: 19px;\n",
       "  }\n",
       "</style>\n",
       "<div class=\"ansiout\"></div>"
      ]
     },
     "metadata": {
      "application/vnd.databricks.v1+output": {
       "addedWidgets": {},
       "arguments": {},
       "data": "<div class=\"ansiout\"></div>",
       "datasetInfos": [],
       "metadata": {},
       "removedWidgets": [],
       "type": "html"
      }
     },
     "output_type": "display_data"
    }
   ],
   "source": [
    "# We load the content of a year in a spark dataframe\n",
    "path = '/mnt/lsde/datasets/commoncrawl/cc-index/table/cc-main/warc/crawl=CC-MAIN-2021*/subset=warc'\n",
    "df = spark.read.parquet(path)"
   ]
  },
  {
   "cell_type": "code",
   "execution_count": 0,
   "metadata": {
    "application/vnd.databricks.v1+cell": {
     "inputWidgets": {},
     "nuid": "72ed8c9d-15ba-41a3-a294-6b6b302befa9",
     "showTitle": false,
     "title": ""
    }
   },
   "outputs": [
    {
     "data": {
      "text/html": [
       "<style scoped>\n",
       "  .ansiout {\n",
       "    display: block;\n",
       "    unicode-bidi: embed;\n",
       "    white-space: pre-wrap;\n",
       "    word-wrap: break-word;\n",
       "    word-break: break-all;\n",
       "    font-family: \"Source Code Pro\", \"Menlo\", monospace;;\n",
       "    font-size: 13px;\n",
       "    color: #555;\n",
       "    margin-left: 4px;\n",
       "    line-height: 19px;\n",
       "  }\n",
       "</style>\n",
       "<div class=\"ansiout\">+----------------------------------------------------------------------------------------------------------------------+\n",
       "url_surtkey                                                                                                           |\n",
       "+----------------------------------------------------------------------------------------------------------------------+\n",
       "vn,kccshop)/phan-mem-crack-kcc                                                                                        |\n",
       "website,nexusmission)/estrategias-de-op%c3%a7%c3%b5es/op%c3%a7%c3%a3o-bin%c3%a1ria-itabira.html                       |\n",
       "vn,kccshop)/phong-net                                                                                                 |\n",
       "website,nexusmission)/estrategias-de-op%c3%a7%c3%b5es/trader-iniciante.html                                           |\n",
       "vn,kccshop)/phu-kien2                                                                                                 |\n",
       "website,nexusmission)/forex-guin%c3%a9bissau/as-vantagens-do-mercado-de-forex.html                                    |\n",
       "vn,kccshop)/phuong-thuc-thanh-toan                                                                                    |\n",
       "website,nexusmission)/forex-guin%c3%a9bissau/como-traders-profissionais-operam.html                                   |\n",
       "vn,kccshop)/psu-nguon-may-tinh                                                                                        |\n",
       "website,nexusmission)/forex-guin%c3%a9bissau/corretora-de-op%c3%a7%c3%b5es-binarias-no-brasil.html                    |\n",
       "vn,kccshop)/ram-16gb-corsair-bus-3000mhz-cmk16gx4m1d3000c16                                                           |\n",
       "website,nexusmission)/forex-guin%c3%a9bissau/diferen%c3%a7a-entre-forex-e-op%c3%a7%c3%b5es-bin%c3%a1rias.html         |\n",
       "vn,kccshop)/ram-adata                                                                                                 |\n",
       "website,nexusmission)/forex-guin%c3%a9bissau/estrat%c3%a9gia-de-binomo-60-segundos.html                               |\n",
       "vn,kccshop)/ram-adata-xpg-gammix-d10-16-gb-bus-3200                                                                   |\n",
       "website,nexusmission)/forex-guin%c3%a9bissau/estrat%c3%a9gia-para-rolagem-de-op%c3%a7%c3%b5es.html                    |\n",
       "vn,kccshop)/ram-bo-nho-trong                                                                                          |\n",
       "website,nexusmission)/forex-guin%c3%a9bissau/estrategia-op%c3%a7%c3%b5es-binarias-2020.html                           |\n",
       "vn,kccshop)/ram-corsair                                                                                               |\n",
       "website,nexusmission)/forex-guin%c3%a9bissau/negocia%c3%a7%c3%a3o-binomo-e-dep%c3%b3sito-de-bitcoin-no-cabo-verde.html|\n",
       "+----------------------------------------------------------------------------------------------------------------------+\n",
       "only showing top 20 rows\n",
       "\n",
       "</div>"
      ]
     },
     "metadata": {
      "application/vnd.databricks.v1+output": {
       "addedWidgets": {},
       "arguments": {},
       "data": "<div class=\"ansiout\">+----------------------------------------------------------------------------------------------------------------------+\n|url_surtkey                                                                                                           |\n+----------------------------------------------------------------------------------------------------------------------+\n|vn,kccshop)/phan-mem-crack-kcc                                                                                        |\n|website,nexusmission)/estrategias-de-op%c3%a7%c3%b5es/op%c3%a7%c3%a3o-bin%c3%a1ria-itabira.html                       |\n|vn,kccshop)/phong-net                                                                                                 |\n|website,nexusmission)/estrategias-de-op%c3%a7%c3%b5es/trader-iniciante.html                                           |\n|vn,kccshop)/phu-kien2                                                                                                 |\n|website,nexusmission)/forex-guin%c3%a9bissau/as-vantagens-do-mercado-de-forex.html                                    |\n|vn,kccshop)/phuong-thuc-thanh-toan                                                                                    |\n|website,nexusmission)/forex-guin%c3%a9bissau/como-traders-profissionais-operam.html                                   |\n|vn,kccshop)/psu-nguon-may-tinh                                                                                        |\n|website,nexusmission)/forex-guin%c3%a9bissau/corretora-de-op%c3%a7%c3%b5es-binarias-no-brasil.html                    |\n|vn,kccshop)/ram-16gb-corsair-bus-3000mhz-cmk16gx4m1d3000c16                                                           |\n|website,nexusmission)/forex-guin%c3%a9bissau/diferen%c3%a7a-entre-forex-e-op%c3%a7%c3%b5es-bin%c3%a1rias.html         |\n|vn,kccshop)/ram-adata                                                                                                 |\n|website,nexusmission)/forex-guin%c3%a9bissau/estrat%c3%a9gia-de-binomo-60-segundos.html                               |\n|vn,kccshop)/ram-adata-xpg-gammix-d10-16-gb-bus-3200                                                                   |\n|website,nexusmission)/forex-guin%c3%a9bissau/estrat%c3%a9gia-para-rolagem-de-op%c3%a7%c3%b5es.html                    |\n|vn,kccshop)/ram-bo-nho-trong                                                                                          |\n|website,nexusmission)/forex-guin%c3%a9bissau/estrategia-op%c3%a7%c3%b5es-binarias-2020.html                           |\n|vn,kccshop)/ram-corsair                                                                                               |\n|website,nexusmission)/forex-guin%c3%a9bissau/negocia%c3%a7%c3%a3o-binomo-e-dep%c3%b3sito-de-bitcoin-no-cabo-verde.html|\n+----------------------------------------------------------------------------------------------------------------------+\nonly showing top 20 rows\n\n</div>",
       "datasetInfos": [],
       "metadata": {},
       "removedWidgets": [],
       "type": "html"
      }
     },
     "output_type": "display_data"
    }
   ],
   "source": [
    "df.createOrReplaceTempView(\"url_surtkey\")\n",
    "url_surtkey_view = spark.sql(\"SELECT url_surtkey FROM url_surtkey\").show(truncate= False)\n"
   ]
  },
  {
   "cell_type": "code",
   "execution_count": 0,
   "metadata": {
    "application/vnd.databricks.v1+cell": {
     "inputWidgets": {},
     "nuid": "c63ff3ed-d8f7-47bb-b298-f64ffb24f24e",
     "showTitle": false,
     "title": ""
    }
   },
   "outputs": [
    {
     "data": {
      "text/html": [
       "<style scoped>\n",
       "  .ansiout {\n",
       "    display: block;\n",
       "    unicode-bidi: embed;\n",
       "    white-space: pre-wrap;\n",
       "    word-wrap: break-word;\n",
       "    word-break: break-all;\n",
       "    font-family: \"Source Code Pro\", \"Menlo\", monospace;;\n",
       "    font-size: 13px;\n",
       "    color: #555;\n",
       "    margin-left: 4px;\n",
       "    line-height: 19px;\n",
       "  }\n",
       "</style>\n",
       "<div class=\"ansiout\"></div>"
      ]
     },
     "metadata": {
      "application/vnd.databricks.v1+output": {
       "addedWidgets": {},
       "arguments": {},
       "data": "<div class=\"ansiout\"></div>",
       "datasetInfos": [],
       "metadata": {},
       "removedWidgets": [],
       "type": "html"
      }
     },
     "output_type": "display_data"
    },
    {
     "data": {
      "text/html": [
       "<style scoped>\n",
       "  .ansiout {\n",
       "    display: block;\n",
       "    unicode-bidi: embed;\n",
       "    white-space: pre-wrap;\n",
       "    word-wrap: break-word;\n",
       "    word-break: break-all;\n",
       "    font-family: \"Source Code Pro\", \"Menlo\", monospace;;\n",
       "    font-size: 13px;\n",
       "    color: #555;\n",
       "    margin-left: 4px;\n",
       "    line-height: 19px;\n",
       "  }\n",
       "</style>\n",
       "<div class=\"ansiout\"><span class=\"ansi-red-fg\">---------------------------------------------------------------------------</span>\n",
       "<span class=\"ansi-red-fg\">AnalysisException</span>                         Traceback (most recent call last)\n",
       "<span class=\"ansi-green-fg\">&lt;command-191943120120866&gt;</span> in <span class=\"ansi-cyan-fg\">&lt;module&gt;</span>\n",
       "<span class=\"ansi-green-intense-fg ansi-bold\">      1</span> df<span class=\"ansi-blue-fg\">.</span>createOrReplaceTempView<span class=\"ansi-blue-fg\">(</span><span class=\"ansi-blue-fg\">&#34;url_surtkey&#34;</span><span class=\"ansi-blue-fg\">)</span>\n",
       "<span class=\"ansi-green-fg\">----&gt; 2</span><span class=\"ansi-red-fg\"> </span>urlsurtkey_view <span class=\"ansi-blue-fg\">=</span> spark<span class=\"ansi-blue-fg\">.</span>sql<span class=\"ansi-blue-fg\">(</span><span class=\"ansi-blue-fg\">&#34;SELECT urlsurtkey_view FROM url_surtkey WHERE content_mime_detected LIKE &#39;%text%&#39; &#34;</span><span class=\"ansi-blue-fg\">)</span><span class=\"ansi-blue-fg\">.</span>show<span class=\"ansi-blue-fg\">(</span>truncate<span class=\"ansi-blue-fg\">=</span> <span class=\"ansi-green-fg\">False</span><span class=\"ansi-blue-fg\">)</span>\n",
       "\n",
       "<span class=\"ansi-green-fg\">/databricks/spark/python/pyspark/sql/session.py</span> in <span class=\"ansi-cyan-fg\">sql</span><span class=\"ansi-blue-fg\">(self, sqlQuery)</span>\n",
       "<span class=\"ansi-green-intense-fg ansi-bold\">    775</span>         <span class=\"ansi-blue-fg\">[</span>Row<span class=\"ansi-blue-fg\">(</span>f1<span class=\"ansi-blue-fg\">=</span><span class=\"ansi-cyan-fg\">1</span><span class=\"ansi-blue-fg\">,</span> f2<span class=\"ansi-blue-fg\">=</span><span class=\"ansi-blue-fg\">&#39;row1&#39;</span><span class=\"ansi-blue-fg\">)</span><span class=\"ansi-blue-fg\">,</span> Row<span class=\"ansi-blue-fg\">(</span>f1<span class=\"ansi-blue-fg\">=</span><span class=\"ansi-cyan-fg\">2</span><span class=\"ansi-blue-fg\">,</span> f2<span class=\"ansi-blue-fg\">=</span><span class=\"ansi-blue-fg\">&#39;row2&#39;</span><span class=\"ansi-blue-fg\">)</span><span class=\"ansi-blue-fg\">,</span> Row<span class=\"ansi-blue-fg\">(</span>f1<span class=\"ansi-blue-fg\">=</span><span class=\"ansi-cyan-fg\">3</span><span class=\"ansi-blue-fg\">,</span> f2<span class=\"ansi-blue-fg\">=</span><span class=\"ansi-blue-fg\">&#39;row3&#39;</span><span class=\"ansi-blue-fg\">)</span><span class=\"ansi-blue-fg\">]</span>\n",
       "<span class=\"ansi-green-intense-fg ansi-bold\">    776</span>         &#34;&#34;&#34;\n",
       "<span class=\"ansi-green-fg\">--&gt; 777</span><span class=\"ansi-red-fg\">         </span><span class=\"ansi-green-fg\">return</span> DataFrame<span class=\"ansi-blue-fg\">(</span>self<span class=\"ansi-blue-fg\">.</span>_jsparkSession<span class=\"ansi-blue-fg\">.</span>sql<span class=\"ansi-blue-fg\">(</span>sqlQuery<span class=\"ansi-blue-fg\">)</span><span class=\"ansi-blue-fg\">,</span> self<span class=\"ansi-blue-fg\">.</span>_wrapped<span class=\"ansi-blue-fg\">)</span>\n",
       "<span class=\"ansi-green-intense-fg ansi-bold\">    778</span> \n",
       "<span class=\"ansi-green-intense-fg ansi-bold\">    779</span>     <span class=\"ansi-green-fg\">def</span> table<span class=\"ansi-blue-fg\">(</span>self<span class=\"ansi-blue-fg\">,</span> tableName<span class=\"ansi-blue-fg\">)</span><span class=\"ansi-blue-fg\">:</span>\n",
       "\n",
       "<span class=\"ansi-green-fg\">/databricks/spark/python/lib/py4j-0.10.9.1-src.zip/py4j/java_gateway.py</span> in <span class=\"ansi-cyan-fg\">__call__</span><span class=\"ansi-blue-fg\">(self, *args)</span>\n",
       "<span class=\"ansi-green-intense-fg ansi-bold\">   1302</span> \n",
       "<span class=\"ansi-green-intense-fg ansi-bold\">   1303</span>         answer <span class=\"ansi-blue-fg\">=</span> self<span class=\"ansi-blue-fg\">.</span>gateway_client<span class=\"ansi-blue-fg\">.</span>send_command<span class=\"ansi-blue-fg\">(</span>command<span class=\"ansi-blue-fg\">)</span>\n",
       "<span class=\"ansi-green-fg\">-&gt; 1304</span><span class=\"ansi-red-fg\">         return_value = get_return_value(\n",
       "</span><span class=\"ansi-green-intense-fg ansi-bold\">   1305</span>             answer, self.gateway_client, self.target_id, self.name)\n",
       "<span class=\"ansi-green-intense-fg ansi-bold\">   1306</span> \n",
       "\n",
       "<span class=\"ansi-green-fg\">/databricks/spark/python/pyspark/sql/utils.py</span> in <span class=\"ansi-cyan-fg\">deco</span><span class=\"ansi-blue-fg\">(*a, **kw)</span>\n",
       "<span class=\"ansi-green-intense-fg ansi-bold\">    121</span>                 <span class=\"ansi-red-fg\"># Hide where the exception came from that shows a non-Pythonic</span>\n",
       "<span class=\"ansi-green-intense-fg ansi-bold\">    122</span>                 <span class=\"ansi-red-fg\"># JVM exception message.</span>\n",
       "<span class=\"ansi-green-fg\">--&gt; 123</span><span class=\"ansi-red-fg\">                 </span><span class=\"ansi-green-fg\">raise</span> converted <span class=\"ansi-green-fg\">from</span> <span class=\"ansi-green-fg\">None</span>\n",
       "<span class=\"ansi-green-intense-fg ansi-bold\">    124</span>             <span class=\"ansi-green-fg\">else</span><span class=\"ansi-blue-fg\">:</span>\n",
       "<span class=\"ansi-green-intense-fg ansi-bold\">    125</span>                 <span class=\"ansi-green-fg\">raise</span>\n",
       "\n",
       "<span class=\"ansi-red-fg\">AnalysisException</span>: Column &#39;urlsurtkey_view&#39; does not exist. Did you mean one of the following? [url_surtkey.url, url_surtkey.url_path, url_surtkey.url_port, url_surtkey.url_query, url_surtkey.fetch_time, url_surtkey.url_surtkey, url_surtkey.warc_filename, url_surtkey.warc_segment, url_surtkey.content_digest, url_surtkey.fetch_redirect, url_surtkey.fetch_status, url_surtkey.url_host_tld, url_surtkey.url_protocol, url_surtkey.url_host_name, url_surtkey.content_charset, url_surtkey.content_mime_type, url_surtkey.content_languages, url_surtkey.content_truncated, url_surtkey.warc_record_length, url_surtkey.warc_record_offset, url_surtkey.content_mime_detected, url_surtkey.url_host_private_domain, url_surtkey.url_host_private_suffix, url_surtkey.url_host_2nd_last_part, url_surtkey.url_host_3rd_last_part, url_surtkey.url_host_4th_last_part, url_surtkey.url_host_5th_last_part, url_surtkey.url_host_registry_suffix, url_surtkey.url_host_registered_domain]; line 1 pos 7;\n",
       "&#39;Project [&#39;urlsurtkey_view]\n",
       "+- Filter content_mime_detected#112073 LIKE %text%\n",
       "   +- SubqueryAlias url_surtkey\n",
       "      +- View (`url_surtkey`, [url_surtkey#112052,url#112053,url_host_name#112054,url_host_tld#112055,url_host_2nd_last_part#112056,url_host_3rd_last_part#112057,url_host_4th_last_part#112058,url_host_5th_last_part#112059,url_host_registry_suffix#112060,url_host_registered_domain#112061,url_host_private_suffix#112062,url_host_private_domain#112063,url_protocol#112064,url_port#112065,url_path#112066,url_query#112067,fetch_time#112068,fetch_status#112069,fetch_redirect#112070,content_digest#112071,content_mime_type#112072,content_mime_detected#112073,content_charset#112074,content_languages#112075,content_truncated#112076,warc_filename#112077,warc_record_offset#112078,warc_record_length#112079,warc_segment#112080])\n",
       "         +- Relation [url_surtkey#112052,url#112053,url_host_name#112054,url_host_tld#112055,url_host_2nd_last_part#112056,url_host_3rd_last_part#112057,url_host_4th_last_part#112058,url_host_5th_last_part#112059,url_host_registry_suffix#112060,url_host_registered_domain#112061,url_host_private_suffix#112062,url_host_private_domain#112063,url_protocol#112064,url_port#112065,url_path#112066,url_query#112067,fetch_time#112068,fetch_status#112069,fetch_redirect#112070,content_digest#112071,content_mime_type#112072,content_mime_detected#112073,content_charset#112074,content_languages#112075,... 5 more fields] parquet\n",
       "</div>"
      ]
     },
     "metadata": {
      "application/vnd.databricks.v1+output": {
       "arguments": {},
       "data": "<div class=\"ansiout\"><span class=\"ansi-red-fg\">---------------------------------------------------------------------------</span>\n<span class=\"ansi-red-fg\">AnalysisException</span>                         Traceback (most recent call last)\n<span class=\"ansi-green-fg\">&lt;command-191943120120866&gt;</span> in <span class=\"ansi-cyan-fg\">&lt;module&gt;</span>\n<span class=\"ansi-green-intense-fg ansi-bold\">      1</span> df<span class=\"ansi-blue-fg\">.</span>createOrReplaceTempView<span class=\"ansi-blue-fg\">(</span><span class=\"ansi-blue-fg\">&#34;url_surtkey&#34;</span><span class=\"ansi-blue-fg\">)</span>\n<span class=\"ansi-green-fg\">----&gt; 2</span><span class=\"ansi-red-fg\"> </span>urlsurtkey_view <span class=\"ansi-blue-fg\">=</span> spark<span class=\"ansi-blue-fg\">.</span>sql<span class=\"ansi-blue-fg\">(</span><span class=\"ansi-blue-fg\">&#34;SELECT urlsurtkey_view FROM url_surtkey WHERE content_mime_detected LIKE &#39;%text%&#39; &#34;</span><span class=\"ansi-blue-fg\">)</span><span class=\"ansi-blue-fg\">.</span>show<span class=\"ansi-blue-fg\">(</span>truncate<span class=\"ansi-blue-fg\">=</span> <span class=\"ansi-green-fg\">False</span><span class=\"ansi-blue-fg\">)</span>\n\n<span class=\"ansi-green-fg\">/databricks/spark/python/pyspark/sql/session.py</span> in <span class=\"ansi-cyan-fg\">sql</span><span class=\"ansi-blue-fg\">(self, sqlQuery)</span>\n<span class=\"ansi-green-intense-fg ansi-bold\">    775</span>         <span class=\"ansi-blue-fg\">[</span>Row<span class=\"ansi-blue-fg\">(</span>f1<span class=\"ansi-blue-fg\">=</span><span class=\"ansi-cyan-fg\">1</span><span class=\"ansi-blue-fg\">,</span> f2<span class=\"ansi-blue-fg\">=</span><span class=\"ansi-blue-fg\">&#39;row1&#39;</span><span class=\"ansi-blue-fg\">)</span><span class=\"ansi-blue-fg\">,</span> Row<span class=\"ansi-blue-fg\">(</span>f1<span class=\"ansi-blue-fg\">=</span><span class=\"ansi-cyan-fg\">2</span><span class=\"ansi-blue-fg\">,</span> f2<span class=\"ansi-blue-fg\">=</span><span class=\"ansi-blue-fg\">&#39;row2&#39;</span><span class=\"ansi-blue-fg\">)</span><span class=\"ansi-blue-fg\">,</span> Row<span class=\"ansi-blue-fg\">(</span>f1<span class=\"ansi-blue-fg\">=</span><span class=\"ansi-cyan-fg\">3</span><span class=\"ansi-blue-fg\">,</span> f2<span class=\"ansi-blue-fg\">=</span><span class=\"ansi-blue-fg\">&#39;row3&#39;</span><span class=\"ansi-blue-fg\">)</span><span class=\"ansi-blue-fg\">]</span>\n<span class=\"ansi-green-intense-fg ansi-bold\">    776</span>         &#34;&#34;&#34;\n<span class=\"ansi-green-fg\">--&gt; 777</span><span class=\"ansi-red-fg\">         </span><span class=\"ansi-green-fg\">return</span> DataFrame<span class=\"ansi-blue-fg\">(</span>self<span class=\"ansi-blue-fg\">.</span>_jsparkSession<span class=\"ansi-blue-fg\">.</span>sql<span class=\"ansi-blue-fg\">(</span>sqlQuery<span class=\"ansi-blue-fg\">)</span><span class=\"ansi-blue-fg\">,</span> self<span class=\"ansi-blue-fg\">.</span>_wrapped<span class=\"ansi-blue-fg\">)</span>\n<span class=\"ansi-green-intense-fg ansi-bold\">    778</span> \n<span class=\"ansi-green-intense-fg ansi-bold\">    779</span>     <span class=\"ansi-green-fg\">def</span> table<span class=\"ansi-blue-fg\">(</span>self<span class=\"ansi-blue-fg\">,</span> tableName<span class=\"ansi-blue-fg\">)</span><span class=\"ansi-blue-fg\">:</span>\n\n<span class=\"ansi-green-fg\">/databricks/spark/python/lib/py4j-0.10.9.1-src.zip/py4j/java_gateway.py</span> in <span class=\"ansi-cyan-fg\">__call__</span><span class=\"ansi-blue-fg\">(self, *args)</span>\n<span class=\"ansi-green-intense-fg ansi-bold\">   1302</span> \n<span class=\"ansi-green-intense-fg ansi-bold\">   1303</span>         answer <span class=\"ansi-blue-fg\">=</span> self<span class=\"ansi-blue-fg\">.</span>gateway_client<span class=\"ansi-blue-fg\">.</span>send_command<span class=\"ansi-blue-fg\">(</span>command<span class=\"ansi-blue-fg\">)</span>\n<span class=\"ansi-green-fg\">-&gt; 1304</span><span class=\"ansi-red-fg\">         return_value = get_return_value(\n</span><span class=\"ansi-green-intense-fg ansi-bold\">   1305</span>             answer, self.gateway_client, self.target_id, self.name)\n<span class=\"ansi-green-intense-fg ansi-bold\">   1306</span> \n\n<span class=\"ansi-green-fg\">/databricks/spark/python/pyspark/sql/utils.py</span> in <span class=\"ansi-cyan-fg\">deco</span><span class=\"ansi-blue-fg\">(*a, **kw)</span>\n<span class=\"ansi-green-intense-fg ansi-bold\">    121</span>                 <span class=\"ansi-red-fg\"># Hide where the exception came from that shows a non-Pythonic</span>\n<span class=\"ansi-green-intense-fg ansi-bold\">    122</span>                 <span class=\"ansi-red-fg\"># JVM exception message.</span>\n<span class=\"ansi-green-fg\">--&gt; 123</span><span class=\"ansi-red-fg\">                 </span><span class=\"ansi-green-fg\">raise</span> converted <span class=\"ansi-green-fg\">from</span> <span class=\"ansi-green-fg\">None</span>\n<span class=\"ansi-green-intense-fg ansi-bold\">    124</span>             <span class=\"ansi-green-fg\">else</span><span class=\"ansi-blue-fg\">:</span>\n<span class=\"ansi-green-intense-fg ansi-bold\">    125</span>                 <span class=\"ansi-green-fg\">raise</span>\n\n<span class=\"ansi-red-fg\">AnalysisException</span>: Column &#39;urlsurtkey_view&#39; does not exist. Did you mean one of the following? [url_surtkey.url, url_surtkey.url_path, url_surtkey.url_port, url_surtkey.url_query, url_surtkey.fetch_time, url_surtkey.url_surtkey, url_surtkey.warc_filename, url_surtkey.warc_segment, url_surtkey.content_digest, url_surtkey.fetch_redirect, url_surtkey.fetch_status, url_surtkey.url_host_tld, url_surtkey.url_protocol, url_surtkey.url_host_name, url_surtkey.content_charset, url_surtkey.content_mime_type, url_surtkey.content_languages, url_surtkey.content_truncated, url_surtkey.warc_record_length, url_surtkey.warc_record_offset, url_surtkey.content_mime_detected, url_surtkey.url_host_private_domain, url_surtkey.url_host_private_suffix, url_surtkey.url_host_2nd_last_part, url_surtkey.url_host_3rd_last_part, url_surtkey.url_host_4th_last_part, url_surtkey.url_host_5th_last_part, url_surtkey.url_host_registry_suffix, url_surtkey.url_host_registered_domain]; line 1 pos 7;\n&#39;Project [&#39;urlsurtkey_view]\n+- Filter content_mime_detected#112073 LIKE %text%\n   +- SubqueryAlias url_surtkey\n      +- View (`url_surtkey`, [url_surtkey#112052,url#112053,url_host_name#112054,url_host_tld#112055,url_host_2nd_last_part#112056,url_host_3rd_last_part#112057,url_host_4th_last_part#112058,url_host_5th_last_part#112059,url_host_registry_suffix#112060,url_host_registered_domain#112061,url_host_private_suffix#112062,url_host_private_domain#112063,url_protocol#112064,url_port#112065,url_path#112066,url_query#112067,fetch_time#112068,fetch_status#112069,fetch_redirect#112070,content_digest#112071,content_mime_type#112072,content_mime_detected#112073,content_charset#112074,content_languages#112075,content_truncated#112076,warc_filename#112077,warc_record_offset#112078,warc_record_length#112079,warc_segment#112080])\n         +- Relation [url_surtkey#112052,url#112053,url_host_name#112054,url_host_tld#112055,url_host_2nd_last_part#112056,url_host_3rd_last_part#112057,url_host_4th_last_part#112058,url_host_5th_last_part#112059,url_host_registry_suffix#112060,url_host_registered_domain#112061,url_host_private_suffix#112062,url_host_private_domain#112063,url_protocol#112064,url_port#112065,url_path#112066,url_query#112067,fetch_time#112068,fetch_status#112069,fetch_redirect#112070,content_digest#112071,content_mime_type#112072,content_mime_detected#112073,content_charset#112074,content_languages#112075,... 5 more fields] parquet\n</div>",
       "errorSummary": "<span class=\"ansi-red-fg\">AnalysisException</span>: Column &#39;urlsurtkey_view&#39; does not exist. Did you mean one of the following? [url_surtkey.url, url_surtkey.url_path, url_surtkey.url_port, url_surtkey.url_query, url_surtkey.fetch_time, url_surtkey.url_surtkey, url_surtkey.warc_filename, url_surtkey.warc_segment, url_surtkey.content_digest, url_surtkey.fetch_redirect, url_surtkey.fetch_status, url_surtkey.url_host_tld, url_surtkey.url_protocol, url_surtkey.url_host_name, url_surtkey.content_charset, url_surtkey.content_mime_type, url_surtkey.content_languages, url_surtkey.content_truncated, url_surtkey.warc_record_length, url_surtkey.warc_record_offset, url_surtkey.content_mime_detected, url_surtkey.url_host_private_domain, url_surtkey.url_host_private_suffix, url_surtkey.url_host_2nd_last_part, url_surtkey.url_host_3rd_last_part, url_surtkey.url_host_4th_last_part, url_surtkey.url_host_5th_last_part, url_surtkey.url_host_registry_suffix, url_surtkey.url_host_registered_domain]; line 1 pos 7;",
       "errorTraceType": "html",
       "metadata": {},
       "type": "ipynbError"
      }
     },
     "output_type": "display_data"
    }
   ],
   "source": [
    "# df.createOrReplaceTempView(\"url_surtkey\")\n",
    "# urlsurtkey_view = spark.sql(\"SELECT urlsurtkey_view FROM url_surtkey WHERE content_mime_detected LIKE '%text%' \").show(truncate= False)"
   ]
  },
  {
   "cell_type": "code",
   "execution_count": 0,
   "metadata": {
    "application/vnd.databricks.v1+cell": {
     "inputWidgets": {},
     "nuid": "c8adc08b-4e96-4acd-8de7-7545c4f819da",
     "showTitle": false,
     "title": ""
    }
   },
   "outputs": [
    {
     "data": {
      "text/html": [
       "<style scoped>\n",
       "  .ansiout {\n",
       "    display: block;\n",
       "    unicode-bidi: embed;\n",
       "    white-space: pre-wrap;\n",
       "    word-wrap: break-word;\n",
       "    word-break: break-all;\n",
       "    font-family: \"Source Code Pro\", \"Menlo\", monospace;;\n",
       "    font-size: 13px;\n",
       "    color: #555;\n",
       "    margin-left: 4px;\n",
       "    line-height: 19px;\n",
       "  }\n",
       "</style>\n",
       "<div class=\"ansiout\">+-----------+\n",
       "pages_count|\n",
       "+-----------+\n",
       "26363482765|\n",
       "+-----------+\n",
       "\n",
       "</div>"
      ]
     },
     "metadata": {
      "application/vnd.databricks.v1+output": {
       "addedWidgets": {},
       "arguments": {},
       "data": "<div class=\"ansiout\">+-----------+\n|pages_count|\n+-----------+\n|26363482765|\n+-----------+\n\n</div>",
       "datasetInfos": [],
       "metadata": {},
       "removedWidgets": [],
       "type": "html"
      }
     },
     "output_type": "display_data"
    }
   ],
   "source": [
    "urlsurtkey_viewall = spark.sql(\"SELECT count(*) AS pages_count FROM url_surtkey \").show(truncate=False)"
   ]
  },
  {
   "cell_type": "code",
   "execution_count": 0,
   "metadata": {
    "application/vnd.databricks.v1+cell": {
     "inputWidgets": {},
     "nuid": "7beaa885-3e6c-4b56-97a1-7ff38e04ca4e",
     "showTitle": false,
     "title": ""
    }
   },
   "outputs": [
    {
     "data": {
      "text/html": [
       "<style scoped>\n",
       "  .ansiout {\n",
       "    display: block;\n",
       "    unicode-bidi: embed;\n",
       "    white-space: pre-wrap;\n",
       "    word-wrap: break-word;\n",
       "    word-break: break-all;\n",
       "    font-family: \"Source Code Pro\", \"Menlo\", monospace;;\n",
       "    font-size: 13px;\n",
       "    color: #555;\n",
       "    margin-left: 4px;\n",
       "    line-height: 19px;\n",
       "  }\n",
       "</style>\n",
       "<div class=\"ansiout\"></div>"
      ]
     },
     "metadata": {
      "application/vnd.databricks.v1+output": {
       "addedWidgets": {},
       "arguments": {},
       "data": "<div class=\"ansiout\"></div>",
       "datasetInfos": [],
       "metadata": {},
       "removedWidgets": [],
       "type": "html"
      }
     },
     "output_type": "display_data"
    },
    {
     "data": {
      "text/html": [
       "<style scoped>\n",
       "  .ansiout {\n",
       "    display: block;\n",
       "    unicode-bidi: embed;\n",
       "    white-space: pre-wrap;\n",
       "    word-wrap: break-word;\n",
       "    word-break: break-all;\n",
       "    font-family: \"Source Code Pro\", \"Menlo\", monospace;;\n",
       "    font-size: 13px;\n",
       "    color: #555;\n",
       "    margin-left: 4px;\n",
       "    line-height: 19px;\n",
       "  }\n",
       "</style>\n",
       "<div class=\"ansiout\"><span class=\"ansi-red-fg\">---------------------------------------------------------------------------</span>\n",
       "<span class=\"ansi-red-fg\">AnalysisException</span>                         Traceback (most recent call last)\n",
       "<span class=\"ansi-green-fg\">&lt;command-3905615624571458&gt;</span> in <span class=\"ansi-cyan-fg\">&lt;module&gt;</span>\n",
       "<span class=\"ansi-green-intense-fg ansi-bold\">      1</span> <span class=\"ansi-red-fg\">#oracle</span>\n",
       "<span class=\"ansi-green-fg\">----&gt; 2</span><span class=\"ansi-red-fg\"> </span>urlsurtkey_view <span class=\"ansi-blue-fg\">=</span> spark<span class=\"ansi-blue-fg\">.</span>sql<span class=\"ansi-blue-fg\">(</span><span class=\"ansi-blue-fg\">&#34;SELECT count(url_surtkey) AS pages_count FROM url_surtkey WHERE url_surtkey like &#39;%oracle%&#39; and url_surtkey like &#39;%database%&#39; &#34;</span><span class=\"ansi-blue-fg\">)</span><span class=\"ansi-blue-fg\">.</span>show<span class=\"ansi-blue-fg\">(</span>truncate<span class=\"ansi-blue-fg\">=</span><span class=\"ansi-green-fg\">False</span><span class=\"ansi-blue-fg\">)</span>\n",
       "\n",
       "<span class=\"ansi-green-fg\">/databricks/spark/python/pyspark/sql/session.py</span> in <span class=\"ansi-cyan-fg\">sql</span><span class=\"ansi-blue-fg\">(self, sqlQuery)</span>\n",
       "<span class=\"ansi-green-intense-fg ansi-bold\">    775</span>         <span class=\"ansi-blue-fg\">[</span>Row<span class=\"ansi-blue-fg\">(</span>f1<span class=\"ansi-blue-fg\">=</span><span class=\"ansi-cyan-fg\">1</span><span class=\"ansi-blue-fg\">,</span> f2<span class=\"ansi-blue-fg\">=</span><span class=\"ansi-blue-fg\">&#39;row1&#39;</span><span class=\"ansi-blue-fg\">)</span><span class=\"ansi-blue-fg\">,</span> Row<span class=\"ansi-blue-fg\">(</span>f1<span class=\"ansi-blue-fg\">=</span><span class=\"ansi-cyan-fg\">2</span><span class=\"ansi-blue-fg\">,</span> f2<span class=\"ansi-blue-fg\">=</span><span class=\"ansi-blue-fg\">&#39;row2&#39;</span><span class=\"ansi-blue-fg\">)</span><span class=\"ansi-blue-fg\">,</span> Row<span class=\"ansi-blue-fg\">(</span>f1<span class=\"ansi-blue-fg\">=</span><span class=\"ansi-cyan-fg\">3</span><span class=\"ansi-blue-fg\">,</span> f2<span class=\"ansi-blue-fg\">=</span><span class=\"ansi-blue-fg\">&#39;row3&#39;</span><span class=\"ansi-blue-fg\">)</span><span class=\"ansi-blue-fg\">]</span>\n",
       "<span class=\"ansi-green-intense-fg ansi-bold\">    776</span>         &#34;&#34;&#34;\n",
       "<span class=\"ansi-green-fg\">--&gt; 777</span><span class=\"ansi-red-fg\">         </span><span class=\"ansi-green-fg\">return</span> DataFrame<span class=\"ansi-blue-fg\">(</span>self<span class=\"ansi-blue-fg\">.</span>_jsparkSession<span class=\"ansi-blue-fg\">.</span>sql<span class=\"ansi-blue-fg\">(</span>sqlQuery<span class=\"ansi-blue-fg\">)</span><span class=\"ansi-blue-fg\">,</span> self<span class=\"ansi-blue-fg\">.</span>_wrapped<span class=\"ansi-blue-fg\">)</span>\n",
       "<span class=\"ansi-green-intense-fg ansi-bold\">    778</span> \n",
       "<span class=\"ansi-green-intense-fg ansi-bold\">    779</span>     <span class=\"ansi-green-fg\">def</span> table<span class=\"ansi-blue-fg\">(</span>self<span class=\"ansi-blue-fg\">,</span> tableName<span class=\"ansi-blue-fg\">)</span><span class=\"ansi-blue-fg\">:</span>\n",
       "\n",
       "<span class=\"ansi-green-fg\">/databricks/spark/python/lib/py4j-0.10.9.1-src.zip/py4j/java_gateway.py</span> in <span class=\"ansi-cyan-fg\">__call__</span><span class=\"ansi-blue-fg\">(self, *args)</span>\n",
       "<span class=\"ansi-green-intense-fg ansi-bold\">   1302</span> \n",
       "<span class=\"ansi-green-intense-fg ansi-bold\">   1303</span>         answer <span class=\"ansi-blue-fg\">=</span> self<span class=\"ansi-blue-fg\">.</span>gateway_client<span class=\"ansi-blue-fg\">.</span>send_command<span class=\"ansi-blue-fg\">(</span>command<span class=\"ansi-blue-fg\">)</span>\n",
       "<span class=\"ansi-green-fg\">-&gt; 1304</span><span class=\"ansi-red-fg\">         return_value = get_return_value(\n",
       "</span><span class=\"ansi-green-intense-fg ansi-bold\">   1305</span>             answer, self.gateway_client, self.target_id, self.name)\n",
       "<span class=\"ansi-green-intense-fg ansi-bold\">   1306</span> \n",
       "\n",
       "<span class=\"ansi-green-fg\">/databricks/spark/python/pyspark/sql/utils.py</span> in <span class=\"ansi-cyan-fg\">deco</span><span class=\"ansi-blue-fg\">(*a, **kw)</span>\n",
       "<span class=\"ansi-green-intense-fg ansi-bold\">    121</span>                 <span class=\"ansi-red-fg\"># Hide where the exception came from that shows a non-Pythonic</span>\n",
       "<span class=\"ansi-green-intense-fg ansi-bold\">    122</span>                 <span class=\"ansi-red-fg\"># JVM exception message.</span>\n",
       "<span class=\"ansi-green-fg\">--&gt; 123</span><span class=\"ansi-red-fg\">                 </span><span class=\"ansi-green-fg\">raise</span> converted <span class=\"ansi-green-fg\">from</span> <span class=\"ansi-green-fg\">None</span>\n",
       "<span class=\"ansi-green-intense-fg ansi-bold\">    124</span>             <span class=\"ansi-green-fg\">else</span><span class=\"ansi-blue-fg\">:</span>\n",
       "<span class=\"ansi-green-intense-fg ansi-bold\">    125</span>                 <span class=\"ansi-green-fg\">raise</span>\n",
       "\n",
       "<span class=\"ansi-red-fg\">AnalysisException</span>: Table or view not found: url_surtkey; line 1 pos 46;\n",
       "&#39;Project [&#39;count(&#39;url_surtkey) AS pages_count#1789]\n",
       "+- &#39;Filter (&#39;url_surtkey LIKE %oracle% AND &#39;url_surtkey LIKE %database%)\n",
       "   +- &#39;UnresolvedRelation [url_surtkey], [], false\n",
       "</div>"
      ]
     },
     "metadata": {
      "application/vnd.databricks.v1+output": {
       "arguments": {},
       "data": "<div class=\"ansiout\"><span class=\"ansi-red-fg\">---------------------------------------------------------------------------</span>\n<span class=\"ansi-red-fg\">AnalysisException</span>                         Traceback (most recent call last)\n<span class=\"ansi-green-fg\">&lt;command-3905615624571458&gt;</span> in <span class=\"ansi-cyan-fg\">&lt;module&gt;</span>\n<span class=\"ansi-green-intense-fg ansi-bold\">      1</span> <span class=\"ansi-red-fg\">#oracle</span>\n<span class=\"ansi-green-fg\">----&gt; 2</span><span class=\"ansi-red-fg\"> </span>urlsurtkey_view <span class=\"ansi-blue-fg\">=</span> spark<span class=\"ansi-blue-fg\">.</span>sql<span class=\"ansi-blue-fg\">(</span><span class=\"ansi-blue-fg\">&#34;SELECT count(url_surtkey) AS pages_count FROM url_surtkey WHERE url_surtkey like &#39;%oracle%&#39; and url_surtkey like &#39;%database%&#39; &#34;</span><span class=\"ansi-blue-fg\">)</span><span class=\"ansi-blue-fg\">.</span>show<span class=\"ansi-blue-fg\">(</span>truncate<span class=\"ansi-blue-fg\">=</span><span class=\"ansi-green-fg\">False</span><span class=\"ansi-blue-fg\">)</span>\n\n<span class=\"ansi-green-fg\">/databricks/spark/python/pyspark/sql/session.py</span> in <span class=\"ansi-cyan-fg\">sql</span><span class=\"ansi-blue-fg\">(self, sqlQuery)</span>\n<span class=\"ansi-green-intense-fg ansi-bold\">    775</span>         <span class=\"ansi-blue-fg\">[</span>Row<span class=\"ansi-blue-fg\">(</span>f1<span class=\"ansi-blue-fg\">=</span><span class=\"ansi-cyan-fg\">1</span><span class=\"ansi-blue-fg\">,</span> f2<span class=\"ansi-blue-fg\">=</span><span class=\"ansi-blue-fg\">&#39;row1&#39;</span><span class=\"ansi-blue-fg\">)</span><span class=\"ansi-blue-fg\">,</span> Row<span class=\"ansi-blue-fg\">(</span>f1<span class=\"ansi-blue-fg\">=</span><span class=\"ansi-cyan-fg\">2</span><span class=\"ansi-blue-fg\">,</span> f2<span class=\"ansi-blue-fg\">=</span><span class=\"ansi-blue-fg\">&#39;row2&#39;</span><span class=\"ansi-blue-fg\">)</span><span class=\"ansi-blue-fg\">,</span> Row<span class=\"ansi-blue-fg\">(</span>f1<span class=\"ansi-blue-fg\">=</span><span class=\"ansi-cyan-fg\">3</span><span class=\"ansi-blue-fg\">,</span> f2<span class=\"ansi-blue-fg\">=</span><span class=\"ansi-blue-fg\">&#39;row3&#39;</span><span class=\"ansi-blue-fg\">)</span><span class=\"ansi-blue-fg\">]</span>\n<span class=\"ansi-green-intense-fg ansi-bold\">    776</span>         &#34;&#34;&#34;\n<span class=\"ansi-green-fg\">--&gt; 777</span><span class=\"ansi-red-fg\">         </span><span class=\"ansi-green-fg\">return</span> DataFrame<span class=\"ansi-blue-fg\">(</span>self<span class=\"ansi-blue-fg\">.</span>_jsparkSession<span class=\"ansi-blue-fg\">.</span>sql<span class=\"ansi-blue-fg\">(</span>sqlQuery<span class=\"ansi-blue-fg\">)</span><span class=\"ansi-blue-fg\">,</span> self<span class=\"ansi-blue-fg\">.</span>_wrapped<span class=\"ansi-blue-fg\">)</span>\n<span class=\"ansi-green-intense-fg ansi-bold\">    778</span> \n<span class=\"ansi-green-intense-fg ansi-bold\">    779</span>     <span class=\"ansi-green-fg\">def</span> table<span class=\"ansi-blue-fg\">(</span>self<span class=\"ansi-blue-fg\">,</span> tableName<span class=\"ansi-blue-fg\">)</span><span class=\"ansi-blue-fg\">:</span>\n\n<span class=\"ansi-green-fg\">/databricks/spark/python/lib/py4j-0.10.9.1-src.zip/py4j/java_gateway.py</span> in <span class=\"ansi-cyan-fg\">__call__</span><span class=\"ansi-blue-fg\">(self, *args)</span>\n<span class=\"ansi-green-intense-fg ansi-bold\">   1302</span> \n<span class=\"ansi-green-intense-fg ansi-bold\">   1303</span>         answer <span class=\"ansi-blue-fg\">=</span> self<span class=\"ansi-blue-fg\">.</span>gateway_client<span class=\"ansi-blue-fg\">.</span>send_command<span class=\"ansi-blue-fg\">(</span>command<span class=\"ansi-blue-fg\">)</span>\n<span class=\"ansi-green-fg\">-&gt; 1304</span><span class=\"ansi-red-fg\">         return_value = get_return_value(\n</span><span class=\"ansi-green-intense-fg ansi-bold\">   1305</span>             answer, self.gateway_client, self.target_id, self.name)\n<span class=\"ansi-green-intense-fg ansi-bold\">   1306</span> \n\n<span class=\"ansi-green-fg\">/databricks/spark/python/pyspark/sql/utils.py</span> in <span class=\"ansi-cyan-fg\">deco</span><span class=\"ansi-blue-fg\">(*a, **kw)</span>\n<span class=\"ansi-green-intense-fg ansi-bold\">    121</span>                 <span class=\"ansi-red-fg\"># Hide where the exception came from that shows a non-Pythonic</span>\n<span class=\"ansi-green-intense-fg ansi-bold\">    122</span>                 <span class=\"ansi-red-fg\"># JVM exception message.</span>\n<span class=\"ansi-green-fg\">--&gt; 123</span><span class=\"ansi-red-fg\">                 </span><span class=\"ansi-green-fg\">raise</span> converted <span class=\"ansi-green-fg\">from</span> <span class=\"ansi-green-fg\">None</span>\n<span class=\"ansi-green-intense-fg ansi-bold\">    124</span>             <span class=\"ansi-green-fg\">else</span><span class=\"ansi-blue-fg\">:</span>\n<span class=\"ansi-green-intense-fg ansi-bold\">    125</span>                 <span class=\"ansi-green-fg\">raise</span>\n\n<span class=\"ansi-red-fg\">AnalysisException</span>: Table or view not found: url_surtkey; line 1 pos 46;\n&#39;Project [&#39;count(&#39;url_surtkey) AS pages_count#1789]\n+- &#39;Filter (&#39;url_surtkey LIKE %oracle% AND &#39;url_surtkey LIKE %database%)\n   +- &#39;UnresolvedRelation [url_surtkey], [], false\n</div>",
       "errorSummary": "<span class=\"ansi-red-fg\">AnalysisException</span>: Table or view not found: url_surtkey; line 1 pos 46;",
       "errorTraceType": "html",
       "metadata": {},
       "type": "ipynbError"
      }
     },
     "output_type": "display_data"
    }
   ],
   "source": [
    "#oracle\n",
    "urlsurtkey_view = spark.sql(\"SELECT count(url_surtkey) AS pages_count FROM url_surtkey WHERE url_surtkey like '%oracle%' and url_surtkey like '%database%' \").show(truncate=False)"
   ]
  },
  {
   "cell_type": "code",
   "execution_count": 0,
   "metadata": {
    "application/vnd.databricks.v1+cell": {
     "inputWidgets": {},
     "nuid": "b871c603-9bb2-4c94-9c08-24c0890fb2c3",
     "showTitle": false,
     "title": ""
    }
   },
   "outputs": [
    {
     "data": {
      "text/html": [
       "<style scoped>\n",
       "  .ansiout {\n",
       "    display: block;\n",
       "    unicode-bidi: embed;\n",
       "    white-space: pre-wrap;\n",
       "    word-wrap: break-word;\n",
       "    word-break: break-all;\n",
       "    font-family: \"Source Code Pro\", \"Menlo\", monospace;;\n",
       "    font-size: 13px;\n",
       "    color: #555;\n",
       "    margin-left: 4px;\n",
       "    line-height: 19px;\n",
       "  }\n",
       "</style>\n",
       "<div class=\"ansiout\">+-----------+\n",
       "pages_count|\n",
       "+-----------+\n",
       "29684      |\n",
       "+-----------+\n",
       "\n",
       "</div>"
      ]
     },
     "metadata": {
      "application/vnd.databricks.v1+output": {
       "addedWidgets": {},
       "arguments": {},
       "data": "<div class=\"ansiout\">+-----------+\n|pages_count|\n+-----------+\n|29684      |\n+-----------+\n\n</div>",
       "datasetInfos": [],
       "metadata": {},
       "removedWidgets": [],
       "type": "html"
      }
     },
     "output_type": "display_data"
    }
   ],
   "source": [
    "#Microsoft SQL Server\n",
    "urlsurtkey_view_microsoft = spark.sql(\"SELECT count(url_surtkey) AS pages_count FROM url_surtkey WHERE url_surtkey like '%microsoft%' and url_surtkey like '%sql%' and url_surtkey like '%server%' and url_surtkey like '%database%'\").show(truncate=False)"
   ]
  },
  {
   "cell_type": "code",
   "execution_count": 0,
   "metadata": {
    "application/vnd.databricks.v1+cell": {
     "inputWidgets": {},
     "nuid": "8ea1deaf-d4b0-4a43-a742-7a60c965f05b",
     "showTitle": false,
     "title": ""
    }
   },
   "outputs": [
    {
     "data": {
      "text/html": [
       "<style scoped>\n",
       "  .ansiout {\n",
       "    display: block;\n",
       "    unicode-bidi: embed;\n",
       "    white-space: pre-wrap;\n",
       "    word-wrap: break-word;\n",
       "    word-break: break-all;\n",
       "    font-family: \"Source Code Pro\", \"Menlo\", monospace;;\n",
       "    font-size: 13px;\n",
       "    color: #555;\n",
       "    margin-left: 4px;\n",
       "    line-height: 19px;\n",
       "  }\n",
       "</style>\n",
       "<div class=\"ansiout\"></div>"
      ]
     },
     "metadata": {
      "application/vnd.databricks.v1+output": {
       "addedWidgets": {},
       "arguments": {},
       "data": "<div class=\"ansiout\"></div>",
       "datasetInfos": [],
       "metadata": {},
       "removedWidgets": [],
       "type": "html"
      }
     },
     "output_type": "display_data"
    },
    {
     "data": {
      "text/html": [
       "<style scoped>\n",
       "  .ansiout {\n",
       "    display: block;\n",
       "    unicode-bidi: embed;\n",
       "    white-space: pre-wrap;\n",
       "    word-wrap: break-word;\n",
       "    word-break: break-all;\n",
       "    font-family: \"Source Code Pro\", \"Menlo\", monospace;;\n",
       "    font-size: 13px;\n",
       "    color: #555;\n",
       "    margin-left: 4px;\n",
       "    line-height: 19px;\n",
       "  }\n",
       "</style>\n",
       "<div class=\"ansiout\"><span class=\"ansi-red-fg\">---------------------------------------------------------------------------</span>\n",
       "<span class=\"ansi-red-fg\">AnalysisException</span>                         Traceback (most recent call last)\n",
       "<span class=\"ansi-green-fg\">&lt;command-3905615624571532&gt;</span> in <span class=\"ansi-cyan-fg\">&lt;module&gt;</span>\n",
       "<span class=\"ansi-green-intense-fg ansi-bold\">      1</span> <span class=\"ansi-red-fg\"># postgresql</span>\n",
       "<span class=\"ansi-green-fg\">----&gt; 2</span><span class=\"ansi-red-fg\"> </span>urlsurtkey_view_postgresql <span class=\"ansi-blue-fg\">=</span> spark<span class=\"ansi-blue-fg\">.</span>sql<span class=\"ansi-blue-fg\">(</span><span class=\"ansi-blue-fg\">&#34;SELECT count(url_surtkey) AS pages_count FROM url_surtkey WHERE url_surtkey like &#39;%postgresql%&#39; and url_surtkey like &#39;%database%&#39;&#34;</span><span class=\"ansi-blue-fg\">)</span><span class=\"ansi-blue-fg\">.</span>show<span class=\"ansi-blue-fg\">(</span>truncate<span class=\"ansi-blue-fg\">=</span><span class=\"ansi-green-fg\">False</span><span class=\"ansi-blue-fg\">)</span>\n",
       "\n",
       "<span class=\"ansi-green-fg\">/databricks/spark/python/pyspark/sql/session.py</span> in <span class=\"ansi-cyan-fg\">sql</span><span class=\"ansi-blue-fg\">(self, sqlQuery)</span>\n",
       "<span class=\"ansi-green-intense-fg ansi-bold\">    775</span>         <span class=\"ansi-blue-fg\">[</span>Row<span class=\"ansi-blue-fg\">(</span>f1<span class=\"ansi-blue-fg\">=</span><span class=\"ansi-cyan-fg\">1</span><span class=\"ansi-blue-fg\">,</span> f2<span class=\"ansi-blue-fg\">=</span><span class=\"ansi-blue-fg\">&#39;row1&#39;</span><span class=\"ansi-blue-fg\">)</span><span class=\"ansi-blue-fg\">,</span> Row<span class=\"ansi-blue-fg\">(</span>f1<span class=\"ansi-blue-fg\">=</span><span class=\"ansi-cyan-fg\">2</span><span class=\"ansi-blue-fg\">,</span> f2<span class=\"ansi-blue-fg\">=</span><span class=\"ansi-blue-fg\">&#39;row2&#39;</span><span class=\"ansi-blue-fg\">)</span><span class=\"ansi-blue-fg\">,</span> Row<span class=\"ansi-blue-fg\">(</span>f1<span class=\"ansi-blue-fg\">=</span><span class=\"ansi-cyan-fg\">3</span><span class=\"ansi-blue-fg\">,</span> f2<span class=\"ansi-blue-fg\">=</span><span class=\"ansi-blue-fg\">&#39;row3&#39;</span><span class=\"ansi-blue-fg\">)</span><span class=\"ansi-blue-fg\">]</span>\n",
       "<span class=\"ansi-green-intense-fg ansi-bold\">    776</span>         &#34;&#34;&#34;\n",
       "<span class=\"ansi-green-fg\">--&gt; 777</span><span class=\"ansi-red-fg\">         </span><span class=\"ansi-green-fg\">return</span> DataFrame<span class=\"ansi-blue-fg\">(</span>self<span class=\"ansi-blue-fg\">.</span>_jsparkSession<span class=\"ansi-blue-fg\">.</span>sql<span class=\"ansi-blue-fg\">(</span>sqlQuery<span class=\"ansi-blue-fg\">)</span><span class=\"ansi-blue-fg\">,</span> self<span class=\"ansi-blue-fg\">.</span>_wrapped<span class=\"ansi-blue-fg\">)</span>\n",
       "<span class=\"ansi-green-intense-fg ansi-bold\">    778</span> \n",
       "<span class=\"ansi-green-intense-fg ansi-bold\">    779</span>     <span class=\"ansi-green-fg\">def</span> table<span class=\"ansi-blue-fg\">(</span>self<span class=\"ansi-blue-fg\">,</span> tableName<span class=\"ansi-blue-fg\">)</span><span class=\"ansi-blue-fg\">:</span>\n",
       "\n",
       "<span class=\"ansi-green-fg\">/databricks/spark/python/lib/py4j-0.10.9.1-src.zip/py4j/java_gateway.py</span> in <span class=\"ansi-cyan-fg\">__call__</span><span class=\"ansi-blue-fg\">(self, *args)</span>\n",
       "<span class=\"ansi-green-intense-fg ansi-bold\">   1302</span> \n",
       "<span class=\"ansi-green-intense-fg ansi-bold\">   1303</span>         answer <span class=\"ansi-blue-fg\">=</span> self<span class=\"ansi-blue-fg\">.</span>gateway_client<span class=\"ansi-blue-fg\">.</span>send_command<span class=\"ansi-blue-fg\">(</span>command<span class=\"ansi-blue-fg\">)</span>\n",
       "<span class=\"ansi-green-fg\">-&gt; 1304</span><span class=\"ansi-red-fg\">         return_value = get_return_value(\n",
       "</span><span class=\"ansi-green-intense-fg ansi-bold\">   1305</span>             answer, self.gateway_client, self.target_id, self.name)\n",
       "<span class=\"ansi-green-intense-fg ansi-bold\">   1306</span> \n",
       "\n",
       "<span class=\"ansi-green-fg\">/databricks/spark/python/pyspark/sql/utils.py</span> in <span class=\"ansi-cyan-fg\">deco</span><span class=\"ansi-blue-fg\">(*a, **kw)</span>\n",
       "<span class=\"ansi-green-intense-fg ansi-bold\">    121</span>                 <span class=\"ansi-red-fg\"># Hide where the exception came from that shows a non-Pythonic</span>\n",
       "<span class=\"ansi-green-intense-fg ansi-bold\">    122</span>                 <span class=\"ansi-red-fg\"># JVM exception message.</span>\n",
       "<span class=\"ansi-green-fg\">--&gt; 123</span><span class=\"ansi-red-fg\">                 </span><span class=\"ansi-green-fg\">raise</span> converted <span class=\"ansi-green-fg\">from</span> <span class=\"ansi-green-fg\">None</span>\n",
       "<span class=\"ansi-green-intense-fg ansi-bold\">    124</span>             <span class=\"ansi-green-fg\">else</span><span class=\"ansi-blue-fg\">:</span>\n",
       "<span class=\"ansi-green-intense-fg ansi-bold\">    125</span>                 <span class=\"ansi-green-fg\">raise</span>\n",
       "\n",
       "<span class=\"ansi-red-fg\">AnalysisException</span>: Table or view not found: url_surtkey; line 1 pos 46;\n",
       "&#39;Project [&#39;count(&#39;url_surtkey) AS pages_count#1793]\n",
       "+- &#39;Filter (&#39;url_surtkey LIKE %postgresql% AND &#39;url_surtkey LIKE %database%)\n",
       "   +- &#39;UnresolvedRelation [url_surtkey], [], false\n",
       "</div>"
      ]
     },
     "metadata": {
      "application/vnd.databricks.v1+output": {
       "arguments": {},
       "data": "<div class=\"ansiout\"><span class=\"ansi-red-fg\">---------------------------------------------------------------------------</span>\n<span class=\"ansi-red-fg\">AnalysisException</span>                         Traceback (most recent call last)\n<span class=\"ansi-green-fg\">&lt;command-3905615624571532&gt;</span> in <span class=\"ansi-cyan-fg\">&lt;module&gt;</span>\n<span class=\"ansi-green-intense-fg ansi-bold\">      1</span> <span class=\"ansi-red-fg\"># postgresql</span>\n<span class=\"ansi-green-fg\">----&gt; 2</span><span class=\"ansi-red-fg\"> </span>urlsurtkey_view_postgresql <span class=\"ansi-blue-fg\">=</span> spark<span class=\"ansi-blue-fg\">.</span>sql<span class=\"ansi-blue-fg\">(</span><span class=\"ansi-blue-fg\">&#34;SELECT count(url_surtkey) AS pages_count FROM url_surtkey WHERE url_surtkey like &#39;%postgresql%&#39; and url_surtkey like &#39;%database%&#39;&#34;</span><span class=\"ansi-blue-fg\">)</span><span class=\"ansi-blue-fg\">.</span>show<span class=\"ansi-blue-fg\">(</span>truncate<span class=\"ansi-blue-fg\">=</span><span class=\"ansi-green-fg\">False</span><span class=\"ansi-blue-fg\">)</span>\n\n<span class=\"ansi-green-fg\">/databricks/spark/python/pyspark/sql/session.py</span> in <span class=\"ansi-cyan-fg\">sql</span><span class=\"ansi-blue-fg\">(self, sqlQuery)</span>\n<span class=\"ansi-green-intense-fg ansi-bold\">    775</span>         <span class=\"ansi-blue-fg\">[</span>Row<span class=\"ansi-blue-fg\">(</span>f1<span class=\"ansi-blue-fg\">=</span><span class=\"ansi-cyan-fg\">1</span><span class=\"ansi-blue-fg\">,</span> f2<span class=\"ansi-blue-fg\">=</span><span class=\"ansi-blue-fg\">&#39;row1&#39;</span><span class=\"ansi-blue-fg\">)</span><span class=\"ansi-blue-fg\">,</span> Row<span class=\"ansi-blue-fg\">(</span>f1<span class=\"ansi-blue-fg\">=</span><span class=\"ansi-cyan-fg\">2</span><span class=\"ansi-blue-fg\">,</span> f2<span class=\"ansi-blue-fg\">=</span><span class=\"ansi-blue-fg\">&#39;row2&#39;</span><span class=\"ansi-blue-fg\">)</span><span class=\"ansi-blue-fg\">,</span> Row<span class=\"ansi-blue-fg\">(</span>f1<span class=\"ansi-blue-fg\">=</span><span class=\"ansi-cyan-fg\">3</span><span class=\"ansi-blue-fg\">,</span> f2<span class=\"ansi-blue-fg\">=</span><span class=\"ansi-blue-fg\">&#39;row3&#39;</span><span class=\"ansi-blue-fg\">)</span><span class=\"ansi-blue-fg\">]</span>\n<span class=\"ansi-green-intense-fg ansi-bold\">    776</span>         &#34;&#34;&#34;\n<span class=\"ansi-green-fg\">--&gt; 777</span><span class=\"ansi-red-fg\">         </span><span class=\"ansi-green-fg\">return</span> DataFrame<span class=\"ansi-blue-fg\">(</span>self<span class=\"ansi-blue-fg\">.</span>_jsparkSession<span class=\"ansi-blue-fg\">.</span>sql<span class=\"ansi-blue-fg\">(</span>sqlQuery<span class=\"ansi-blue-fg\">)</span><span class=\"ansi-blue-fg\">,</span> self<span class=\"ansi-blue-fg\">.</span>_wrapped<span class=\"ansi-blue-fg\">)</span>\n<span class=\"ansi-green-intense-fg ansi-bold\">    778</span> \n<span class=\"ansi-green-intense-fg ansi-bold\">    779</span>     <span class=\"ansi-green-fg\">def</span> table<span class=\"ansi-blue-fg\">(</span>self<span class=\"ansi-blue-fg\">,</span> tableName<span class=\"ansi-blue-fg\">)</span><span class=\"ansi-blue-fg\">:</span>\n\n<span class=\"ansi-green-fg\">/databricks/spark/python/lib/py4j-0.10.9.1-src.zip/py4j/java_gateway.py</span> in <span class=\"ansi-cyan-fg\">__call__</span><span class=\"ansi-blue-fg\">(self, *args)</span>\n<span class=\"ansi-green-intense-fg ansi-bold\">   1302</span> \n<span class=\"ansi-green-intense-fg ansi-bold\">   1303</span>         answer <span class=\"ansi-blue-fg\">=</span> self<span class=\"ansi-blue-fg\">.</span>gateway_client<span class=\"ansi-blue-fg\">.</span>send_command<span class=\"ansi-blue-fg\">(</span>command<span class=\"ansi-blue-fg\">)</span>\n<span class=\"ansi-green-fg\">-&gt; 1304</span><span class=\"ansi-red-fg\">         return_value = get_return_value(\n</span><span class=\"ansi-green-intense-fg ansi-bold\">   1305</span>             answer, self.gateway_client, self.target_id, self.name)\n<span class=\"ansi-green-intense-fg ansi-bold\">   1306</span> \n\n<span class=\"ansi-green-fg\">/databricks/spark/python/pyspark/sql/utils.py</span> in <span class=\"ansi-cyan-fg\">deco</span><span class=\"ansi-blue-fg\">(*a, **kw)</span>\n<span class=\"ansi-green-intense-fg ansi-bold\">    121</span>                 <span class=\"ansi-red-fg\"># Hide where the exception came from that shows a non-Pythonic</span>\n<span class=\"ansi-green-intense-fg ansi-bold\">    122</span>                 <span class=\"ansi-red-fg\"># JVM exception message.</span>\n<span class=\"ansi-green-fg\">--&gt; 123</span><span class=\"ansi-red-fg\">                 </span><span class=\"ansi-green-fg\">raise</span> converted <span class=\"ansi-green-fg\">from</span> <span class=\"ansi-green-fg\">None</span>\n<span class=\"ansi-green-intense-fg ansi-bold\">    124</span>             <span class=\"ansi-green-fg\">else</span><span class=\"ansi-blue-fg\">:</span>\n<span class=\"ansi-green-intense-fg ansi-bold\">    125</span>                 <span class=\"ansi-green-fg\">raise</span>\n\n<span class=\"ansi-red-fg\">AnalysisException</span>: Table or view not found: url_surtkey; line 1 pos 46;\n&#39;Project [&#39;count(&#39;url_surtkey) AS pages_count#1793]\n+- &#39;Filter (&#39;url_surtkey LIKE %postgresql% AND &#39;url_surtkey LIKE %database%)\n   +- &#39;UnresolvedRelation [url_surtkey], [], false\n</div>",
       "errorSummary": "<span class=\"ansi-red-fg\">AnalysisException</span>: Table or view not found: url_surtkey; line 1 pos 46;",
       "errorTraceType": "html",
       "metadata": {},
       "type": "ipynbError"
      }
     },
     "output_type": "display_data"
    }
   ],
   "source": [
    "# postgresql\n",
    "urlsurtkey_view_postgresql = spark.sql(\"SELECT count(url_surtkey) AS pages_count FROM url_surtkey WHERE url_surtkey like '%postgresql%' and url_surtkey like '%database%'\").show(truncate=False)"
   ]
  },
  {
   "cell_type": "code",
   "execution_count": 0,
   "metadata": {
    "application/vnd.databricks.v1+cell": {
     "inputWidgets": {},
     "nuid": "4793cb98-b90b-49d0-9ac5-bc026e016bd0",
     "showTitle": false,
     "title": ""
    }
   },
   "outputs": [
    {
     "data": {
      "text/html": [
       "<style scoped>\n",
       "  .ansiout {\n",
       "    display: block;\n",
       "    unicode-bidi: embed;\n",
       "    white-space: pre-wrap;\n",
       "    word-wrap: break-word;\n",
       "    word-break: break-all;\n",
       "    font-family: \"Source Code Pro\", \"Menlo\", monospace;;\n",
       "    font-size: 13px;\n",
       "    color: #555;\n",
       "    margin-left: 4px;\n",
       "    line-height: 19px;\n",
       "  }\n",
       "</style>\n",
       "<div class=\"ansiout\">+-----------+\n",
       "pages_count|\n",
       "+-----------+\n",
       "657        |\n",
       "+-----------+\n",
       "\n",
       "</div>"
      ]
     },
     "metadata": {
      "application/vnd.databricks.v1+output": {
       "addedWidgets": {},
       "arguments": {},
       "data": "<div class=\"ansiout\">+-----------+\n|pages_count|\n+-----------+\n|657        |\n+-----------+\n\n</div>",
       "datasetInfos": [],
       "metadata": {},
       "removedWidgets": [],
       "type": "html"
      }
     },
     "output_type": "display_data"
    }
   ],
   "source": [
    "#clickhouse\n",
    "urlsurtkey_view_clickhouse = spark.sql(\"SELECT count(url_surtkey) AS pages_count FROM url_surtkey WHERE url_surtkey like '%clickhouse%' and url_surtkey like '%database%'\").show(truncate=False)"
   ]
  },
  {
   "cell_type": "code",
   "execution_count": 0,
   "metadata": {
    "application/vnd.databricks.v1+cell": {
     "inputWidgets": {},
     "nuid": "f380f8c5-6e6c-4eac-9e87-b93a4f03b755",
     "showTitle": false,
     "title": ""
    }
   },
   "outputs": [
    {
     "data": {
      "text/html": [
       "<style scoped>\n",
       "  .ansiout {\n",
       "    display: block;\n",
       "    unicode-bidi: embed;\n",
       "    white-space: pre-wrap;\n",
       "    word-wrap: break-word;\n",
       "    word-break: break-all;\n",
       "    font-family: \"Source Code Pro\", \"Menlo\", monospace;;\n",
       "    font-size: 13px;\n",
       "    color: #555;\n",
       "    margin-left: 4px;\n",
       "    line-height: 19px;\n",
       "  }\n",
       "</style>\n",
       "<div class=\"ansiout\">+-----------+\n",
       "pages_count|\n",
       "+-----------+\n",
       "5157       |\n",
       "+-----------+\n",
       "\n",
       "</div>"
      ]
     },
     "metadata": {
      "application/vnd.databricks.v1+output": {
       "addedWidgets": {},
       "arguments": {},
       "data": "<div class=\"ansiout\">+-----------+\n|pages_count|\n+-----------+\n|5157       |\n+-----------+\n\n</div>",
       "datasetInfos": [],
       "metadata": {},
       "removedWidgets": [],
       "type": "html"
      }
     },
     "output_type": "display_data"
    }
   ],
   "source": [
    "# spark we assumed that when the words spark and database are in the same file or url we refer to the spark database\n",
    "urlsurtkey_view_spark = spark.sql(\"SELECT count(url_surtkey) AS pages_count FROM url_surtkey WHERE url_surtkey like '%spark%' and url_surtkey like '%database%'\").show(truncate=False)"
   ]
  },
  {
   "cell_type": "code",
   "execution_count": 0,
   "metadata": {
    "application/vnd.databricks.v1+cell": {
     "inputWidgets": {},
     "nuid": "83158804-6b58-45f8-8c75-4b2d9c6dd898",
     "showTitle": false,
     "title": ""
    }
   },
   "outputs": [
    {
     "data": {
      "text/html": [
       "<style scoped>\n",
       "  .ansiout {\n",
       "    display: block;\n",
       "    unicode-bidi: embed;\n",
       "    white-space: pre-wrap;\n",
       "    word-wrap: break-word;\n",
       "    word-break: break-all;\n",
       "    font-family: \"Source Code Pro\", \"Menlo\", monospace;;\n",
       "    font-size: 13px;\n",
       "    color: #555;\n",
       "    margin-left: 4px;\n",
       "    line-height: 19px;\n",
       "  }\n",
       "</style>\n",
       "<div class=\"ansiout\">+-----------+\n",
       "pages_count|\n",
       "+-----------+\n",
       "16881      |\n",
       "+-----------+\n",
       "\n",
       "</div>"
      ]
     },
     "metadata": {
      "application/vnd.databricks.v1+output": {
       "addedWidgets": {},
       "arguments": {},
       "data": "<div class=\"ansiout\">+-----------+\n|pages_count|\n+-----------+\n|16881      |\n+-----------+\n\n</div>",
       "datasetInfos": [],
       "metadata": {},
       "removedWidgets": [],
       "type": "html"
      }
     },
     "output_type": "display_data"
    }
   ],
   "source": [
    "urlsurtkey_view_mongodb = spark.sql(\"SELECT count(url_surtkey) AS pages_count FROM url_surtkey WHERE url_surtkey like '%mongodb%' and url_surtkey like '%database%'\").show(truncate=False)"
   ]
  },
  {
   "cell_type": "code",
   "execution_count": 0,
   "metadata": {
    "application/vnd.databricks.v1+cell": {
     "inputWidgets": {},
     "nuid": "9c1d0b4d-b1f2-49ba-b899-56691ea79dda",
     "showTitle": false,
     "title": ""
    }
   },
   "outputs": [
    {
     "data": {
      "text/html": [
       "<style scoped>\n",
       "  .ansiout {\n",
       "    display: block;\n",
       "    unicode-bidi: embed;\n",
       "    white-space: pre-wrap;\n",
       "    word-wrap: break-word;\n",
       "    word-break: break-all;\n",
       "    font-family: \"Source Code Pro\", \"Menlo\", monospace;;\n",
       "    font-size: 13px;\n",
       "    color: #555;\n",
       "    margin-left: 4px;\n",
       "    line-height: 19px;\n",
       "  }\n",
       "</style>\n",
       "<div class=\"ansiout\">+-----------+\n",
       "pages_count|\n",
       "+-----------+\n",
       "57         |\n",
       "+-----------+\n",
       "\n",
       "</div>"
      ]
     },
     "metadata": {
      "application/vnd.databricks.v1+output": {
       "addedWidgets": {},
       "arguments": {},
       "data": "<div class=\"ansiout\">+-----------+\n|pages_count|\n+-----------+\n|57         |\n+-----------+\n\n</div>",
       "datasetInfos": [],
       "metadata": {},
       "removedWidgets": [],
       "type": "html"
      }
     },
     "output_type": "display_data"
    }
   ],
   "source": [
    "# duckdb\n",
    "urlsurtkey_view_duckdb = spark.sql(\"SELECT count(url_surtkey) AS pages_count FROM url_surtkey WHERE url_surtkey like '%duckdb%' and url_surtkey like '%database%'\").show(truncate=False)"
   ]
  },
  {
   "cell_type": "code",
   "execution_count": 0,
   "metadata": {
    "application/vnd.databricks.v1+cell": {
     "inputWidgets": {},
     "nuid": "0a5b32e1-511c-45ed-984f-0de1f52a4428",
     "showTitle": false,
     "title": ""
    }
   },
   "outputs": [
    {
     "data": {
      "text/html": [
       "<style scoped>\n",
       "  .ansiout {\n",
       "    display: block;\n",
       "    unicode-bidi: embed;\n",
       "    white-space: pre-wrap;\n",
       "    word-wrap: break-word;\n",
       "    word-break: break-all;\n",
       "    font-family: \"Source Code Pro\", \"Menlo\", monospace;;\n",
       "    font-size: 13px;\n",
       "    color: #555;\n",
       "    margin-left: 4px;\n",
       "    line-height: 19px;\n",
       "  }\n",
       "</style>\n",
       "<div class=\"ansiout\"></div>"
      ]
     },
     "metadata": {
      "application/vnd.databricks.v1+output": {
       "addedWidgets": {},
       "arguments": {},
       "data": "<div class=\"ansiout\"></div>",
       "datasetInfos": [],
       "metadata": {},
       "removedWidgets": [],
       "type": "html"
      }
     },
     "output_type": "display_data"
    },
    {
     "data": {
      "text/html": [
       "<style scoped>\n",
       "  .ansiout {\n",
       "    display: block;\n",
       "    unicode-bidi: embed;\n",
       "    white-space: pre-wrap;\n",
       "    word-wrap: break-word;\n",
       "    word-break: break-all;\n",
       "    font-family: \"Source Code Pro\", \"Menlo\", monospace;;\n",
       "    font-size: 13px;\n",
       "    color: #555;\n",
       "    margin-left: 4px;\n",
       "    line-height: 19px;\n",
       "  }\n",
       "</style>\n",
       "<div class=\"ansiout\"><span class=\"ansi-red-fg\">---------------------------------------------------------------------------</span>\n",
       "<span class=\"ansi-red-fg\">AnalysisException</span>                         Traceback (most recent call last)\n",
       "<span class=\"ansi-green-fg\">&lt;command-3905615624571502&gt;</span> in <span class=\"ansi-cyan-fg\">&lt;module&gt;</span>\n",
       "<span class=\"ansi-green-intense-fg ansi-bold\">      1</span> <span class=\"ansi-red-fg\">#mariadb</span>\n",
       "<span class=\"ansi-green-fg\">----&gt; 2</span><span class=\"ansi-red-fg\"> </span>urlsurtkey_view_mariadb <span class=\"ansi-blue-fg\">=</span> spark<span class=\"ansi-blue-fg\">.</span>sql<span class=\"ansi-blue-fg\">(</span><span class=\"ansi-blue-fg\">&#34;SELECT count(url_surtkey) AS pages_count FROM url_surtkey WHERE url_surtkey like &#39;%mariadb%&#39; and url_surtkey like &#39;%database%&#39; &#34;</span><span class=\"ansi-blue-fg\">)</span><span class=\"ansi-blue-fg\">.</span>show<span class=\"ansi-blue-fg\">(</span>truncate<span class=\"ansi-blue-fg\">=</span><span class=\"ansi-green-fg\">False</span><span class=\"ansi-blue-fg\">)</span>\n",
       "\n",
       "<span class=\"ansi-green-fg\">/databricks/spark/python/pyspark/sql/session.py</span> in <span class=\"ansi-cyan-fg\">sql</span><span class=\"ansi-blue-fg\">(self, sqlQuery)</span>\n",
       "<span class=\"ansi-green-intense-fg ansi-bold\">    775</span>         <span class=\"ansi-blue-fg\">[</span>Row<span class=\"ansi-blue-fg\">(</span>f1<span class=\"ansi-blue-fg\">=</span><span class=\"ansi-cyan-fg\">1</span><span class=\"ansi-blue-fg\">,</span> f2<span class=\"ansi-blue-fg\">=</span><span class=\"ansi-blue-fg\">&#39;row1&#39;</span><span class=\"ansi-blue-fg\">)</span><span class=\"ansi-blue-fg\">,</span> Row<span class=\"ansi-blue-fg\">(</span>f1<span class=\"ansi-blue-fg\">=</span><span class=\"ansi-cyan-fg\">2</span><span class=\"ansi-blue-fg\">,</span> f2<span class=\"ansi-blue-fg\">=</span><span class=\"ansi-blue-fg\">&#39;row2&#39;</span><span class=\"ansi-blue-fg\">)</span><span class=\"ansi-blue-fg\">,</span> Row<span class=\"ansi-blue-fg\">(</span>f1<span class=\"ansi-blue-fg\">=</span><span class=\"ansi-cyan-fg\">3</span><span class=\"ansi-blue-fg\">,</span> f2<span class=\"ansi-blue-fg\">=</span><span class=\"ansi-blue-fg\">&#39;row3&#39;</span><span class=\"ansi-blue-fg\">)</span><span class=\"ansi-blue-fg\">]</span>\n",
       "<span class=\"ansi-green-intense-fg ansi-bold\">    776</span>         &#34;&#34;&#34;\n",
       "<span class=\"ansi-green-fg\">--&gt; 777</span><span class=\"ansi-red-fg\">         </span><span class=\"ansi-green-fg\">return</span> DataFrame<span class=\"ansi-blue-fg\">(</span>self<span class=\"ansi-blue-fg\">.</span>_jsparkSession<span class=\"ansi-blue-fg\">.</span>sql<span class=\"ansi-blue-fg\">(</span>sqlQuery<span class=\"ansi-blue-fg\">)</span><span class=\"ansi-blue-fg\">,</span> self<span class=\"ansi-blue-fg\">.</span>_wrapped<span class=\"ansi-blue-fg\">)</span>\n",
       "<span class=\"ansi-green-intense-fg ansi-bold\">    778</span> \n",
       "<span class=\"ansi-green-intense-fg ansi-bold\">    779</span>     <span class=\"ansi-green-fg\">def</span> table<span class=\"ansi-blue-fg\">(</span>self<span class=\"ansi-blue-fg\">,</span> tableName<span class=\"ansi-blue-fg\">)</span><span class=\"ansi-blue-fg\">:</span>\n",
       "\n",
       "<span class=\"ansi-green-fg\">/databricks/spark/python/lib/py4j-0.10.9.1-src.zip/py4j/java_gateway.py</span> in <span class=\"ansi-cyan-fg\">__call__</span><span class=\"ansi-blue-fg\">(self, *args)</span>\n",
       "<span class=\"ansi-green-intense-fg ansi-bold\">   1302</span> \n",
       "<span class=\"ansi-green-intense-fg ansi-bold\">   1303</span>         answer <span class=\"ansi-blue-fg\">=</span> self<span class=\"ansi-blue-fg\">.</span>gateway_client<span class=\"ansi-blue-fg\">.</span>send_command<span class=\"ansi-blue-fg\">(</span>command<span class=\"ansi-blue-fg\">)</span>\n",
       "<span class=\"ansi-green-fg\">-&gt; 1304</span><span class=\"ansi-red-fg\">         return_value = get_return_value(\n",
       "</span><span class=\"ansi-green-intense-fg ansi-bold\">   1305</span>             answer, self.gateway_client, self.target_id, self.name)\n",
       "<span class=\"ansi-green-intense-fg ansi-bold\">   1306</span> \n",
       "\n",
       "<span class=\"ansi-green-fg\">/databricks/spark/python/pyspark/sql/utils.py</span> in <span class=\"ansi-cyan-fg\">deco</span><span class=\"ansi-blue-fg\">(*a, **kw)</span>\n",
       "<span class=\"ansi-green-intense-fg ansi-bold\">    121</span>                 <span class=\"ansi-red-fg\"># Hide where the exception came from that shows a non-Pythonic</span>\n",
       "<span class=\"ansi-green-intense-fg ansi-bold\">    122</span>                 <span class=\"ansi-red-fg\"># JVM exception message.</span>\n",
       "<span class=\"ansi-green-fg\">--&gt; 123</span><span class=\"ansi-red-fg\">                 </span><span class=\"ansi-green-fg\">raise</span> converted <span class=\"ansi-green-fg\">from</span> <span class=\"ansi-green-fg\">None</span>\n",
       "<span class=\"ansi-green-intense-fg ansi-bold\">    124</span>             <span class=\"ansi-green-fg\">else</span><span class=\"ansi-blue-fg\">:</span>\n",
       "<span class=\"ansi-green-intense-fg ansi-bold\">    125</span>                 <span class=\"ansi-green-fg\">raise</span>\n",
       "\n",
       "<span class=\"ansi-red-fg\">AnalysisException</span>: Table or view not found: url_surtkey; line 1 pos 46;\n",
       "&#39;Project [&#39;count(&#39;url_surtkey) AS pages_count#1796]\n",
       "+- &#39;Filter (&#39;url_surtkey LIKE %mariadb% AND &#39;url_surtkey LIKE %database%)\n",
       "   +- &#39;UnresolvedRelation [url_surtkey], [], false\n",
       "</div>"
      ]
     },
     "metadata": {
      "application/vnd.databricks.v1+output": {
       "arguments": {},
       "data": "<div class=\"ansiout\"><span class=\"ansi-red-fg\">---------------------------------------------------------------------------</span>\n<span class=\"ansi-red-fg\">AnalysisException</span>                         Traceback (most recent call last)\n<span class=\"ansi-green-fg\">&lt;command-3905615624571502&gt;</span> in <span class=\"ansi-cyan-fg\">&lt;module&gt;</span>\n<span class=\"ansi-green-intense-fg ansi-bold\">      1</span> <span class=\"ansi-red-fg\">#mariadb</span>\n<span class=\"ansi-green-fg\">----&gt; 2</span><span class=\"ansi-red-fg\"> </span>urlsurtkey_view_mariadb <span class=\"ansi-blue-fg\">=</span> spark<span class=\"ansi-blue-fg\">.</span>sql<span class=\"ansi-blue-fg\">(</span><span class=\"ansi-blue-fg\">&#34;SELECT count(url_surtkey) AS pages_count FROM url_surtkey WHERE url_surtkey like &#39;%mariadb%&#39; and url_surtkey like &#39;%database%&#39; &#34;</span><span class=\"ansi-blue-fg\">)</span><span class=\"ansi-blue-fg\">.</span>show<span class=\"ansi-blue-fg\">(</span>truncate<span class=\"ansi-blue-fg\">=</span><span class=\"ansi-green-fg\">False</span><span class=\"ansi-blue-fg\">)</span>\n\n<span class=\"ansi-green-fg\">/databricks/spark/python/pyspark/sql/session.py</span> in <span class=\"ansi-cyan-fg\">sql</span><span class=\"ansi-blue-fg\">(self, sqlQuery)</span>\n<span class=\"ansi-green-intense-fg ansi-bold\">    775</span>         <span class=\"ansi-blue-fg\">[</span>Row<span class=\"ansi-blue-fg\">(</span>f1<span class=\"ansi-blue-fg\">=</span><span class=\"ansi-cyan-fg\">1</span><span class=\"ansi-blue-fg\">,</span> f2<span class=\"ansi-blue-fg\">=</span><span class=\"ansi-blue-fg\">&#39;row1&#39;</span><span class=\"ansi-blue-fg\">)</span><span class=\"ansi-blue-fg\">,</span> Row<span class=\"ansi-blue-fg\">(</span>f1<span class=\"ansi-blue-fg\">=</span><span class=\"ansi-cyan-fg\">2</span><span class=\"ansi-blue-fg\">,</span> f2<span class=\"ansi-blue-fg\">=</span><span class=\"ansi-blue-fg\">&#39;row2&#39;</span><span class=\"ansi-blue-fg\">)</span><span class=\"ansi-blue-fg\">,</span> Row<span class=\"ansi-blue-fg\">(</span>f1<span class=\"ansi-blue-fg\">=</span><span class=\"ansi-cyan-fg\">3</span><span class=\"ansi-blue-fg\">,</span> f2<span class=\"ansi-blue-fg\">=</span><span class=\"ansi-blue-fg\">&#39;row3&#39;</span><span class=\"ansi-blue-fg\">)</span><span class=\"ansi-blue-fg\">]</span>\n<span class=\"ansi-green-intense-fg ansi-bold\">    776</span>         &#34;&#34;&#34;\n<span class=\"ansi-green-fg\">--&gt; 777</span><span class=\"ansi-red-fg\">         </span><span class=\"ansi-green-fg\">return</span> DataFrame<span class=\"ansi-blue-fg\">(</span>self<span class=\"ansi-blue-fg\">.</span>_jsparkSession<span class=\"ansi-blue-fg\">.</span>sql<span class=\"ansi-blue-fg\">(</span>sqlQuery<span class=\"ansi-blue-fg\">)</span><span class=\"ansi-blue-fg\">,</span> self<span class=\"ansi-blue-fg\">.</span>_wrapped<span class=\"ansi-blue-fg\">)</span>\n<span class=\"ansi-green-intense-fg ansi-bold\">    778</span> \n<span class=\"ansi-green-intense-fg ansi-bold\">    779</span>     <span class=\"ansi-green-fg\">def</span> table<span class=\"ansi-blue-fg\">(</span>self<span class=\"ansi-blue-fg\">,</span> tableName<span class=\"ansi-blue-fg\">)</span><span class=\"ansi-blue-fg\">:</span>\n\n<span class=\"ansi-green-fg\">/databricks/spark/python/lib/py4j-0.10.9.1-src.zip/py4j/java_gateway.py</span> in <span class=\"ansi-cyan-fg\">__call__</span><span class=\"ansi-blue-fg\">(self, *args)</span>\n<span class=\"ansi-green-intense-fg ansi-bold\">   1302</span> \n<span class=\"ansi-green-intense-fg ansi-bold\">   1303</span>         answer <span class=\"ansi-blue-fg\">=</span> self<span class=\"ansi-blue-fg\">.</span>gateway_client<span class=\"ansi-blue-fg\">.</span>send_command<span class=\"ansi-blue-fg\">(</span>command<span class=\"ansi-blue-fg\">)</span>\n<span class=\"ansi-green-fg\">-&gt; 1304</span><span class=\"ansi-red-fg\">         return_value = get_return_value(\n</span><span class=\"ansi-green-intense-fg ansi-bold\">   1305</span>             answer, self.gateway_client, self.target_id, self.name)\n<span class=\"ansi-green-intense-fg ansi-bold\">   1306</span> \n\n<span class=\"ansi-green-fg\">/databricks/spark/python/pyspark/sql/utils.py</span> in <span class=\"ansi-cyan-fg\">deco</span><span class=\"ansi-blue-fg\">(*a, **kw)</span>\n<span class=\"ansi-green-intense-fg ansi-bold\">    121</span>                 <span class=\"ansi-red-fg\"># Hide where the exception came from that shows a non-Pythonic</span>\n<span class=\"ansi-green-intense-fg ansi-bold\">    122</span>                 <span class=\"ansi-red-fg\"># JVM exception message.</span>\n<span class=\"ansi-green-fg\">--&gt; 123</span><span class=\"ansi-red-fg\">                 </span><span class=\"ansi-green-fg\">raise</span> converted <span class=\"ansi-green-fg\">from</span> <span class=\"ansi-green-fg\">None</span>\n<span class=\"ansi-green-intense-fg ansi-bold\">    124</span>             <span class=\"ansi-green-fg\">else</span><span class=\"ansi-blue-fg\">:</span>\n<span class=\"ansi-green-intense-fg ansi-bold\">    125</span>                 <span class=\"ansi-green-fg\">raise</span>\n\n<span class=\"ansi-red-fg\">AnalysisException</span>: Table or view not found: url_surtkey; line 1 pos 46;\n&#39;Project [&#39;count(&#39;url_surtkey) AS pages_count#1796]\n+- &#39;Filter (&#39;url_surtkey LIKE %mariadb% AND &#39;url_surtkey LIKE %database%)\n   +- &#39;UnresolvedRelation [url_surtkey], [], false\n</div>",
       "errorSummary": "<span class=\"ansi-red-fg\">AnalysisException</span>: Table or view not found: url_surtkey; line 1 pos 46;",
       "errorTraceType": "html",
       "metadata": {},
       "type": "ipynbError"
      }
     },
     "output_type": "display_data"
    }
   ],
   "source": [
    "#mariadb\n",
    "urlsurtkey_view_mariadb = spark.sql(\"SELECT count(url_surtkey) AS pages_count FROM url_surtkey WHERE url_surtkey like '%mariadb%' and url_surtkey like '%database%' \").show(truncate=False)"
   ]
  },
  {
   "cell_type": "code",
   "execution_count": 0,
   "metadata": {
    "application/vnd.databricks.v1+cell": {
     "inputWidgets": {},
     "nuid": "92d9982d-048e-47bc-8c04-62d281a6179a",
     "showTitle": false,
     "title": ""
    }
   },
   "outputs": [
    {
     "data": {
      "text/html": [
       "<style scoped>\n",
       "  .ansiout {\n",
       "    display: block;\n",
       "    unicode-bidi: embed;\n",
       "    white-space: pre-wrap;\n",
       "    word-wrap: break-word;\n",
       "    word-break: break-all;\n",
       "    font-family: \"Source Code Pro\", \"Menlo\", monospace;;\n",
       "    font-size: 13px;\n",
       "    color: #555;\n",
       "    margin-left: 4px;\n",
       "    line-height: 19px;\n",
       "  }\n",
       "</style>\n",
       "<div class=\"ansiout\">+-----------+\n",
       "pages_count|\n",
       "+-----------+\n",
       "149193     |\n",
       "+-----------+\n",
       "\n",
       "</div>"
      ]
     },
     "metadata": {
      "application/vnd.databricks.v1+output": {
       "addedWidgets": {},
       "arguments": {},
       "data": "<div class=\"ansiout\">+-----------+\n|pages_count|\n+-----------+\n|149193     |\n+-----------+\n\n</div>",
       "datasetInfos": [],
       "metadata": {},
       "removedWidgets": [],
       "type": "html"
      }
     },
     "output_type": "display_data"
    }
   ],
   "source": [
    "#mysql\n",
    "urlsurtkey_view = spark.sql(\"SELECT count(url_surtkey) AS pages_count FROM url_surtkey WHERE url_surtkey like '%mysql%' and url_surtkey like '%database%' \").show(truncate=False)"
   ]
  },
  {
   "cell_type": "code",
   "execution_count": 0,
   "metadata": {
    "application/vnd.databricks.v1+cell": {
     "inputWidgets": {},
     "nuid": "8f139a2a-529f-4ff9-8b88-e3ed6ad56cc1",
     "showTitle": false,
     "title": ""
    }
   },
   "outputs": [
    {
     "data": {
      "text/html": [
       "<style scoped>\n",
       "  .ansiout {\n",
       "    display: block;\n",
       "    unicode-bidi: embed;\n",
       "    white-space: pre-wrap;\n",
       "    word-wrap: break-word;\n",
       "    word-break: break-all;\n",
       "    font-family: \"Source Code Pro\", \"Menlo\", monospace;;\n",
       "    font-size: 13px;\n",
       "    color: #555;\n",
       "    margin-left: 4px;\n",
       "    line-height: 19px;\n",
       "  }\n",
       "</style>\n",
       "<div class=\"ansiout\">+-----------+\n",
       "pages_count|\n",
       "+-----------+\n",
       "26363482765|\n",
       "+-----------+\n",
       "\n",
       "</div>"
      ]
     },
     "metadata": {
      "application/vnd.databricks.v1+output": {
       "addedWidgets": {},
       "arguments": {},
       "data": "<div class=\"ansiout\">+-----------+\n|pages_count|\n+-----------+\n|26363482765|\n+-----------+\n\n</div>",
       "datasetInfos": [],
       "metadata": {},
       "removedWidgets": [],
       "type": "html"
      }
     },
     "output_type": "display_data"
    }
   ],
   "source": [
    "urlsurtkey_viewall = spark.sql(\"SELECT count(*) AS pages_count FROM url_surtkey \").show(truncate=False)"
   ]
  },
  {
   "cell_type": "code",
   "execution_count": 0,
   "metadata": {
    "application/vnd.databricks.v1+cell": {
     "inputWidgets": {},
     "nuid": "29ebe469-561b-4fee-83da-697f96465b66",
     "showTitle": false,
     "title": ""
    }
   },
   "outputs": [
    {
     "data": {
      "text/html": [
       "<style scoped>\n",
       "  .ansiout {\n",
       "    display: block;\n",
       "    unicode-bidi: embed;\n",
       "    white-space: pre-wrap;\n",
       "    word-wrap: break-word;\n",
       "    word-break: break-all;\n",
       "    font-family: \"Source Code Pro\", \"Menlo\", monospace;;\n",
       "    font-size: 13px;\n",
       "    color: #555;\n",
       "    margin-left: 4px;\n",
       "    line-height: 19px;\n",
       "  }\n",
       "</style>\n",
       "<div class=\"ansiout\">+----------+-----------------+\n",
       "Count_lang|content_languages|\n",
       "+----------+-----------------+\n",
       "  13839980|          lat,eng|\n",
       "    143030|      deu,eng,srp|\n",
       " 236823384|              ces|\n",
       "    170190|          spa,msa|\n",
       "    280750|      eng,zho,spa|\n",
       "    287676|      eng,rus,zho|\n",
       "     72048|      rus,eng,san|\n",
       "       484|      zho,lug,jpn|\n",
       "      2483|      eng,fra,hau|\n",
       "    129619|          ukr,dan|\n",
       "    236070|      dan,eng,swe|\n",
       "    237141|      deu,eng,ind|\n",
       "     75041|      ind,deu,eng|\n",
       "      1803|      deu,fin,swe|\n",
       "      4052|      zho,jpn,ara|\n",
       "     29528|          rus,uig|\n",
       "     72564|          bre,eng|\n",
       "      4743|      eng,jpn,kha|\n",
       "      4494|      nld,zho,ukr|\n",
       "     22947|      spa,jpn,dan|\n",
       "+----------+-----------------+\n",
       "only showing top 20 rows\n",
       "\n",
       "</div>"
      ]
     },
     "metadata": {
      "application/vnd.databricks.v1+output": {
       "addedWidgets": {},
       "arguments": {},
       "data": "<div class=\"ansiout\">+----------+-----------------+\n|Count_lang|content_languages|\n+----------+-----------------+\n|  13839980|          lat,eng|\n|    143030|      deu,eng,srp|\n| 236823384|              ces|\n|    170190|          spa,msa|\n|    280750|      eng,zho,spa|\n|    287676|      eng,rus,zho|\n|     72048|      rus,eng,san|\n|       484|      zho,lug,jpn|\n|      2483|      eng,fra,hau|\n|    129619|          ukr,dan|\n|    236070|      dan,eng,swe|\n|    237141|      deu,eng,ind|\n|     75041|      ind,deu,eng|\n|      1803|      deu,fin,swe|\n|      4052|      zho,jpn,ara|\n|     29528|          rus,uig|\n|     72564|          bre,eng|\n|      4743|      eng,jpn,kha|\n|      4494|      nld,zho,ukr|\n|     22947|      spa,jpn,dan|\n+----------+-----------------+\nonly showing top 20 rows\n\n</div>",
       "datasetInfos": [],
       "metadata": {},
       "removedWidgets": [],
       "type": "html"
      }
     },
     "output_type": "display_data"
    }
   ],
   "source": [
    "\n",
    "df.createOrReplaceTempView(\"urls\")\n",
    "urlcountdf = spark.sql(\"SELECT COUNT(*) as Count_lang, warc FROM urls group by content_languages\")\n",
    "urlcountdf.show()"
   ]
  },
  {
   "cell_type": "code",
   "execution_count": 0,
   "metadata": {
    "application/vnd.databricks.v1+cell": {
     "inputWidgets": {},
     "nuid": "08a024a9-b161-4f33-92d2-498f14cba74a",
     "showTitle": false,
     "title": ""
    }
   },
   "outputs": [
    {
     "data": {
      "text/html": [
       "<style scoped>\n",
       "  .ansiout {\n",
       "    display: block;\n",
       "    unicode-bidi: embed;\n",
       "    white-space: pre-wrap;\n",
       "    word-wrap: break-word;\n",
       "    word-break: break-all;\n",
       "    font-family: \"Source Code Pro\", \"Menlo\", monospace;;\n",
       "    font-size: 13px;\n",
       "    color: #555;\n",
       "    margin-left: 4px;\n",
       "    line-height: 19px;\n",
       "  }\n",
       "</style>\n",
       "<div class=\"ansiout\"></div>"
      ]
     },
     "metadata": {
      "application/vnd.databricks.v1+output": {
       "addedWidgets": {},
       "arguments": {},
       "data": "<div class=\"ansiout\"></div>",
       "datasetInfos": [],
       "metadata": {},
       "removedWidgets": [],
       "type": "html"
      }
     },
     "output_type": "display_data"
    }
   ],
   "source": [
    "path = '/mnt/lsde/datasets/commoncrawl/cc-index/table/cc-main/warc/crawl=CC-MAIN-2021*/subset=warc'\n",
    "df = spark.read.parquet(path)"
   ]
  },
  {
   "cell_type": "code",
   "execution_count": 0,
   "metadata": {
    "application/vnd.databricks.v1+cell": {
     "inputWidgets": {},
     "nuid": "eac24ccd-ac06-4a8d-81b5-e8a88def069f",
     "showTitle": false,
     "title": ""
    }
   },
   "outputs": [],
   "source": [
    "\n",
    "\n",
    "path = '/mnt/lsde/datasets/commoncrawl/cc-index/table/cc-main/warc/crawl=CC-MAIN-2021*/subset=warc'\n",
    "df = spark.read.parquet(path)\n",
    "# df.createOrReplaceTempView(\"urls\")\n",
    "\n",
    "# urlcountdf = spark.sql(\"SELECT COUNT(*) as URLCount FROM urls\")\n",
    "# urlcountdf.show()"
   ]
  },
  {
   "cell_type": "code",
   "execution_count": 0,
   "metadata": {
    "application/vnd.databricks.v1+cell": {
     "inputWidgets": {},
     "nuid": "e1b331a4-1b3d-4e3e-8a90-b98ffa1ad373",
     "showTitle": false,
     "title": ""
    }
   },
   "outputs": [],
   "source": [
    "path = '/dbfs/mnt/lsde/datasets/commoncrawl/crawl-data/CC-MAIN-2022*/segments/*/wet/**/*.wet.gz'"
   ]
  },
  {
   "cell_type": "code",
   "execution_count": 0,
   "metadata": {
    "application/vnd.databricks.v1+cell": {
     "inputWidgets": {},
     "nuid": "76173652-a290-4435-9f8a-9fef6b336ada",
     "showTitle": false,
     "title": ""
    }
   },
   "outputs": [
    {
     "data": {
      "text/html": [
       "<style scoped>\n",
       "  .ansiout {\n",
       "    display: block;\n",
       "    unicode-bidi: embed;\n",
       "    white-space: pre-wrap;\n",
       "    word-wrap: break-word;\n",
       "    word-break: break-all;\n",
       "    font-family: \"Source Code Pro\", \"Menlo\", monospace;;\n",
       "    font-size: 13px;\n",
       "    color: #555;\n",
       "    margin-left: 4px;\n",
       "    line-height: 19px;\n",
       "  }\n",
       "</style>\n",
       "<div class=\"ansiout\">+----------------+---------------+---------------+-----------------+\n",
       "Top_Level_Domain|Number_Of_Pages|Number_Of_Hosts|Number_Of_Domains|\n",
       "+----------------+---------------+---------------+-----------------+\n",
       "             com|    11685770914|       43637685|         26204548|\n",
       "             org|     1506061197|        3335778|          2122544|\n",
       "              ru|     1261727428|        2520329|          1418454|\n",
       "              de|     1093375310|        4428109|          3276246|\n",
       "             net|      946285738|        3314480|          1940324|\n",
       "              uk|      628596323|        2089078|          1611592|\n",
       "              jp|      497070084|        1398647|           786723|\n",
       "              fr|      472067945|        1411583|           943563|\n",
       "              it|      467145517|        1374554|           991974|\n",
       "              pl|      417923035|        1265058|           786202|\n",
       "              nl|      400143722|        1753614|          1272508|\n",
       "              br|      368724405|        1088556|           742277|\n",
       "             edu|      337728859|         200737|             5896|\n",
       "              au|      276867048|         870025|           679201|\n",
       "              cz|      276452429|         764185|           462706|\n",
       "              cn|      260995697|       12308245|          1778354|\n",
       "              es|      255385670|         572064|           406154|\n",
       "              ca|      230769402|         647991|           485090|\n",
       "              ua|      213489703|         343972|           223795|\n",
       "            info|      201095070|         656928|           398851|\n",
       "+----------------+---------------+---------------+-----------------+\n",
       "only showing top 20 rows\n",
       "\n",
       "</div>"
      ]
     },
     "metadata": {
      "application/vnd.databricks.v1+output": {
       "addedWidgets": {},
       "arguments": {},
       "data": "<div class=\"ansiout\">+----------------+---------------+---------------+-----------------+\n|Top_Level_Domain|Number_Of_Pages|Number_Of_Hosts|Number_Of_Domains|\n+----------------+---------------+---------------+-----------------+\n|             com|    11685770914|       43637685|         26204548|\n|             org|     1506061197|        3335778|          2122544|\n|              ru|     1261727428|        2520329|          1418454|\n|              de|     1093375310|        4428109|          3276246|\n|             net|      946285738|        3314480|          1940324|\n|              uk|      628596323|        2089078|          1611592|\n|              jp|      497070084|        1398647|           786723|\n|              fr|      472067945|        1411583|           943563|\n|              it|      467145517|        1374554|           991974|\n|              pl|      417923035|        1265058|           786202|\n|              nl|      400143722|        1753614|          1272508|\n|              br|      368724405|        1088556|           742277|\n|             edu|      337728859|         200737|             5896|\n|              au|      276867048|         870025|           679201|\n|              cz|      276452429|         764185|           462706|\n|              cn|      260995697|       12308245|          1778354|\n|              es|      255385670|         572064|           406154|\n|              ca|      230769402|         647991|           485090|\n|              ua|      213489703|         343972|           223795|\n|            info|      201095070|         656928|           398851|\n+----------------+---------------+---------------+-----------------+\nonly showing top 20 rows\n\n</div>",
       "datasetInfos": [],
       "metadata": {},
       "removedWidgets": [],
       "type": "html"
      }
     },
     "output_type": "display_data"
    }
   ],
   "source": [
    "urldomainsdf = spark.sql(\"\"\"SELECT url_host_tld AS Top_Level_Domain, COUNT(*) AS Number_Of_Pages, COUNT(DISTINCT url_host_name) AS Number_Of_Hosts, COUNT(DISTINCT url_host_registered_domain) AS Number_Of_Domains \n",
    "FROM urls \n",
    "GROUP BY url_host_tld\n",
    "ORDER BY Number_Of_Pages DESC\"\"\")\n",
    "urldomainsdf.show()"
   ]
  },
  {
   "cell_type": "code",
   "execution_count": 0,
   "metadata": {
    "application/vnd.databricks.v1+cell": {
     "inputWidgets": {},
     "nuid": "b2d9e666-febf-4b7a-a52a-9b64f4765065",
     "showTitle": false,
     "title": ""
    }
   },
   "outputs": [
    {
     "data": {
      "text/html": [
       "<style scoped>\n",
       "  .ansiout {\n",
       "    display: block;\n",
       "    unicode-bidi: embed;\n",
       "    white-space: pre-wrap;\n",
       "    word-wrap: break-word;\n",
       "    word-break: break-all;\n",
       "    font-family: \"Source Code Pro\", \"Menlo\", monospace;;\n",
       "    font-size: 13px;\n",
       "    color: #555;\n",
       "    margin-left: 4px;\n",
       "    line-height: 19px;\n",
       "  }\n",
       "</style>\n",
       "<div class=\"ansiout\">+---------+--------------------------+\n",
       "    count|url_host_registered_domain|\n",
       "+---------+--------------------------+\n",
       "140003261|              blogspot.com|\n",
       "109672892|             wordpress.com|\n",
       " 45851589|           livejournal.com|\n",
       " 16011529|          photoshelter.com|\n",
       " 15353970|                   fc2.com|\n",
       " 15306444|                 yahoo.com|\n",
       " 12779870|                fandom.com|\n",
       " 11935479|         stackexchange.com|\n",
       " 11411580|            hatenablog.com|\n",
       " 11102018|                airbnb.com|\n",
       " 10854306|             herokuapp.com|\n",
       " 10523602|             workplace.com|\n",
       "  9909835|                google.com|\n",
       "  9198858|             pinterest.com|\n",
       "  8449817|              elsevier.com|\n",
       "  8305593|             amazonaws.com|\n",
       "  7458980|               typepad.com|\n",
       "  7386855|               tistory.com|\n",
       "  7002412|               alibaba.com|\n",
       "  6532410|             microsoft.com|\n",
       "+---------+--------------------------+\n",
       "only showing top 20 rows\n",
       "\n",
       "</div>"
      ]
     },
     "metadata": {
      "application/vnd.databricks.v1+output": {
       "addedWidgets": {},
       "arguments": {},
       "data": "<div class=\"ansiout\">+---------+--------------------------+\n|    count|url_host_registered_domain|\n+---------+--------------------------+\n|140003261|              blogspot.com|\n|109672892|             wordpress.com|\n| 45851589|           livejournal.com|\n| 16011529|          photoshelter.com|\n| 15353970|                   fc2.com|\n| 15306444|                 yahoo.com|\n| 12779870|                fandom.com|\n| 11935479|         stackexchange.com|\n| 11411580|            hatenablog.com|\n| 11102018|                airbnb.com|\n| 10854306|             herokuapp.com|\n| 10523602|             workplace.com|\n|  9909835|                google.com|\n|  9198858|             pinterest.com|\n|  8449817|              elsevier.com|\n|  8305593|             amazonaws.com|\n|  7458980|               typepad.com|\n|  7386855|               tistory.com|\n|  7002412|               alibaba.com|\n|  6532410|             microsoft.com|\n+---------+--------------------------+\nonly showing top 20 rows\n\n</div>",
       "datasetInfos": [],
       "metadata": {},
       "removedWidgets": [],
       "type": "html"
      }
     },
     "output_type": "display_data"
    }
   ],
   "source": [
    "popular_comdf = spark.sql(\"\"\"SELECT COUNT(*) AS count, url_host_registered_domain \n",
    "FROM urls \n",
    "WHERE url_host_tld = 'com'\n",
    "GROUP BY url_host_registered_domain\n",
    "HAVING (COUNT(*) >= 100)\n",
    "ORDER BY count desc\"\"\")\n",
    "popular_comdf.show()"
   ]
  },
  {
   "cell_type": "code",
   "execution_count": 0,
   "metadata": {
    "application/vnd.databricks.v1+cell": {
     "inputWidgets": {},
     "nuid": "f9b7ae64-b4c3-4c7a-9e1d-72b3e8f26861",
     "showTitle": false,
     "title": ""
    }
   },
   "outputs": [
    {
     "data": {
      "text/html": [
       "<style scoped>\n",
       "  .ansiout {\n",
       "    display: block;\n",
       "    unicode-bidi: embed;\n",
       "    white-space: pre-wrap;\n",
       "    word-wrap: break-word;\n",
       "    word-break: break-all;\n",
       "    font-family: \"Source Code Pro\", \"Menlo\", monospace;;\n",
       "    font-size: 13px;\n",
       "    color: #555;\n",
       "    margin-left: 4px;\n",
       "    line-height: 19px;\n",
       "  }\n",
       "</style>\n",
       "<div class=\"ansiout\">+--------+--------------------------+\n",
       "   count|url_host_registered_domain|\n",
       "+--------+--------------------------+\n",
       "64689245|             wikipedia.org|\n",
       "10997328|            altervista.org|\n",
       " 9383120|            wiktionary.org|\n",
       " 5702311|            craigslist.org|\n",
       " 3922568|                debian.org|\n",
       " 3248868|             worldbank.org|\n",
       " 3164156|                apache.org|\n",
       " 3027484|             wordpress.org|\n",
       " 2880389|                    un.org|\n",
       " 2807327|         fedoraproject.org|\n",
       " 2786509|                unesco.org|\n",
       " 2569494|               archive.org|\n",
       " 2555991|             wikimedia.org|\n",
       " 2466419|            wikisource.org|\n",
       " 2446231|               mozilla.org|\n",
       " 2128099|             wikiquote.org|\n",
       " 2070268|                    eu.org|\n",
       " 1458151|          globalvoices.org|\n",
       " 1434254|             wikileaks.org|\n",
       " 1405084|                centos.org|\n",
       "+--------+--------------------------+\n",
       "only showing top 20 rows\n",
       "\n",
       "</div>"
      ]
     },
     "metadata": {
      "application/vnd.databricks.v1+output": {
       "addedWidgets": {},
       "arguments": {},
       "data": "<div class=\"ansiout\">+--------+--------------------------+\n|   count|url_host_registered_domain|\n+--------+--------------------------+\n|64689245|             wikipedia.org|\n|10997328|            altervista.org|\n| 9383120|            wiktionary.org|\n| 5702311|            craigslist.org|\n| 3922568|                debian.org|\n| 3248868|             worldbank.org|\n| 3164156|                apache.org|\n| 3027484|             wordpress.org|\n| 2880389|                    un.org|\n| 2807327|         fedoraproject.org|\n| 2786509|                unesco.org|\n| 2569494|               archive.org|\n| 2555991|             wikimedia.org|\n| 2466419|            wikisource.org|\n| 2446231|               mozilla.org|\n| 2128099|             wikiquote.org|\n| 2070268|                    eu.org|\n| 1458151|          globalvoices.org|\n| 1434254|             wikileaks.org|\n| 1405084|                centos.org|\n+--------+--------------------------+\nonly showing top 20 rows\n\n</div>",
       "datasetInfos": [],
       "metadata": {},
       "removedWidgets": [],
       "type": "html"
      }
     },
     "output_type": "display_data"
    }
   ],
   "source": [
    "# popular_orgdf = spark.sql(\"\"\"SELECT COUNT(*) AS count, url_host_registered_domain\n",
    "FROM urls \n",
    "WHERE url_host_tld = 'org'\n",
    "GROUP BY url_host_registered_domain\n",
    "HAVING (COUNT(*) >= 100)\n",
    "ORDER BY count DESC\"\"\")\n",
    "popular_orgdf.show()"
   ]
  },
  {
   "cell_type": "code",
   "execution_count": 0,
   "metadata": {
    "application/vnd.databricks.v1+cell": {
     "inputWidgets": {},
     "nuid": "d73b7d5f-b475-433a-8c4d-e9ea9f2bd3cb",
     "showTitle": false,
     "title": ""
    }
   },
   "outputs": [
    {
     "data": {
      "text/html": [
       "<style scoped>\n",
       "  .ansiout {\n",
       "    display: block;\n",
       "    unicode-bidi: embed;\n",
       "    white-space: pre-wrap;\n",
       "    word-wrap: break-word;\n",
       "    word-break: break-all;\n",
       "    font-family: \"Source Code Pro\", \"Menlo\", monospace;;\n",
       "    font-size: 13px;\n",
       "    color: #555;\n",
       "    margin-left: 4px;\n",
       "    line-height: 19px;\n",
       "  }\n",
       "</style>\n",
       "<div class=\"ansiout\">+---------------------------------------------+\n",
       "url_surtkey                                  |\n",
       "+---------------------------------------------+\n",
       "xn--p1ai,xn--80ajpcdefafe2qua)/?page_id=15510|\n",
       "xn--p1ai,xn--80ajpcdefafe2qua)/?page_id=15585|\n",
       "xn--p1ai,xn--80ajpcdefafe2qua)/?page_id=15619|\n",
       "xn--p1ai,xn--80ajpcdefafe2qua)/?page_id=15621|\n",
       "xn--p1ai,xn--80ajpcdefafe2qua)/?page_id=15631|\n",
       "xn--p1ai,xn--80ajpcdefafe2qua)/?page_id=15672|\n",
       "xn--p1ai,xn--80ajpcdefafe2qua)/?page_id=15823|\n",
       "xn--p1ai,xn--80ajpcdefafe2qua)/?page_id=18415|\n",
       "xn--p1ai,xn--80ajpcdefafe2qua)/?page_id=18417|\n",
       "xn--p1ai,xn--80ajpcdefafe2qua)/?page_id=18419|\n",
       "xn--p1ai,xn--80ajpcdefafe2qua)/?page_id=18421|\n",
       "xn--p1ai,xn--80ajpcdefafe2qua)/?page_id=18423|\n",
       "xn--p1ai,xn--80ajpcdefafe2qua)/?page_id=44395|\n",
       "xn--p1ai,xn--80ajpcdefafe2qua)/?page_id=44398|\n",
       "xn--p1ai,xn--80ajpcdefafe2qua)/?page_id=44400|\n",
       "xn--p1ai,xn--80ajpcdefafe2qua)/?page_id=44401|\n",
       "xn--p1ai,xn--80ajpcdefafe2qua)/?page_id=44402|\n",
       "xn--p1ai,xn--80ajpcdefafe2qua)/?page_id=44905|\n",
       "xn--p1ai,xn--80ajpcdefafe2qua)/?page_id=47789|\n",
       "xn--p1ai,xn--80ajpcdefafe2qua)/?page_id=50380|\n",
       "+---------------------------------------------+\n",
       "only showing top 20 rows\n",
       "\n",
       "</div>"
      ]
     },
     "metadata": {
      "application/vnd.databricks.v1+output": {
       "addedWidgets": {},
       "arguments": {},
       "data": "<div class=\"ansiout\">+---------------------------------------------+\n|url_surtkey                                  |\n+---------------------------------------------+\n|xn--p1ai,xn--80ajpcdefafe2qua)/?page_id=15510|\n|xn--p1ai,xn--80ajpcdefafe2qua)/?page_id=15585|\n|xn--p1ai,xn--80ajpcdefafe2qua)/?page_id=15619|\n|xn--p1ai,xn--80ajpcdefafe2qua)/?page_id=15621|\n|xn--p1ai,xn--80ajpcdefafe2qua)/?page_id=15631|\n|xn--p1ai,xn--80ajpcdefafe2qua)/?page_id=15672|\n|xn--p1ai,xn--80ajpcdefafe2qua)/?page_id=15823|\n|xn--p1ai,xn--80ajpcdefafe2qua)/?page_id=18415|\n|xn--p1ai,xn--80ajpcdefafe2qua)/?page_id=18417|\n|xn--p1ai,xn--80ajpcdefafe2qua)/?page_id=18419|\n|xn--p1ai,xn--80ajpcdefafe2qua)/?page_id=18421|\n|xn--p1ai,xn--80ajpcdefafe2qua)/?page_id=18423|\n|xn--p1ai,xn--80ajpcdefafe2qua)/?page_id=44395|\n|xn--p1ai,xn--80ajpcdefafe2qua)/?page_id=44398|\n|xn--p1ai,xn--80ajpcdefafe2qua)/?page_id=44400|\n|xn--p1ai,xn--80ajpcdefafe2qua)/?page_id=44401|\n|xn--p1ai,xn--80ajpcdefafe2qua)/?page_id=44402|\n|xn--p1ai,xn--80ajpcdefafe2qua)/?page_id=44905|\n|xn--p1ai,xn--80ajpcdefafe2qua)/?page_id=47789|\n|xn--p1ai,xn--80ajpcdefafe2qua)/?page_id=50380|\n+---------------------------------------------+\nonly showing top 20 rows\n\n</div>",
       "datasetInfos": [],
       "metadata": {},
       "removedWidgets": [],
       "type": "html"
      }
     },
     "output_type": "display_data"
    }
   ],
   "source": [
    "# 2022\n",
    "\n",
    "path = '/mnt/lsde/datasets/commoncrawl/cc-index/table/cc-main/warc/crawl=CC-MAIN-2022*/subset=warc'\n",
    "df = spark.read.parquet(path)\n",
    "df.createOrReplaceTempView(\"url_surtkey\")\n",
    "url_surtkey_view = spark.sql(\"SELECT url_surtkey FROM url_surtkey\").show(truncate= False)"
   ]
  },
  {
   "cell_type": "code",
   "execution_count": 0,
   "metadata": {
    "application/vnd.databricks.v1+cell": {
     "inputWidgets": {},
     "nuid": "ef9b86e4-720a-4a84-b6a0-00ce2f4b2ca2",
     "showTitle": false,
     "title": ""
    }
   },
   "outputs": [
    {
     "data": {
      "text/html": [
       "<style scoped>\n",
       "  .ansiout {\n",
       "    display: block;\n",
       "    unicode-bidi: embed;\n",
       "    white-space: pre-wrap;\n",
       "    word-wrap: break-word;\n",
       "    word-break: break-all;\n",
       "    font-family: \"Source Code Pro\", \"Menlo\", monospace;;\n",
       "    font-size: 13px;\n",
       "    color: #555;\n",
       "    margin-left: 4px;\n",
       "    line-height: 19px;\n",
       "  }\n",
       "</style>\n",
       "<div class=\"ansiout\">+-----------+\n",
       "pages_count|\n",
       "+-----------+\n",
       "15311279215|\n",
       "+-----------+\n",
       "\n",
       "</div>"
      ]
     },
     "metadata": {
      "application/vnd.databricks.v1+output": {
       "addedWidgets": {},
       "arguments": {},
       "data": "<div class=\"ansiout\">+-----------+\n|pages_count|\n+-----------+\n|15311279215|\n+-----------+\n\n</div>",
       "datasetInfos": [],
       "metadata": {},
       "removedWidgets": [],
       "type": "html"
      }
     },
     "output_type": "display_data"
    }
   ],
   "source": [
    "urlsurtkey_viewall = spark.sql(\"SELECT count(*) AS pages_count FROM url_surtkey \").show(truncate=False)"
   ]
  },
  {
   "cell_type": "code",
   "execution_count": 0,
   "metadata": {
    "application/vnd.databricks.v1+cell": {
     "inputWidgets": {},
     "nuid": "c18c1f5b-d9b9-4440-8062-caee0c4f6637",
     "showTitle": false,
     "title": ""
    }
   },
   "outputs": [
    {
     "data": {
      "text/html": [
       "<style scoped>\n",
       "  .ansiout {\n",
       "    display: block;\n",
       "    unicode-bidi: embed;\n",
       "    white-space: pre-wrap;\n",
       "    word-wrap: break-word;\n",
       "    word-break: break-all;\n",
       "    font-family: \"Source Code Pro\", \"Menlo\", monospace;;\n",
       "    font-size: 13px;\n",
       "    color: #555;\n",
       "    margin-left: 4px;\n",
       "    line-height: 19px;\n",
       "  }\n",
       "</style>\n",
       "<div class=\"ansiout\">+-----------+\n",
       "pages_count|\n",
       "+-----------+\n",
       "176623     |\n",
       "+-----------+\n",
       "\n",
       "</div>"
      ]
     },
     "metadata": {
      "application/vnd.databricks.v1+output": {
       "addedWidgets": {},
       "arguments": {},
       "data": "<div class=\"ansiout\">+-----------+\n|pages_count|\n+-----------+\n|176623     |\n+-----------+\n\n</div>",
       "datasetInfos": [],
       "metadata": {},
       "removedWidgets": [],
       "type": "html"
      }
     },
     "output_type": "display_data"
    }
   ],
   "source": [
    "#oracle\n",
    "urlsurtkey_view = spark.sql(\"SELECT count(url_surtkey) AS pages_count FROM url_surtkey WHERE url_surtkey like '%oracle%' and url_surtkey like '%database%' \").show(truncate=False)"
   ]
  },
  {
   "cell_type": "code",
   "execution_count": 0,
   "metadata": {
    "application/vnd.databricks.v1+cell": {
     "inputWidgets": {},
     "nuid": "f4d5d715-6da8-46de-969d-ec965f340c89",
     "showTitle": false,
     "title": ""
    }
   },
   "outputs": [
    {
     "data": {
      "text/html": [
       "<style scoped>\n",
       "  .ansiout {\n",
       "    display: block;\n",
       "    unicode-bidi: embed;\n",
       "    white-space: pre-wrap;\n",
       "    word-wrap: break-word;\n",
       "    word-break: break-all;\n",
       "    font-family: \"Source Code Pro\", \"Menlo\", monospace;;\n",
       "    font-size: 13px;\n",
       "    color: #555;\n",
       "    margin-left: 4px;\n",
       "    line-height: 19px;\n",
       "  }\n",
       "</style>\n",
       "<div class=\"ansiout\">+-----------+\n",
       "pages_count|\n",
       "+-----------+\n",
       "21302      |\n",
       "+-----------+\n",
       "\n",
       "</div>"
      ]
     },
     "metadata": {
      "application/vnd.databricks.v1+output": {
       "addedWidgets": {},
       "arguments": {},
       "data": "<div class=\"ansiout\">+-----------+\n|pages_count|\n+-----------+\n|21302      |\n+-----------+\n\n</div>",
       "datasetInfos": [],
       "metadata": {},
       "removedWidgets": [],
       "type": "html"
      }
     },
     "output_type": "display_data"
    }
   ],
   "source": [
    "#Microsoft SQL Server\n",
    "urlsurtkey_view_microsoft = spark.sql(\"SELECT count(url_surtkey) AS pages_count FROM url_surtkey WHERE url_surtkey like '%microsoft%' and url_surtkey like '%sql%' and url_surtkey like '%server%' and url_surtkey like '%database%'\").show(truncate=False)\n"
   ]
  },
  {
   "cell_type": "code",
   "execution_count": 0,
   "metadata": {
    "application/vnd.databricks.v1+cell": {
     "inputWidgets": {},
     "nuid": "26c8c956-439f-4774-a90d-483ae396ee63",
     "showTitle": false,
     "title": ""
    }
   },
   "outputs": [
    {
     "data": {
      "text/html": [
       "<style scoped>\n",
       "  .ansiout {\n",
       "    display: block;\n",
       "    unicode-bidi: embed;\n",
       "    white-space: pre-wrap;\n",
       "    word-wrap: break-word;\n",
       "    word-break: break-all;\n",
       "    font-family: \"Source Code Pro\", \"Menlo\", monospace;;\n",
       "    font-size: 13px;\n",
       "    color: #555;\n",
       "    margin-left: 4px;\n",
       "    line-height: 19px;\n",
       "  }\n",
       "</style>\n",
       "<div class=\"ansiout\">+-----------+\n",
       "pages_count|\n",
       "+-----------+\n",
       "29498      |\n",
       "+-----------+\n",
       "\n",
       "</div>"
      ]
     },
     "metadata": {
      "application/vnd.databricks.v1+output": {
       "addedWidgets": {},
       "arguments": {},
       "data": "<div class=\"ansiout\">+-----------+\n|pages_count|\n+-----------+\n|29498      |\n+-----------+\n\n</div>",
       "datasetInfos": [],
       "metadata": {},
       "removedWidgets": [],
       "type": "html"
      }
     },
     "output_type": "display_data"
    }
   ],
   "source": [
    "# postgresql\n",
    "urlsurtkey_view_postgresql = spark.sql(\"SELECT count(url_surtkey) AS pages_count FROM url_surtkey WHERE url_surtkey like '%postgresql%' and url_surtkey like '%database%'\").show(truncate=False)\n"
   ]
  },
  {
   "cell_type": "code",
   "execution_count": 0,
   "metadata": {
    "application/vnd.databricks.v1+cell": {
     "inputWidgets": {},
     "nuid": "1d80e37a-7a0a-450b-92ec-2712b6922a44",
     "showTitle": false,
     "title": ""
    }
   },
   "outputs": [
    {
     "data": {
      "text/html": [
       "<style scoped>\n",
       "  .ansiout {\n",
       "    display: block;\n",
       "    unicode-bidi: embed;\n",
       "    white-space: pre-wrap;\n",
       "    word-wrap: break-word;\n",
       "    word-break: break-all;\n",
       "    font-family: \"Source Code Pro\", \"Menlo\", monospace;;\n",
       "    font-size: 13px;\n",
       "    color: #555;\n",
       "    margin-left: 4px;\n",
       "    line-height: 19px;\n",
       "  }\n",
       "</style>\n",
       "<div class=\"ansiout\">+-----------+\n",
       "pages_count|\n",
       "+-----------+\n",
       "507        |\n",
       "+-----------+\n",
       "\n",
       "</div>"
      ]
     },
     "metadata": {
      "application/vnd.databricks.v1+output": {
       "addedWidgets": {},
       "arguments": {},
       "data": "<div class=\"ansiout\">+-----------+\n|pages_count|\n+-----------+\n|507        |\n+-----------+\n\n</div>",
       "datasetInfos": [],
       "metadata": {},
       "removedWidgets": [],
       "type": "html"
      }
     },
     "output_type": "display_data"
    }
   ],
   "source": [
    "#clickhouse\n",
    "urlsurtkey_view_clickhouse = spark.sql(\"SELECT count(url_surtkey) AS pages_count FROM url_surtkey WHERE url_surtkey like '%clickhouse%' and url_surtkey like '%database%'\").show(truncate=False)\n"
   ]
  },
  {
   "cell_type": "code",
   "execution_count": 0,
   "metadata": {
    "application/vnd.databricks.v1+cell": {
     "inputWidgets": {},
     "nuid": "34d6baf6-c608-467b-8d90-c611e6aab54c",
     "showTitle": false,
     "title": ""
    }
   },
   "outputs": [
    {
     "data": {
      "text/html": [
       "<style scoped>\n",
       "  .ansiout {\n",
       "    display: block;\n",
       "    unicode-bidi: embed;\n",
       "    white-space: pre-wrap;\n",
       "    word-wrap: break-word;\n",
       "    word-break: break-all;\n",
       "    font-family: \"Source Code Pro\", \"Menlo\", monospace;;\n",
       "    font-size: 13px;\n",
       "    color: #555;\n",
       "    margin-left: 4px;\n",
       "    line-height: 19px;\n",
       "  }\n",
       "</style>\n",
       "<div class=\"ansiout\">+-----------+\n",
       "pages_count|\n",
       "+-----------+\n",
       "4276       |\n",
       "+-----------+\n",
       "\n",
       "</div>"
      ]
     },
     "metadata": {
      "application/vnd.databricks.v1+output": {
       "addedWidgets": {},
       "arguments": {},
       "data": "<div class=\"ansiout\">+-----------+\n|pages_count|\n+-----------+\n|4276       |\n+-----------+\n\n</div>",
       "datasetInfos": [],
       "metadata": {},
       "removedWidgets": [],
       "type": "html"
      }
     },
     "output_type": "display_data"
    }
   ],
   "source": [
    "# spark we assumed that when the words spark and database are in the same file or url we refer to the spark database\n",
    "urlsurtkey_view_spark = spark.sql(\"SELECT count(url_surtkey) AS pages_count FROM url_surtkey WHERE url_surtkey like '%spark%' and url_surtkey like '%database%'\").show(truncate=False)\n"
   ]
  },
  {
   "cell_type": "code",
   "execution_count": 0,
   "metadata": {
    "application/vnd.databricks.v1+cell": {
     "inputWidgets": {},
     "nuid": "268f7311-e1a5-4b70-b56f-9a5c46a26b1c",
     "showTitle": false,
     "title": ""
    }
   },
   "outputs": [
    {
     "data": {
      "text/html": [
       "<style scoped>\n",
       "  .ansiout {\n",
       "    display: block;\n",
       "    unicode-bidi: embed;\n",
       "    white-space: pre-wrap;\n",
       "    word-wrap: break-word;\n",
       "    word-break: break-all;\n",
       "    font-family: \"Source Code Pro\", \"Menlo\", monospace;;\n",
       "    font-size: 13px;\n",
       "    color: #555;\n",
       "    margin-left: 4px;\n",
       "    line-height: 19px;\n",
       "  }\n",
       "</style>\n",
       "<div class=\"ansiout\">+-----------+\n",
       "pages_count|\n",
       "+-----------+\n",
       "13029      |\n",
       "+-----------+\n",
       "\n",
       "</div>"
      ]
     },
     "metadata": {
      "application/vnd.databricks.v1+output": {
       "addedWidgets": {},
       "arguments": {},
       "data": "<div class=\"ansiout\">+-----------+\n|pages_count|\n+-----------+\n|13029      |\n+-----------+\n\n</div>",
       "datasetInfos": [],
       "metadata": {},
       "removedWidgets": [],
       "type": "html"
      }
     },
     "output_type": "display_data"
    }
   ],
   "source": [
    "#mongodb\n",
    "urlsurtkey_view_mongodb = spark.sql(\"SELECT count(url_surtkey) AS pages_count FROM url_surtkey WHERE url_surtkey like '%mongodb%' and url_surtkey like '%database%'\").show(truncate=False)\n"
   ]
  },
  {
   "cell_type": "code",
   "execution_count": 0,
   "metadata": {
    "application/vnd.databricks.v1+cell": {
     "inputWidgets": {},
     "nuid": "d0e17110-0a91-44fd-afb8-b6befabe73bd",
     "showTitle": false,
     "title": ""
    }
   },
   "outputs": [
    {
     "data": {
      "text/html": [
       "<style scoped>\n",
       "  .ansiout {\n",
       "    display: block;\n",
       "    unicode-bidi: embed;\n",
       "    white-space: pre-wrap;\n",
       "    word-wrap: break-word;\n",
       "    word-break: break-all;\n",
       "    font-family: \"Source Code Pro\", \"Menlo\", monospace;;\n",
       "    font-size: 13px;\n",
       "    color: #555;\n",
       "    margin-left: 4px;\n",
       "    line-height: 19px;\n",
       "  }\n",
       "</style>\n",
       "<div class=\"ansiout\">+-----------+\n",
       "pages_count|\n",
       "+-----------+\n",
       "49         |\n",
       "+-----------+\n",
       "\n",
       "</div>"
      ]
     },
     "metadata": {
      "application/vnd.databricks.v1+output": {
       "addedWidgets": {},
       "arguments": {},
       "data": "<div class=\"ansiout\">+-----------+\n|pages_count|\n+-----------+\n|49         |\n+-----------+\n\n</div>",
       "datasetInfos": [],
       "metadata": {},
       "removedWidgets": [],
       "type": "html"
      }
     },
     "output_type": "display_data"
    }
   ],
   "source": [
    "# duckdb\n",
    "urlsurtkey_view_duckdb = spark.sql(\"SELECT count(url_surtkey) AS pages_count FROM url_surtkey WHERE url_surtkey like '%duckdb%' and url_surtkey like '%database%'\").show(truncate=False)\n"
   ]
  },
  {
   "cell_type": "code",
   "execution_count": 0,
   "metadata": {
    "application/vnd.databricks.v1+cell": {
     "inputWidgets": {},
     "nuid": "f01054bb-0b16-49ca-bf49-3d5d3176c0f7",
     "showTitle": false,
     "title": ""
    }
   },
   "outputs": [
    {
     "data": {
      "text/html": [
       "<style scoped>\n",
       "  .ansiout {\n",
       "    display: block;\n",
       "    unicode-bidi: embed;\n",
       "    white-space: pre-wrap;\n",
       "    word-wrap: break-word;\n",
       "    word-break: break-all;\n",
       "    font-family: \"Source Code Pro\", \"Menlo\", monospace;;\n",
       "    font-size: 13px;\n",
       "    color: #555;\n",
       "    margin-left: 4px;\n",
       "    line-height: 19px;\n",
       "  }\n",
       "</style>\n",
       "<div class=\"ansiout\">+-----------+\n",
       "pages_count|\n",
       "+-----------+\n",
       "10393      |\n",
       "+-----------+\n",
       "\n",
       "</div>"
      ]
     },
     "metadata": {
      "application/vnd.databricks.v1+output": {
       "addedWidgets": {},
       "arguments": {},
       "data": "<div class=\"ansiout\">+-----------+\n|pages_count|\n+-----------+\n|10393      |\n+-----------+\n\n</div>",
       "datasetInfos": [],
       "metadata": {},
       "removedWidgets": [],
       "type": "html"
      }
     },
     "output_type": "display_data"
    }
   ],
   "source": [
    "#mariadb\n",
    "urlsurtkey_view_mariadb = spark.sql(\"SELECT count(url_surtkey) AS pages_count FROM url_surtkey WHERE url_surtkey like '%mariadb%' and url_surtkey like '%database%' \").show(truncate=False)\n"
   ]
  },
  {
   "cell_type": "code",
   "execution_count": 0,
   "metadata": {
    "application/vnd.databricks.v1+cell": {
     "inputWidgets": {},
     "nuid": "501e5237-fe5b-46ba-a384-0255fe6d4cd6",
     "showTitle": false,
     "title": ""
    }
   },
   "outputs": [
    {
     "data": {
      "text/html": [
       "<style scoped>\n",
       "  .ansiout {\n",
       "    display: block;\n",
       "    unicode-bidi: embed;\n",
       "    white-space: pre-wrap;\n",
       "    word-wrap: break-word;\n",
       "    word-break: break-all;\n",
       "    font-family: \"Source Code Pro\", \"Menlo\", monospace;;\n",
       "    font-size: 13px;\n",
       "    color: #555;\n",
       "    margin-left: 4px;\n",
       "    line-height: 19px;\n",
       "  }\n",
       "</style>\n",
       "<div class=\"ansiout\">+-----------+\n",
       "pages_count|\n",
       "+-----------+\n",
       "93965      |\n",
       "+-----------+\n",
       "\n",
       "</div>"
      ]
     },
     "metadata": {
      "application/vnd.databricks.v1+output": {
       "addedWidgets": {},
       "arguments": {},
       "data": "<div class=\"ansiout\">+-----------+\n|pages_count|\n+-----------+\n|93965      |\n+-----------+\n\n</div>",
       "datasetInfos": [],
       "metadata": {},
       "removedWidgets": [],
       "type": "html"
      }
     },
     "output_type": "display_data"
    }
   ],
   "source": [
    "#mysql\n",
    "urlsurtkey_view = spark.sql(\"SELECT count(url_surtkey) AS pages_count FROM url_surtkey WHERE url_surtkey like '%mysql%' and url_surtkey like '%database%' \").show(truncate=False)"
   ]
  },
  {
   "cell_type": "code",
   "execution_count": 0,
   "metadata": {
    "application/vnd.databricks.v1+cell": {
     "inputWidgets": {},
     "nuid": "5f7e74d5-3577-4b70-8286-0e4d7a16828b",
     "showTitle": false,
     "title": ""
    }
   },
   "outputs": [
    {
     "data": {
      "text/html": [
       "<style scoped>\n",
       "  .ansiout {\n",
       "    display: block;\n",
       "    unicode-bidi: embed;\n",
       "    white-space: pre-wrap;\n",
       "    word-wrap: break-word;\n",
       "    word-break: break-all;\n",
       "    font-family: \"Source Code Pro\", \"Menlo\", monospace;;\n",
       "    font-size: 13px;\n",
       "    color: #555;\n",
       "    margin-left: 4px;\n",
       "    line-height: 19px;\n",
       "  }\n",
       "</style>\n",
       "<div class=\"ansiout\">+-----------------------------------------------------------------------------------------+\n",
       "url_surtkey                                                                              |\n",
       "+-----------------------------------------------------------------------------------------+\n",
       "com,sportsmistakes)/viewforum.php?&amp;f=61                                                  |\n",
       "com,sony-mea)/ar/electronics/support/car-marine-entertainment-in-car-amplifiers/xm-zr704 |\n",
       "com,sportsmistakes)/viewforum.php?&amp;f=61                                                  |\n",
       "com,sony-mea)/ar/electronics/support/car-marine-entertainment-in-car-changers/cdx-444rf  |\n",
       "com,sportsmistakes)/viewforum.php?&amp;f=61                                                  |\n",
       "com,sony-mea)/ar/electronics/support/car-marine-entertainment-in-car-changers/cdx-454xrf |\n",
       "com,sportsmistakes)/viewforum.php?&amp;f=61                                                  |\n",
       "com,sony-mea)/ar/electronics/support/car-marine-entertainment-in-car-changers/cdx-505rf  |\n",
       "com,sportsmistakes)/viewforum.php?&amp;f=61                                                  |\n",
       "com,sony-mea)/ar/electronics/support/car-marine-entertainment-in-car-changers/cdx-52     |\n",
       "com,sportsmistakes)/viewforum.php?&amp;f=61                                                  |\n",
       "com,sony-mea)/ar/electronics/support/car-marine-entertainment-in-car-changers/cdx-52rf   |\n",
       "com,sportsmistakes)/viewforum.php?&amp;f=61                                                  |\n",
       "com,sony-mea)/ar/electronics/support/car-marine-entertainment-in-car-changers/cdx-545rf  |\n",
       "com,sportsmistakes)/viewforum.php?&amp;f=61                                                  |\n",
       "com,sony-mea)/ar/electronics/support/car-marine-entertainment-in-car-changers/cdx-555xrf |\n",
       "com,sportsmistakes)/viewforum.php?&amp;f=61                                                  |\n",
       "com,sony-mea)/ar/electronics/support/car-marine-entertainment-in-car-changers/cdx-565mxrf|\n",
       "com,sportsmistakes)/viewforum.php?&amp;f=61                                                  |\n",
       "com,sony-mea)/ar/electronics/support/car-marine-entertainment-in-car-changers/cdx-646    |\n",
       "+-----------------------------------------------------------------------------------------+\n",
       "only showing top 20 rows\n",
       "\n",
       "</div>"
      ]
     },
     "metadata": {
      "application/vnd.databricks.v1+output": {
       "addedWidgets": {},
       "arguments": {},
       "data": "<div class=\"ansiout\">+-----------------------------------------------------------------------------------------+\n|url_surtkey                                                                              |\n+-----------------------------------------------------------------------------------------+\n|com,sportsmistakes)/viewforum.php?&amp;f=61                                                  |\n|com,sony-mea)/ar/electronics/support/car-marine-entertainment-in-car-amplifiers/xm-zr704 |\n|com,sportsmistakes)/viewforum.php?&amp;f=61                                                  |\n|com,sony-mea)/ar/electronics/support/car-marine-entertainment-in-car-changers/cdx-444rf  |\n|com,sportsmistakes)/viewforum.php?&amp;f=61                                                  |\n|com,sony-mea)/ar/electronics/support/car-marine-entertainment-in-car-changers/cdx-454xrf |\n|com,sportsmistakes)/viewforum.php?&amp;f=61                                                  |\n|com,sony-mea)/ar/electronics/support/car-marine-entertainment-in-car-changers/cdx-505rf  |\n|com,sportsmistakes)/viewforum.php?&amp;f=61                                                  |\n|com,sony-mea)/ar/electronics/support/car-marine-entertainment-in-car-changers/cdx-52     |\n|com,sportsmistakes)/viewforum.php?&amp;f=61                                                  |\n|com,sony-mea)/ar/electronics/support/car-marine-entertainment-in-car-changers/cdx-52rf   |\n|com,sportsmistakes)/viewforum.php?&amp;f=61                                                  |\n|com,sony-mea)/ar/electronics/support/car-marine-entertainment-in-car-changers/cdx-545rf  |\n|com,sportsmistakes)/viewforum.php?&amp;f=61                                                  |\n|com,sony-mea)/ar/electronics/support/car-marine-entertainment-in-car-changers/cdx-555xrf |\n|com,sportsmistakes)/viewforum.php?&amp;f=61                                                  |\n|com,sony-mea)/ar/electronics/support/car-marine-entertainment-in-car-changers/cdx-565mxrf|\n|com,sportsmistakes)/viewforum.php?&amp;f=61                                                  |\n|com,sony-mea)/ar/electronics/support/car-marine-entertainment-in-car-changers/cdx-646    |\n+-----------------------------------------------------------------------------------------+\nonly showing top 20 rows\n\n</div>",
       "datasetInfos": [],
       "metadata": {},
       "removedWidgets": [],
       "type": "html"
      }
     },
     "output_type": "display_data"
    }
   ],
   "source": [
    "# 2019\n",
    "\n",
    "path = '/mnt/lsde/datasets/commoncrawl/cc-index/table/cc-main/warc/crawl=CC-MAIN-2019*/subset=warc'\n",
    "df = spark.read.parquet(path)\n",
    "df.createOrReplaceTempView(\"url_surtkey\")\n",
    "url_surtkey_view = spark.sql(\"SELECT url_surtkey FROM url_surtkey\").show(truncate= False)"
   ]
  },
  {
   "cell_type": "code",
   "execution_count": 0,
   "metadata": {
    "application/vnd.databricks.v1+cell": {
     "inputWidgets": {},
     "nuid": "26c7f9f8-f685-45b1-b4ff-7d605621659c",
     "showTitle": false,
     "title": ""
    }
   },
   "outputs": [
    {
     "data": {
      "text/html": [
       "<style scoped>\n",
       "  .ansiout {\n",
       "    display: block;\n",
       "    unicode-bidi: embed;\n",
       "    white-space: pre-wrap;\n",
       "    word-wrap: break-word;\n",
       "    word-break: break-all;\n",
       "    font-family: \"Source Code Pro\", \"Menlo\", monospace;;\n",
       "    font-size: 13px;\n",
       "    color: #555;\n",
       "    margin-left: 4px;\n",
       "    line-height: 19px;\n",
       "  }\n",
       "</style>\n",
       "<div class=\"ansiout\">+-----------+\n",
       "pages_count|\n",
       "+-----------+\n",
       "32337201902|\n",
       "+-----------+\n",
       "\n",
       "</div>"
      ]
     },
     "metadata": {
      "application/vnd.databricks.v1+output": {
       "addedWidgets": {},
       "arguments": {},
       "data": "<div class=\"ansiout\">+-----------+\n|pages_count|\n+-----------+\n|32337201902|\n+-----------+\n\n</div>",
       "datasetInfos": [],
       "metadata": {},
       "removedWidgets": [],
       "type": "html"
      }
     },
     "output_type": "display_data"
    }
   ],
   "source": [
    "urlsurtkey_viewall = spark.sql(\"SELECT count(*) AS pages_count FROM url_surtkey \").show(truncate=False)\n"
   ]
  },
  {
   "cell_type": "code",
   "execution_count": 0,
   "metadata": {
    "application/vnd.databricks.v1+cell": {
     "inputWidgets": {},
     "nuid": "fc2f9c9e-1b3a-41de-8fa2-189710578ec2",
     "showTitle": false,
     "title": ""
    }
   },
   "outputs": [
    {
     "data": {
      "text/html": [
       "<style scoped>\n",
       "  .ansiout {\n",
       "    display: block;\n",
       "    unicode-bidi: embed;\n",
       "    white-space: pre-wrap;\n",
       "    word-wrap: break-word;\n",
       "    word-break: break-all;\n",
       "    font-family: \"Source Code Pro\", \"Menlo\", monospace;;\n",
       "    font-size: 13px;\n",
       "    color: #555;\n",
       "    margin-left: 4px;\n",
       "    line-height: 19px;\n",
       "  }\n",
       "</style>\n",
       "<div class=\"ansiout\">+-----------+\n",
       "pages_count|\n",
       "+-----------+\n",
       "328401     |\n",
       "+-----------+\n",
       "\n",
       "</div>"
      ]
     },
     "metadata": {
      "application/vnd.databricks.v1+output": {
       "addedWidgets": {},
       "arguments": {},
       "data": "<div class=\"ansiout\">+-----------+\n|pages_count|\n+-----------+\n|328401     |\n+-----------+\n\n</div>",
       "datasetInfos": [],
       "metadata": {},
       "removedWidgets": [],
       "type": "html"
      }
     },
     "output_type": "display_data"
    }
   ],
   "source": [
    "#oracle\n",
    "urlsurtkey_view = spark.sql(\"SELECT count(url_surtkey) AS pages_count FROM url_surtkey WHERE url_surtkey like '%oracle%' and url_surtkey like '%database%' \").show(truncate=False)\n"
   ]
  },
  {
   "cell_type": "code",
   "execution_count": 0,
   "metadata": {
    "application/vnd.databricks.v1+cell": {
     "inputWidgets": {},
     "nuid": "e7d6f3fe-55ed-4d42-b1b0-9f487eeb8696",
     "showTitle": false,
     "title": ""
    }
   },
   "outputs": [
    {
     "data": {
      "text/html": [
       "<style scoped>\n",
       "  .ansiout {\n",
       "    display: block;\n",
       "    unicode-bidi: embed;\n",
       "    white-space: pre-wrap;\n",
       "    word-wrap: break-word;\n",
       "    word-break: break-all;\n",
       "    font-family: \"Source Code Pro\", \"Menlo\", monospace;;\n",
       "    font-size: 13px;\n",
       "    color: #555;\n",
       "    margin-left: 4px;\n",
       "    line-height: 19px;\n",
       "  }\n",
       "</style>\n",
       "<div class=\"ansiout\">+-----------+\n",
       "pages_count|\n",
       "+-----------+\n",
       "59547      |\n",
       "+-----------+\n",
       "\n",
       "</div>"
      ]
     },
     "metadata": {
      "application/vnd.databricks.v1+output": {
       "addedWidgets": {},
       "arguments": {},
       "data": "<div class=\"ansiout\">+-----------+\n|pages_count|\n+-----------+\n|59547      |\n+-----------+\n\n</div>",
       "datasetInfos": [],
       "metadata": {},
       "removedWidgets": [],
       "type": "html"
      }
     },
     "output_type": "display_data"
    }
   ],
   "source": [
    "#Microsoft SQL Server\n",
    "urlsurtkey_view_microsoft = spark.sql(\"SELECT count(url_surtkey) AS pages_count FROM url_surtkey WHERE url_surtkey like '%microsoft%' and url_surtkey like '%sql%' and url_surtkey like '%server%' and url_surtkey like '%database%'\").show(truncate=False)\n"
   ]
  },
  {
   "cell_type": "code",
   "execution_count": 0,
   "metadata": {
    "application/vnd.databricks.v1+cell": {
     "inputWidgets": {},
     "nuid": "030df52b-6dbd-4267-8383-394b6e40881d",
     "showTitle": false,
     "title": ""
    }
   },
   "outputs": [
    {
     "data": {
      "text/html": [
       "<style scoped>\n",
       "  .ansiout {\n",
       "    display: block;\n",
       "    unicode-bidi: embed;\n",
       "    white-space: pre-wrap;\n",
       "    word-wrap: break-word;\n",
       "    word-break: break-all;\n",
       "    font-family: \"Source Code Pro\", \"Menlo\", monospace;;\n",
       "    font-size: 13px;\n",
       "    color: #555;\n",
       "    margin-left: 4px;\n",
       "    line-height: 19px;\n",
       "  }\n",
       "</style>\n",
       "<div class=\"ansiout\">+-----------+\n",
       "pages_count|\n",
       "+-----------+\n",
       "43018      |\n",
       "+-----------+\n",
       "\n",
       "</div>"
      ]
     },
     "metadata": {
      "application/vnd.databricks.v1+output": {
       "addedWidgets": {},
       "arguments": {},
       "data": "<div class=\"ansiout\">+-----------+\n|pages_count|\n+-----------+\n|43018      |\n+-----------+\n\n</div>",
       "datasetInfos": [],
       "metadata": {},
       "removedWidgets": [],
       "type": "html"
      }
     },
     "output_type": "display_data"
    }
   ],
   "source": [
    "# postgresql\n",
    "urlsurtkey_view_postgresql2 = spark.sql(\"SELECT count(url_surtkey) AS pages_count FROM url_surtkey WHERE url_surtkey like '%postgresql%' and url_surtkey like '%database%'\").show(truncate=False)\n"
   ]
  },
  {
   "cell_type": "code",
   "execution_count": 0,
   "metadata": {
    "application/vnd.databricks.v1+cell": {
     "inputWidgets": {},
     "nuid": "79b56410-67a7-45ae-908f-e6b8ef306299",
     "showTitle": false,
     "title": ""
    }
   },
   "outputs": [
    {
     "data": {
      "text/html": [
       "<style scoped>\n",
       "  .ansiout {\n",
       "    display: block;\n",
       "    unicode-bidi: embed;\n",
       "    white-space: pre-wrap;\n",
       "    word-wrap: break-word;\n",
       "    word-break: break-all;\n",
       "    font-family: \"Source Code Pro\", \"Menlo\", monospace;;\n",
       "    font-size: 13px;\n",
       "    color: #555;\n",
       "    margin-left: 4px;\n",
       "    line-height: 19px;\n",
       "  }\n",
       "</style>\n",
       "<div class=\"ansiout\">+-----------+\n",
       "pages_count|\n",
       "+-----------+\n",
       "253        |\n",
       "+-----------+\n",
       "\n",
       "</div>"
      ]
     },
     "metadata": {
      "application/vnd.databricks.v1+output": {
       "addedWidgets": {},
       "arguments": {},
       "data": "<div class=\"ansiout\">+-----------+\n|pages_count|\n+-----------+\n|253        |\n+-----------+\n\n</div>",
       "datasetInfos": [],
       "metadata": {},
       "removedWidgets": [],
       "type": "html"
      }
     },
     "output_type": "display_data"
    }
   ],
   "source": [
    "#clickhouse\n",
    "urlsurtkey_view_clickhouse2 = spark.sql(\"SELECT count(url_surtkey) AS pages_count FROM url_surtkey WHERE url_surtkey like '%clickhouse%' and url_surtkey like '%database%'\").show(truncate=False)\n"
   ]
  },
  {
   "cell_type": "code",
   "execution_count": 0,
   "metadata": {
    "application/vnd.databricks.v1+cell": {
     "inputWidgets": {},
     "nuid": "0920c46a-e55d-4451-bf98-a7d80adef71f",
     "showTitle": false,
     "title": ""
    }
   },
   "outputs": [
    {
     "data": {
      "text/html": [
       "<style scoped>\n",
       "  .ansiout {\n",
       "    display: block;\n",
       "    unicode-bidi: embed;\n",
       "    white-space: pre-wrap;\n",
       "    word-wrap: break-word;\n",
       "    word-break: break-all;\n",
       "    font-family: \"Source Code Pro\", \"Menlo\", monospace;;\n",
       "    font-size: 13px;\n",
       "    color: #555;\n",
       "    margin-left: 4px;\n",
       "    line-height: 19px;\n",
       "  }\n",
       "</style>\n",
       "<div class=\"ansiout\">+-----------+\n",
       "pages_count|\n",
       "+-----------+\n",
       "5373       |\n",
       "+-----------+\n",
       "\n",
       "</div>"
      ]
     },
     "metadata": {
      "application/vnd.databricks.v1+output": {
       "addedWidgets": {},
       "arguments": {},
       "data": "<div class=\"ansiout\">+-----------+\n|pages_count|\n+-----------+\n|5373       |\n+-----------+\n\n</div>",
       "datasetInfos": [],
       "metadata": {},
       "removedWidgets": [],
       "type": "html"
      }
     },
     "output_type": "display_data"
    }
   ],
   "source": [
    "# spark we assumed that when the words spark and database are in the same file or url we refer to the spark database\n",
    "urlsurtkey_view_spark2 = spark.sql(\"SELECT count(url_surtkey) AS pages_count FROM url_surtkey WHERE url_surtkey like '%spark%' and url_surtkey like '%database%'\").show(truncate=False)\n"
   ]
  },
  {
   "cell_type": "code",
   "execution_count": 0,
   "metadata": {
    "application/vnd.databricks.v1+cell": {
     "inputWidgets": {},
     "nuid": "919ff79c-74e0-446a-a4e2-4779da555fae",
     "showTitle": false,
     "title": ""
    }
   },
   "outputs": [
    {
     "data": {
      "text/html": [
       "<style scoped>\n",
       "  .ansiout {\n",
       "    display: block;\n",
       "    unicode-bidi: embed;\n",
       "    white-space: pre-wrap;\n",
       "    word-wrap: break-word;\n",
       "    word-break: break-all;\n",
       "    font-family: \"Source Code Pro\", \"Menlo\", monospace;;\n",
       "    font-size: 13px;\n",
       "    color: #555;\n",
       "    margin-left: 4px;\n",
       "    line-height: 19px;\n",
       "  }\n",
       "</style>\n",
       "<div class=\"ansiout\">+-----------+\n",
       "pages_count|\n",
       "+-----------+\n",
       "14916      |\n",
       "+-----------+\n",
       "\n",
       "</div>"
      ]
     },
     "metadata": {
      "application/vnd.databricks.v1+output": {
       "addedWidgets": {},
       "arguments": {},
       "data": "<div class=\"ansiout\">+-----------+\n|pages_count|\n+-----------+\n|14916      |\n+-----------+\n\n</div>",
       "datasetInfos": [],
       "metadata": {},
       "removedWidgets": [],
       "type": "html"
      }
     },
     "output_type": "display_data"
    }
   ],
   "source": [
    "#mongodb\n",
    "urlsurtkey_view_mongodb2 = spark.sql(\"SELECT count(url_surtkey) AS pages_count FROM url_surtkey WHERE url_surtkey like '%mongodb%' and url_surtkey like '%database%'\").show(truncate=False)\n"
   ]
  },
  {
   "cell_type": "code",
   "execution_count": 0,
   "metadata": {
    "application/vnd.databricks.v1+cell": {
     "inputWidgets": {},
     "nuid": "0350b62f-251a-4363-aa8b-d4a3181479e5",
     "showTitle": false,
     "title": ""
    }
   },
   "outputs": [
    {
     "data": {
      "text/html": [
       "<style scoped>\n",
       "  .ansiout {\n",
       "    display: block;\n",
       "    unicode-bidi: embed;\n",
       "    white-space: pre-wrap;\n",
       "    word-wrap: break-word;\n",
       "    word-break: break-all;\n",
       "    font-family: \"Source Code Pro\", \"Menlo\", monospace;;\n",
       "    font-size: 13px;\n",
       "    color: #555;\n",
       "    margin-left: 4px;\n",
       "    line-height: 19px;\n",
       "  }\n",
       "</style>\n",
       "<div class=\"ansiout\">+-----------+\n",
       "pages_count|\n",
       "+-----------+\n",
       "0          |\n",
       "+-----------+\n",
       "\n",
       "</div>"
      ]
     },
     "metadata": {
      "application/vnd.databricks.v1+output": {
       "addedWidgets": {},
       "arguments": {},
       "data": "<div class=\"ansiout\">+-----------+\n|pages_count|\n+-----------+\n|0          |\n+-----------+\n\n</div>",
       "datasetInfos": [],
       "metadata": {},
       "removedWidgets": [],
       "type": "html"
      }
     },
     "output_type": "display_data"
    }
   ],
   "source": [
    "# duckdb\n",
    "urlsurtkey_view_duckdb2 = spark.sql(\"SELECT count(url_surtkey) AS pages_count FROM url_surtkey WHERE url_surtkey like '%duckdb%' and url_surtkey like '%database%'\").show(truncate=False)\n"
   ]
  },
  {
   "cell_type": "code",
   "execution_count": 0,
   "metadata": {
    "application/vnd.databricks.v1+cell": {
     "inputWidgets": {},
     "nuid": "61fabe32-bbe0-48dc-8e85-d16610bf03e3",
     "showTitle": false,
     "title": ""
    }
   },
   "outputs": [
    {
     "data": {
      "text/html": [
       "<style scoped>\n",
       "  .ansiout {\n",
       "    display: block;\n",
       "    unicode-bidi: embed;\n",
       "    white-space: pre-wrap;\n",
       "    word-wrap: break-word;\n",
       "    word-break: break-all;\n",
       "    font-family: \"Source Code Pro\", \"Menlo\", monospace;;\n",
       "    font-size: 13px;\n",
       "    color: #555;\n",
       "    margin-left: 4px;\n",
       "    line-height: 19px;\n",
       "  }\n",
       "</style>\n",
       "<div class=\"ansiout\">+-----------+\n",
       "pages_count|\n",
       "+-----------+\n",
       "183180     |\n",
       "+-----------+\n",
       "\n",
       "</div>"
      ]
     },
     "metadata": {
      "application/vnd.databricks.v1+output": {
       "addedWidgets": {},
       "arguments": {},
       "data": "<div class=\"ansiout\">+-----------+\n|pages_count|\n+-----------+\n|183180     |\n+-----------+\n\n</div>",
       "datasetInfos": [],
       "metadata": {},
       "removedWidgets": [],
       "type": "html"
      }
     },
     "output_type": "display_data"
    }
   ],
   "source": [
    "#mysql\n",
    "urlsurtkey_view_mysql2 = spark.sql(\"SELECT count(url_surtkey) AS pages_count FROM url_surtkey WHERE url_surtkey like '%mysql%' and url_surtkey like '%database%' \").show(truncate=False)\n"
   ]
  },
  {
   "cell_type": "code",
   "execution_count": 0,
   "metadata": {
    "application/vnd.databricks.v1+cell": {
     "inputWidgets": {},
     "nuid": "fd76e1ba-fa74-46b3-907b-2ad0d714e8d7",
     "showTitle": false,
     "title": ""
    }
   },
   "outputs": [
    {
     "data": {
      "text/html": [
       "<style scoped>\n",
       "  .ansiout {\n",
       "    display: block;\n",
       "    unicode-bidi: embed;\n",
       "    white-space: pre-wrap;\n",
       "    word-wrap: break-word;\n",
       "    word-break: break-all;\n",
       "    font-family: \"Source Code Pro\", \"Menlo\", monospace;;\n",
       "    font-size: 13px;\n",
       "    color: #555;\n",
       "    margin-left: 4px;\n",
       "    line-height: 19px;\n",
       "  }\n",
       "</style>\n",
       "<div class=\"ansiout\">+-----------+\n",
       "pages_count|\n",
       "+-----------+\n",
       "11800      |\n",
       "+-----------+\n",
       "\n",
       "</div>"
      ]
     },
     "metadata": {
      "application/vnd.databricks.v1+output": {
       "addedWidgets": {},
       "arguments": {},
       "data": "<div class=\"ansiout\">+-----------+\n|pages_count|\n+-----------+\n|11800      |\n+-----------+\n\n</div>",
       "datasetInfos": [],
       "metadata": {},
       "removedWidgets": [],
       "type": "html"
      }
     },
     "output_type": "display_data"
    }
   ],
   "source": [
    "#mariadb\n",
    "urlsurtkey_view_mariadb = spark.sql(\"SELECT count(url_surtkey) AS pages_count FROM url_surtkey WHERE url_surtkey like '%mariadb%' and url_surtkey like '%database%' \").show(truncate=False)\n",
    "\n"
   ]
  },
  {
   "cell_type": "code",
   "execution_count": 0,
   "metadata": {
    "application/vnd.databricks.v1+cell": {
     "inputWidgets": {},
     "nuid": "48fcb46b-5ebb-497d-a725-24af41e1cd2f",
     "showTitle": false,
     "title": ""
    }
   },
   "outputs": [
    {
     "data": {
      "text/html": [
       "<style scoped>\n",
       "  .ansiout {\n",
       "    display: block;\n",
       "    unicode-bidi: embed;\n",
       "    white-space: pre-wrap;\n",
       "    word-wrap: break-word;\n",
       "    word-break: break-all;\n",
       "    font-family: \"Source Code Pro\", \"Menlo\", monospace;;\n",
       "    font-size: 13px;\n",
       "    color: #555;\n",
       "    margin-left: 4px;\n",
       "    line-height: 19px;\n",
       "  }\n",
       "</style>\n",
       "<div class=\"ansiout\">+----------------------------------------------------------------------------------------------------------------+\n",
       "url_surtkey                                                                                                     |\n",
       "+----------------------------------------------------------------------------------------------------------------+\n",
       "de,esg-landau)/schulleben                                                                                       |\n",
       "de,foliendruck)/disque-de-frein-bmw-1er-e81-e82-119541/auto-moto-pi%c3%a8ces-accessoires.jsp                    |\n",
       "de,esg-landau)/schulleben/besonderheiten                                                                        |\n",
       "de,foliendruck)/disque-de-frein-perc%c3%a9-rainur%c3%a9-disques-324-122296/auto-moto-pi%c3%a8ces-accessoires.jsp|\n",
       "de,esg-landau)/schulleben/besonderheiten/berufsberatung                                                         |\n",
       "de,foliendruck)/distribution-taxe-courroie-168561/auto-moto-pi%c3%a8ces-accessoires.jsp                         |\n",
       "de,esg-landau)/schulleben/besonderheiten/mint                                                                   |\n",
       "de,foliendruck)/douilles-arri%c3%a8re-mercedes-benz-aclasse-130181/auto-moto-pi%c3%a8ces-accessoires.jsp        |\n",
       "de,esg-landau)/schulleben/besonderheiten/mitt                                                                   |\n",
       "de,foliendruck)/droit-mb-eclasse-w210-19951999-59691/auto-moto-pi%c3%a8ces-accessoires.jsp                      |\n",
       "de,esg-landau)/schulleben/besonderheiten/schuelerlotsen                                                         |\n",
       "de,foliendruck)/droit-os-renault-clio-20052009-50571/auto-moto-pi%c3%a8ces-accessoires.jsp                      |\n",
       "de,esg-landau)/schulleben/besonderheiten/zooschule                                                              |\n",
       "de,foliendruck)/droite-nouveau-original-opel-197156/auto-moto-pi%c3%a8ces-accessoires.jsp                       |\n",
       "de,esg-landau)/schulleben/nach-dem-unterricht                                                                   |\n",
       "de,foliendruck)/droite-renault-megane-20062009-break-195161/auto-moto-pi%c3%a8ces-accessoires.jsp               |\n",
       "de,esg-landau)/schulleben/nach-dem-unterricht/arbeitsgemeinschaften                                             |\n",
       "de,foliendruck)/druck-auf-folie                                                                                 |\n",
       "de,esg-landau)/schulleben/nach-dem-unterricht/big-band                                                          |\n",
       "de,foliendruck)/du-connecteur-%c3%a9lectrique-c%c3%a2blage-plug-pour-78691/auto-moto-pi%c3%a8ces-accessoires.jsp|\n",
       "+----------------------------------------------------------------------------------------------------------------+\n",
       "only showing top 20 rows\n",
       "\n",
       "</div>"
      ]
     },
     "metadata": {
      "application/vnd.databricks.v1+output": {
       "addedWidgets": {},
       "arguments": {},
       "data": "<div class=\"ansiout\">+----------------------------------------------------------------------------------------------------------------+\n|url_surtkey                                                                                                     |\n+----------------------------------------------------------------------------------------------------------------+\n|de,esg-landau)/schulleben                                                                                       |\n|de,foliendruck)/disque-de-frein-bmw-1er-e81-e82-119541/auto-moto-pi%c3%a8ces-accessoires.jsp                    |\n|de,esg-landau)/schulleben/besonderheiten                                                                        |\n|de,foliendruck)/disque-de-frein-perc%c3%a9-rainur%c3%a9-disques-324-122296/auto-moto-pi%c3%a8ces-accessoires.jsp|\n|de,esg-landau)/schulleben/besonderheiten/berufsberatung                                                         |\n|de,foliendruck)/distribution-taxe-courroie-168561/auto-moto-pi%c3%a8ces-accessoires.jsp                         |\n|de,esg-landau)/schulleben/besonderheiten/mint                                                                   |\n|de,foliendruck)/douilles-arri%c3%a8re-mercedes-benz-aclasse-130181/auto-moto-pi%c3%a8ces-accessoires.jsp        |\n|de,esg-landau)/schulleben/besonderheiten/mitt                                                                   |\n|de,foliendruck)/droit-mb-eclasse-w210-19951999-59691/auto-moto-pi%c3%a8ces-accessoires.jsp                      |\n|de,esg-landau)/schulleben/besonderheiten/schuelerlotsen                                                         |\n|de,foliendruck)/droit-os-renault-clio-20052009-50571/auto-moto-pi%c3%a8ces-accessoires.jsp                      |\n|de,esg-landau)/schulleben/besonderheiten/zooschule                                                              |\n|de,foliendruck)/droite-nouveau-original-opel-197156/auto-moto-pi%c3%a8ces-accessoires.jsp                       |\n|de,esg-landau)/schulleben/nach-dem-unterricht                                                                   |\n|de,foliendruck)/droite-renault-megane-20062009-break-195161/auto-moto-pi%c3%a8ces-accessoires.jsp               |\n|de,esg-landau)/schulleben/nach-dem-unterricht/arbeitsgemeinschaften                                             |\n|de,foliendruck)/druck-auf-folie                                                                                 |\n|de,esg-landau)/schulleben/nach-dem-unterricht/big-band                                                          |\n|de,foliendruck)/du-connecteur-%c3%a9lectrique-c%c3%a2blage-plug-pour-78691/auto-moto-pi%c3%a8ces-accessoires.jsp|\n+----------------------------------------------------------------------------------------------------------------+\nonly showing top 20 rows\n\n</div>",
       "datasetInfos": [],
       "metadata": {},
       "removedWidgets": [],
       "type": "html"
      }
     },
     "output_type": "display_data"
    }
   ],
   "source": [
    "# 2020\n",
    "\n",
    "path = '/mnt/lsde/datasets/commoncrawl/cc-index/table/cc-main/warc/crawl=CC-MAIN-2020*/subset=warc'\n",
    "df = spark.read.parquet(path)\n",
    "df.createOrReplaceTempView(\"url_surtkey\")\n",
    "url_surtkey_view = spark.sql(\"SELECT url_surtkey FROM url_surtkey\").show(truncate= False)"
   ]
  },
  {
   "cell_type": "code",
   "execution_count": 0,
   "metadata": {
    "application/vnd.databricks.v1+cell": {
     "inputWidgets": {},
     "nuid": "0f7dff46-bb0a-40ee-b6fc-4817be247f37",
     "showTitle": false,
     "title": ""
    }
   },
   "outputs": [
    {
     "data": {
      "text/html": [
       "<style scoped>\n",
       "  .ansiout {\n",
       "    display: block;\n",
       "    unicode-bidi: embed;\n",
       "    white-space: pre-wrap;\n",
       "    word-wrap: break-word;\n",
       "    word-break: break-all;\n",
       "    font-family: \"Source Code Pro\", \"Menlo\", monospace;;\n",
       "    font-size: 13px;\n",
       "    color: #555;\n",
       "    margin-left: 4px;\n",
       "    line-height: 19px;\n",
       "  }\n",
       "</style>\n",
       "<div class=\"ansiout\">+-----------+\n",
       "pages_count|\n",
       "+-----------+\n",
       "25822177243|\n",
       "+-----------+\n",
       "\n",
       "</div>"
      ]
     },
     "metadata": {
      "application/vnd.databricks.v1+output": {
       "addedWidgets": {},
       "arguments": {},
       "data": "<div class=\"ansiout\">+-----------+\n|pages_count|\n+-----------+\n|25822177243|\n+-----------+\n\n</div>",
       "datasetInfos": [],
       "metadata": {},
       "removedWidgets": [],
       "type": "html"
      }
     },
     "output_type": "display_data"
    }
   ],
   "source": [
    "urlsurtkey_viewall = spark.sql(\"SELECT count(*) AS pages_count FROM url_surtkey \").show(truncate=False)"
   ]
  },
  {
   "cell_type": "code",
   "execution_count": 0,
   "metadata": {
    "application/vnd.databricks.v1+cell": {
     "inputWidgets": {},
     "nuid": "84dbac8e-5fec-439f-8a9c-e0b45df27996",
     "showTitle": false,
     "title": ""
    }
   },
   "outputs": [
    {
     "data": {
      "text/html": [
       "<style scoped>\n",
       "  .ansiout {\n",
       "    display: block;\n",
       "    unicode-bidi: embed;\n",
       "    white-space: pre-wrap;\n",
       "    word-wrap: break-word;\n",
       "    word-break: break-all;\n",
       "    font-family: \"Source Code Pro\", \"Menlo\", monospace;;\n",
       "    font-size: 13px;\n",
       "    color: #555;\n",
       "    margin-left: 4px;\n",
       "    line-height: 19px;\n",
       "  }\n",
       "</style>\n",
       "<div class=\"ansiout\">+-----------+\n",
       "pages_count|\n",
       "+-----------+\n",
       "261503     |\n",
       "+-----------+\n",
       "\n",
       "</div>"
      ]
     },
     "metadata": {
      "application/vnd.databricks.v1+output": {
       "addedWidgets": {},
       "arguments": {},
       "data": "<div class=\"ansiout\">+-----------+\n|pages_count|\n+-----------+\n|261503     |\n+-----------+\n\n</div>",
       "datasetInfos": [],
       "metadata": {},
       "removedWidgets": [],
       "type": "html"
      }
     },
     "output_type": "display_data"
    }
   ],
   "source": [
    "#oracle\n",
    "urlsurtkey_view = spark.sql(\"SELECT count(url_surtkey) AS pages_count FROM url_surtkey WHERE url_surtkey like '%oracle%' and url_surtkey like '%database%' \").show(truncate=False)\n"
   ]
  },
  {
   "cell_type": "code",
   "execution_count": 0,
   "metadata": {
    "application/vnd.databricks.v1+cell": {
     "inputWidgets": {},
     "nuid": "6488ef18-b4dd-4eef-b9a5-55adf182241e",
     "showTitle": false,
     "title": ""
    }
   },
   "outputs": [
    {
     "data": {
      "text/html": [
       "<style scoped>\n",
       "  .ansiout {\n",
       "    display: block;\n",
       "    unicode-bidi: embed;\n",
       "    white-space: pre-wrap;\n",
       "    word-wrap: break-word;\n",
       "    word-break: break-all;\n",
       "    font-family: \"Source Code Pro\", \"Menlo\", monospace;;\n",
       "    font-size: 13px;\n",
       "    color: #555;\n",
       "    margin-left: 4px;\n",
       "    line-height: 19px;\n",
       "  }\n",
       "</style>\n",
       "<div class=\"ansiout\">+-----------+\n",
       "pages_count|\n",
       "+-----------+\n",
       "74658      |\n",
       "+-----------+\n",
       "\n",
       "</div>"
      ]
     },
     "metadata": {
      "application/vnd.databricks.v1+output": {
       "addedWidgets": {},
       "arguments": {},
       "data": "<div class=\"ansiout\">+-----------+\n|pages_count|\n+-----------+\n|74658      |\n+-----------+\n\n</div>",
       "datasetInfos": [],
       "metadata": {},
       "removedWidgets": [],
       "type": "html"
      }
     },
     "output_type": "display_data"
    }
   ],
   "source": [
    "#Microsoft SQL Server\n",
    "urlsurtkey_view_microsoft = spark.sql(\"SELECT count(url_surtkey) AS pages_count FROM url_surtkey WHERE url_surtkey like '%microsoft%' and url_surtkey like '%sql%' and url_surtkey like '%server%' and url_surtkey like '%database%'\").show(truncate=False)\n"
   ]
  },
  {
   "cell_type": "code",
   "execution_count": 0,
   "metadata": {
    "application/vnd.databricks.v1+cell": {
     "inputWidgets": {},
     "nuid": "66b93128-5772-4b9a-8f4e-caf497f6e599",
     "showTitle": false,
     "title": ""
    }
   },
   "outputs": [
    {
     "data": {
      "text/html": [
       "<style scoped>\n",
       "  .ansiout {\n",
       "    display: block;\n",
       "    unicode-bidi: embed;\n",
       "    white-space: pre-wrap;\n",
       "    word-wrap: break-word;\n",
       "    word-break: break-all;\n",
       "    font-family: \"Source Code Pro\", \"Menlo\", monospace;;\n",
       "    font-size: 13px;\n",
       "    color: #555;\n",
       "    margin-left: 4px;\n",
       "    line-height: 19px;\n",
       "  }\n",
       "</style>\n",
       "<div class=\"ansiout\">+-----------+\n",
       "pages_count|\n",
       "+-----------+\n",
       "38047      |\n",
       "+-----------+\n",
       "\n",
       "</div>"
      ]
     },
     "metadata": {
      "application/vnd.databricks.v1+output": {
       "addedWidgets": {},
       "arguments": {},
       "data": "<div class=\"ansiout\">+-----------+\n|pages_count|\n+-----------+\n|38047      |\n+-----------+\n\n</div>",
       "datasetInfos": [],
       "metadata": {},
       "removedWidgets": [],
       "type": "html"
      }
     },
     "output_type": "display_data"
    }
   ],
   "source": [
    "# postgresql\n",
    "urlsurtkey_view_postgresql = spark.sql(\"SELECT count(url_surtkey) AS pages_count FROM url_surtkey WHERE url_surtkey like '%postgresql%' and url_surtkey like '%database%'\").show(truncate=False)"
   ]
  },
  {
   "cell_type": "code",
   "execution_count": 0,
   "metadata": {
    "application/vnd.databricks.v1+cell": {
     "inputWidgets": {},
     "nuid": "b7ee1d1c-4969-4d8c-90bb-0a7ddb44512a",
     "showTitle": false,
     "title": ""
    }
   },
   "outputs": [
    {
     "data": {
      "text/html": [
       "<style scoped>\n",
       "  .ansiout {\n",
       "    display: block;\n",
       "    unicode-bidi: embed;\n",
       "    white-space: pre-wrap;\n",
       "    word-wrap: break-word;\n",
       "    word-break: break-all;\n",
       "    font-family: \"Source Code Pro\", \"Menlo\", monospace;;\n",
       "    font-size: 13px;\n",
       "    color: #555;\n",
       "    margin-left: 4px;\n",
       "    line-height: 19px;\n",
       "  }\n",
       "</style>\n",
       "<div class=\"ansiout\">+-----------+\n",
       "pages_count|\n",
       "+-----------+\n",
       "408        |\n",
       "+-----------+\n",
       "\n",
       "</div>"
      ]
     },
     "metadata": {
      "application/vnd.databricks.v1+output": {
       "addedWidgets": {},
       "arguments": {},
       "data": "<div class=\"ansiout\">+-----------+\n|pages_count|\n+-----------+\n|408        |\n+-----------+\n\n</div>",
       "datasetInfos": [],
       "metadata": {},
       "removedWidgets": [],
       "type": "html"
      }
     },
     "output_type": "display_data"
    }
   ],
   "source": [
    "#clickhouse\n",
    "urlsurtkey_view_clickhouse = spark.sql(\"SELECT count(url_surtkey) AS pages_count FROM url_surtkey WHERE url_surtkey like '%clickhouse%' and url_surtkey like '%database%'\").show(truncate=False)"
   ]
  },
  {
   "cell_type": "code",
   "execution_count": 0,
   "metadata": {
    "application/vnd.databricks.v1+cell": {
     "inputWidgets": {},
     "nuid": "66d0718d-61a8-4aef-a6bc-d4f5210a7c70",
     "showTitle": false,
     "title": ""
    }
   },
   "outputs": [
    {
     "data": {
      "text/html": [
       "<style scoped>\n",
       "  .ansiout {\n",
       "    display: block;\n",
       "    unicode-bidi: embed;\n",
       "    white-space: pre-wrap;\n",
       "    word-wrap: break-word;\n",
       "    word-break: break-all;\n",
       "    font-family: \"Source Code Pro\", \"Menlo\", monospace;;\n",
       "    font-size: 13px;\n",
       "    color: #555;\n",
       "    margin-left: 4px;\n",
       "    line-height: 19px;\n",
       "  }\n",
       "</style>\n",
       "<div class=\"ansiout\">+-----------+\n",
       "pages_count|\n",
       "+-----------+\n",
       "6366       |\n",
       "+-----------+\n",
       "\n",
       "</div>"
      ]
     },
     "metadata": {
      "application/vnd.databricks.v1+output": {
       "addedWidgets": {},
       "arguments": {},
       "data": "<div class=\"ansiout\">+-----------+\n|pages_count|\n+-----------+\n|6366       |\n+-----------+\n\n</div>",
       "datasetInfos": [],
       "metadata": {},
       "removedWidgets": [],
       "type": "html"
      }
     },
     "output_type": "display_data"
    }
   ],
   "source": [
    "# spark we assumed that when the words spark and database are in the same file or url we refer to the spark database\n",
    "urlsurtkey_view_spark = spark.sql(\"SELECT count(url_surtkey) AS pages_count FROM url_surtkey WHERE url_surtkey like '%spark%' and url_surtkey like '%database%'\").show(truncate=False)"
   ]
  },
  {
   "cell_type": "code",
   "execution_count": 0,
   "metadata": {
    "application/vnd.databricks.v1+cell": {
     "inputWidgets": {},
     "nuid": "f40b9487-7ea8-4293-9bc7-d398a922f564",
     "showTitle": false,
     "title": ""
    }
   },
   "outputs": [
    {
     "data": {
      "text/html": [
       "<style scoped>\n",
       "  .ansiout {\n",
       "    display: block;\n",
       "    unicode-bidi: embed;\n",
       "    white-space: pre-wrap;\n",
       "    word-wrap: break-word;\n",
       "    word-break: break-all;\n",
       "    font-family: \"Source Code Pro\", \"Menlo\", monospace;;\n",
       "    font-size: 13px;\n",
       "    color: #555;\n",
       "    margin-left: 4px;\n",
       "    line-height: 19px;\n",
       "  }\n",
       "</style>\n",
       "<div class=\"ansiout\">+-----------+\n",
       "pages_count|\n",
       "+-----------+\n",
       "12876      |\n",
       "+-----------+\n",
       "\n",
       "</div>"
      ]
     },
     "metadata": {
      "application/vnd.databricks.v1+output": {
       "addedWidgets": {},
       "arguments": {},
       "data": "<div class=\"ansiout\">+-----------+\n|pages_count|\n+-----------+\n|12876      |\n+-----------+\n\n</div>",
       "datasetInfos": [],
       "metadata": {},
       "removedWidgets": [],
       "type": "html"
      }
     },
     "output_type": "display_data"
    }
   ],
   "source": [
    "#mongodb\n",
    "urlsurtkey_view_mongodb = spark.sql(\"SELECT count(url_surtkey) AS pages_count FROM url_surtkey WHERE url_surtkey like '%mongodb%' and url_surtkey like '%database%'\").show(truncate=False)"
   ]
  },
  {
   "cell_type": "code",
   "execution_count": 0,
   "metadata": {
    "application/vnd.databricks.v1+cell": {
     "inputWidgets": {},
     "nuid": "11c40156-bd8e-4beb-9050-00d6e0d6d3d2",
     "showTitle": false,
     "title": ""
    }
   },
   "outputs": [
    {
     "data": {
      "text/html": [
       "<style scoped>\n",
       "  .ansiout {\n",
       "    display: block;\n",
       "    unicode-bidi: embed;\n",
       "    white-space: pre-wrap;\n",
       "    word-wrap: break-word;\n",
       "    word-break: break-all;\n",
       "    font-family: \"Source Code Pro\", \"Menlo\", monospace;;\n",
       "    font-size: 13px;\n",
       "    color: #555;\n",
       "    margin-left: 4px;\n",
       "    line-height: 19px;\n",
       "  }\n",
       "</style>\n",
       "<div class=\"ansiout\">+-----------+\n",
       "pages_count|\n",
       "+-----------+\n",
       "7          |\n",
       "+-----------+\n",
       "\n",
       "</div>"
      ]
     },
     "metadata": {
      "application/vnd.databricks.v1+output": {
       "addedWidgets": {},
       "arguments": {},
       "data": "<div class=\"ansiout\">+-----------+\n|pages_count|\n+-----------+\n|7          |\n+-----------+\n\n</div>",
       "datasetInfos": [],
       "metadata": {},
       "removedWidgets": [],
       "type": "html"
      }
     },
     "output_type": "display_data"
    }
   ],
   "source": [
    "# duckdb\n",
    "urlsurtkey_view_duckdb = spark.sql(\"SELECT count(url_surtkey) AS pages_count FROM url_surtkey WHERE url_surtkey like '%duckdb%' and url_surtkey like '%database%'\").show(truncate=False)"
   ]
  },
  {
   "cell_type": "code",
   "execution_count": 0,
   "metadata": {
    "application/vnd.databricks.v1+cell": {
     "inputWidgets": {},
     "nuid": "edab7b94-74e2-4bf5-b96c-e4ed0e3327bd",
     "showTitle": false,
     "title": ""
    }
   },
   "outputs": [
    {
     "data": {
      "text/html": [
       "<style scoped>\n",
       "  .ansiout {\n",
       "    display: block;\n",
       "    unicode-bidi: embed;\n",
       "    white-space: pre-wrap;\n",
       "    word-wrap: break-word;\n",
       "    word-break: break-all;\n",
       "    font-family: \"Source Code Pro\", \"Menlo\", monospace;;\n",
       "    font-size: 13px;\n",
       "    color: #555;\n",
       "    margin-left: 4px;\n",
       "    line-height: 19px;\n",
       "  }\n",
       "</style>\n",
       "<div class=\"ansiout\">+-----------+\n",
       "pages_count|\n",
       "+-----------+\n",
       "142733     |\n",
       "+-----------+\n",
       "\n",
       "</div>"
      ]
     },
     "metadata": {
      "application/vnd.databricks.v1+output": {
       "addedWidgets": {},
       "arguments": {},
       "data": "<div class=\"ansiout\">+-----------+\n|pages_count|\n+-----------+\n|142733     |\n+-----------+\n\n</div>",
       "datasetInfos": [],
       "metadata": {},
       "removedWidgets": [],
       "type": "html"
      }
     },
     "output_type": "display_data"
    }
   ],
   "source": [
    "#mysql\n",
    "urlsurtkey_view = spark.sql(\"SELECT count(url_surtkey) AS pages_count FROM url_surtkey WHERE url_surtkey like '%mysql%' and url_surtkey like '%database%' \").show(truncate=False)"
   ]
  },
  {
   "cell_type": "code",
   "execution_count": 0,
   "metadata": {
    "application/vnd.databricks.v1+cell": {
     "inputWidgets": {},
     "nuid": "69dd3fac-700f-4a40-adc7-af245195aa41",
     "showTitle": false,
     "title": ""
    }
   },
   "outputs": [
    {
     "data": {
      "text/html": [
       "<style scoped>\n",
       "  .ansiout {\n",
       "    display: block;\n",
       "    unicode-bidi: embed;\n",
       "    white-space: pre-wrap;\n",
       "    word-wrap: break-word;\n",
       "    word-break: break-all;\n",
       "    font-family: \"Source Code Pro\", \"Menlo\", monospace;;\n",
       "    font-size: 13px;\n",
       "    color: #555;\n",
       "    margin-left: 4px;\n",
       "    line-height: 19px;\n",
       "  }\n",
       "</style>\n",
       "<div class=\"ansiout\">+-----------+\n",
       "pages_count|\n",
       "+-----------+\n",
       "7690       |\n",
       "+-----------+\n",
       "\n",
       "</div>"
      ]
     },
     "metadata": {
      "application/vnd.databricks.v1+output": {
       "addedWidgets": {},
       "arguments": {},
       "data": "<div class=\"ansiout\">+-----------+\n|pages_count|\n+-----------+\n|7690       |\n+-----------+\n\n</div>",
       "datasetInfos": [],
       "metadata": {},
       "removedWidgets": [],
       "type": "html"
      }
     },
     "output_type": "display_data"
    }
   ],
   "source": [
    "#mariadb\n",
    "urlsurtkey_view_mariadb = spark.sql(\"SELECT count(url_surtkey) AS pages_count FROM url_surtkey WHERE url_surtkey like '%mariadb%' and url_surtkey like '%database%' \").show(truncate=False)"
   ]
  },
  {
   "cell_type": "code",
   "execution_count": 0,
   "metadata": {
    "application/vnd.databricks.v1+cell": {
     "inputWidgets": {},
     "nuid": "948ea224-ef3b-4950-b479-3cb28432d2b8",
     "showTitle": false,
     "title": ""
    }
   },
   "outputs": [
    {
     "data": {
      "text/html": [
       "<style scoped>\n",
       "  .ansiout {\n",
       "    display: block;\n",
       "    unicode-bidi: embed;\n",
       "    white-space: pre-wrap;\n",
       "    word-wrap: break-word;\n",
       "    word-break: break-all;\n",
       "    font-family: \"Source Code Pro\", \"Menlo\", monospace;;\n",
       "    font-size: 13px;\n",
       "    color: #555;\n",
       "    margin-left: 4px;\n",
       "    line-height: 19px;\n",
       "  }\n",
       "</style>\n",
       "<div class=\"ansiout\">+---------------------------------------------------------------------+\n",
       "url_surtkey                                                          |\n",
       "+---------------------------------------------------------------------+\n",
       "hu,gportal,robertayflor)/gindex.php?pg=30094901&amp;tags=gentemagazin    |\n",
       "hr,skole,os-dubrava)/?mshow=290&amp;news_hk=1&amp;news_id=576                |\n",
       "hu,gportal,robertayflor)/gindex.php?pg=30094901&amp;tags=gladys          |\n",
       "hr,skole,os-dubrava)/?mshow=290&amp;news_hk=1&amp;news_id=580                |\n",
       "hu,gportal,robertayflor)/gindex.php?pg=30094901&amp;tags=gladys          |\n",
       "hr,skole,os-dubrava)/?mshow=290&amp;news_hk=1&amp;news_id=582                |\n",
       "hu,gportal,robertayflor)/gindex.php?pg=30094901&amp;tags=h%c3%adr        |\n",
       "hr,skole,os-dubrava)/?mshow=290&amp;news_hk=1&amp;news_id=583                |\n",
       "hu,gportal,robertayflor)/gindex.php?pg=30094901&amp;tags=h%c3%adr        |\n",
       "hr,skole,os-dubrava)/?mshow=290&amp;news_hk=1&amp;news_id=591                |\n",
       "hu,gportal,robertayflor)/gindex.php?pg=30094901&amp;tags=hola            |\n",
       "hr,skole,os-dubrava)/?mshow=290&amp;news_hk=1&amp;news_id=596                |\n",
       "hu,gportal,robertayflor)/gindex.php?pg=30094901&amp;tags=hola            |\n",
       "hr,skole,os-dubrava)/?mshow=290&amp;news_hk=1&amp;news_id=598                |\n",
       "hu,gportal,robertayflor)/gindex.php?pg=30094901&amp;tags=mamasefuedeviaje|\n",
       "hr,skole,os-dubrava)/?mshow=290&amp;news_hk=1&amp;news_id=608                |\n",
       "hu,gportal,robertayflor)/gindex.php?pg=30094901&amp;tags=marianomartinez |\n",
       "hr,skole,os-dubrava)/?mshow=290&amp;news_hk=1&amp;news_id=610                |\n",
       "hu,gportal,robertayflor)/gindex.php?pg=30094901&amp;tags=marianomartinez |\n",
       "hr,skole,os-dubrava)/?mshow=290&amp;news_hk=1&amp;news_id=613                |\n",
       "+---------------------------------------------------------------------+\n",
       "only showing top 20 rows\n",
       "\n",
       "</div>"
      ]
     },
     "metadata": {
      "application/vnd.databricks.v1+output": {
       "addedWidgets": {},
       "arguments": {},
       "data": "<div class=\"ansiout\">+---------------------------------------------------------------------+\n|url_surtkey                                                          |\n+---------------------------------------------------------------------+\n|hu,gportal,robertayflor)/gindex.php?pg=30094901&amp;tags=gentemagazin    |\n|hr,skole,os-dubrava)/?mshow=290&amp;news_hk=1&amp;news_id=576                |\n|hu,gportal,robertayflor)/gindex.php?pg=30094901&amp;tags=gladys          |\n|hr,skole,os-dubrava)/?mshow=290&amp;news_hk=1&amp;news_id=580                |\n|hu,gportal,robertayflor)/gindex.php?pg=30094901&amp;tags=gladys          |\n|hr,skole,os-dubrava)/?mshow=290&amp;news_hk=1&amp;news_id=582                |\n|hu,gportal,robertayflor)/gindex.php?pg=30094901&amp;tags=h%c3%adr        |\n|hr,skole,os-dubrava)/?mshow=290&amp;news_hk=1&amp;news_id=583                |\n|hu,gportal,robertayflor)/gindex.php?pg=30094901&amp;tags=h%c3%adr        |\n|hr,skole,os-dubrava)/?mshow=290&amp;news_hk=1&amp;news_id=591                |\n|hu,gportal,robertayflor)/gindex.php?pg=30094901&amp;tags=hola            |\n|hr,skole,os-dubrava)/?mshow=290&amp;news_hk=1&amp;news_id=596                |\n|hu,gportal,robertayflor)/gindex.php?pg=30094901&amp;tags=hola            |\n|hr,skole,os-dubrava)/?mshow=290&amp;news_hk=1&amp;news_id=598                |\n|hu,gportal,robertayflor)/gindex.php?pg=30094901&amp;tags=mamasefuedeviaje|\n|hr,skole,os-dubrava)/?mshow=290&amp;news_hk=1&amp;news_id=608                |\n|hu,gportal,robertayflor)/gindex.php?pg=30094901&amp;tags=marianomartinez |\n|hr,skole,os-dubrava)/?mshow=290&amp;news_hk=1&amp;news_id=610                |\n|hu,gportal,robertayflor)/gindex.php?pg=30094901&amp;tags=marianomartinez |\n|hr,skole,os-dubrava)/?mshow=290&amp;news_hk=1&amp;news_id=613                |\n+---------------------------------------------------------------------+\nonly showing top 20 rows\n\n</div>",
       "datasetInfos": [],
       "metadata": {},
       "removedWidgets": [],
       "type": "html"
      }
     },
     "output_type": "display_data"
    }
   ],
   "source": [
    "# 2018\n",
    "\n",
    "path = '/mnt/lsde/datasets/commoncrawl/cc-index/table/cc-main/warc/crawl=CC-MAIN-2018*/subset=warc'\n",
    "df = spark.read.parquet(path)\n",
    "df.createOrReplaceTempView(\"url_surtkey\")\n",
    "url_surtkey_view = spark.sql(\"SELECT url_surtkey FROM url_surtkey\").show(truncate= False)"
   ]
  },
  {
   "cell_type": "code",
   "execution_count": 0,
   "metadata": {
    "application/vnd.databricks.v1+cell": {
     "inputWidgets": {},
     "nuid": "c7b56ddd-cc9a-4391-9332-3da80c817a2d",
     "showTitle": false,
     "title": ""
    }
   },
   "outputs": [
    {
     "data": {
      "text/html": [
       "<style scoped>\n",
       "  .ansiout {\n",
       "    display: block;\n",
       "    unicode-bidi: embed;\n",
       "    white-space: pre-wrap;\n",
       "    word-wrap: break-word;\n",
       "    word-break: break-all;\n",
       "    font-family: \"Source Code Pro\", \"Menlo\", monospace;;\n",
       "    font-size: 13px;\n",
       "    color: #555;\n",
       "    margin-left: 4px;\n",
       "    line-height: 19px;\n",
       "  }\n",
       "</style>\n",
       "<div class=\"ansiout\">+-----------+\n",
       "pages_count|\n",
       "+-----------+\n",
       "36788971874|\n",
       "+-----------+\n",
       "\n",
       "</div>"
      ]
     },
     "metadata": {
      "application/vnd.databricks.v1+output": {
       "addedWidgets": {},
       "arguments": {},
       "data": "<div class=\"ansiout\">+-----------+\n|pages_count|\n+-----------+\n|36788971874|\n+-----------+\n\n</div>",
       "datasetInfos": [],
       "metadata": {},
       "removedWidgets": [],
       "type": "html"
      }
     },
     "output_type": "display_data"
    }
   ],
   "source": [
    "urlsurtkey_viewall = spark.sql(\"SELECT count(*) AS pages_count FROM url_surtkey \").show(truncate=False)"
   ]
  },
  {
   "cell_type": "code",
   "execution_count": 0,
   "metadata": {
    "application/vnd.databricks.v1+cell": {
     "inputWidgets": {},
     "nuid": "39852548-62d3-43a5-b709-c03f183f0f3b",
     "showTitle": false,
     "title": ""
    }
   },
   "outputs": [
    {
     "data": {
      "text/html": [
       "<style scoped>\n",
       "  .ansiout {\n",
       "    display: block;\n",
       "    unicode-bidi: embed;\n",
       "    white-space: pre-wrap;\n",
       "    word-wrap: break-word;\n",
       "    word-break: break-all;\n",
       "    font-family: \"Source Code Pro\", \"Menlo\", monospace;;\n",
       "    font-size: 13px;\n",
       "    color: #555;\n",
       "    margin-left: 4px;\n",
       "    line-height: 19px;\n",
       "  }\n",
       "</style>\n",
       "<div class=\"ansiout\">+-----------+\n",
       "pages_count|\n",
       "+-----------+\n",
       "467947     |\n",
       "+-----------+\n",
       "\n",
       "</div>"
      ]
     },
     "metadata": {
      "application/vnd.databricks.v1+output": {
       "addedWidgets": {},
       "arguments": {},
       "data": "<div class=\"ansiout\">+-----------+\n|pages_count|\n+-----------+\n|467947     |\n+-----------+\n\n</div>",
       "datasetInfos": [],
       "metadata": {},
       "removedWidgets": [],
       "type": "html"
      }
     },
     "output_type": "display_data"
    }
   ],
   "source": [
    "#oracle\n",
    "urlsurtkey_view = spark.sql(\"SELECT count(url_surtkey) AS pages_count FROM url_surtkey WHERE url_surtkey like '%oracle%' and url_surtkey like '%database%' \").show(truncate=False)"
   ]
  },
  {
   "cell_type": "code",
   "execution_count": 0,
   "metadata": {
    "application/vnd.databricks.v1+cell": {
     "inputWidgets": {},
     "nuid": "1d02a911-69b0-4a07-9d1a-9ecff24ae8a3",
     "showTitle": false,
     "title": ""
    }
   },
   "outputs": [
    {
     "data": {
      "text/html": [
       "<style scoped>\n",
       "  .ansiout {\n",
       "    display: block;\n",
       "    unicode-bidi: embed;\n",
       "    white-space: pre-wrap;\n",
       "    word-wrap: break-word;\n",
       "    word-break: break-all;\n",
       "    font-family: \"Source Code Pro\", \"Menlo\", monospace;;\n",
       "    font-size: 13px;\n",
       "    color: #555;\n",
       "    margin-left: 4px;\n",
       "    line-height: 19px;\n",
       "  }\n",
       "</style>\n",
       "<div class=\"ansiout\">+-----------+\n",
       "pages_count|\n",
       "+-----------+\n",
       "55840      |\n",
       "+-----------+\n",
       "\n",
       "</div>"
      ]
     },
     "metadata": {
      "application/vnd.databricks.v1+output": {
       "addedWidgets": {},
       "arguments": {},
       "data": "<div class=\"ansiout\">+-----------+\n|pages_count|\n+-----------+\n|55840      |\n+-----------+\n\n</div>",
       "datasetInfos": [],
       "metadata": {},
       "removedWidgets": [],
       "type": "html"
      }
     },
     "output_type": "display_data"
    }
   ],
   "source": [
    "#Microsoft SQL Server\n",
    "urlsurtkey_view_microsoft = spark.sql(\"SELECT count(url_surtkey) AS pages_count FROM url_surtkey WHERE url_surtkey like '%microsoft%' and url_surtkey like '%sql%' and url_surtkey like '%server%' and url_surtkey like '%database%'\").show(truncate=False)"
   ]
  },
  {
   "cell_type": "code",
   "execution_count": 0,
   "metadata": {
    "application/vnd.databricks.v1+cell": {
     "inputWidgets": {},
     "nuid": "a41c51cd-0812-459e-921e-b640966dddbe",
     "showTitle": false,
     "title": ""
    }
   },
   "outputs": [
    {
     "data": {
      "text/html": [
       "<style scoped>\n",
       "  .ansiout {\n",
       "    display: block;\n",
       "    unicode-bidi: embed;\n",
       "    white-space: pre-wrap;\n",
       "    word-wrap: break-word;\n",
       "    word-break: break-all;\n",
       "    font-family: \"Source Code Pro\", \"Menlo\", monospace;;\n",
       "    font-size: 13px;\n",
       "    color: #555;\n",
       "    margin-left: 4px;\n",
       "    line-height: 19px;\n",
       "  }\n",
       "</style>\n",
       "<div class=\"ansiout\">+-----------+\n",
       "pages_count|\n",
       "+-----------+\n",
       "36881      |\n",
       "+-----------+\n",
       "\n",
       "</div>"
      ]
     },
     "metadata": {
      "application/vnd.databricks.v1+output": {
       "addedWidgets": {},
       "arguments": {},
       "data": "<div class=\"ansiout\">+-----------+\n|pages_count|\n+-----------+\n|36881      |\n+-----------+\n\n</div>",
       "datasetInfos": [],
       "metadata": {},
       "removedWidgets": [],
       "type": "html"
      }
     },
     "output_type": "display_data"
    }
   ],
   "source": [
    "# postgresql\n",
    "urlsurtkey_view_postgresql = spark.sql(\"SELECT count(url_surtkey) AS pages_count FROM url_surtkey WHERE url_surtkey like '%postgresql%' and url_surtkey like '%database%'\").show(truncate=False)"
   ]
  },
  {
   "cell_type": "code",
   "execution_count": 0,
   "metadata": {
    "application/vnd.databricks.v1+cell": {
     "inputWidgets": {},
     "nuid": "7ee608fb-3cef-4c64-b820-5d7afecc851c",
     "showTitle": false,
     "title": ""
    }
   },
   "outputs": [
    {
     "data": {
      "text/html": [
       "<style scoped>\n",
       "  .ansiout {\n",
       "    display: block;\n",
       "    unicode-bidi: embed;\n",
       "    white-space: pre-wrap;\n",
       "    word-wrap: break-word;\n",
       "    word-break: break-all;\n",
       "    font-family: \"Source Code Pro\", \"Menlo\", monospace;;\n",
       "    font-size: 13px;\n",
       "    color: #555;\n",
       "    margin-left: 4px;\n",
       "    line-height: 19px;\n",
       "  }\n",
       "</style>\n",
       "<div class=\"ansiout\">+-----------+\n",
       "pages_count|\n",
       "+-----------+\n",
       "81         |\n",
       "+-----------+\n",
       "\n",
       "</div>"
      ]
     },
     "metadata": {
      "application/vnd.databricks.v1+output": {
       "addedWidgets": {},
       "arguments": {},
       "data": "<div class=\"ansiout\">+-----------+\n|pages_count|\n+-----------+\n|81         |\n+-----------+\n\n</div>",
       "datasetInfos": [],
       "metadata": {},
       "removedWidgets": [],
       "type": "html"
      }
     },
     "output_type": "display_data"
    }
   ],
   "source": [
    "#clickhouse\n",
    "urlsurtkey_view_clickhouse = spark.sql(\"SELECT count(url_surtkey) AS pages_count FROM url_surtkey WHERE url_surtkey like '%clickhouse%' and url_surtkey like '%database%'\").show(truncate=False)"
   ]
  },
  {
   "cell_type": "code",
   "execution_count": 0,
   "metadata": {
    "application/vnd.databricks.v1+cell": {
     "inputWidgets": {},
     "nuid": "78c0a0e8-3985-46af-8039-97d06a041d38",
     "showTitle": false,
     "title": ""
    }
   },
   "outputs": [
    {
     "data": {
      "text/html": [
       "<style scoped>\n",
       "  .ansiout {\n",
       "    display: block;\n",
       "    unicode-bidi: embed;\n",
       "    white-space: pre-wrap;\n",
       "    word-wrap: break-word;\n",
       "    word-break: break-all;\n",
       "    font-family: \"Source Code Pro\", \"Menlo\", monospace;;\n",
       "    font-size: 13px;\n",
       "    color: #555;\n",
       "    margin-left: 4px;\n",
       "    line-height: 19px;\n",
       "  }\n",
       "</style>\n",
       "<div class=\"ansiout\">+-----------+\n",
       "pages_count|\n",
       "+-----------+\n",
       "9895       |\n",
       "+-----------+\n",
       "\n",
       "</div>"
      ]
     },
     "metadata": {
      "application/vnd.databricks.v1+output": {
       "addedWidgets": {},
       "arguments": {},
       "data": "<div class=\"ansiout\">+-----------+\n|pages_count|\n+-----------+\n|9895       |\n+-----------+\n\n</div>",
       "datasetInfos": [],
       "metadata": {},
       "removedWidgets": [],
       "type": "html"
      }
     },
     "output_type": "display_data"
    }
   ],
   "source": [
    "# spark we assumed that when the words spark and database are in the same file or url we refer to the spark database\n",
    "urlsurtkey_view_spark = spark.sql(\"SELECT count(url_surtkey) AS pages_count FROM url_surtkey WHERE url_surtkey like '%spark%' and url_surtkey like '%database%'\").show(truncate=False)"
   ]
  },
  {
   "cell_type": "code",
   "execution_count": 0,
   "metadata": {
    "application/vnd.databricks.v1+cell": {
     "inputWidgets": {},
     "nuid": "c494b23b-afea-4543-a764-a806c5b385fc",
     "showTitle": false,
     "title": ""
    }
   },
   "outputs": [
    {
     "data": {
      "text/html": [
       "<style scoped>\n",
       "  .ansiout {\n",
       "    display: block;\n",
       "    unicode-bidi: embed;\n",
       "    white-space: pre-wrap;\n",
       "    word-wrap: break-word;\n",
       "    word-break: break-all;\n",
       "    font-family: \"Source Code Pro\", \"Menlo\", monospace;;\n",
       "    font-size: 13px;\n",
       "    color: #555;\n",
       "    margin-left: 4px;\n",
       "    line-height: 19px;\n",
       "  }\n",
       "</style>\n",
       "<div class=\"ansiout\">+-----------+\n",
       "pages_count|\n",
       "+-----------+\n",
       "15483      |\n",
       "+-----------+\n",
       "\n",
       "</div>"
      ]
     },
     "metadata": {
      "application/vnd.databricks.v1+output": {
       "addedWidgets": {},
       "arguments": {},
       "data": "<div class=\"ansiout\">+-----------+\n|pages_count|\n+-----------+\n|15483      |\n+-----------+\n\n</div>",
       "datasetInfos": [],
       "metadata": {},
       "removedWidgets": [],
       "type": "html"
      }
     },
     "output_type": "display_data"
    }
   ],
   "source": [
    "#mongodb\n",
    "urlsurtkey_view_mongodb = spark.sql(\"SELECT count(url_surtkey) AS pages_count FROM url_surtkey WHERE url_surtkey like '%mongodb%' and url_surtkey like '%database%'\").show(truncate=False)"
   ]
  },
  {
   "cell_type": "code",
   "execution_count": 0,
   "metadata": {
    "application/vnd.databricks.v1+cell": {
     "inputWidgets": {},
     "nuid": "142c063e-f9fa-409b-9d27-47a33ae1b2bf",
     "showTitle": false,
     "title": ""
    }
   },
   "outputs": [
    {
     "data": {
      "text/html": [
       "<style scoped>\n",
       "  .ansiout {\n",
       "    display: block;\n",
       "    unicode-bidi: embed;\n",
       "    white-space: pre-wrap;\n",
       "    word-wrap: break-word;\n",
       "    word-break: break-all;\n",
       "    font-family: \"Source Code Pro\", \"Menlo\", monospace;;\n",
       "    font-size: 13px;\n",
       "    color: #555;\n",
       "    margin-left: 4px;\n",
       "    line-height: 19px;\n",
       "  }\n",
       "</style>\n",
       "<div class=\"ansiout\">+-----------+\n",
       "pages_count|\n",
       "+-----------+\n",
       "0          |\n",
       "+-----------+\n",
       "\n",
       "</div>"
      ]
     },
     "metadata": {
      "application/vnd.databricks.v1+output": {
       "addedWidgets": {},
       "arguments": {},
       "data": "<div class=\"ansiout\">+-----------+\n|pages_count|\n+-----------+\n|0          |\n+-----------+\n\n</div>",
       "datasetInfos": [],
       "metadata": {},
       "removedWidgets": [],
       "type": "html"
      }
     },
     "output_type": "display_data"
    }
   ],
   "source": [
    "# duckdb\n",
    "urlsurtkey_view_duckdb = spark.sql(\"SELECT count(url_surtkey) AS pages_count FROM url_surtkey WHERE url_surtkey like '%duckdb%' and url_surtkey like '%database%'\").show(truncate=False)"
   ]
  },
  {
   "cell_type": "code",
   "execution_count": 0,
   "metadata": {
    "application/vnd.databricks.v1+cell": {
     "inputWidgets": {},
     "nuid": "727463f9-1387-4c80-99eb-2e490df42e5f",
     "showTitle": false,
     "title": ""
    }
   },
   "outputs": [
    {
     "data": {
      "text/html": [
       "<style scoped>\n",
       "  .ansiout {\n",
       "    display: block;\n",
       "    unicode-bidi: embed;\n",
       "    white-space: pre-wrap;\n",
       "    word-wrap: break-word;\n",
       "    word-break: break-all;\n",
       "    font-family: \"Source Code Pro\", \"Menlo\", monospace;;\n",
       "    font-size: 13px;\n",
       "    color: #555;\n",
       "    margin-left: 4px;\n",
       "    line-height: 19px;\n",
       "  }\n",
       "</style>\n",
       "<div class=\"ansiout\">+-----------+\n",
       "pages_count|\n",
       "+-----------+\n",
       "220439     |\n",
       "+-----------+\n",
       "\n",
       "</div>"
      ]
     },
     "metadata": {
      "application/vnd.databricks.v1+output": {
       "addedWidgets": {},
       "arguments": {},
       "data": "<div class=\"ansiout\">+-----------+\n|pages_count|\n+-----------+\n|220439     |\n+-----------+\n\n</div>",
       "datasetInfos": [],
       "metadata": {},
       "removedWidgets": [],
       "type": "html"
      }
     },
     "output_type": "display_data"
    }
   ],
   "source": [
    "#mysql\n",
    "urlsurtkey_view = spark.sql(\"SELECT count(url_surtkey) AS pages_count FROM url_surtkey WHERE url_surtkey like '%mysql%' and url_surtkey like '%database%' \").show(truncate=False)"
   ]
  },
  {
   "cell_type": "code",
   "execution_count": 0,
   "metadata": {
    "application/vnd.databricks.v1+cell": {
     "inputWidgets": {},
     "nuid": "b46e6b0f-0d72-4732-8b6a-c4aeedbc1a8f",
     "showTitle": false,
     "title": ""
    }
   },
   "outputs": [
    {
     "data": {
      "text/html": [
       "<style scoped>\n",
       "  .ansiout {\n",
       "    display: block;\n",
       "    unicode-bidi: embed;\n",
       "    white-space: pre-wrap;\n",
       "    word-wrap: break-word;\n",
       "    word-break: break-all;\n",
       "    font-family: \"Source Code Pro\", \"Menlo\", monospace;;\n",
       "    font-size: 13px;\n",
       "    color: #555;\n",
       "    margin-left: 4px;\n",
       "    line-height: 19px;\n",
       "  }\n",
       "</style>\n",
       "<div class=\"ansiout\">+-----------+\n",
       "pages_count|\n",
       "+-----------+\n",
       "5210       |\n",
       "+-----------+\n",
       "\n",
       "</div>"
      ]
     },
     "metadata": {
      "application/vnd.databricks.v1+output": {
       "addedWidgets": {},
       "arguments": {},
       "data": "<div class=\"ansiout\">+-----------+\n|pages_count|\n+-----------+\n|5210       |\n+-----------+\n\n</div>",
       "datasetInfos": [],
       "metadata": {},
       "removedWidgets": [],
       "type": "html"
      }
     },
     "output_type": "display_data"
    }
   ],
   "source": [
    "#mariadb\n",
    "urlsurtkey_view_mariadb = spark.sql(\"SELECT count(url_surtkey) AS pages_count FROM url_surtkey WHERE url_surtkey like '%mariadb%' and url_surtkey like '%database%' \").show(truncate=False)"
   ]
  },
  {
   "cell_type": "code",
   "execution_count": 0,
   "metadata": {
    "application/vnd.databricks.v1+cell": {
     "inputWidgets": {},
     "nuid": "9c67b227-1902-4009-aac5-2c2e379e942e",
     "showTitle": false,
     "title": ""
    }
   },
   "outputs": [
    {
     "data": {
      "text/html": [
       "<style scoped>\n",
       "  .ansiout {\n",
       "    display: block;\n",
       "    unicode-bidi: embed;\n",
       "    white-space: pre-wrap;\n",
       "    word-wrap: break-word;\n",
       "    word-break: break-all;\n",
       "    font-family: \"Source Code Pro\", \"Menlo\", monospace;;\n",
       "    font-size: 13px;\n",
       "    color: #555;\n",
       "    margin-left: 4px;\n",
       "    line-height: 19px;\n",
       "  }\n",
       "</style>\n",
       "<div class=\"ansiout\">+---------------------------------------------------------+\n",
       "url_surtkey                                              |\n",
       "+---------------------------------------------------------+\n",
       "com,weatherbug,weather)/ilford%20united%20kingdom        |\n",
       "com,webdeveloper)/forum/newreply.php?do=newreply&amp;p=389028|\n",
       "com,weatherbug,weather)/ilfracombe%20united%20kingdom    |\n",
       "com,webdeveloper)/forum/newreply.php?do=newreply&amp;p=389034|\n",
       "com,weatherbug,weather)/ilha%20solteira%20brazil         |\n",
       "com,webdeveloper)/forum/newreply.php?do=newreply&amp;p=389320|\n",
       "com,weatherbug,weather)/iliff%20co                       |\n",
       "com,webdeveloper)/forum/newreply.php?do=newreply&amp;p=389355|\n",
       "com,weatherbug,weather)/iligan%20city%20philippines      |\n",
       "com,webdeveloper)/forum/newreply.php?do=newreply&amp;p=389711|\n",
       "com,weatherbug,weather)/ilion%20ny                       |\n",
       "com,webdeveloper)/forum/newreply.php?do=newreply&amp;p=389751|\n",
       "com,weatherbug,weather)/ilion%20ny                       |\n",
       "com,webdeveloper)/forum/newreply.php?do=newreply&amp;p=389836|\n",
       "com,weatherbug,weather)/ilkal%20india                    |\n",
       "com,webdeveloper)/forum/newreply.php?do=newreply&amp;p=389842|\n",
       "com,weatherbug,weather)/ilkeston%20united%20kingdom      |\n",
       "com,webdeveloper)/forum/newreply.php?do=newreply&amp;p=389844|\n",
       "com,weatherbug,weather)/ilkley%20united%20kingdom        |\n",
       "com,webdeveloper)/forum/newreply.php?do=newreply&amp;p=389849|\n",
       "+---------------------------------------------------------+\n",
       "only showing top 20 rows\n",
       "\n",
       "</div>"
      ]
     },
     "metadata": {
      "application/vnd.databricks.v1+output": {
       "addedWidgets": {},
       "arguments": {},
       "data": "<div class=\"ansiout\">+---------------------------------------------------------+\n|url_surtkey                                              |\n+---------------------------------------------------------+\n|com,weatherbug,weather)/ilford%20united%20kingdom        |\n|com,webdeveloper)/forum/newreply.php?do=newreply&amp;p=389028|\n|com,weatherbug,weather)/ilfracombe%20united%20kingdom    |\n|com,webdeveloper)/forum/newreply.php?do=newreply&amp;p=389034|\n|com,weatherbug,weather)/ilha%20solteira%20brazil         |\n|com,webdeveloper)/forum/newreply.php?do=newreply&amp;p=389320|\n|com,weatherbug,weather)/iliff%20co                       |\n|com,webdeveloper)/forum/newreply.php?do=newreply&amp;p=389355|\n|com,weatherbug,weather)/iligan%20city%20philippines      |\n|com,webdeveloper)/forum/newreply.php?do=newreply&amp;p=389711|\n|com,weatherbug,weather)/ilion%20ny                       |\n|com,webdeveloper)/forum/newreply.php?do=newreply&amp;p=389751|\n|com,weatherbug,weather)/ilion%20ny                       |\n|com,webdeveloper)/forum/newreply.php?do=newreply&amp;p=389836|\n|com,weatherbug,weather)/ilkal%20india                    |\n|com,webdeveloper)/forum/newreply.php?do=newreply&amp;p=389842|\n|com,weatherbug,weather)/ilkeston%20united%20kingdom      |\n|com,webdeveloper)/forum/newreply.php?do=newreply&amp;p=389844|\n|com,weatherbug,weather)/ilkley%20united%20kingdom        |\n|com,webdeveloper)/forum/newreply.php?do=newreply&amp;p=389849|\n+---------------------------------------------------------+\nonly showing top 20 rows\n\n</div>",
       "datasetInfos": [],
       "metadata": {},
       "removedWidgets": [],
       "type": "html"
      }
     },
     "output_type": "display_data"
    }
   ],
   "source": [
    "# 2017\n",
    "\n",
    "path = '/mnt/lsde/datasets/commoncrawl/cc-index/table/cc-main/warc/crawl=CC-MAIN-2017*/subset=warc'\n",
    "df = spark.read.parquet(path)\n",
    "df.createOrReplaceTempView(\"url_surtkey\")\n",
    "url_surtkey_view = spark.sql(\"SELECT url_surtkey FROM url_surtkey\").show(truncate= False)"
   ]
  },
  {
   "cell_type": "code",
   "execution_count": 0,
   "metadata": {
    "application/vnd.databricks.v1+cell": {
     "inputWidgets": {},
     "nuid": "699a612f-2996-4d54-9526-74d8254a985b",
     "showTitle": false,
     "title": ""
    }
   },
   "outputs": [
    {
     "data": {
      "text/html": [
       "<style scoped>\n",
       "  .ansiout {\n",
       "    display: block;\n",
       "    unicode-bidi: embed;\n",
       "    white-space: pre-wrap;\n",
       "    word-wrap: break-word;\n",
       "    word-break: break-all;\n",
       "    font-family: \"Source Code Pro\", \"Menlo\", monospace;;\n",
       "    font-size: 13px;\n",
       "    color: #555;\n",
       "    margin-left: 4px;\n",
       "    line-height: 19px;\n",
       "  }\n",
       "</style>\n",
       "<div class=\"ansiout\">+-----------+\n",
       "pages_count|\n",
       "+-----------+\n",
       "37335417776|\n",
       "+-----------+\n",
       "\n",
       "</div>"
      ]
     },
     "metadata": {
      "application/vnd.databricks.v1+output": {
       "addedWidgets": {},
       "arguments": {},
       "data": "<div class=\"ansiout\">+-----------+\n|pages_count|\n+-----------+\n|37335417776|\n+-----------+\n\n</div>",
       "datasetInfos": [],
       "metadata": {},
       "removedWidgets": [],
       "type": "html"
      }
     },
     "output_type": "display_data"
    }
   ],
   "source": [
    "urlsurtkey_viewall = spark.sql(\"SELECT count(*) AS pages_count FROM url_surtkey \").show(truncate=False)"
   ]
  },
  {
   "cell_type": "code",
   "execution_count": 0,
   "metadata": {
    "application/vnd.databricks.v1+cell": {
     "inputWidgets": {},
     "nuid": "6d1c27d2-2917-401b-bea1-8c3186d329c4",
     "showTitle": false,
     "title": ""
    }
   },
   "outputs": [
    {
     "data": {
      "text/html": [
       "<style scoped>\n",
       "  .ansiout {\n",
       "    display: block;\n",
       "    unicode-bidi: embed;\n",
       "    white-space: pre-wrap;\n",
       "    word-wrap: break-word;\n",
       "    word-break: break-all;\n",
       "    font-family: \"Source Code Pro\", \"Menlo\", monospace;;\n",
       "    font-size: 13px;\n",
       "    color: #555;\n",
       "    margin-left: 4px;\n",
       "    line-height: 19px;\n",
       "  }\n",
       "</style>\n",
       "<div class=\"ansiout\">+-----------+\n",
       "pages_count|\n",
       "+-----------+\n",
       "619278     |\n",
       "+-----------+\n",
       "\n",
       "</div>"
      ]
     },
     "metadata": {
      "application/vnd.databricks.v1+output": {
       "addedWidgets": {},
       "arguments": {},
       "data": "<div class=\"ansiout\">+-----------+\n|pages_count|\n+-----------+\n|619278     |\n+-----------+\n\n</div>",
       "datasetInfos": [],
       "metadata": {},
       "removedWidgets": [],
       "type": "html"
      }
     },
     "output_type": "display_data"
    }
   ],
   "source": [
    "#oracle\n",
    "urlsurtkey_view = spark.sql(\"SELECT count(url_surtkey) AS pages_count FROM url_surtkey WHERE url_surtkey like '%oracle%' and url_surtkey like '%database%' \").show(truncate=False)"
   ]
  },
  {
   "cell_type": "code",
   "execution_count": 0,
   "metadata": {
    "application/vnd.databricks.v1+cell": {
     "inputWidgets": {},
     "nuid": "4418996d-8ec0-41e0-9732-a28786358257",
     "showTitle": false,
     "title": ""
    }
   },
   "outputs": [
    {
     "data": {
      "text/html": [
       "<style scoped>\n",
       "  .ansiout {\n",
       "    display: block;\n",
       "    unicode-bidi: embed;\n",
       "    white-space: pre-wrap;\n",
       "    word-wrap: break-word;\n",
       "    word-break: break-all;\n",
       "    font-family: \"Source Code Pro\", \"Menlo\", monospace;;\n",
       "    font-size: 13px;\n",
       "    color: #555;\n",
       "    margin-left: 4px;\n",
       "    line-height: 19px;\n",
       "  }\n",
       "</style>\n",
       "<div class=\"ansiout\">+-----------+\n",
       "pages_count|\n",
       "+-----------+\n",
       "87268      |\n",
       "+-----------+\n",
       "\n",
       "</div>"
      ]
     },
     "metadata": {
      "application/vnd.databricks.v1+output": {
       "addedWidgets": {},
       "arguments": {},
       "data": "<div class=\"ansiout\">+-----------+\n|pages_count|\n+-----------+\n|87268      |\n+-----------+\n\n</div>",
       "datasetInfos": [],
       "metadata": {},
       "removedWidgets": [],
       "type": "html"
      }
     },
     "output_type": "display_data"
    }
   ],
   "source": [
    "#Microsoft SQL Server\n",
    "urlsurtkey_view_microsoft = spark.sql(\"SELECT count(url_surtkey) AS pages_count FROM url_surtkey WHERE url_surtkey like '%microsoft%' and url_surtkey like '%sql%' and url_surtkey like '%server%' and url_surtkey like '%database%'\").show(truncate=False)"
   ]
  },
  {
   "cell_type": "code",
   "execution_count": 0,
   "metadata": {
    "application/vnd.databricks.v1+cell": {
     "inputWidgets": {},
     "nuid": "99eec76e-64dc-4bf7-90c7-22aba8e8cd81",
     "showTitle": false,
     "title": ""
    }
   },
   "outputs": [
    {
     "data": {
      "text/html": [
       "<style scoped>\n",
       "  .ansiout {\n",
       "    display: block;\n",
       "    unicode-bidi: embed;\n",
       "    white-space: pre-wrap;\n",
       "    word-wrap: break-word;\n",
       "    word-break: break-all;\n",
       "    font-family: \"Source Code Pro\", \"Menlo\", monospace;;\n",
       "    font-size: 13px;\n",
       "    color: #555;\n",
       "    margin-left: 4px;\n",
       "    line-height: 19px;\n",
       "  }\n",
       "</style>\n",
       "<div class=\"ansiout\">+-----------+\n",
       "pages_count|\n",
       "+-----------+\n",
       "42822      |\n",
       "+-----------+\n",
       "\n",
       "</div>"
      ]
     },
     "metadata": {
      "application/vnd.databricks.v1+output": {
       "addedWidgets": {},
       "arguments": {},
       "data": "<div class=\"ansiout\">+-----------+\n|pages_count|\n+-----------+\n|42822      |\n+-----------+\n\n</div>",
       "datasetInfos": [],
       "metadata": {},
       "removedWidgets": [],
       "type": "html"
      }
     },
     "output_type": "display_data"
    }
   ],
   "source": [
    "# postgresql\n",
    "urlsurtkey_view_postgresql = spark.sql(\"SELECT count(url_surtkey) AS pages_count FROM url_surtkey WHERE url_surtkey like '%postgresql%' and url_surtkey like '%database%'\").show(truncate=False)"
   ]
  },
  {
   "cell_type": "code",
   "execution_count": 0,
   "metadata": {
    "application/vnd.databricks.v1+cell": {
     "inputWidgets": {},
     "nuid": "ad3f9786-1f90-447a-a3be-89a89dda27cb",
     "showTitle": false,
     "title": ""
    }
   },
   "outputs": [
    {
     "data": {
      "text/html": [
       "<style scoped>\n",
       "  .ansiout {\n",
       "    display: block;\n",
       "    unicode-bidi: embed;\n",
       "    white-space: pre-wrap;\n",
       "    word-wrap: break-word;\n",
       "    word-break: break-all;\n",
       "    font-family: \"Source Code Pro\", \"Menlo\", monospace;;\n",
       "    font-size: 13px;\n",
       "    color: #555;\n",
       "    margin-left: 4px;\n",
       "    line-height: 19px;\n",
       "  }\n",
       "</style>\n",
       "<div class=\"ansiout\">+-----------+\n",
       "pages_count|\n",
       "+-----------+\n",
       "79         |\n",
       "+-----------+\n",
       "\n",
       "</div>"
      ]
     },
     "metadata": {
      "application/vnd.databricks.v1+output": {
       "addedWidgets": {},
       "arguments": {},
       "data": "<div class=\"ansiout\">+-----------+\n|pages_count|\n+-----------+\n|79         |\n+-----------+\n\n</div>",
       "datasetInfos": [],
       "metadata": {},
       "removedWidgets": [],
       "type": "html"
      }
     },
     "output_type": "display_data"
    }
   ],
   "source": [
    "#clickhouse\n",
    "urlsurtkey_view_clickhouse = spark.sql(\"SELECT count(url_surtkey) AS pages_count FROM url_surtkey WHERE url_surtkey like '%clickhouse%' and url_surtkey like '%database%'\").show(truncate=False)\n"
   ]
  },
  {
   "cell_type": "code",
   "execution_count": 0,
   "metadata": {
    "application/vnd.databricks.v1+cell": {
     "inputWidgets": {},
     "nuid": "313fe2c8-df35-4cf2-a765-21ed7095b6a3",
     "showTitle": false,
     "title": ""
    }
   },
   "outputs": [
    {
     "data": {
      "text/html": [
       "<style scoped>\n",
       "  .ansiout {\n",
       "    display: block;\n",
       "    unicode-bidi: embed;\n",
       "    white-space: pre-wrap;\n",
       "    word-wrap: break-word;\n",
       "    word-break: break-all;\n",
       "    font-family: \"Source Code Pro\", \"Menlo\", monospace;;\n",
       "    font-size: 13px;\n",
       "    color: #555;\n",
       "    margin-left: 4px;\n",
       "    line-height: 19px;\n",
       "  }\n",
       "</style>\n",
       "<div class=\"ansiout\">+-----------+\n",
       "pages_count|\n",
       "+-----------+\n",
       "13807      |\n",
       "+-----------+\n",
       "\n",
       "</div>"
      ]
     },
     "metadata": {
      "application/vnd.databricks.v1+output": {
       "addedWidgets": {},
       "arguments": {},
       "data": "<div class=\"ansiout\">+-----------+\n|pages_count|\n+-----------+\n|13807      |\n+-----------+\n\n</div>",
       "datasetInfos": [],
       "metadata": {},
       "removedWidgets": [],
       "type": "html"
      }
     },
     "output_type": "display_data"
    }
   ],
   "source": [
    "# spark we assumed that when the words spark and database are in the same file or url we refer to the spark database\n",
    "urlsurtkey_view_spark = spark.sql(\"SELECT count(url_surtkey) AS pages_count FROM url_surtkey WHERE url_surtkey like '%spark%' and url_surtkey like '%database%'\").show(truncate=False)"
   ]
  },
  {
   "cell_type": "code",
   "execution_count": 0,
   "metadata": {
    "application/vnd.databricks.v1+cell": {
     "inputWidgets": {},
     "nuid": "39b8c773-0967-4023-8b2d-c629f7e17711",
     "showTitle": false,
     "title": ""
    }
   },
   "outputs": [
    {
     "data": {
      "text/html": [
       "<style scoped>\n",
       "  .ansiout {\n",
       "    display: block;\n",
       "    unicode-bidi: embed;\n",
       "    white-space: pre-wrap;\n",
       "    word-wrap: break-word;\n",
       "    word-break: break-all;\n",
       "    font-family: \"Source Code Pro\", \"Menlo\", monospace;;\n",
       "    font-size: 13px;\n",
       "    color: #555;\n",
       "    margin-left: 4px;\n",
       "    line-height: 19px;\n",
       "  }\n",
       "</style>\n",
       "<div class=\"ansiout\">+-----------+\n",
       "pages_count|\n",
       "+-----------+\n",
       "20349      |\n",
       "+-----------+\n",
       "\n",
       "</div>"
      ]
     },
     "metadata": {
      "application/vnd.databricks.v1+output": {
       "addedWidgets": {},
       "arguments": {},
       "data": "<div class=\"ansiout\">+-----------+\n|pages_count|\n+-----------+\n|20349      |\n+-----------+\n\n</div>",
       "datasetInfos": [],
       "metadata": {},
       "removedWidgets": [],
       "type": "html"
      }
     },
     "output_type": "display_data"
    }
   ],
   "source": [
    "#mongodb\n",
    "urlsurtkey_view_mongodb = spark.sql(\"SELECT count(url_surtkey) AS pages_count FROM url_surtkey WHERE url_surtkey like '%mongodb%' and url_surtkey like '%database%'\").show(truncate=False)"
   ]
  },
  {
   "cell_type": "code",
   "execution_count": 0,
   "metadata": {
    "application/vnd.databricks.v1+cell": {
     "inputWidgets": {},
     "nuid": "b28bcee9-cc08-4425-8fc5-4a25dc2f7d95",
     "showTitle": false,
     "title": ""
    }
   },
   "outputs": [
    {
     "data": {
      "text/html": [
       "<style scoped>\n",
       "  .ansiout {\n",
       "    display: block;\n",
       "    unicode-bidi: embed;\n",
       "    white-space: pre-wrap;\n",
       "    word-wrap: break-word;\n",
       "    word-break: break-all;\n",
       "    font-family: \"Source Code Pro\", \"Menlo\", monospace;;\n",
       "    font-size: 13px;\n",
       "    color: #555;\n",
       "    margin-left: 4px;\n",
       "    line-height: 19px;\n",
       "  }\n",
       "</style>\n",
       "<div class=\"ansiout\">+-----------+\n",
       "pages_count|\n",
       "+-----------+\n",
       "278952     |\n",
       "+-----------+\n",
       "\n",
       "</div>"
      ]
     },
     "metadata": {
      "application/vnd.databricks.v1+output": {
       "addedWidgets": {},
       "arguments": {},
       "data": "<div class=\"ansiout\">+-----------+\n|pages_count|\n+-----------+\n|278952     |\n+-----------+\n\n</div>",
       "datasetInfos": [],
       "metadata": {},
       "removedWidgets": [],
       "type": "html"
      }
     },
     "output_type": "display_data"
    }
   ],
   "source": [
    "#mysql\n",
    "urlsurtkey_view = spark.sql(\"SELECT count(url_surtkey) AS pages_count FROM url_surtkey WHERE url_surtkey like '%mysql%' and url_surtkey like '%database%' \").show(truncate=False)"
   ]
  },
  {
   "cell_type": "code",
   "execution_count": 0,
   "metadata": {
    "application/vnd.databricks.v1+cell": {
     "inputWidgets": {},
     "nuid": "b4efbb86-114a-45a9-b7cd-7d66dbf10b96",
     "showTitle": false,
     "title": ""
    }
   },
   "outputs": [
    {
     "data": {
      "text/html": [
       "<style scoped>\n",
       "  .ansiout {\n",
       "    display: block;\n",
       "    unicode-bidi: embed;\n",
       "    white-space: pre-wrap;\n",
       "    word-wrap: break-word;\n",
       "    word-break: break-all;\n",
       "    font-family: \"Source Code Pro\", \"Menlo\", monospace;;\n",
       "    font-size: 13px;\n",
       "    color: #555;\n",
       "    margin-left: 4px;\n",
       "    line-height: 19px;\n",
       "  }\n",
       "</style>\n",
       "<div class=\"ansiout\">+-----------+\n",
       "pages_count|\n",
       "+-----------+\n",
       "4400       |\n",
       "+-----------+\n",
       "\n",
       "</div>"
      ]
     },
     "metadata": {
      "application/vnd.databricks.v1+output": {
       "addedWidgets": {},
       "arguments": {},
       "data": "<div class=\"ansiout\">+-----------+\n|pages_count|\n+-----------+\n|4400       |\n+-----------+\n\n</div>",
       "datasetInfos": [],
       "metadata": {},
       "removedWidgets": [],
       "type": "html"
      }
     },
     "output_type": "display_data"
    }
   ],
   "source": [
    "#mariadb\n",
    "urlsurtkey_view_mariadb = spark.sql(\"SELECT count(url_surtkey) AS pages_count FROM url_surtkey WHERE url_surtkey like '%mariadb%' and url_surtkey like '%database%' \").show(truncate=False)"
   ]
  },
  {
   "cell_type": "code",
   "execution_count": 0,
   "metadata": {
    "application/vnd.databricks.v1+cell": {
     "inputWidgets": {},
     "nuid": "0301893f-d7c8-4bfc-b2db-96b5a8c1f118",
     "showTitle": false,
     "title": ""
    }
   },
   "outputs": [
    {
     "data": {
      "text/html": [
       "<style scoped>\n",
       "  .ansiout {\n",
       "    display: block;\n",
       "    unicode-bidi: embed;\n",
       "    white-space: pre-wrap;\n",
       "    word-wrap: break-word;\n",
       "    word-break: break-all;\n",
       "    font-family: \"Source Code Pro\", \"Menlo\", monospace;;\n",
       "    font-size: 13px;\n",
       "    color: #555;\n",
       "    margin-left: 4px;\n",
       "    line-height: 19px;\n",
       "  }\n",
       "</style>\n",
       "<div class=\"ansiout\">+-------------------------------------------------------------------------------------------------------------------------------------+\n",
       "url_surtkey                                                                                                                          |\n",
       "+-------------------------------------------------------------------------------------------------------------------------------------+\n",
       "com,toryburch)/snake-eddie-ballet-flat/11128211.html?cgid=shoes-flats&amp;dwvar_11128211_color=035&amp;prefn1=size&amp;prefv1=10|4.5|7&amp;start=56  |\n",
       "com,totallycoolpix)/magazine/2013/12/100-best-weird-and-wonderful-photos-of-2013                                                     |\n",
       "com,toryburch)/snake-eddie-ballet-flat/11128211.html?cgid=shoes-flats&amp;dwvar_11128211_color=035&amp;prefn1=size&amp;prefv1=10|6.5&amp;start=48    |\n",
       "com,totallycoolpix)/magazine/2014/01/harbin-snow-and-ice-festival-2014                                                               |\n",
       "com,toryburch)/snake-eddie-ballet-flat/11128211.html?cgid=shoes-flats&amp;dwvar_11128211_color=035&amp;prefn1=size&amp;prefv1=11|7.5&amp;start=49    |\n",
       "com,totallycoolpix)/magazine/2014/02/frozen-lake-superior                                                                            |\n",
       "com,toryburch)/snake-eddie-ballet-flat/11128211.html?cgid=shoes-flats&amp;dwvar_11128211_color=035&amp;prefn1=size&amp;prefv1=11|7.5|6.5&amp;start=57|\n",
       "com,totallycoolpix)/magazine/2014/03/rio-carnival-2014                                                                               |\n",
       "com,toryburch)/snake-eddie-ballet-flat/11128211.html?cgid=shoes-flats&amp;dwvar_11128211_color=035&amp;prefn1=size&amp;prefv1=4.5|8&amp;start=53     |\n",
       "com,totallycoolpix)/magazine/2014/07/day-of-mourning-for-flight-mh17-in-the-netherlands                                              |\n",
       "com,toryburch)/snake-eddie-ballet-flat/11128211.html?cgid=shoes-flats&amp;dwvar_11128211_color=035&amp;prefn1=size&amp;prefv1=4.5|8&amp;start=54     |\n",
       "com,totallycoolpix)/magazine/2014/09/oktoberfest-2014-kicks-off-in-munich                                                            |\n",
       "com,toryburch)/snake-eddie-ballet-flat/11128211.html?cgid=shoes-flats&amp;dwvar_11128211_color=035&amp;prefn1=size&amp;prefv1=4|8.5&amp;start=44     |\n",
       "com,totallycoolpix)/wp-content/uploads/2012/06022012_super_bowl_46/superbowl46_012.jpg                                               |\n",
       "com,toryburch)/snake-eddie-ballet-flat/11128211.html?cgid=shoes-flats&amp;dwvar_11128211_color=035&amp;prefn1=size&amp;prefv1=5&amp;start=39         |\n",
       "com,totallycoolpix,new)/                                                                                                             |\n",
       "com,toryburch)/snake-eddie-ballet-flat/11128211.html?cgid=shoes-flats&amp;dwvar_11128211_color=035&amp;prefn1=size&amp;prefv1=5&amp;start=54         |\n",
       "com,totallycoolscience)/                                                                                                             |\n",
       "com,toryburch)/snake-eddie-ballet-flat/11128211.html?cgid=shoes-flats&amp;dwvar_11128211_color=035&amp;prefn1=size&amp;prefv1=5.5&amp;start=37       |\n",
       "com,totallycoolscience)/engdrawingexam/drawing_exam.htm                                                                              |\n",
       "+-------------------------------------------------------------------------------------------------------------------------------------+\n",
       "only showing top 20 rows\n",
       "\n",
       "</div>"
      ]
     },
     "metadata": {
      "application/vnd.databricks.v1+output": {
       "addedWidgets": {},
       "arguments": {},
       "data": "<div class=\"ansiout\">+-------------------------------------------------------------------------------------------------------------------------------------+\n|url_surtkey                                                                                                                          |\n+-------------------------------------------------------------------------------------------------------------------------------------+\n|com,toryburch)/snake-eddie-ballet-flat/11128211.html?cgid=shoes-flats&amp;dwvar_11128211_color=035&amp;prefn1=size&amp;prefv1=10|4.5|7&amp;start=56  |\n|com,totallycoolpix)/magazine/2013/12/100-best-weird-and-wonderful-photos-of-2013                                                     |\n|com,toryburch)/snake-eddie-ballet-flat/11128211.html?cgid=shoes-flats&amp;dwvar_11128211_color=035&amp;prefn1=size&amp;prefv1=10|6.5&amp;start=48    |\n|com,totallycoolpix)/magazine/2014/01/harbin-snow-and-ice-festival-2014                                                               |\n|com,toryburch)/snake-eddie-ballet-flat/11128211.html?cgid=shoes-flats&amp;dwvar_11128211_color=035&amp;prefn1=size&amp;prefv1=11|7.5&amp;start=49    |\n|com,totallycoolpix)/magazine/2014/02/frozen-lake-superior                                                                            |\n|com,toryburch)/snake-eddie-ballet-flat/11128211.html?cgid=shoes-flats&amp;dwvar_11128211_color=035&amp;prefn1=size&amp;prefv1=11|7.5|6.5&amp;start=57|\n|com,totallycoolpix)/magazine/2014/03/rio-carnival-2014                                                                               |\n|com,toryburch)/snake-eddie-ballet-flat/11128211.html?cgid=shoes-flats&amp;dwvar_11128211_color=035&amp;prefn1=size&amp;prefv1=4.5|8&amp;start=53     |\n|com,totallycoolpix)/magazine/2014/07/day-of-mourning-for-flight-mh17-in-the-netherlands                                              |\n|com,toryburch)/snake-eddie-ballet-flat/11128211.html?cgid=shoes-flats&amp;dwvar_11128211_color=035&amp;prefn1=size&amp;prefv1=4.5|8&amp;start=54     |\n|com,totallycoolpix)/magazine/2014/09/oktoberfest-2014-kicks-off-in-munich                                                            |\n|com,toryburch)/snake-eddie-ballet-flat/11128211.html?cgid=shoes-flats&amp;dwvar_11128211_color=035&amp;prefn1=size&amp;prefv1=4|8.5&amp;start=44     |\n|com,totallycoolpix)/wp-content/uploads/2012/06022012_super_bowl_46/superbowl46_012.jpg                                               |\n|com,toryburch)/snake-eddie-ballet-flat/11128211.html?cgid=shoes-flats&amp;dwvar_11128211_color=035&amp;prefn1=size&amp;prefv1=5&amp;start=39         |\n|com,totallycoolpix,new)/                                                                                                             |\n|com,toryburch)/snake-eddie-ballet-flat/11128211.html?cgid=shoes-flats&amp;dwvar_11128211_color=035&amp;prefn1=size&amp;prefv1=5&amp;start=54         |\n|com,totallycoolscience)/                                                                                                             |\n|com,toryburch)/snake-eddie-ballet-flat/11128211.html?cgid=shoes-flats&amp;dwvar_11128211_color=035&amp;prefn1=size&amp;prefv1=5.5&amp;start=37       |\n|com,totallycoolscience)/engdrawingexam/drawing_exam.htm                                                                              |\n+-------------------------------------------------------------------------------------------------------------------------------------+\nonly showing top 20 rows\n\n</div>",
       "datasetInfos": [],
       "metadata": {},
       "removedWidgets": [],
       "type": "html"
      }
     },
     "output_type": "display_data"
    }
   ],
   "source": [
    "# 2016\n",
    "\n",
    "path = '/mnt/lsde/datasets/commoncrawl/cc-index/table/cc-main/warc/crawl=CC-MAIN-2016*/subset=warc'\n",
    "df = spark.read.parquet(path)\n",
    "df.createOrReplaceTempView(\"url_surtkey\")\n",
    "url_surtkey_view = spark.sql(\"SELECT url_surtkey FROM url_surtkey\").show(truncate= False)"
   ]
  },
  {
   "cell_type": "code",
   "execution_count": 0,
   "metadata": {
    "application/vnd.databricks.v1+cell": {
     "inputWidgets": {},
     "nuid": "6130caf9-b898-44d1-acab-631f47f29053",
     "showTitle": false,
     "title": ""
    }
   },
   "outputs": [
    {
     "data": {
      "text/html": [
       "<style scoped>\n",
       "  .ansiout {\n",
       "    display: block;\n",
       "    unicode-bidi: embed;\n",
       "    white-space: pre-wrap;\n",
       "    word-wrap: break-word;\n",
       "    word-break: break-all;\n",
       "    font-family: \"Source Code Pro\", \"Menlo\", monospace;;\n",
       "    font-size: 13px;\n",
       "    color: #555;\n",
       "    margin-left: 4px;\n",
       "    line-height: 19px;\n",
       "  }\n",
       "</style>\n",
       "<div class=\"ansiout\">+-----------+\n",
       "pages_count|\n",
       "+-----------+\n",
       "16972568681|\n",
       "+-----------+\n",
       "\n",
       "</div>"
      ]
     },
     "metadata": {
      "application/vnd.databricks.v1+output": {
       "addedWidgets": {},
       "arguments": {},
       "data": "<div class=\"ansiout\">+-----------+\n|pages_count|\n+-----------+\n|16972568681|\n+-----------+\n\n</div>",
       "datasetInfos": [],
       "metadata": {},
       "removedWidgets": [],
       "type": "html"
      }
     },
     "output_type": "display_data"
    }
   ],
   "source": [
    "urlsurtkey_viewall = spark.sql(\"SELECT count(*) AS pages_count FROM url_surtkey \").show(truncate=False)"
   ]
  },
  {
   "cell_type": "code",
   "execution_count": 0,
   "metadata": {
    "application/vnd.databricks.v1+cell": {
     "inputWidgets": {},
     "nuid": "5d2b4a0a-2cf7-4fbc-be84-e09fa1945cd1",
     "showTitle": false,
     "title": ""
    }
   },
   "outputs": [
    {
     "data": {
      "text/html": [
       "<style scoped>\n",
       "  .ansiout {\n",
       "    display: block;\n",
       "    unicode-bidi: embed;\n",
       "    white-space: pre-wrap;\n",
       "    word-wrap: break-word;\n",
       "    word-break: break-all;\n",
       "    font-family: \"Source Code Pro\", \"Menlo\", monospace;;\n",
       "    font-size: 13px;\n",
       "    color: #555;\n",
       "    margin-left: 4px;\n",
       "    line-height: 19px;\n",
       "  }\n",
       "</style>\n",
       "<div class=\"ansiout\">+-----------+\n",
       "pages_count|\n",
       "+-----------+\n",
       "700988     |\n",
       "+-----------+\n",
       "\n",
       "</div>"
      ]
     },
     "metadata": {
      "application/vnd.databricks.v1+output": {
       "addedWidgets": {},
       "arguments": {},
       "data": "<div class=\"ansiout\">+-----------+\n|pages_count|\n+-----------+\n|700988     |\n+-----------+\n\n</div>",
       "datasetInfos": [],
       "metadata": {},
       "removedWidgets": [],
       "type": "html"
      }
     },
     "output_type": "display_data"
    }
   ],
   "source": [
    "#oracle\n",
    "urlsurtkey_view = spark.sql(\"SELECT count(url_surtkey) AS pages_count FROM url_surtkey WHERE url_surtkey like '%oracle%' and url_surtkey like '%database%' \").show(truncate=False)"
   ]
  },
  {
   "cell_type": "code",
   "execution_count": 0,
   "metadata": {
    "application/vnd.databricks.v1+cell": {
     "inputWidgets": {},
     "nuid": "204e7e21-d196-404e-aacc-528de9e4dbce",
     "showTitle": false,
     "title": ""
    }
   },
   "outputs": [
    {
     "data": {
      "text/html": [
       "<style scoped>\n",
       "  .ansiout {\n",
       "    display: block;\n",
       "    unicode-bidi: embed;\n",
       "    white-space: pre-wrap;\n",
       "    word-wrap: break-word;\n",
       "    word-break: break-all;\n",
       "    font-family: \"Source Code Pro\", \"Menlo\", monospace;;\n",
       "    font-size: 13px;\n",
       "    color: #555;\n",
       "    margin-left: 4px;\n",
       "    line-height: 19px;\n",
       "  }\n",
       "</style>\n",
       "<div class=\"ansiout\">+-----------+\n",
       "pages_count|\n",
       "+-----------+\n",
       "39809      |\n",
       "+-----------+\n",
       "\n",
       "</div>"
      ]
     },
     "metadata": {
      "application/vnd.databricks.v1+output": {
       "addedWidgets": {},
       "arguments": {},
       "data": "<div class=\"ansiout\">+-----------+\n|pages_count|\n+-----------+\n|39809      |\n+-----------+\n\n</div>",
       "datasetInfos": [],
       "metadata": {},
       "removedWidgets": [],
       "type": "html"
      }
     },
     "output_type": "display_data"
    }
   ],
   "source": [
    "#Microsoft SQL Server\n",
    "urlsurtkey_view_microsoft = spark.sql(\"SELECT count(url_surtkey) AS pages_count FROM url_surtkey WHERE url_surtkey like '%microsoft%' and url_surtkey like '%sql%' and url_surtkey like '%server%' and url_surtkey like '%database%'\").show(truncate=False)"
   ]
  },
  {
   "cell_type": "code",
   "execution_count": 0,
   "metadata": {
    "application/vnd.databricks.v1+cell": {
     "inputWidgets": {},
     "nuid": "ada88dac-e790-497f-be74-a52c988faef1",
     "showTitle": false,
     "title": ""
    }
   },
   "outputs": [
    {
     "data": {
      "text/html": [
       "<style scoped>\n",
       "  .ansiout {\n",
       "    display: block;\n",
       "    unicode-bidi: embed;\n",
       "    white-space: pre-wrap;\n",
       "    word-wrap: break-word;\n",
       "    word-break: break-all;\n",
       "    font-family: \"Source Code Pro\", \"Menlo\", monospace;;\n",
       "    font-size: 13px;\n",
       "    color: #555;\n",
       "    margin-left: 4px;\n",
       "    line-height: 19px;\n",
       "  }\n",
       "</style>\n",
       "<div class=\"ansiout\">+-----------+\n",
       "pages_count|\n",
       "+-----------+\n",
       "38017      |\n",
       "+-----------+\n",
       "\n",
       "</div>"
      ]
     },
     "metadata": {
      "application/vnd.databricks.v1+output": {
       "addedWidgets": {},
       "arguments": {},
       "data": "<div class=\"ansiout\">+-----------+\n|pages_count|\n+-----------+\n|38017      |\n+-----------+\n\n</div>",
       "datasetInfos": [],
       "metadata": {},
       "removedWidgets": [],
       "type": "html"
      }
     },
     "output_type": "display_data"
    }
   ],
   "source": [
    "# postgresql\n",
    "urlsurtkey_view_postgresql = spark.sql(\"SELECT count(url_surtkey) AS pages_count FROM url_surtkey WHERE url_surtkey like '%postgresql%' and url_surtkey like '%database%'\").show(truncate=False)"
   ]
  },
  {
   "cell_type": "code",
   "execution_count": 0,
   "metadata": {
    "application/vnd.databricks.v1+cell": {
     "inputWidgets": {},
     "nuid": "a84e4623-8553-48c4-b26c-f755b8079eb6",
     "showTitle": false,
     "title": ""
    }
   },
   "outputs": [
    {
     "data": {
      "text/html": [
       "<style scoped>\n",
       "  .ansiout {\n",
       "    display: block;\n",
       "    unicode-bidi: embed;\n",
       "    white-space: pre-wrap;\n",
       "    word-wrap: break-word;\n",
       "    word-break: break-all;\n",
       "    font-family: \"Source Code Pro\", \"Menlo\", monospace;;\n",
       "    font-size: 13px;\n",
       "    color: #555;\n",
       "    margin-left: 4px;\n",
       "    line-height: 19px;\n",
       "  }\n",
       "</style>\n",
       "<div class=\"ansiout\">+-----------+\n",
       "pages_count|\n",
       "+-----------+\n",
       "1          |\n",
       "+-----------+\n",
       "\n",
       "</div>"
      ]
     },
     "metadata": {
      "application/vnd.databricks.v1+output": {
       "addedWidgets": {},
       "arguments": {},
       "data": "<div class=\"ansiout\">+-----------+\n|pages_count|\n+-----------+\n|1          |\n+-----------+\n\n</div>",
       "datasetInfos": [],
       "metadata": {},
       "removedWidgets": [],
       "type": "html"
      }
     },
     "output_type": "display_data"
    }
   ],
   "source": [
    "#clickhouse\n",
    "urlsurtkey_view_clickhouse = spark.sql(\"SELECT count(url_surtkey) AS pages_count FROM url_surtkey WHERE url_surtkey like '%clickhouse%' and url_surtkey like '%database%'\").show(truncate=False)"
   ]
  },
  {
   "cell_type": "code",
   "execution_count": 0,
   "metadata": {
    "application/vnd.databricks.v1+cell": {
     "inputWidgets": {},
     "nuid": "45f16115-65e0-4c06-bacf-b7282cebf8b2",
     "showTitle": false,
     "title": ""
    }
   },
   "outputs": [
    {
     "data": {
      "text/html": [
       "<style scoped>\n",
       "  .ansiout {\n",
       "    display: block;\n",
       "    unicode-bidi: embed;\n",
       "    white-space: pre-wrap;\n",
       "    word-wrap: break-word;\n",
       "    word-break: break-all;\n",
       "    font-family: \"Source Code Pro\", \"Menlo\", monospace;;\n",
       "    font-size: 13px;\n",
       "    color: #555;\n",
       "    margin-left: 4px;\n",
       "    line-height: 19px;\n",
       "  }\n",
       "</style>\n",
       "<div class=\"ansiout\">+-----------+\n",
       "pages_count|\n",
       "+-----------+\n",
       "4151       |\n",
       "+-----------+\n",
       "\n",
       "</div>"
      ]
     },
     "metadata": {
      "application/vnd.databricks.v1+output": {
       "addedWidgets": {},
       "arguments": {},
       "data": "<div class=\"ansiout\">+-----------+\n|pages_count|\n+-----------+\n|4151       |\n+-----------+\n\n</div>",
       "datasetInfos": [],
       "metadata": {},
       "removedWidgets": [],
       "type": "html"
      }
     },
     "output_type": "display_data"
    }
   ],
   "source": [
    "# spark we assumed that when the words spark and database are in the same file or url we refer to the spark database\n",
    "urlsurtkey_view_spark = spark.sql(\"SELECT count(url_surtkey) AS pages_count FROM url_surtkey WHERE url_surtkey like '%spark%' and url_surtkey like '%database%'\").show(truncate=False)"
   ]
  },
  {
   "cell_type": "code",
   "execution_count": 0,
   "metadata": {
    "application/vnd.databricks.v1+cell": {
     "inputWidgets": {},
     "nuid": "a62961c3-72a3-4ffe-aca1-a87ebe9c307c",
     "showTitle": false,
     "title": ""
    }
   },
   "outputs": [
    {
     "data": {
      "text/html": [
       "<style scoped>\n",
       "  .ansiout {\n",
       "    display: block;\n",
       "    unicode-bidi: embed;\n",
       "    white-space: pre-wrap;\n",
       "    word-wrap: break-word;\n",
       "    word-break: break-all;\n",
       "    font-family: \"Source Code Pro\", \"Menlo\", monospace;;\n",
       "    font-size: 13px;\n",
       "    color: #555;\n",
       "    margin-left: 4px;\n",
       "    line-height: 19px;\n",
       "  }\n",
       "</style>\n",
       "<div class=\"ansiout\">+-----------+\n",
       "pages_count|\n",
       "+-----------+\n",
       "20125      |\n",
       "+-----------+\n",
       "\n",
       "</div>"
      ]
     },
     "metadata": {
      "application/vnd.databricks.v1+output": {
       "addedWidgets": {},
       "arguments": {},
       "data": "<div class=\"ansiout\">+-----------+\n|pages_count|\n+-----------+\n|20125      |\n+-----------+\n\n</div>",
       "datasetInfos": [],
       "metadata": {},
       "removedWidgets": [],
       "type": "html"
      }
     },
     "output_type": "display_data"
    }
   ],
   "source": [
    "#mongodb\n",
    "urlsurtkey_view_mongodb = spark.sql(\"SELECT count(url_surtkey) AS pages_count FROM url_surtkey WHERE url_surtkey like '%mongodb%' and url_surtkey like '%database%'\").show(truncate=False)"
   ]
  },
  {
   "cell_type": "code",
   "execution_count": 0,
   "metadata": {
    "application/vnd.databricks.v1+cell": {
     "inputWidgets": {},
     "nuid": "1c506080-cc65-49e8-b5e3-666c4dfc8c2d",
     "showTitle": false,
     "title": ""
    }
   },
   "outputs": [
    {
     "data": {
      "text/html": [
       "<style scoped>\n",
       "  .ansiout {\n",
       "    display: block;\n",
       "    unicode-bidi: embed;\n",
       "    white-space: pre-wrap;\n",
       "    word-wrap: break-word;\n",
       "    word-break: break-all;\n",
       "    font-family: \"Source Code Pro\", \"Menlo\", monospace;;\n",
       "    font-size: 13px;\n",
       "    color: #555;\n",
       "    margin-left: 4px;\n",
       "    line-height: 19px;\n",
       "  }\n",
       "</style>\n",
       "<div class=\"ansiout\">+-----------+\n",
       "pages_count|\n",
       "+-----------+\n",
       "184963     |\n",
       "+-----------+\n",
       "\n",
       "</div>"
      ]
     },
     "metadata": {
      "application/vnd.databricks.v1+output": {
       "addedWidgets": {},
       "arguments": {},
       "data": "<div class=\"ansiout\">+-----------+\n|pages_count|\n+-----------+\n|184963     |\n+-----------+\n\n</div>",
       "datasetInfos": [],
       "metadata": {},
       "removedWidgets": [],
       "type": "html"
      }
     },
     "output_type": "display_data"
    }
   ],
   "source": [
    "#mysql\n",
    "urlsurtkey_view = spark.sql(\"SELECT count(url_surtkey) AS pages_count FROM url_surtkey WHERE url_surtkey like '%mysql%' and url_surtkey like '%database%' \").show(truncate=False)"
   ]
  },
  {
   "cell_type": "code",
   "execution_count": 0,
   "metadata": {
    "application/vnd.databricks.v1+cell": {
     "inputWidgets": {},
     "nuid": "45890943-da5a-481a-bec1-c2e72b79dfa0",
     "showTitle": false,
     "title": ""
    }
   },
   "outputs": [
    {
     "data": {
      "text/html": [
       "<style scoped>\n",
       "  .ansiout {\n",
       "    display: block;\n",
       "    unicode-bidi: embed;\n",
       "    white-space: pre-wrap;\n",
       "    word-wrap: break-word;\n",
       "    word-break: break-all;\n",
       "    font-family: \"Source Code Pro\", \"Menlo\", monospace;;\n",
       "    font-size: 13px;\n",
       "    color: #555;\n",
       "    margin-left: 4px;\n",
       "    line-height: 19px;\n",
       "  }\n",
       "</style>\n",
       "<div class=\"ansiout\">+-----------+\n",
       "pages_count|\n",
       "+-----------+\n",
       "1726       |\n",
       "+-----------+\n",
       "\n",
       "</div>"
      ]
     },
     "metadata": {
      "application/vnd.databricks.v1+output": {
       "addedWidgets": {},
       "arguments": {},
       "data": "<div class=\"ansiout\">+-----------+\n|pages_count|\n+-----------+\n|1726       |\n+-----------+\n\n</div>",
       "datasetInfos": [],
       "metadata": {},
       "removedWidgets": [],
       "type": "html"
      }
     },
     "output_type": "display_data"
    }
   ],
   "source": [
    "#mariadb\n",
    "urlsurtkey_view_mariadb = spark.sql(\"SELECT count(url_surtkey) AS pages_count FROM url_surtkey WHERE url_surtkey like '%mariadb%' and url_surtkey like '%database%' \").show(truncate=False)"
   ]
  },
  {
   "cell_type": "code",
   "execution_count": 0,
   "metadata": {
    "application/vnd.databricks.v1+cell": {
     "inputWidgets": {},
     "nuid": "040a3973-2c64-4988-9212-23a2fca0e87f",
     "showTitle": false,
     "title": ""
    }
   },
   "outputs": [
    {
     "data": {
      "text/html": [
       "<style scoped>\n",
       "  .ansiout {\n",
       "    display: block;\n",
       "    unicode-bidi: embed;\n",
       "    white-space: pre-wrap;\n",
       "    word-wrap: break-word;\n",
       "    word-break: break-all;\n",
       "    font-family: \"Source Code Pro\", \"Menlo\", monospace;;\n",
       "    font-size: 13px;\n",
       "    color: #555;\n",
       "    margin-left: 4px;\n",
       "    line-height: 19px;\n",
       "  }\n",
       "</style>\n",
       "<div class=\"ansiout\">+-------------------------------------------------------------------------------------+\n",
       "url_surtkey                                                                          |\n",
       "+-------------------------------------------------------------------------------------+\n",
       "com,blogspot,theindigobunting)/2013/01/featured-on-grain-edit.html                   |\n",
       "com,blue-signals)/articles                                                           |\n",
       "com,blogspot,theindigobunting)/2013/01/food-valentines.html                          |\n",
       "com,blue-silicon)/                                                                   |\n",
       "com,blogspot,theindigobunting)/2013/01/food-valentines.html?showcomment=1359762247944|\n",
       "com,blue-skies-unlimited)/                                                           |\n",
       "com,blogspot,theindigobunting)/2013/01/food-valentines.html?showcomment=1359790567890|\n",
       "com,blue-sky-innovations)/                                                           |\n",
       "com,blogspot,theindigobunting)/2013/01/food-valentines.html?showcomment=1359801670331|\n",
       "com,blue-sky-organics)/                                                              |\n",
       "com,blogspot,theindigobunting)/2013/01/food-valentines.html?showcomment=1359837022901|\n",
       "com,blue-sky-organics)/                                                              |\n",
       "com,blogspot,theindigobunting)/2013/01/food-valentines.html?showcomment=1359949181341|\n",
       "com,blue-sky-organics)/facts                                                         |\n",
       "com,blogspot,theindigobunting)/2013/01/food-valentines.html?showcomment=1359959309925|\n",
       "com,blue-sky-realty)/                                                                |\n",
       "com,blogspot,theindigobunting)/2013/01/food-valentines.html?showcomment=1359991313158|\n",
       "com,blue-sky-realty)/featured_properties.html                                        |\n",
       "com,blogspot,theindigobunting)/2013/01/hello-2013.html                               |\n",
       "com,blue-sky-realty)/properties.html                                                 |\n",
       "+-------------------------------------------------------------------------------------+\n",
       "only showing top 20 rows\n",
       "\n",
       "</div>"
      ]
     },
     "metadata": {
      "application/vnd.databricks.v1+output": {
       "addedWidgets": {},
       "arguments": {},
       "data": "<div class=\"ansiout\">+-------------------------------------------------------------------------------------+\n|url_surtkey                                                                          |\n+-------------------------------------------------------------------------------------+\n|com,blogspot,theindigobunting)/2013/01/featured-on-grain-edit.html                   |\n|com,blue-signals)/articles                                                           |\n|com,blogspot,theindigobunting)/2013/01/food-valentines.html                          |\n|com,blue-silicon)/                                                                   |\n|com,blogspot,theindigobunting)/2013/01/food-valentines.html?showcomment=1359762247944|\n|com,blue-skies-unlimited)/                                                           |\n|com,blogspot,theindigobunting)/2013/01/food-valentines.html?showcomment=1359790567890|\n|com,blue-sky-innovations)/                                                           |\n|com,blogspot,theindigobunting)/2013/01/food-valentines.html?showcomment=1359801670331|\n|com,blue-sky-organics)/                                                              |\n|com,blogspot,theindigobunting)/2013/01/food-valentines.html?showcomment=1359837022901|\n|com,blue-sky-organics)/                                                              |\n|com,blogspot,theindigobunting)/2013/01/food-valentines.html?showcomment=1359949181341|\n|com,blue-sky-organics)/facts                                                         |\n|com,blogspot,theindigobunting)/2013/01/food-valentines.html?showcomment=1359959309925|\n|com,blue-sky-realty)/                                                                |\n|com,blogspot,theindigobunting)/2013/01/food-valentines.html?showcomment=1359991313158|\n|com,blue-sky-realty)/featured_properties.html                                        |\n|com,blogspot,theindigobunting)/2013/01/hello-2013.html                               |\n|com,blue-sky-realty)/properties.html                                                 |\n+-------------------------------------------------------------------------------------+\nonly showing top 20 rows\n\n</div>",
       "datasetInfos": [],
       "metadata": {},
       "removedWidgets": [],
       "type": "html"
      }
     },
     "output_type": "display_data"
    }
   ],
   "source": [
    "# 2015\n",
    "\n",
    "path = '/mnt/lsde/datasets/commoncrawl/cc-index/table/cc-main/warc/crawl=CC-MAIN-2015*/subset=warc'\n",
    "df = spark.read.parquet(path)\n",
    "df.createOrReplaceTempView(\"url_surtkey\")\n",
    "url_surtkey_view = spark.sql(\"SELECT url_surtkey FROM url_surtkey\").show(truncate= False)"
   ]
  },
  {
   "cell_type": "code",
   "execution_count": 0,
   "metadata": {
    "application/vnd.databricks.v1+cell": {
     "inputWidgets": {},
     "nuid": "050ee045-67a2-437d-bbc3-9082708b7d73",
     "showTitle": false,
     "title": ""
    }
   },
   "outputs": [
    {
     "data": {
      "text/html": [
       "<style scoped>\n",
       "  .ansiout {\n",
       "    display: block;\n",
       "    unicode-bidi: embed;\n",
       "    white-space: pre-wrap;\n",
       "    word-wrap: break-word;\n",
       "    word-break: break-all;\n",
       "    font-family: \"Source Code Pro\", \"Menlo\", monospace;;\n",
       "    font-size: 13px;\n",
       "    color: #555;\n",
       "    margin-left: 4px;\n",
       "    line-height: 19px;\n",
       "  }\n",
       "</style>\n",
       "<div class=\"ansiout\">+-----------+\n",
       "pages_count|\n",
       "+-----------+\n",
       "17926489121|\n",
       "+-----------+\n",
       "\n",
       "</div>"
      ]
     },
     "metadata": {
      "application/vnd.databricks.v1+output": {
       "addedWidgets": {},
       "arguments": {},
       "data": "<div class=\"ansiout\">+-----------+\n|pages_count|\n+-----------+\n|17926489121|\n+-----------+\n\n</div>",
       "datasetInfos": [],
       "metadata": {},
       "removedWidgets": [],
       "type": "html"
      }
     },
     "output_type": "display_data"
    }
   ],
   "source": [
    "urlsurtkey_viewall = spark.sql(\"SELECT count(*) AS pages_count FROM url_surtkey \").show(truncate=False)"
   ]
  },
  {
   "cell_type": "code",
   "execution_count": 0,
   "metadata": {
    "application/vnd.databricks.v1+cell": {
     "inputWidgets": {},
     "nuid": "c6683329-1acc-4c70-ae40-ed6e1f4fc467",
     "showTitle": false,
     "title": ""
    }
   },
   "outputs": [
    {
     "data": {
      "text/html": [
       "<style scoped>\n",
       "  .ansiout {\n",
       "    display: block;\n",
       "    unicode-bidi: embed;\n",
       "    white-space: pre-wrap;\n",
       "    word-wrap: break-word;\n",
       "    word-break: break-all;\n",
       "    font-family: \"Source Code Pro\", \"Menlo\", monospace;;\n",
       "    font-size: 13px;\n",
       "    color: #555;\n",
       "    margin-left: 4px;\n",
       "    line-height: 19px;\n",
       "  }\n",
       "</style>\n",
       "<div class=\"ansiout\">+-----------+\n",
       "pages_count|\n",
       "+-----------+\n",
       "796105     |\n",
       "+-----------+\n",
       "\n",
       "</div>"
      ]
     },
     "metadata": {
      "application/vnd.databricks.v1+output": {
       "addedWidgets": {},
       "arguments": {},
       "data": "<div class=\"ansiout\">+-----------+\n|pages_count|\n+-----------+\n|796105     |\n+-----------+\n\n</div>",
       "datasetInfos": [],
       "metadata": {},
       "removedWidgets": [],
       "type": "html"
      }
     },
     "output_type": "display_data"
    }
   ],
   "source": [
    "#oracle\n",
    "urlsurtkey_view = spark.sql(\"SELECT count(url_surtkey) AS pages_count FROM url_surtkey WHERE url_surtkey like '%oracle%' and url_surtkey like '%database%' \").show(truncate=False)"
   ]
  },
  {
   "cell_type": "code",
   "execution_count": 0,
   "metadata": {
    "application/vnd.databricks.v1+cell": {
     "inputWidgets": {},
     "nuid": "86c4db70-16cf-45d5-9bab-17b91e1b19e9",
     "showTitle": false,
     "title": ""
    }
   },
   "outputs": [
    {
     "data": {
      "text/html": [
       "<style scoped>\n",
       "  .ansiout {\n",
       "    display: block;\n",
       "    unicode-bidi: embed;\n",
       "    white-space: pre-wrap;\n",
       "    word-wrap: break-word;\n",
       "    word-break: break-all;\n",
       "    font-family: \"Source Code Pro\", \"Menlo\", monospace;;\n",
       "    font-size: 13px;\n",
       "    color: #555;\n",
       "    margin-left: 4px;\n",
       "    line-height: 19px;\n",
       "  }\n",
       "</style>\n",
       "<div class=\"ansiout\">+-----------+\n",
       "pages_count|\n",
       "+-----------+\n",
       "55846      |\n",
       "+-----------+\n",
       "\n",
       "</div>"
      ]
     },
     "metadata": {
      "application/vnd.databricks.v1+output": {
       "addedWidgets": {},
       "arguments": {},
       "data": "<div class=\"ansiout\">+-----------+\n|pages_count|\n+-----------+\n|55846      |\n+-----------+\n\n</div>",
       "datasetInfos": [],
       "metadata": {},
       "removedWidgets": [],
       "type": "html"
      }
     },
     "output_type": "display_data"
    }
   ],
   "source": [
    "#Microsoft SQL Server\n",
    "urlsurtkey_view_microsoft = spark.sql(\"SELECT count(url_surtkey) AS pages_count FROM url_surtkey WHERE url_surtkey like '%microsoft%' and url_surtkey like '%sql%' and url_surtkey like '%server%' and url_surtkey like '%database%'\").show(truncate=False)"
   ]
  },
  {
   "cell_type": "code",
   "execution_count": 0,
   "metadata": {
    "application/vnd.databricks.v1+cell": {
     "inputWidgets": {},
     "nuid": "72e02ea5-b72b-4b54-acd5-9cb2abb28444",
     "showTitle": false,
     "title": ""
    }
   },
   "outputs": [
    {
     "data": {
      "text/html": [
       "<style scoped>\n",
       "  .ansiout {\n",
       "    display: block;\n",
       "    unicode-bidi: embed;\n",
       "    white-space: pre-wrap;\n",
       "    word-wrap: break-word;\n",
       "    word-break: break-all;\n",
       "    font-family: \"Source Code Pro\", \"Menlo\", monospace;;\n",
       "    font-size: 13px;\n",
       "    color: #555;\n",
       "    margin-left: 4px;\n",
       "    line-height: 19px;\n",
       "  }\n",
       "</style>\n",
       "<div class=\"ansiout\">+-----------+\n",
       "pages_count|\n",
       "+-----------+\n",
       "56149      |\n",
       "+-----------+\n",
       "\n",
       "</div>"
      ]
     },
     "metadata": {
      "application/vnd.databricks.v1+output": {
       "addedWidgets": {},
       "arguments": {},
       "data": "<div class=\"ansiout\">+-----------+\n|pages_count|\n+-----------+\n|56149      |\n+-----------+\n\n</div>",
       "datasetInfos": [],
       "metadata": {},
       "removedWidgets": [],
       "type": "html"
      }
     },
     "output_type": "display_data"
    }
   ],
   "source": [
    "# postgresql\n",
    "urlsurtkey_view_postgresql = spark.sql(\"SELECT count(url_surtkey) AS pages_count FROM url_surtkey WHERE url_surtkey like '%postgresql%' and url_surtkey like '%database%'\").show(truncate=False)"
   ]
  },
  {
   "cell_type": "code",
   "execution_count": 0,
   "metadata": {
    "application/vnd.databricks.v1+cell": {
     "inputWidgets": {},
     "nuid": "375482ec-0363-478d-9d08-e615b5159e1a",
     "showTitle": false,
     "title": ""
    }
   },
   "outputs": [
    {
     "data": {
      "text/html": [
       "<style scoped>\n",
       "  .ansiout {\n",
       "    display: block;\n",
       "    unicode-bidi: embed;\n",
       "    white-space: pre-wrap;\n",
       "    word-wrap: break-word;\n",
       "    word-break: break-all;\n",
       "    font-family: \"Source Code Pro\", \"Menlo\", monospace;;\n",
       "    font-size: 13px;\n",
       "    color: #555;\n",
       "    margin-left: 4px;\n",
       "    line-height: 19px;\n",
       "  }\n",
       "</style>\n",
       "<div class=\"ansiout\">+-----------+\n",
       "pages_count|\n",
       "+-----------+\n",
       "0          |\n",
       "+-----------+\n",
       "\n",
       "</div>"
      ]
     },
     "metadata": {
      "application/vnd.databricks.v1+output": {
       "addedWidgets": {},
       "arguments": {},
       "data": "<div class=\"ansiout\">+-----------+\n|pages_count|\n+-----------+\n|0          |\n+-----------+\n\n</div>",
       "datasetInfos": [],
       "metadata": {},
       "removedWidgets": [],
       "type": "html"
      }
     },
     "output_type": "display_data"
    }
   ],
   "source": [
    "#clickhouse\n",
    "urlsurtkey_view_clickhouse = spark.sql(\"SELECT count(url_surtkey) AS pages_count FROM url_surtkey WHERE url_surtkey like '%clickhouse%' and url_surtkey like '%database%'\").show(truncate=False)"
   ]
  },
  {
   "cell_type": "code",
   "execution_count": 0,
   "metadata": {
    "application/vnd.databricks.v1+cell": {
     "inputWidgets": {},
     "nuid": "9a2011e5-3e8c-4cc0-a93a-000cfb1d1670",
     "showTitle": false,
     "title": ""
    }
   },
   "outputs": [
    {
     "data": {
      "text/html": [
       "<style scoped>\n",
       "  .ansiout {\n",
       "    display: block;\n",
       "    unicode-bidi: embed;\n",
       "    white-space: pre-wrap;\n",
       "    word-wrap: break-word;\n",
       "    word-break: break-all;\n",
       "    font-family: \"Source Code Pro\", \"Menlo\", monospace;;\n",
       "    font-size: 13px;\n",
       "    color: #555;\n",
       "    margin-left: 4px;\n",
       "    line-height: 19px;\n",
       "  }\n",
       "</style>\n",
       "<div class=\"ansiout\">+-----------+\n",
       "pages_count|\n",
       "+-----------+\n",
       "2411       |\n",
       "+-----------+\n",
       "\n",
       "</div>"
      ]
     },
     "metadata": {
      "application/vnd.databricks.v1+output": {
       "addedWidgets": {},
       "arguments": {},
       "data": "<div class=\"ansiout\">+-----------+\n|pages_count|\n+-----------+\n|2411       |\n+-----------+\n\n</div>",
       "datasetInfos": [],
       "metadata": {},
       "removedWidgets": [],
       "type": "html"
      }
     },
     "output_type": "display_data"
    }
   ],
   "source": [
    " # spark we assumed that when the words spark and database are in the same file or url we refer to the spark database\n",
    "urlsurtkey_view_spark = spark.sql(\"SELECT count(url_surtkey) AS pages_count FROM url_surtkey WHERE url_surtkey like '%spark%' and url_surtkey like '%database%'\").show(truncate=False)"
   ]
  },
  {
   "cell_type": "code",
   "execution_count": 0,
   "metadata": {
    "application/vnd.databricks.v1+cell": {
     "inputWidgets": {},
     "nuid": "8c119d47-1857-41ee-ad85-911489c9aa10",
     "showTitle": false,
     "title": ""
    }
   },
   "outputs": [
    {
     "data": {
      "text/html": [
       "<style scoped>\n",
       "  .ansiout {\n",
       "    display: block;\n",
       "    unicode-bidi: embed;\n",
       "    white-space: pre-wrap;\n",
       "    word-wrap: break-word;\n",
       "    word-break: break-all;\n",
       "    font-family: \"Source Code Pro\", \"Menlo\", monospace;;\n",
       "    font-size: 13px;\n",
       "    color: #555;\n",
       "    margin-left: 4px;\n",
       "    line-height: 19px;\n",
       "  }\n",
       "</style>\n",
       "<div class=\"ansiout\">+-----------+\n",
       "pages_count|\n",
       "+-----------+\n",
       "29934      |\n",
       "+-----------+\n",
       "\n",
       "</div>"
      ]
     },
     "metadata": {
      "application/vnd.databricks.v1+output": {
       "addedWidgets": {},
       "arguments": {},
       "data": "<div class=\"ansiout\">+-----------+\n|pages_count|\n+-----------+\n|29934      |\n+-----------+\n\n</div>",
       "datasetInfos": [],
       "metadata": {},
       "removedWidgets": [],
       "type": "html"
      }
     },
     "output_type": "display_data"
    }
   ],
   "source": [
    "#mongodb\n",
    "urlsurtkey_view_mongodb = spark.sql(\"SELECT count(url_surtkey) AS pages_count FROM url_surtkey WHERE url_surtkey like '%mongodb%' and url_surtkey like '%database%'\").show(truncate=False)"
   ]
  },
  {
   "cell_type": "code",
   "execution_count": 0,
   "metadata": {
    "application/vnd.databricks.v1+cell": {
     "inputWidgets": {},
     "nuid": "bacac6d2-d73a-4237-adfd-2d2a6ffbe3e5",
     "showTitle": false,
     "title": ""
    }
   },
   "outputs": [
    {
     "data": {
      "text/html": [
       "<style scoped>\n",
       "  .ansiout {\n",
       "    display: block;\n",
       "    unicode-bidi: embed;\n",
       "    white-space: pre-wrap;\n",
       "    word-wrap: break-word;\n",
       "    word-break: break-all;\n",
       "    font-family: \"Source Code Pro\", \"Menlo\", monospace;;\n",
       "    font-size: 13px;\n",
       "    color: #555;\n",
       "    margin-left: 4px;\n",
       "    line-height: 19px;\n",
       "  }\n",
       "</style>\n",
       "<div class=\"ansiout\">+-----------+\n",
       "pages_count|\n",
       "+-----------+\n",
       "307374     |\n",
       "+-----------+\n",
       "\n",
       "</div>"
      ]
     },
     "metadata": {
      "application/vnd.databricks.v1+output": {
       "addedWidgets": {},
       "arguments": {},
       "data": "<div class=\"ansiout\">+-----------+\n|pages_count|\n+-----------+\n|307374     |\n+-----------+\n\n</div>",
       "datasetInfos": [],
       "metadata": {},
       "removedWidgets": [],
       "type": "html"
      }
     },
     "output_type": "display_data"
    }
   ],
   "source": [
    "#mysql\n",
    "urlsurtkey_view = spark.sql(\"SELECT count(url_surtkey) AS pages_count FROM url_surtkey WHERE url_surtkey like '%mysql%' and url_surtkey like '%database%' \").show(truncate=False)"
   ]
  },
  {
   "cell_type": "code",
   "execution_count": 0,
   "metadata": {
    "application/vnd.databricks.v1+cell": {
     "inputWidgets": {},
     "nuid": "12b8f4a8-7fd0-4a51-a074-f5537fd6aff9",
     "showTitle": false,
     "title": ""
    }
   },
   "outputs": [
    {
     "data": {
      "text/html": [
       "<style scoped>\n",
       "  .ansiout {\n",
       "    display: block;\n",
       "    unicode-bidi: embed;\n",
       "    white-space: pre-wrap;\n",
       "    word-wrap: break-word;\n",
       "    word-break: break-all;\n",
       "    font-family: \"Source Code Pro\", \"Menlo\", monospace;;\n",
       "    font-size: 13px;\n",
       "    color: #555;\n",
       "    margin-left: 4px;\n",
       "    line-height: 19px;\n",
       "  }\n",
       "</style>\n",
       "<div class=\"ansiout\">+-----------+\n",
       "pages_count|\n",
       "+-----------+\n",
       "1831       |\n",
       "+-----------+\n",
       "\n",
       "</div>"
      ]
     },
     "metadata": {
      "application/vnd.databricks.v1+output": {
       "addedWidgets": {},
       "arguments": {},
       "data": "<div class=\"ansiout\">+-----------+\n|pages_count|\n+-----------+\n|1831       |\n+-----------+\n\n</div>",
       "datasetInfos": [],
       "metadata": {},
       "removedWidgets": [],
       "type": "html"
      }
     },
     "output_type": "display_data"
    }
   ],
   "source": [
    "#mariadb\n",
    "urlsurtkey_view_mariadb = spark.sql(\"SELECT count(url_surtkey) AS pages_count FROM url_surtkey WHERE url_surtkey like '%mariadb%' and url_surtkey like '%database%' \").show(truncate=False)"
   ]
  },
  {
   "cell_type": "code",
   "execution_count": 0,
   "metadata": {
    "application/vnd.databricks.v1+cell": {
     "inputWidgets": {},
     "nuid": "8f8510b5-07ac-4adf-84e9-5a484519923e",
     "showTitle": false,
     "title": ""
    }
   },
   "outputs": [
    {
     "data": {
      "text/html": [
       "<style scoped>\n",
       "  .ansiout {\n",
       "    display: block;\n",
       "    unicode-bidi: embed;\n",
       "    white-space: pre-wrap;\n",
       "    word-wrap: break-word;\n",
       "    word-break: break-all;\n",
       "    font-family: \"Source Code Pro\", \"Menlo\", monospace;;\n",
       "    font-size: 13px;\n",
       "    color: #555;\n",
       "    margin-left: 4px;\n",
       "    line-height: 19px;\n",
       "  }\n",
       "</style>\n",
       "<div class=\"ansiout\">+------------------------------------------------------------------------------------------------------------------+\n",
       "url_surtkey                                                                                                       |\n",
       "+------------------------------------------------------------------------------------------------------------------+\n",
       "com,hotels,lv)/de1436792-am1048576/ratinkresliem-piemerotu-numuru-viesnicas-eagan-minesota                        |\n",
       "com,howstuffworks,auto)/1955-1956-ford-fairlane-crown-victoria2.htm                                               |\n",
       "com,hotels,lv)/de1436792-am131072/ratinkresliem-piemerotu-vannasistabu-viesnicas-eagan-minesota                   |\n",
       "com,howstuffworks,auto)/1955-1956-ford-fairlane-crown-victoria2.htm                                               |\n",
       "com,hotels,lv)/de1436792-am2097152/piekluves-aprikojuma-cilvekiem-ar-dzirdes-traucejumiem-viesnicas-eagan-minesota|\n",
       "com,howstuffworks,auto)/1955-1956-ford-fairlane-crown-victoria4.htm                                               |\n",
       "com,hotels,lv)/de1436792-am65536/ratinkresliem-piemerotu-celinu-viesnicas-eagan-minesota                          |\n",
       "com,howstuffworks,auto)/1955-1956-ford-fairlane-crown-victoria4.htm                                               |\n",
       "com,hotels,lv)/de1436792-am65536/ratinkresliem-piemerotu-celinu-viesnicas-eagan-minesota                          |\n",
       "com,howstuffworks,auto)/1955-1956-ford-fairlane-crown-victoria5.htm                                               |\n",
       "com,hotels,lv)/de1436792-qu0/letas-viesnicas-eagan-minesota                                                       |\n",
       "com,howstuffworks,auto)/1955-1956-ford-fairlane-crown-victoria5.htm                                               |\n",
       "com,hotels,lv)/de1436792-qu0/letas-viesnicas-eagan-minesota                                                       |\n",
       "com,howstuffworks,auto)/1955-1956-mercury-montclair-hardtop-convertible-phaeton.htm                               |\n",
       "com,hotels,lv)/de1436805-qu4/luksusa-viesnicas-lake-wales-florida                                                 |\n",
       "com,howstuffworks,auto)/1955-1956-mercury-montclair-hardtop-convertible-phaeton.htm                               |\n",
       "com,hotels,lv)/de1436805-qu4/luksusa-viesnicas-lake-wales-florida                                                 |\n",
       "com,howstuffworks,auto)/1955-1956-packard-four-hundred.htm                                                        |\n",
       "com,hotels,lv)/de1436837-qu4/luksusa-viesnicas-vero-beach-florida                                                 |\n",
       "com,howstuffworks,auto)/1955-1956-packard-four-hundred.htm                                                        |\n",
       "+------------------------------------------------------------------------------------------------------------------+\n",
       "only showing top 20 rows\n",
       "\n",
       "</div>"
      ]
     },
     "metadata": {
      "application/vnd.databricks.v1+output": {
       "addedWidgets": {},
       "arguments": {},
       "data": "<div class=\"ansiout\">+------------------------------------------------------------------------------------------------------------------+\n|url_surtkey                                                                                                       |\n+------------------------------------------------------------------------------------------------------------------+\n|com,hotels,lv)/de1436792-am1048576/ratinkresliem-piemerotu-numuru-viesnicas-eagan-minesota                        |\n|com,howstuffworks,auto)/1955-1956-ford-fairlane-crown-victoria2.htm                                               |\n|com,hotels,lv)/de1436792-am131072/ratinkresliem-piemerotu-vannasistabu-viesnicas-eagan-minesota                   |\n|com,howstuffworks,auto)/1955-1956-ford-fairlane-crown-victoria2.htm                                               |\n|com,hotels,lv)/de1436792-am2097152/piekluves-aprikojuma-cilvekiem-ar-dzirdes-traucejumiem-viesnicas-eagan-minesota|\n|com,howstuffworks,auto)/1955-1956-ford-fairlane-crown-victoria4.htm                                               |\n|com,hotels,lv)/de1436792-am65536/ratinkresliem-piemerotu-celinu-viesnicas-eagan-minesota                          |\n|com,howstuffworks,auto)/1955-1956-ford-fairlane-crown-victoria4.htm                                               |\n|com,hotels,lv)/de1436792-am65536/ratinkresliem-piemerotu-celinu-viesnicas-eagan-minesota                          |\n|com,howstuffworks,auto)/1955-1956-ford-fairlane-crown-victoria5.htm                                               |\n|com,hotels,lv)/de1436792-qu0/letas-viesnicas-eagan-minesota                                                       |\n|com,howstuffworks,auto)/1955-1956-ford-fairlane-crown-victoria5.htm                                               |\n|com,hotels,lv)/de1436792-qu0/letas-viesnicas-eagan-minesota                                                       |\n|com,howstuffworks,auto)/1955-1956-mercury-montclair-hardtop-convertible-phaeton.htm                               |\n|com,hotels,lv)/de1436805-qu4/luksusa-viesnicas-lake-wales-florida                                                 |\n|com,howstuffworks,auto)/1955-1956-mercury-montclair-hardtop-convertible-phaeton.htm                               |\n|com,hotels,lv)/de1436805-qu4/luksusa-viesnicas-lake-wales-florida                                                 |\n|com,howstuffworks,auto)/1955-1956-packard-four-hundred.htm                                                        |\n|com,hotels,lv)/de1436837-qu4/luksusa-viesnicas-vero-beach-florida                                                 |\n|com,howstuffworks,auto)/1955-1956-packard-four-hundred.htm                                                        |\n+------------------------------------------------------------------------------------------------------------------+\nonly showing top 20 rows\n\n</div>",
       "datasetInfos": [],
       "metadata": {},
       "removedWidgets": [],
       "type": "html"
      }
     },
     "output_type": "display_data"
    }
   ],
   "source": [
    "# 2014\n",
    "\n",
    "path = '/mnt/lsde/datasets/commoncrawl/cc-index/table/cc-main/warc/crawl=CC-MAIN-2014*/subset=warc'\n",
    "df = spark.read.parquet(path)\n",
    "df.createOrReplaceTempView(\"url_surtkey\")\n",
    "url_surtkey_view = spark.sql(\"SELECT url_surtkey FROM url_surtkey\").show(truncate= False)"
   ]
  },
  {
   "cell_type": "code",
   "execution_count": 0,
   "metadata": {
    "application/vnd.databricks.v1+cell": {
     "inputWidgets": {},
     "nuid": "4fe5c9ef-13d8-4657-8cdc-50170061b1a8",
     "showTitle": false,
     "title": ""
    }
   },
   "outputs": [
    {
     "data": {
      "text/html": [
       "<style scoped>\n",
       "  .ansiout {\n",
       "    display: block;\n",
       "    unicode-bidi: embed;\n",
       "    white-space: pre-wrap;\n",
       "    word-wrap: break-word;\n",
       "    word-break: break-all;\n",
       "    font-family: \"Source Code Pro\", \"Menlo\", monospace;;\n",
       "    font-size: 13px;\n",
       "    color: #555;\n",
       "    margin-left: 4px;\n",
       "    line-height: 19px;\n",
       "  }\n",
       "</style>\n",
       "<div class=\"ansiout\">+-----------+\n",
       "pages_count|\n",
       "+-----------+\n",
       "22158370950|\n",
       "+-----------+\n",
       "\n",
       "</div>"
      ]
     },
     "metadata": {
      "application/vnd.databricks.v1+output": {
       "addedWidgets": {},
       "arguments": {},
       "data": "<div class=\"ansiout\">+-----------+\n|pages_count|\n+-----------+\n|22158370950|\n+-----------+\n\n</div>",
       "datasetInfos": [],
       "metadata": {},
       "removedWidgets": [],
       "type": "html"
      }
     },
     "output_type": "display_data"
    }
   ],
   "source": [
    "urlsurtkey_viewall = spark.sql(\"SELECT count(*) AS pages_count FROM url_surtkey \").show(truncate=False)"
   ]
  },
  {
   "cell_type": "code",
   "execution_count": 0,
   "metadata": {
    "application/vnd.databricks.v1+cell": {
     "inputWidgets": {},
     "nuid": "e6e51814-7ad1-48ba-9495-9cf71234aac0",
     "showTitle": false,
     "title": ""
    }
   },
   "outputs": [
    {
     "data": {
      "text/html": [
       "<style scoped>\n",
       "  .ansiout {\n",
       "    display: block;\n",
       "    unicode-bidi: embed;\n",
       "    white-space: pre-wrap;\n",
       "    word-wrap: break-word;\n",
       "    word-break: break-all;\n",
       "    font-family: \"Source Code Pro\", \"Menlo\", monospace;;\n",
       "    font-size: 13px;\n",
       "    color: #555;\n",
       "    margin-left: 4px;\n",
       "    line-height: 19px;\n",
       "  }\n",
       "</style>\n",
       "<div class=\"ansiout\">+-----------+\n",
       "pages_count|\n",
       "+-----------+\n",
       "828705     |\n",
       "+-----------+\n",
       "\n",
       "</div>"
      ]
     },
     "metadata": {
      "application/vnd.databricks.v1+output": {
       "addedWidgets": {},
       "arguments": {},
       "data": "<div class=\"ansiout\">+-----------+\n|pages_count|\n+-----------+\n|828705     |\n+-----------+\n\n</div>",
       "datasetInfos": [],
       "metadata": {},
       "removedWidgets": [],
       "type": "html"
      }
     },
     "output_type": "display_data"
    }
   ],
   "source": [
    "#oracle\n",
    "urlsurtkey_view = spark.sql(\"SELECT count(url_surtkey) AS pages_count FROM url_surtkey WHERE url_surtkey like '%oracle%' and url_surtkey like '%database%' \").show(truncate=False)"
   ]
  },
  {
   "cell_type": "code",
   "execution_count": 0,
   "metadata": {
    "application/vnd.databricks.v1+cell": {
     "inputWidgets": {},
     "nuid": "5df1170e-dce2-4911-8b33-5dfff976bb62",
     "showTitle": false,
     "title": ""
    }
   },
   "outputs": [
    {
     "data": {
      "text/html": [
       "<style scoped>\n",
       "  .ansiout {\n",
       "    display: block;\n",
       "    unicode-bidi: embed;\n",
       "    white-space: pre-wrap;\n",
       "    word-wrap: break-word;\n",
       "    word-break: break-all;\n",
       "    font-family: \"Source Code Pro\", \"Menlo\", monospace;;\n",
       "    font-size: 13px;\n",
       "    color: #555;\n",
       "    margin-left: 4px;\n",
       "    line-height: 19px;\n",
       "  }\n",
       "</style>\n",
       "<div class=\"ansiout\">+-----------+\n",
       "pages_count|\n",
       "+-----------+\n",
       "68831      |\n",
       "+-----------+\n",
       "\n",
       "</div>"
      ]
     },
     "metadata": {
      "application/vnd.databricks.v1+output": {
       "addedWidgets": {},
       "arguments": {},
       "data": "<div class=\"ansiout\">+-----------+\n|pages_count|\n+-----------+\n|68831      |\n+-----------+\n\n</div>",
       "datasetInfos": [],
       "metadata": {},
       "removedWidgets": [],
       "type": "html"
      }
     },
     "output_type": "display_data"
    }
   ],
   "source": [
    "#Microsoft SQL Server\n",
    "urlsurtkey_view_microsoft = spark.sql(\"SELECT count(url_surtkey) AS pages_count FROM url_surtkey WHERE url_surtkey like '%microsoft%' and url_surtkey like '%sql%' and url_surtkey like '%server%' and url_surtkey like '%database%'\").show(truncate=False)"
   ]
  },
  {
   "cell_type": "code",
   "execution_count": 0,
   "metadata": {
    "application/vnd.databricks.v1+cell": {
     "inputWidgets": {},
     "nuid": "13346243-041f-425d-86e1-4e02e5b2057e",
     "showTitle": false,
     "title": ""
    }
   },
   "outputs": [
    {
     "data": {
      "text/html": [
       "<style scoped>\n",
       "  .ansiout {\n",
       "    display: block;\n",
       "    unicode-bidi: embed;\n",
       "    white-space: pre-wrap;\n",
       "    word-wrap: break-word;\n",
       "    word-break: break-all;\n",
       "    font-family: \"Source Code Pro\", \"Menlo\", monospace;;\n",
       "    font-size: 13px;\n",
       "    color: #555;\n",
       "    margin-left: 4px;\n",
       "    line-height: 19px;\n",
       "  }\n",
       "</style>\n",
       "<div class=\"ansiout\">+-----------+\n",
       "pages_count|\n",
       "+-----------+\n",
       "65619      |\n",
       "+-----------+\n",
       "\n",
       "</div>"
      ]
     },
     "metadata": {
      "application/vnd.databricks.v1+output": {
       "addedWidgets": {},
       "arguments": {},
       "data": "<div class=\"ansiout\">+-----------+\n|pages_count|\n+-----------+\n|65619      |\n+-----------+\n\n</div>",
       "datasetInfos": [],
       "metadata": {},
       "removedWidgets": [],
       "type": "html"
      }
     },
     "output_type": "display_data"
    }
   ],
   "source": [
    "# postgresql\n",
    "urlsurtkey_view_postgresql = spark.sql(\"SELECT count(url_surtkey) AS pages_count FROM url_surtkey WHERE url_surtkey like '%postgresql%' and url_surtkey like '%database%'\").show(truncate=False)"
   ]
  },
  {
   "cell_type": "code",
   "execution_count": 0,
   "metadata": {
    "application/vnd.databricks.v1+cell": {
     "inputWidgets": {},
     "nuid": "5aff424a-1fbe-4846-b304-fbbc9fa55989",
     "showTitle": false,
     "title": ""
    }
   },
   "outputs": [
    {
     "data": {
      "text/html": [
       "<style scoped>\n",
       "  .ansiout {\n",
       "    display: block;\n",
       "    unicode-bidi: embed;\n",
       "    white-space: pre-wrap;\n",
       "    word-wrap: break-word;\n",
       "    word-break: break-all;\n",
       "    font-family: \"Source Code Pro\", \"Menlo\", monospace;;\n",
       "    font-size: 13px;\n",
       "    color: #555;\n",
       "    margin-left: 4px;\n",
       "    line-height: 19px;\n",
       "  }\n",
       "</style>\n",
       "<div class=\"ansiout\">+-----------+\n",
       "pages_count|\n",
       "+-----------+\n",
       "0          |\n",
       "+-----------+\n",
       "\n",
       "</div>"
      ]
     },
     "metadata": {
      "application/vnd.databricks.v1+output": {
       "addedWidgets": {},
       "arguments": {},
       "data": "<div class=\"ansiout\">+-----------+\n|pages_count|\n+-----------+\n|0          |\n+-----------+\n\n</div>",
       "datasetInfos": [],
       "metadata": {},
       "removedWidgets": [],
       "type": "html"
      }
     },
     "output_type": "display_data"
    }
   ],
   "source": [
    "#clickhouse\n",
    "urlsurtkey_view_clickhouse = spark.sql(\"SELECT count(url_surtkey) AS pages_count FROM url_surtkey WHERE url_surtkey like '%clickhouse%' and url_surtkey like '%database%'\").show(truncate=False)"
   ]
  },
  {
   "cell_type": "code",
   "execution_count": 0,
   "metadata": {
    "application/vnd.databricks.v1+cell": {
     "inputWidgets": {},
     "nuid": "02bf5c4c-5722-456d-84e3-bfea05322a27",
     "showTitle": false,
     "title": ""
    }
   },
   "outputs": [
    {
     "data": {
      "text/html": [
       "<style scoped>\n",
       "  .ansiout {\n",
       "    display: block;\n",
       "    unicode-bidi: embed;\n",
       "    white-space: pre-wrap;\n",
       "    word-wrap: break-word;\n",
       "    word-break: break-all;\n",
       "    font-family: \"Source Code Pro\", \"Menlo\", monospace;;\n",
       "    font-size: 13px;\n",
       "    color: #555;\n",
       "    margin-left: 4px;\n",
       "    line-height: 19px;\n",
       "  }\n",
       "</style>\n",
       "<div class=\"ansiout\">+-----------+\n",
       "pages_count|\n",
       "+-----------+\n",
       "3067       |\n",
       "+-----------+\n",
       "\n",
       "</div>"
      ]
     },
     "metadata": {
      "application/vnd.databricks.v1+output": {
       "addedWidgets": {},
       "arguments": {},
       "data": "<div class=\"ansiout\">+-----------+\n|pages_count|\n+-----------+\n|3067       |\n+-----------+\n\n</div>",
       "datasetInfos": [],
       "metadata": {},
       "removedWidgets": [],
       "type": "html"
      }
     },
     "output_type": "display_data"
    }
   ],
   "source": [
    "# spark we assumed that when the words spark and database are in the same file or url we refer to the spark database\n",
    "urlsurtkey_view_spark = spark.sql(\"SELECT count(url_surtkey) AS pages_count FROM url_surtkey WHERE url_surtkey like '%spark%' and url_surtkey like '%database%'\").show(truncate=False)"
   ]
  },
  {
   "cell_type": "code",
   "execution_count": 0,
   "metadata": {
    "application/vnd.databricks.v1+cell": {
     "inputWidgets": {},
     "nuid": "7795e771-edcf-467a-9bf0-dff764034564",
     "showTitle": false,
     "title": ""
    }
   },
   "outputs": [
    {
     "data": {
      "text/html": [
       "<style scoped>\n",
       "  .ansiout {\n",
       "    display: block;\n",
       "    unicode-bidi: embed;\n",
       "    white-space: pre-wrap;\n",
       "    word-wrap: break-word;\n",
       "    word-break: break-all;\n",
       "    font-family: \"Source Code Pro\", \"Menlo\", monospace;;\n",
       "    font-size: 13px;\n",
       "    color: #555;\n",
       "    margin-left: 4px;\n",
       "    line-height: 19px;\n",
       "  }\n",
       "</style>\n",
       "<div class=\"ansiout\">+-----------+\n",
       "pages_count|\n",
       "+-----------+\n",
       "28969      |\n",
       "+-----------+\n",
       "\n",
       "</div>"
      ]
     },
     "metadata": {
      "application/vnd.databricks.v1+output": {
       "addedWidgets": {},
       "arguments": {},
       "data": "<div class=\"ansiout\">+-----------+\n|pages_count|\n+-----------+\n|28969      |\n+-----------+\n\n</div>",
       "datasetInfos": [],
       "metadata": {},
       "removedWidgets": [],
       "type": "html"
      }
     },
     "output_type": "display_data"
    }
   ],
   "source": [
    "#mongodb\n",
    "urlsurtkey_view_mongodb = spark.sql(\"SELECT count(url_surtkey) AS pages_count FROM url_surtkey WHERE url_surtkey like '%mongodb%' and url_surtkey like '%database%'\").show(truncate=False)"
   ]
  },
  {
   "cell_type": "code",
   "execution_count": 0,
   "metadata": {
    "application/vnd.databricks.v1+cell": {
     "inputWidgets": {},
     "nuid": "340cea11-519c-4ce8-b1e0-bfcdeb760e4b",
     "showTitle": false,
     "title": ""
    }
   },
   "outputs": [
    {
     "data": {
      "text/html": [
       "<style scoped>\n",
       "  .ansiout {\n",
       "    display: block;\n",
       "    unicode-bidi: embed;\n",
       "    white-space: pre-wrap;\n",
       "    word-wrap: break-word;\n",
       "    word-break: break-all;\n",
       "    font-family: \"Source Code Pro\", \"Menlo\", monospace;;\n",
       "    font-size: 13px;\n",
       "    color: #555;\n",
       "    margin-left: 4px;\n",
       "    line-height: 19px;\n",
       "  }\n",
       "</style>\n",
       "<div class=\"ansiout\">+-----------+\n",
       "pages_count|\n",
       "+-----------+\n",
       "333575     |\n",
       "+-----------+\n",
       "\n",
       "</div>"
      ]
     },
     "metadata": {
      "application/vnd.databricks.v1+output": {
       "addedWidgets": {},
       "arguments": {},
       "data": "<div class=\"ansiout\">+-----------+\n|pages_count|\n+-----------+\n|333575     |\n+-----------+\n\n</div>",
       "datasetInfos": [],
       "metadata": {},
       "removedWidgets": [],
       "type": "html"
      }
     },
     "output_type": "display_data"
    }
   ],
   "source": [
    "#mysql\n",
    "urlsurtkey_view = spark.sql(\"SELECT count(url_surtkey) AS pages_count FROM url_surtkey WHERE url_surtkey like '%mysql%' and url_surtkey like '%database%' \").show(truncate=False)"
   ]
  },
  {
   "cell_type": "code",
   "execution_count": 0,
   "metadata": {
    "application/vnd.databricks.v1+cell": {
     "inputWidgets": {},
     "nuid": "999b28ce-52c1-4348-bf65-13205c210bbe",
     "showTitle": false,
     "title": ""
    }
   },
   "outputs": [
    {
     "data": {
      "text/html": [
       "<style scoped>\n",
       "  .ansiout {\n",
       "    display: block;\n",
       "    unicode-bidi: embed;\n",
       "    white-space: pre-wrap;\n",
       "    word-wrap: break-word;\n",
       "    word-break: break-all;\n",
       "    font-family: \"Source Code Pro\", \"Menlo\", monospace;;\n",
       "    font-size: 13px;\n",
       "    color: #555;\n",
       "    margin-left: 4px;\n",
       "    line-height: 19px;\n",
       "  }\n",
       "</style>\n",
       "<div class=\"ansiout\">+-----------+\n",
       "pages_count|\n",
       "+-----------+\n",
       "2076       |\n",
       "+-----------+\n",
       "\n",
       "</div>"
      ]
     },
     "metadata": {
      "application/vnd.databricks.v1+output": {
       "addedWidgets": {},
       "arguments": {},
       "data": "<div class=\"ansiout\">+-----------+\n|pages_count|\n+-----------+\n|2076       |\n+-----------+\n\n</div>",
       "datasetInfos": [],
       "metadata": {},
       "removedWidgets": [],
       "type": "html"
      }
     },
     "output_type": "display_data"
    }
   ],
   "source": [
    "#mariadb\n",
    "urlsurtkey_view_mariadb = spark.sql(\"SELECT count(url_surtkey) AS pages_count FROM url_surtkey WHERE url_surtkey like '%mariadb%' and url_surtkey like '%database%' \").show(truncate=False)"
   ]
  },
  {
   "cell_type": "code",
   "execution_count": 0,
   "metadata": {
    "application/vnd.databricks.v1+cell": {
     "inputWidgets": {},
     "nuid": "d4875d0b-ed41-4ce6-9c08-f5917b39f1b4",
     "showTitle": false,
     "title": ""
    }
   },
   "outputs": [
    {
     "data": {
      "text/html": [
       "<style scoped>\n",
       "  .ansiout {\n",
       "    display: block;\n",
       "    unicode-bidi: embed;\n",
       "    white-space: pre-wrap;\n",
       "    word-wrap: break-word;\n",
       "    word-break: break-all;\n",
       "    font-family: \"Source Code Pro\", \"Menlo\", monospace;;\n",
       "    font-size: 13px;\n",
       "    color: #555;\n",
       "    margin-left: 4px;\n",
       "    line-height: 19px;\n",
       "  }\n",
       "</style>\n",
       "<div class=\"ansiout\">+--------------------------------------------------------------------------------------------------------+\n",
       "url_surtkey                                                                                             |\n",
       "+--------------------------------------------------------------------------------------------------------+\n",
       "com,federaltimes)/article/20130102/benefits01/301020002/1003/travel01                                   |\n",
       "com,filtersfast)/p-culligan-hf-150-whole-house-water-filter.asp                                         |\n",
       "com,federaltimes)/article/20130102/benefits01/301020002/1009                                            |\n",
       "com,filtersfast)/p-culligan-hf-360-whole-house-water-filter.asp                                         |\n",
       "com,federaltimes)/article/20130102/benefits01/301020002/1009/acquisition                                |\n",
       "com,filtersfast)/p-culligan-hsh-c135-shower-filter.asp                                                  |\n",
       "com,federaltimes)/article/20130102/benefits01/301020002/1013                                            |\n",
       "com,filtersfast)/p-culligan-ice-maker-bracket-filter.asp                                                |\n",
       "com,federaltimes)/article/20130102/benefits01/301020002/1013/congress                                   |\n",
       "com,filtersfast)/p-culligan-ish-100-shower-filter.asp                                                   |\n",
       "com,federaltimes)/article/20130102/benefits01/301020002/1041/benefits                                   |\n",
       "com,filtersfast)/p-culligan-ish-200-inline-shower-filter-chrome.asp                                     |\n",
       "com,federaltimes)/article/20130102/benefits01/301020002/1049                                            |\n",
       "com,filtersfast)/p-culligan-or-100-replacement-o-ring-kit.asp                                           |\n",
       "com,federaltimes)/article/20130102/benefits01/301020002/1049/personnel                                  |\n",
       "com,filtersfast)/p-culligan-or-233-a-replacement-o-ring-kit.asp                                         |\n",
       "com,federaltimes)/article/20130102/benefits01/301020002/fiscal-cliff-deal-increases-transit-benefit-feds|\n",
       "com,filtersfast)/p-culligan-p1-sediment-filter.asp                                                      |\n",
       "com,federaltimes)/article/20130102/benefits01/301020002/fiscal-cliff-deal-increases-transit-benefit-feds|\n",
       "com,filtersfast)/p-culligan-p5-sediment-filter.asp                                                      |\n",
       "+--------------------------------------------------------------------------------------------------------+\n",
       "only showing top 20 rows\n",
       "\n",
       "</div>"
      ]
     },
     "metadata": {
      "application/vnd.databricks.v1+output": {
       "addedWidgets": {},
       "arguments": {},
       "data": "<div class=\"ansiout\">+--------------------------------------------------------------------------------------------------------+\n|url_surtkey                                                                                             |\n+--------------------------------------------------------------------------------------------------------+\n|com,federaltimes)/article/20130102/benefits01/301020002/1003/travel01                                   |\n|com,filtersfast)/p-culligan-hf-150-whole-house-water-filter.asp                                         |\n|com,federaltimes)/article/20130102/benefits01/301020002/1009                                            |\n|com,filtersfast)/p-culligan-hf-360-whole-house-water-filter.asp                                         |\n|com,federaltimes)/article/20130102/benefits01/301020002/1009/acquisition                                |\n|com,filtersfast)/p-culligan-hsh-c135-shower-filter.asp                                                  |\n|com,federaltimes)/article/20130102/benefits01/301020002/1013                                            |\n|com,filtersfast)/p-culligan-ice-maker-bracket-filter.asp                                                |\n|com,federaltimes)/article/20130102/benefits01/301020002/1013/congress                                   |\n|com,filtersfast)/p-culligan-ish-100-shower-filter.asp                                                   |\n|com,federaltimes)/article/20130102/benefits01/301020002/1041/benefits                                   |\n|com,filtersfast)/p-culligan-ish-200-inline-shower-filter-chrome.asp                                     |\n|com,federaltimes)/article/20130102/benefits01/301020002/1049                                            |\n|com,filtersfast)/p-culligan-or-100-replacement-o-ring-kit.asp                                           |\n|com,federaltimes)/article/20130102/benefits01/301020002/1049/personnel                                  |\n|com,filtersfast)/p-culligan-or-233-a-replacement-o-ring-kit.asp                                         |\n|com,federaltimes)/article/20130102/benefits01/301020002/fiscal-cliff-deal-increases-transit-benefit-feds|\n|com,filtersfast)/p-culligan-p1-sediment-filter.asp                                                      |\n|com,federaltimes)/article/20130102/benefits01/301020002/fiscal-cliff-deal-increases-transit-benefit-feds|\n|com,filtersfast)/p-culligan-p5-sediment-filter.asp                                                      |\n+--------------------------------------------------------------------------------------------------------+\nonly showing top 20 rows\n\n</div>",
       "datasetInfos": [],
       "metadata": {},
       "removedWidgets": [],
       "type": "html"
      }
     },
     "output_type": "display_data"
    }
   ],
   "source": [
    "# 2013\n",
    "\n",
    "path = '/mnt/lsde/datasets/commoncrawl/cc-index/table/cc-main/warc/crawl=CC-MAIN-2013*/subset=warc'\n",
    "df = spark.read.parquet(path)\n",
    "df.createOrReplaceTempView(\"url_surtkey\")\n",
    "url_surtkey_view = spark.sql(\"SELECT url_surtkey FROM url_surtkey\").show(truncate= False)"
   ]
  },
  {
   "cell_type": "code",
   "execution_count": 0,
   "metadata": {
    "application/vnd.databricks.v1+cell": {
     "inputWidgets": {},
     "nuid": "280dc8e2-999f-48f3-aab5-bed8480c2007",
     "showTitle": false,
     "title": ""
    }
   },
   "outputs": [
    {
     "data": {
      "text/html": [
       "<style scoped>\n",
       "  .ansiout {\n",
       "    display: block;\n",
       "    unicode-bidi: embed;\n",
       "    white-space: pre-wrap;\n",
       "    word-wrap: break-word;\n",
       "    word-break: break-all;\n",
       "    font-family: \"Source Code Pro\", \"Menlo\", monospace;;\n",
       "    font-size: 13px;\n",
       "    color: #555;\n",
       "    margin-left: 4px;\n",
       "    line-height: 19px;\n",
       "  }\n",
       "</style>\n",
       "<div class=\"ansiout\">+-----------+\n",
       "pages_count|\n",
       "+-----------+\n",
       "4041872310 |\n",
       "+-----------+\n",
       "\n",
       "</div>"
      ]
     },
     "metadata": {
      "application/vnd.databricks.v1+output": {
       "addedWidgets": {},
       "arguments": {},
       "data": "<div class=\"ansiout\">+-----------+\n|pages_count|\n+-----------+\n|4041872310 |\n+-----------+\n\n</div>",
       "datasetInfos": [],
       "metadata": {},
       "removedWidgets": [],
       "type": "html"
      }
     },
     "output_type": "display_data"
    }
   ],
   "source": [
    "urlsurtkey_viewall = spark.sql(\"SELECT count(*) AS pages_count FROM url_surtkey \").show(truncate=False)\n"
   ]
  },
  {
   "cell_type": "code",
   "execution_count": 0,
   "metadata": {
    "application/vnd.databricks.v1+cell": {
     "inputWidgets": {},
     "nuid": "a6838a0d-2ffb-49ae-873a-0f8dbc37576e",
     "showTitle": false,
     "title": ""
    }
   },
   "outputs": [
    {
     "data": {
      "text/html": [
       "<style scoped>\n",
       "  .ansiout {\n",
       "    display: block;\n",
       "    unicode-bidi: embed;\n",
       "    white-space: pre-wrap;\n",
       "    word-wrap: break-word;\n",
       "    word-break: break-all;\n",
       "    font-family: \"Source Code Pro\", \"Menlo\", monospace;;\n",
       "    font-size: 13px;\n",
       "    color: #555;\n",
       "    margin-left: 4px;\n",
       "    line-height: 19px;\n",
       "  }\n",
       "</style>\n",
       "<div class=\"ansiout\">+-----------+\n",
       "pages_count|\n",
       "+-----------+\n",
       "145677     |\n",
       "+-----------+\n",
       "\n",
       "</div>"
      ]
     },
     "metadata": {
      "application/vnd.databricks.v1+output": {
       "addedWidgets": {},
       "arguments": {},
       "data": "<div class=\"ansiout\">+-----------+\n|pages_count|\n+-----------+\n|145677     |\n+-----------+\n\n</div>",
       "datasetInfos": [],
       "metadata": {},
       "removedWidgets": [],
       "type": "html"
      }
     },
     "output_type": "display_data"
    }
   ],
   "source": [
    "#oracle\n",
    "urlsurtkey_view = spark.sql(\"SELECT count(url_surtkey) AS pages_count FROM url_surtkey WHERE url_surtkey like '%oracle%' and url_surtkey like '%database%' \").show(truncate=False)"
   ]
  },
  {
   "cell_type": "code",
   "execution_count": 0,
   "metadata": {
    "application/vnd.databricks.v1+cell": {
     "inputWidgets": {},
     "nuid": "f6f38d6f-6963-4626-9875-f1ad082ea73e",
     "showTitle": false,
     "title": ""
    }
   },
   "outputs": [
    {
     "data": {
      "text/html": [
       "<style scoped>\n",
       "  .ansiout {\n",
       "    display: block;\n",
       "    unicode-bidi: embed;\n",
       "    white-space: pre-wrap;\n",
       "    word-wrap: break-word;\n",
       "    word-break: break-all;\n",
       "    font-family: \"Source Code Pro\", \"Menlo\", monospace;;\n",
       "    font-size: 13px;\n",
       "    color: #555;\n",
       "    margin-left: 4px;\n",
       "    line-height: 19px;\n",
       "  }\n",
       "</style>\n",
       "<div class=\"ansiout\">+-----------+\n",
       "pages_count|\n",
       "+-----------+\n",
       "15229      |\n",
       "+-----------+\n",
       "\n",
       "</div>"
      ]
     },
     "metadata": {
      "application/vnd.databricks.v1+output": {
       "addedWidgets": {},
       "arguments": {},
       "data": "<div class=\"ansiout\">+-----------+\n|pages_count|\n+-----------+\n|15229      |\n+-----------+\n\n</div>",
       "datasetInfos": [],
       "metadata": {},
       "removedWidgets": [],
       "type": "html"
      }
     },
     "output_type": "display_data"
    }
   ],
   "source": [
    "#Microsoft SQL Server\n",
    "urlsurtkey_view_microsoft = spark.sql(\"SELECT count(url_surtkey) AS pages_count FROM url_surtkey WHERE url_surtkey like '%microsoft%' and url_surtkey like '%sql%' and url_surtkey like '%server%' and url_surtkey like '%database%'\").show(truncate=False)"
   ]
  },
  {
   "cell_type": "code",
   "execution_count": 0,
   "metadata": {
    "application/vnd.databricks.v1+cell": {
     "inputWidgets": {},
     "nuid": "1c8ae340-f1ff-4f72-a8da-66829208420b",
     "showTitle": false,
     "title": ""
    }
   },
   "outputs": [
    {
     "data": {
      "text/html": [
       "<style scoped>\n",
       "  .ansiout {\n",
       "    display: block;\n",
       "    unicode-bidi: embed;\n",
       "    white-space: pre-wrap;\n",
       "    word-wrap: break-word;\n",
       "    word-break: break-all;\n",
       "    font-family: \"Source Code Pro\", \"Menlo\", monospace;;\n",
       "    font-size: 13px;\n",
       "    color: #555;\n",
       "    margin-left: 4px;\n",
       "    line-height: 19px;\n",
       "  }\n",
       "</style>\n",
       "<div class=\"ansiout\">+-----------+\n",
       "pages_count|\n",
       "+-----------+\n",
       "10007      |\n",
       "+-----------+\n",
       "\n",
       "</div>"
      ]
     },
     "metadata": {
      "application/vnd.databricks.v1+output": {
       "addedWidgets": {},
       "arguments": {},
       "data": "<div class=\"ansiout\">+-----------+\n|pages_count|\n+-----------+\n|10007      |\n+-----------+\n\n</div>",
       "datasetInfos": [],
       "metadata": {},
       "removedWidgets": [],
       "type": "html"
      }
     },
     "output_type": "display_data"
    }
   ],
   "source": [
    "# postgresql\n",
    "urlsurtkey_view_postgresql = spark.sql(\"SELECT count(url_surtkey) AS pages_count FROM url_surtkey WHERE url_surtkey like '%postgresql%' and url_surtkey like '%database%'\").show(truncate=False)"
   ]
  },
  {
   "cell_type": "code",
   "execution_count": 0,
   "metadata": {
    "application/vnd.databricks.v1+cell": {
     "inputWidgets": {},
     "nuid": "a3a80cb6-1cb8-4e1b-8c87-8b6c4d2f61ed",
     "showTitle": false,
     "title": ""
    }
   },
   "outputs": [
    {
     "data": {
      "text/html": [
       "<style scoped>\n",
       "  .ansiout {\n",
       "    display: block;\n",
       "    unicode-bidi: embed;\n",
       "    white-space: pre-wrap;\n",
       "    word-wrap: break-word;\n",
       "    word-break: break-all;\n",
       "    font-family: \"Source Code Pro\", \"Menlo\", monospace;;\n",
       "    font-size: 13px;\n",
       "    color: #555;\n",
       "    margin-left: 4px;\n",
       "    line-height: 19px;\n",
       "  }\n",
       "</style>\n",
       "<div class=\"ansiout\">+-----------+\n",
       "pages_count|\n",
       "+-----------+\n",
       "0          |\n",
       "+-----------+\n",
       "\n",
       "</div>"
      ]
     },
     "metadata": {
      "application/vnd.databricks.v1+output": {
       "addedWidgets": {},
       "arguments": {},
       "data": "<div class=\"ansiout\">+-----------+\n|pages_count|\n+-----------+\n|0          |\n+-----------+\n\n</div>",
       "datasetInfos": [],
       "metadata": {},
       "removedWidgets": [],
       "type": "html"
      }
     },
     "output_type": "display_data"
    }
   ],
   "source": [
    "#clickhouse\n",
    "urlsurtkey_view_clickhouse = spark.sql(\"SELECT count(url_surtkey) AS pages_count FROM url_surtkey WHERE url_surtkey like '%clickhouse%' and url_surtkey like '%database%'\").show(truncate=False)"
   ]
  },
  {
   "cell_type": "code",
   "execution_count": 0,
   "metadata": {
    "application/vnd.databricks.v1+cell": {
     "inputWidgets": {},
     "nuid": "f4164ff1-874d-45b9-9fb9-89cefbf148ae",
     "showTitle": false,
     "title": ""
    }
   },
   "outputs": [
    {
     "data": {
      "text/html": [
       "<style scoped>\n",
       "  .ansiout {\n",
       "    display: block;\n",
       "    unicode-bidi: embed;\n",
       "    white-space: pre-wrap;\n",
       "    word-wrap: break-word;\n",
       "    word-break: break-all;\n",
       "    font-family: \"Source Code Pro\", \"Menlo\", monospace;;\n",
       "    font-size: 13px;\n",
       "    color: #555;\n",
       "    margin-left: 4px;\n",
       "    line-height: 19px;\n",
       "  }\n",
       "</style>\n",
       "<div class=\"ansiout\">+-----------+\n",
       "pages_count|\n",
       "+-----------+\n",
       "466        |\n",
       "+-----------+\n",
       "\n",
       "</div>"
      ]
     },
     "metadata": {
      "application/vnd.databricks.v1+output": {
       "addedWidgets": {},
       "arguments": {},
       "data": "<div class=\"ansiout\">+-----------+\n|pages_count|\n+-----------+\n|466        |\n+-----------+\n\n</div>",
       "datasetInfos": [],
       "metadata": {},
       "removedWidgets": [],
       "type": "html"
      }
     },
     "output_type": "display_data"
    }
   ],
   "source": [
    "# spark we assumed that when the words spark and database are in the same file or url we refer to the spark database\n",
    "urlsurtkey_view_spark = spark.sql(\"SELECT count(url_surtkey) AS pages_count FROM url_surtkey WHERE url_surtkey like '%spark%' and url_surtkey like '%database%'\").show(truncate=False)"
   ]
  },
  {
   "cell_type": "code",
   "execution_count": 0,
   "metadata": {
    "application/vnd.databricks.v1+cell": {
     "inputWidgets": {},
     "nuid": "ce881cb1-e09b-4ec3-b5b3-de5c2c4dc776",
     "showTitle": false,
     "title": ""
    }
   },
   "outputs": [
    {
     "data": {
      "text/html": [
       "<style scoped>\n",
       "  .ansiout {\n",
       "    display: block;\n",
       "    unicode-bidi: embed;\n",
       "    white-space: pre-wrap;\n",
       "    word-wrap: break-word;\n",
       "    word-break: break-all;\n",
       "    font-family: \"Source Code Pro\", \"Menlo\", monospace;;\n",
       "    font-size: 13px;\n",
       "    color: #555;\n",
       "    margin-left: 4px;\n",
       "    line-height: 19px;\n",
       "  }\n",
       "</style>\n",
       "<div class=\"ansiout\">+-----------+\n",
       "pages_count|\n",
       "+-----------+\n",
       "3848       |\n",
       "+-----------+\n",
       "\n",
       "</div>"
      ]
     },
     "metadata": {
      "application/vnd.databricks.v1+output": {
       "addedWidgets": {},
       "arguments": {},
       "data": "<div class=\"ansiout\">+-----------+\n|pages_count|\n+-----------+\n|3848       |\n+-----------+\n\n</div>",
       "datasetInfos": [],
       "metadata": {},
       "removedWidgets": [],
       "type": "html"
      }
     },
     "output_type": "display_data"
    }
   ],
   "source": [
    "#mongodb\n",
    "urlsurtkey_view_mongodb = spark.sql(\"SELECT count(url_surtkey) AS pages_count FROM url_surtkey WHERE url_surtkey like '%mongodb%' and url_surtkey like '%database%'\").show(truncate=False)"
   ]
  },
  {
   "cell_type": "code",
   "execution_count": 0,
   "metadata": {
    "application/vnd.databricks.v1+cell": {
     "inputWidgets": {},
     "nuid": "98672ea2-55d8-44d3-a967-2590f5a7cdc0",
     "showTitle": false,
     "title": ""
    }
   },
   "outputs": [
    {
     "data": {
      "text/html": [
       "<style scoped>\n",
       "  .ansiout {\n",
       "    display: block;\n",
       "    unicode-bidi: embed;\n",
       "    white-space: pre-wrap;\n",
       "    word-wrap: break-word;\n",
       "    word-break: break-all;\n",
       "    font-family: \"Source Code Pro\", \"Menlo\", monospace;;\n",
       "    font-size: 13px;\n",
       "    color: #555;\n",
       "    margin-left: 4px;\n",
       "    line-height: 19px;\n",
       "  }\n",
       "</style>\n",
       "<div class=\"ansiout\">+-----------+\n",
       "pages_count|\n",
       "+-----------+\n",
       "67667      |\n",
       "+-----------+\n",
       "\n",
       "</div>"
      ]
     },
     "metadata": {
      "application/vnd.databricks.v1+output": {
       "addedWidgets": {},
       "arguments": {},
       "data": "<div class=\"ansiout\">+-----------+\n|pages_count|\n+-----------+\n|67667      |\n+-----------+\n\n</div>",
       "datasetInfos": [],
       "metadata": {},
       "removedWidgets": [],
       "type": "html"
      }
     },
     "output_type": "display_data"
    }
   ],
   "source": [
    "#mysql\n",
    "urlsurtkey_view = spark.sql(\"SELECT count(url_surtkey) AS pages_count FROM url_surtkey WHERE url_surtkey like '%mysql%' and url_surtkey like '%database%' \").show(truncate=False)"
   ]
  },
  {
   "cell_type": "code",
   "execution_count": 0,
   "metadata": {
    "application/vnd.databricks.v1+cell": {
     "inputWidgets": {},
     "nuid": "4de8545e-0148-4db6-82a7-674b7fe61a50",
     "showTitle": false,
     "title": ""
    }
   },
   "outputs": [
    {
     "data": {
      "text/html": [
       "<style scoped>\n",
       "  .ansiout {\n",
       "    display: block;\n",
       "    unicode-bidi: embed;\n",
       "    white-space: pre-wrap;\n",
       "    word-wrap: break-word;\n",
       "    word-break: break-all;\n",
       "    font-family: \"Source Code Pro\", \"Menlo\", monospace;;\n",
       "    font-size: 13px;\n",
       "    color: #555;\n",
       "    margin-left: 4px;\n",
       "    line-height: 19px;\n",
       "  }\n",
       "</style>\n",
       "<div class=\"ansiout\">+-----------+\n",
       "pages_count|\n",
       "+-----------+\n",
       "250        |\n",
       "+-----------+\n",
       "\n",
       "</div>"
      ]
     },
     "metadata": {
      "application/vnd.databricks.v1+output": {
       "addedWidgets": {},
       "arguments": {},
       "data": "<div class=\"ansiout\">+-----------+\n|pages_count|\n+-----------+\n|250        |\n+-----------+\n\n</div>",
       "datasetInfos": [],
       "metadata": {},
       "removedWidgets": [],
       "type": "html"
      }
     },
     "output_type": "display_data"
    }
   ],
   "source": [
    "#mariadb\n",
    "urlsurtkey_view_mariadb = spark.sql(\"SELECT count(url_surtkey) AS pages_count FROM url_surtkey WHERE url_surtkey like '%mariadb%' and url_surtkey like '%database%' \").show(truncate=False)"
   ]
  },
  {
   "cell_type": "code",
   "execution_count": 0,
   "metadata": {
    "application/vnd.databricks.v1+cell": {
     "inputWidgets": {},
     "nuid": "25d8081f-c8f2-4be0-b945-473f4a9dc560",
     "showTitle": false,
     "title": ""
    }
   },
   "outputs": [],
   "source": []
  }
 ],
 "metadata": {
  "application/vnd.databricks.v1+notebook": {
   "dashboards": [],
   "language": "python",
   "notebookMetadata": {
    "pythonIndentUnit": 4
   },
   "notebookName": "load Spark dataframes",
   "notebookOrigID": 2959405476279103,
   "widgets": {}
  },
  "kernelspec": {
   "display_name": "Python 3 (ipykernel)",
   "language": "python",
   "name": "python3"
  },
  "language_info": {
   "codemirror_mode": {
    "name": "ipython",
    "version": 3
   },
   "file_extension": ".py",
   "mimetype": "text/x-python",
   "name": "python",
   "nbconvert_exporter": "python",
   "pygments_lexer": "ipython3",
   "version": "3.8.12"
  }
 },
 "nbformat": 4,
 "nbformat_minor": 1
}
