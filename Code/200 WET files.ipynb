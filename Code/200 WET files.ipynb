{
 "cells": [
  {
   "cell_type": "code",
   "execution_count": 0,
   "metadata": {
    "application/vnd.databricks.v1+cell": {
     "inputWidgets": {},
     "nuid": "08ec95d8-4b25-49da-84bf-a82219cf1dbe",
     "showTitle": false,
     "title": ""
    }
   },
   "outputs": [
    {
     "data": {
      "text/plain": [
       "Python interpreter will be restarted.\n",
       "Requirement already satisfied: warcio in /local_disk0/.ephemeral_nfs/cluster_libraries/python/lib/python3.9/site-packages (1.7.4)\n",
       "Requirement already satisfied: six in /databricks/python3/lib/python3.9/site-packages (from warcio) (1.16.0)\n",
       "Python interpreter will be restarted.\n",
       "Python interpreter will be restarted.\n",
       "Collecting glob2\n",
       "  Downloading glob2-0.7.tar.gz (10 kB)\n",
       "Building wheels for collected packages: glob2\n",
       "  Building wheel for glob2 (setup.py): started\n",
       "  Building wheel for glob2 (setup.py): finished with status 'done'\n",
       "  Created wheel for glob2: filename=glob2-0.7-py2.py3-none-any.whl size=9321 sha256=576fc709190821b93cc14e27daf581217012f31f9bc6fb7aecb1e43dc4e2d6c5\n",
       "  Stored in directory: /root/.cache/pip/wheels/c0/dd/ee/ba6164807de7570971e8f160dbe6a4178ff4e5922f48c093be\n",
       "Successfully built glob2\n",
       "Installing collected packages: glob2\n",
       "Successfully installed glob2-0.7\n",
       "Python interpreter will be restarted.\n",
       "Python interpreter will be restarted.\n",
       "Collecting tldextract\n",
       "  Downloading tldextract-3.4.0-py3-none-any.whl (93 kB)\n",
       "Requirement already satisfied: requests>=2.1.0 in /databricks/python3/lib/python3.9/site-packages (from tldextract) (2.26.0)\n",
       "Requirement already satisfied: filelock>=3.0.8 in /usr/local/lib/python3.9/dist-packages (from tldextract) (3.8.0)\n",
       "Requirement already satisfied: idna in /databricks/python3/lib/python3.9/site-packages (from tldextract) (3.2)\n",
       "Collecting requests-file>=1.4\n",
       "  Downloading requests_file-1.5.1-py2.py3-none-any.whl (3.7 kB)\n",
       "Requirement already satisfied: charset-normalizer~=2.0.0 in /databricks/python3/lib/python3.9/site-packages (from requests>=2.1.0->tldextract) (2.0.4)\n",
       "Requirement already satisfied: urllib3<1.27,>=1.21.1 in /databricks/python3/lib/python3.9/site-packages (from requests>=2.1.0->tldextract) (1.26.7)\n",
       "Requirement already satisfied: certifi>=2017.4.17 in /databricks/python3/lib/python3.9/site-packages (from requests>=2.1.0->tldextract) (2021.10.8)\n",
       "Requirement already satisfied: six in /databricks/python3/lib/python3.9/site-packages (from requests-file>=1.4->tldextract) (1.16.0)\n",
       "Installing collected packages: requests-file, tldextract\n",
       "Successfully installed requests-file-1.5.1 tldextract-3.4.0\n",
       "Python interpreter will be restarted.\n",
       "Python interpreter will be restarted.\n",
       "Collecting warc3-wet\n",
       "  Downloading warc3_wet-0.2.3-py3-none-any.whl (13 kB)\n",
       "Installing collected packages: warc3-wet\n",
       "Successfully installed warc3-wet-0.2.3\n",
       "Python interpreter will be restarted.\n"
      ]
     },
     "metadata": {
      "application/vnd.databricks.v1+output": {
       "addedWidgets": {},
       "arguments": {},
       "data": "Python interpreter will be restarted.\nRequirement already satisfied: warcio in /local_disk0/.ephemeral_nfs/cluster_libraries/python/lib/python3.9/site-packages (1.7.4)\nRequirement already satisfied: six in /databricks/python3/lib/python3.9/site-packages (from warcio) (1.16.0)\nPython interpreter will be restarted.\nPython interpreter will be restarted.\nCollecting glob2\n  Downloading glob2-0.7.tar.gz (10 kB)\nBuilding wheels for collected packages: glob2\n  Building wheel for glob2 (setup.py): started\n  Building wheel for glob2 (setup.py): finished with status 'done'\n  Created wheel for glob2: filename=glob2-0.7-py2.py3-none-any.whl size=9321 sha256=576fc709190821b93cc14e27daf581217012f31f9bc6fb7aecb1e43dc4e2d6c5\n  Stored in directory: /root/.cache/pip/wheels/c0/dd/ee/ba6164807de7570971e8f160dbe6a4178ff4e5922f48c093be\nSuccessfully built glob2\nInstalling collected packages: glob2\nSuccessfully installed glob2-0.7\nPython interpreter will be restarted.\nPython interpreter will be restarted.\nCollecting tldextract\n  Downloading tldextract-3.4.0-py3-none-any.whl (93 kB)\nRequirement already satisfied: requests>=2.1.0 in /databricks/python3/lib/python3.9/site-packages (from tldextract) (2.26.0)\nRequirement already satisfied: filelock>=3.0.8 in /usr/local/lib/python3.9/dist-packages (from tldextract) (3.8.0)\nRequirement already satisfied: idna in /databricks/python3/lib/python3.9/site-packages (from tldextract) (3.2)\nCollecting requests-file>=1.4\n  Downloading requests_file-1.5.1-py2.py3-none-any.whl (3.7 kB)\nRequirement already satisfied: charset-normalizer~=2.0.0 in /databricks/python3/lib/python3.9/site-packages (from requests>=2.1.0->tldextract) (2.0.4)\nRequirement already satisfied: urllib3<1.27,>=1.21.1 in /databricks/python3/lib/python3.9/site-packages (from requests>=2.1.0->tldextract) (1.26.7)\nRequirement already satisfied: certifi>=2017.4.17 in /databricks/python3/lib/python3.9/site-packages (from requests>=2.1.0->tldextract) (2021.10.8)\nRequirement already satisfied: six in /databricks/python3/lib/python3.9/site-packages (from requests-file>=1.4->tldextract) (1.16.0)\nInstalling collected packages: requests-file, tldextract\nSuccessfully installed requests-file-1.5.1 tldextract-3.4.0\nPython interpreter will be restarted.\nPython interpreter will be restarted.\nCollecting warc3-wet\n  Downloading warc3_wet-0.2.3-py3-none-any.whl (13 kB)\nInstalling collected packages: warc3-wet\nSuccessfully installed warc3-wet-0.2.3\nPython interpreter will be restarted.\n",
       "datasetInfos": [],
       "metadata": {},
       "removedWidgets": [],
       "type": "ansi"
      }
     },
     "output_type": "display_data"
    }
   ],
   "source": [
    "%pip install warcio\n",
    "%pip install glob2\n",
    "%pip install tldextract\n",
    "%pip install warc3-wet"
   ]
  },
  {
   "cell_type": "code",
   "execution_count": 0,
   "metadata": {
    "application/vnd.databricks.v1+cell": {
     "inputWidgets": {},
     "nuid": "ddaf92ef-3881-4918-9eab-b022238bb85f",
     "showTitle": false,
     "title": ""
    }
   },
   "outputs": [
    {
     "data": {
      "application/vnd.databricks.v1+bamboolib_hint": "{\"pd.DataFrames\": [], \"version\": \"0.0.1\"}",
      "text/plain": []
     },
     "metadata": {
      "application/vnd.databricks.v1+output": {
       "addedWidgets": {},
       "arguments": {},
       "data": {
        "application/vnd.databricks.v1+bamboolib_hint": "{\"pd.DataFrames\": [], \"version\": \"0.0.1\"}",
        "text/plain": ""
       },
       "datasetInfos": [],
       "metadata": {
        "kernelSessionId": "1ea40e4c-13c6551d204bb83d9730fe45"
       },
       "removedWidgets": [],
       "type": "mimeBundle"
      }
     },
     "output_type": "display_data"
    }
   ],
   "source": [
    "import gzip\n",
    "import warcio\n",
    "import pyspark\n",
    "import warc\n",
    "import glob\n",
    "import glob2\n",
    "import pandas as pd\n",
    "import numpy as np\n",
    "from glob import glob\n",
    "from warcio.archiveiterator import ArchiveIterator\n",
    "from urllib.parse import urlparse\n",
    "import tldextract"
   ]
  },
  {
   "cell_type": "code",
   "execution_count": 0,
   "metadata": {
    "application/vnd.databricks.v1+cell": {
     "inputWidgets": {},
     "nuid": "892add8d-ac4d-4897-9d02-b589b9382fc3",
     "showTitle": false,
     "title": ""
    }
   },
   "outputs": [],
   "source": [
    "#importing paths of wet files from the middle week of each year\n",
    "wet2013 = glob2.glob('/dbfs/mnt/lsde/datasets/commoncrawl/crawl-data/CC-MAIN-2013-20/segments/1368696381249/wet/*.wet.gz', recursive=True)\n",
    "\n",
    "wet2014 = glob2.glob('/dbfs/mnt/lsde/datasets/commoncrawl/crawl-data/CC-MAIN-2014-23/segments/1404776400583.60/wet/*.wet.gz', recursive=True)\n",
    "\n",
    "wet2015 = glob2.glob('/dbfs/mnt/lsde/datasets/commoncrawl/crawl-data/CC-MAIN-2015-22/segments/1432207924799.9/wet/*.wet.gz', recursive=True)\n",
    "\n",
    "wet2016 = glob2.glob('/dbfs/mnt/lsde/datasets/commoncrawl/crawl-data/CC-MAIN-2016-22/segments/1464049270134.8/wet/*.wet.gz', recursive=True)\n",
    "\n",
    "wet2017 = glob2.glob('/dbfs/mnt/lsde/datasets/commoncrawl/crawl-data/CC-MAIN-2017-22/segments/1495463605188.47/wet/*.wet.gz', recursive=True)\n",
    "\n",
    "wet2018 = glob2.glob('/dbfs/mnt/lsde/datasets/commoncrawl/crawl-data/CC-MAIN-2018-22/segments/1526794863277.18/wet/*.wet.gz', recursive=True)\n",
    "\n",
    "wet2019 = glob2.glob('/dbfs/mnt/lsde/datasets/commoncrawl/crawl-data/CC-MAIN-2019-22/segments/1558232254253.31/wet/*.wet.gz', recursive=True)\n",
    "\n",
    "wet2020 = glob2.glob('/dbfs/mnt/lsde/datasets/commoncrawl/crawl-data/CC-MAIN-2020-24/segments/1590347385193.5/wet/*.wet.gz', recursive=True)\n",
    "\n",
    "wet2021 = glob2.glob('/dbfs/mnt/lsde/datasets/commoncrawl/crawl-data/CC-MAIN-2021-21/segments/1620243988696.23/wet/*.wet.gz', recursive=True)\n",
    "\n",
    "wet2022 = glob2.glob('/dbfs/mnt/lsde/datasets/commoncrawl/crawl-data/CC-MAIN-2022-21/segments/1652662509990.19/wet/*.wet.gz', recursive=True)\n"
   ]
  },
  {
   "cell_type": "code",
   "execution_count": 0,
   "metadata": {
    "application/vnd.databricks.v1+cell": {
     "inputWidgets": {},
     "nuid": "03396d33-58ad-4951-9330-efe6088d03c2",
     "showTitle": false,
     "title": ""
    }
   },
   "outputs": [],
   "source": [
    "#initializing empty lists for counting mentions\n",
    "count2013 = []\n",
    "count2014 = []\n",
    "count2015 = []\n",
    "count2016 = []\n",
    "count2017 = []\n",
    "count2018 = []\n",
    "count2019 = []\n",
    "count2020 = []\n",
    "count2021 = []\n",
    "count2022 = []\n",
    "\n",
    "#calling the mention function\n",
    "count2013 = mention(wet2013)\n",
    "count2014 = mention(wet2014)\n",
    "count2015 = mention(wet2015)\n",
    "count2016 = mention(wet2016)\n",
    "count2017 = mention(wet2017)\n",
    "count2018 = mention(wet2018)\n",
    "count2019 = mention(wet2019)\n",
    "count2020 = mention(wet2020)\n",
    "count2021 = mention(wet2021)\n",
    "count2022 = mention(wet2022)"
   ]
  },
  {
   "cell_type": "code",
   "execution_count": 0,
   "metadata": {
    "application/vnd.databricks.v1+cell": {
     "inputWidgets": {},
     "nuid": "f72c01e1-8ef5-4a25-b25e-6129400d8d43",
     "showTitle": false,
     "title": ""
    }
   },
   "outputs": [],
   "source": [
    "def mention(wet):\n",
    "    #initializing the mention counters\n",
    "    mysql = 0\n",
    "    postgresql=0\n",
    "    oracle=0\n",
    "    duckdb=0\n",
    "    clickhouse=0\n",
    "    spark=0\n",
    "    microsoft=0\n",
    "    pages=0\n",
    "\n",
    "\n",
    "    for f in range(min(200,len(wet))): #opening at most 200 WET files\n",
    "        foo = warc.open(wet[f]) #reading the WET file\n",
    "        for x in foo: #iterating over the webpages\n",
    "            pages+=1 #webpage counter\n",
    "            if x.header.get('warc-target-uri', None): #skipping over webpages with no URI\n",
    "                txt = x. payload.read().lower() #reading the plaintext and ignoring case sensitivity\n",
    "                if 'database'.encode('utf-8') in txt: #word sense disambiguation by checking first for a 'database' mention\n",
    "                    if 'microsoft sql server'.encode('utf-8') in txt: microsoft+=1 #counting the mentions of the database systems\n",
    "                    if 'mysql'.encode('utf-8') in txt: mysql+=1\n",
    "                    if 'postgresql'.encode('utf-8') in txt: postgresql+=1\n",
    "                    if 'oracle'.encode('utf-8') in txt: oracle+=1\n",
    "                    if 'duckdb'.encode ('utf-8') in txt: duckdb+=1\n",
    "                    if 'clickhouse'.encode( 'utf-8') in txt: clickhouse+=1\n",
    "                    if 'spark'.encode('utf-8') in txt: spark+=1\n",
    "                    \n",
    "    return [mysql,microsoft,postgresql,oracle,duckdb,clickhouse,spark,pages]"
   ]
  },
  {
   "cell_type": "code",
   "execution_count": 0,
   "metadata": {
    "application/vnd.databricks.v1+cell": {
     "inputWidgets": {},
     "nuid": "28303159-06f6-4d38-8a35-49855d73dcf5",
     "showTitle": false,
     "title": ""
    }
   },
   "outputs": [
    {
     "data": {
      "text/plain": [
       "[12217, 1483, 3684, 11872, 0, 0, 7631, 5445673]\n",
       "[5271, 864, 1858, 6260, 0, 0, 6050, 3834078]\n",
       "[17452, 1860, 4043, 15591, 0, 0, 15470, 10294322]\n",
       "[24477, 2318, 4935, 25737, 0, 0, 19260, 11539265]\n",
       "[13924, 2030, 3860, 13380, 0, 12, 11726, 9147459]\n",
       "[12467, 1392, 2280, 9790, 0, 2, 6597, 8570128]\n",
       "[13236, 1863, 3792, 11318, 0, 56, 8381, 9417413]\n",
       "[13205, 1860, 3834, 9852, 0, 6, 7867, 9376548]\n",
       "[9338, 1227, 3709, 7899, 4, 97, 7583, 8215960]\n",
       "[9920, 1171, 3584, 7293, 14, 37, 6777, 8583116]\n"
      ]
     },
     "metadata": {
      "application/vnd.databricks.v1+output": {
       "addedWidgets": {},
       "arguments": {},
       "data": "[12217, 1483, 3684, 11872, 0, 0, 7631, 5445673]\n[5271, 864, 1858, 6260, 0, 0, 6050, 3834078]\n[17452, 1860, 4043, 15591, 0, 0, 15470, 10294322]\n[24477, 2318, 4935, 25737, 0, 0, 19260, 11539265]\n[13924, 2030, 3860, 13380, 0, 12, 11726, 9147459]\n[12467, 1392, 2280, 9790, 0, 2, 6597, 8570128]\n[13236, 1863, 3792, 11318, 0, 56, 8381, 9417413]\n[13205, 1860, 3834, 9852, 0, 6, 7867, 9376548]\n[9338, 1227, 3709, 7899, 4, 97, 7583, 8215960]\n[9920, 1171, 3584, 7293, 14, 37, 6777, 8583116]\n",
       "datasetInfos": [],
       "metadata": {},
       "removedWidgets": [],
       "type": "ansi"
      }
     },
     "output_type": "display_data"
    }
   ],
   "source": [
    "print(count2013)\n",
    "print(count2014)\n",
    "print(count2015)\n",
    "print(count2016)\n",
    "print(count2017)\n",
    "print(count2018)\n",
    "print(count2019)\n",
    "print(count2020)\n",
    "print(count2021)\n",
    "print(count2022)"
   ]
  },
  {
   "cell_type": "code",
   "execution_count": 0,
   "metadata": {
    "application/vnd.databricks.v1+cell": {
     "inputWidgets": {},
     "nuid": "7257f007-1721-4412-b95d-ed6b99b83da8",
     "showTitle": false,
     "title": ""
    }
   },
   "outputs": [],
   "source": [
    "df = pd.DataFrame(\n",
    "    {'databases':['mysql','microsoft','postgresql','oracle','duckdb','clickhouse','spark','pages'],\n",
    "     '2013': count2013,\n",
    "     '2014': count2014,\n",
    "     '2015': count2015,\n",
    "     '2016': count2016,\n",
    "     '2017': count2017,\n",
    "     '2018': count2018,\n",
    "     '2019': count2019,\n",
    "     '2020': count2020,\n",
    "     '2021': count2021,\n",
    "     '2022': count2022,\n",
    "    })\n",
    "df.set_index('databases',inplace=True)"
   ]
  },
  {
   "cell_type": "code",
   "execution_count": 0,
   "metadata": {
    "application/vnd.databricks.v1+cell": {
     "inputWidgets": {},
     "nuid": "044914a8-78d4-4cbc-a561-85ef04e52cc8",
     "showTitle": false,
     "title": ""
    }
   },
   "outputs": [
    {
     "data": {
      "text/html": [
       "<div>\n",
       "<style scoped>\n",
       "    .dataframe tbody tr th:only-of-type {\n",
       "        vertical-align: middle;\n",
       "    }\n",
       "\n",
       "    .dataframe tbody tr th {\n",
       "        vertical-align: top;\n",
       "    }\n",
       "\n",
       "    .dataframe thead th {\n",
       "        text-align: right;\n",
       "    }\n",
       "</style>\n",
       "<table border=\"1\" class=\"dataframe\">\n",
       "  <thead>\n",
       "    <tr style=\"text-align: right;\">\n",
       "      <th></th>\n",
       "      <th>2013</th>\n",
       "      <th>2014</th>\n",
       "      <th>2015</th>\n",
       "      <th>2016</th>\n",
       "      <th>2017</th>\n",
       "      <th>2018</th>\n",
       "      <th>2019</th>\n",
       "      <th>2020</th>\n",
       "      <th>2021</th>\n",
       "      <th>2022</th>\n",
       "    </tr>\n",
       "    <tr>\n",
       "      <th>databases</th>\n",
       "      <th></th>\n",
       "      <th></th>\n",
       "      <th></th>\n",
       "      <th></th>\n",
       "      <th></th>\n",
       "      <th></th>\n",
       "      <th></th>\n",
       "      <th></th>\n",
       "      <th></th>\n",
       "      <th></th>\n",
       "    </tr>\n",
       "  </thead>\n",
       "  <tbody>\n",
       "    <tr>\n",
       "      <th>mysql</th>\n",
       "      <td>12217</td>\n",
       "      <td>5271</td>\n",
       "      <td>17452</td>\n",
       "      <td>24477</td>\n",
       "      <td>13924</td>\n",
       "      <td>12467</td>\n",
       "      <td>13236</td>\n",
       "      <td>13205</td>\n",
       "      <td>9338</td>\n",
       "      <td>9920</td>\n",
       "    </tr>\n",
       "    <tr>\n",
       "      <th>microsoft</th>\n",
       "      <td>1483</td>\n",
       "      <td>864</td>\n",
       "      <td>1860</td>\n",
       "      <td>2318</td>\n",
       "      <td>2030</td>\n",
       "      <td>1392</td>\n",
       "      <td>1863</td>\n",
       "      <td>1860</td>\n",
       "      <td>1227</td>\n",
       "      <td>1171</td>\n",
       "    </tr>\n",
       "    <tr>\n",
       "      <th>postgresql</th>\n",
       "      <td>3684</td>\n",
       "      <td>1858</td>\n",
       "      <td>4043</td>\n",
       "      <td>4935</td>\n",
       "      <td>3860</td>\n",
       "      <td>2280</td>\n",
       "      <td>3792</td>\n",
       "      <td>3834</td>\n",
       "      <td>3709</td>\n",
       "      <td>3584</td>\n",
       "    </tr>\n",
       "    <tr>\n",
       "      <th>oracle</th>\n",
       "      <td>11872</td>\n",
       "      <td>6260</td>\n",
       "      <td>15591</td>\n",
       "      <td>25737</td>\n",
       "      <td>13380</td>\n",
       "      <td>9790</td>\n",
       "      <td>11318</td>\n",
       "      <td>9852</td>\n",
       "      <td>7899</td>\n",
       "      <td>7293</td>\n",
       "    </tr>\n",
       "    <tr>\n",
       "      <th>duckdb</th>\n",
       "      <td>0</td>\n",
       "      <td>0</td>\n",
       "      <td>0</td>\n",
       "      <td>0</td>\n",
       "      <td>0</td>\n",
       "      <td>0</td>\n",
       "      <td>0</td>\n",
       "      <td>0</td>\n",
       "      <td>4</td>\n",
       "      <td>14</td>\n",
       "    </tr>\n",
       "    <tr>\n",
       "      <th>clickhouse</th>\n",
       "      <td>0</td>\n",
       "      <td>0</td>\n",
       "      <td>0</td>\n",
       "      <td>0</td>\n",
       "      <td>12</td>\n",
       "      <td>2</td>\n",
       "      <td>56</td>\n",
       "      <td>6</td>\n",
       "      <td>97</td>\n",
       "      <td>37</td>\n",
       "    </tr>\n",
       "    <tr>\n",
       "      <th>spark</th>\n",
       "      <td>7631</td>\n",
       "      <td>6050</td>\n",
       "      <td>15470</td>\n",
       "      <td>19260</td>\n",
       "      <td>11726</td>\n",
       "      <td>6597</td>\n",
       "      <td>8381</td>\n",
       "      <td>7867</td>\n",
       "      <td>7583</td>\n",
       "      <td>6777</td>\n",
       "    </tr>\n",
       "    <tr>\n",
       "      <th>pages</th>\n",
       "      <td>5445673</td>\n",
       "      <td>3834078</td>\n",
       "      <td>10294322</td>\n",
       "      <td>11539265</td>\n",
       "      <td>9147459</td>\n",
       "      <td>8570128</td>\n",
       "      <td>9417413</td>\n",
       "      <td>9376548</td>\n",
       "      <td>8215960</td>\n",
       "      <td>8583116</td>\n",
       "    </tr>\n",
       "  </tbody>\n",
       "</table>\n",
       "</div>"
      ]
     },
     "metadata": {
      "application/vnd.databricks.v1+output": {
       "addedWidgets": {},
       "arguments": {},
       "data": "<div>\n<style scoped>\n    .dataframe tbody tr th:only-of-type {\n        vertical-align: middle;\n    }\n\n    .dataframe tbody tr th {\n        vertical-align: top;\n    }\n\n    .dataframe thead th {\n        text-align: right;\n    }\n</style>\n<table border=\"1\" class=\"dataframe\">\n  <thead>\n    <tr style=\"text-align: right;\">\n      <th></th>\n      <th>2013</th>\n      <th>2014</th>\n      <th>2015</th>\n      <th>2016</th>\n      <th>2017</th>\n      <th>2018</th>\n      <th>2019</th>\n      <th>2020</th>\n      <th>2021</th>\n      <th>2022</th>\n    </tr>\n    <tr>\n      <th>databases</th>\n      <th></th>\n      <th></th>\n      <th></th>\n      <th></th>\n      <th></th>\n      <th></th>\n      <th></th>\n      <th></th>\n      <th></th>\n      <th></th>\n    </tr>\n  </thead>\n  <tbody>\n    <tr>\n      <th>mysql</th>\n      <td>12217</td>\n      <td>5271</td>\n      <td>17452</td>\n      <td>24477</td>\n      <td>13924</td>\n      <td>12467</td>\n      <td>13236</td>\n      <td>13205</td>\n      <td>9338</td>\n      <td>9920</td>\n    </tr>\n    <tr>\n      <th>microsoft</th>\n      <td>1483</td>\n      <td>864</td>\n      <td>1860</td>\n      <td>2318</td>\n      <td>2030</td>\n      <td>1392</td>\n      <td>1863</td>\n      <td>1860</td>\n      <td>1227</td>\n      <td>1171</td>\n    </tr>\n    <tr>\n      <th>postgresql</th>\n      <td>3684</td>\n      <td>1858</td>\n      <td>4043</td>\n      <td>4935</td>\n      <td>3860</td>\n      <td>2280</td>\n      <td>3792</td>\n      <td>3834</td>\n      <td>3709</td>\n      <td>3584</td>\n    </tr>\n    <tr>\n      <th>oracle</th>\n      <td>11872</td>\n      <td>6260</td>\n      <td>15591</td>\n      <td>25737</td>\n      <td>13380</td>\n      <td>9790</td>\n      <td>11318</td>\n      <td>9852</td>\n      <td>7899</td>\n      <td>7293</td>\n    </tr>\n    <tr>\n      <th>duckdb</th>\n      <td>0</td>\n      <td>0</td>\n      <td>0</td>\n      <td>0</td>\n      <td>0</td>\n      <td>0</td>\n      <td>0</td>\n      <td>0</td>\n      <td>4</td>\n      <td>14</td>\n    </tr>\n    <tr>\n      <th>clickhouse</th>\n      <td>0</td>\n      <td>0</td>\n      <td>0</td>\n      <td>0</td>\n      <td>12</td>\n      <td>2</td>\n      <td>56</td>\n      <td>6</td>\n      <td>97</td>\n      <td>37</td>\n    </tr>\n    <tr>\n      <th>spark</th>\n      <td>7631</td>\n      <td>6050</td>\n      <td>15470</td>\n      <td>19260</td>\n      <td>11726</td>\n      <td>6597</td>\n      <td>8381</td>\n      <td>7867</td>\n      <td>7583</td>\n      <td>6777</td>\n    </tr>\n    <tr>\n      <th>pages</th>\n      <td>5445673</td>\n      <td>3834078</td>\n      <td>10294322</td>\n      <td>11539265</td>\n      <td>9147459</td>\n      <td>8570128</td>\n      <td>9417413</td>\n      <td>9376548</td>\n      <td>8215960</td>\n      <td>8583116</td>\n    </tr>\n  </tbody>\n</table>\n</div>",
       "datasetInfos": [],
       "metadata": {},
       "removedWidgets": [],
       "textData": null,
       "type": "htmlSandbox"
      }
     },
     "output_type": "display_data"
    }
   ],
   "source": [
    "df"
   ]
  }
 ],
 "metadata": {
  "application/vnd.databricks.v1+notebook": {
   "dashboards": [],
   "language": "python",
   "notebookMetadata": {
    "pythonIndentUnit": 4
   },
   "notebookName": "w3_final",
   "notebookOrigID": 71886364993397,
   "widgets": {}
  },
  "kernelspec": {
   "display_name": "Python 3 (ipykernel)",
   "language": "python",
   "name": "python3"
  },
  "language_info": {
   "codemirror_mode": {
    "name": "ipython",
    "version": 3
   },
   "file_extension": ".py",
   "mimetype": "text/x-python",
   "name": "python",
   "nbconvert_exporter": "python",
   "pygments_lexer": "ipython3",
   "version": "3.9.12"
  }
 },
 "nbformat": 4,
 "nbformat_minor": 1
}
